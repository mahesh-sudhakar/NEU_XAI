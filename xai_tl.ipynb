{
  "nbformat": 4,
  "nbformat_minor": 0,
  "metadata": {
    "colab": {
      "name": "xai_tl.ipynb",
      "provenance": [],
      "collapsed_sections": [],
      "include_colab_link": true
    },
    "kernelspec": {
      "name": "python3",
      "display_name": "Python 3"
    },
    "accelerator": "GPU"
  },
  "cells": [
    {
      "cell_type": "markdown",
      "metadata": {
        "id": "view-in-github",
        "colab_type": "text"
      },
      "source": [
        "<a href=\"https://colab.research.google.com/github/smahesh2694/NEU_XAI/blob/master/xai_tl.ipynb\" target=\"_parent\"><img src=\"https://colab.research.google.com/assets/colab-badge.svg\" alt=\"Open In Colab\"/></a>"
      ]
    },
    {
      "cell_type": "code",
      "metadata": {
        "id": "M_qBVAPuPRue",
        "colab_type": "code",
        "colab": {}
      },
      "source": [
        "# !pip install -q xlrd"
      ],
      "execution_count": 0,
      "outputs": []
    },
    {
      "cell_type": "code",
      "metadata": {
        "id": "eiC_mcKaJxw-",
        "colab_type": "code",
        "colab": {}
      },
      "source": [
        " #!git clone https://smahesh2694:@github.com/smahesh2694/NEU_CLS-64.git"
      ],
      "execution_count": 0,
      "outputs": []
    },
    {
      "cell_type": "code",
      "metadata": {
        "id": "LtDsRDmt5AJC",
        "colab_type": "code",
        "outputId": "86ab40b2-4a8f-42dd-fc51-a2df1579d8b1",
        "colab": {
          "base_uri": "https://localhost:8080/",
          "height": 34
        }
      },
      "source": [
        "import tensorflow as tf\n",
        "device_name = tf.test.gpu_device_name()\n",
        "if device_name != '/device:GPU:0':\n",
        "  raise SystemError('GPU device not found')\n",
        "print('Found GPU at: {}'.format(device_name))"
      ],
      "execution_count": 17,
      "outputs": [
        {
          "output_type": "stream",
          "text": [
            "Found GPU at: /device:GPU:0\n"
          ],
          "name": "stdout"
        }
      ]
    },
    {
      "cell_type": "code",
      "metadata": {
        "id": "ogluibbniMnw",
        "colab_type": "code",
        "outputId": "bbfb80a8-b144-46f8-d446-70d13a93ba79",
        "colab": {
          "base_uri": "https://localhost:8080/",
          "height": 34
        }
      },
      "source": [
        "from google.colab import drive\n",
        "drive.mount('/content/drive')"
      ],
      "execution_count": 18,
      "outputs": [
        {
          "output_type": "stream",
          "text": [
            "Drive already mounted at /content/drive; to attempt to forcibly remount, call drive.mount(\"/content/drive\", force_remount=True).\n"
          ],
          "name": "stdout"
        }
      ]
    },
    {
      "cell_type": "code",
      "metadata": {
        "id": "qdFzy_U1_mdG",
        "colab_type": "code",
        "colab": {}
      },
      "source": [
        "import pandas as pd\n",
        "import numpy as np\n",
        "import os\n",
        "import keras\n",
        "import cv2\n",
        "import matplotlib.pyplot as plt\n",
        "from keras.layers.core import Dense\n",
        "from keras.layers import GlobalAveragePooling2D\n",
        "from keras.applications import MobileNet\n",
        "from keras.preprocessing import image\n",
        "from keras.applications.mobilenet import preprocess_input\n",
        "from keras.preprocessing.image import ImageDataGenerator\n",
        "from keras.models import Model, load_model\n",
        "from keras.optimizers import Adam,SGD\n"
      ],
      "execution_count": 0,
      "outputs": []
    },
    {
      "cell_type": "markdown",
      "metadata": {
        "id": "ELbKobN65mJL",
        "colab_type": "text"
      },
      "source": [
        "When loading a given model, the “include_top” argument can be set to False, in which case the fully-connected output layers of the model used to make predictions is not loaded, allowing a new output layer to be added and trained"
      ]
    },
    {
      "cell_type": "code",
      "metadata": {
        "id": "tiyJT9aLjND8",
        "colab_type": "code",
        "outputId": "dcd76169-feaa-4d75-ea10-8c95a6a140a0",
        "colab": {
          "base_uri": "https://localhost:8080/",
          "height": 70
        }
      },
      "source": [
        "base_model=MobileNet(weights='imagenet',include_top=False)  #input_shape= (200, 200, 3)"
      ],
      "execution_count": 21,
      "outputs": [
        {
          "output_type": "stream",
          "text": [
            "/usr/local/lib/python3.6/dist-packages/keras_applications/mobilenet.py:207: UserWarning: `input_shape` is undefined or non-square, or `rows` is not in [128, 160, 192, 224]. Weights for input shape (224, 224) will be loaded as the default.\n",
            "  warnings.warn('`input_shape` is undefined or non-square, '\n"
          ],
          "name": "stderr"
        }
      ]
    },
    {
      "cell_type": "code",
      "metadata": {
        "id": "1Godm8TrjXVU",
        "colab_type": "code",
        "colab": {}
      },
      "source": [
        "x=base_model.output\n",
        "x=GlobalAveragePooling2D()(x)\n",
        "x=Dense(512,activation='relu')(x) \n",
        "preds=Dense(6,activation='softmax')(x)"
      ],
      "execution_count": 0,
      "outputs": []
    },
    {
      "cell_type": "code",
      "metadata": {
        "id": "Zuwus0WPjewp",
        "colab_type": "code",
        "colab": {}
      },
      "source": [
        "model=Model(inputs=base_model.input, outputs=preds)"
      ],
      "execution_count": 0,
      "outputs": []
    },
    {
      "cell_type": "code",
      "metadata": {
        "id": "FkbtNHLK7h6F",
        "colab_type": "code",
        "colab": {}
      },
      "source": [
        "#model.summary()"
      ],
      "execution_count": 0,
      "outputs": []
    },
    {
      "cell_type": "markdown",
      "metadata": {
        "id": "P7lduox_8Wvo",
        "colab_type": "text"
      },
      "source": [
        "We start by freezing all of the base model’s layers. We don’t want to train those layers since we are trying to leverage the knowledge learned by the network from the previous dataset (in this case ImageNet). By setting the layer.trainable=False , we are telling Keras not to update those weights during training, which is exactly what we want!"
      ]
    },
    {
      "cell_type": "code",
      "metadata": {
        "id": "lqe0DaUPjhw6",
        "colab_type": "code",
        "colab": {}
      },
      "source": [
        "base_model.trainable = False "
      ],
      "execution_count": 0,
      "outputs": []
    },
    {
      "cell_type": "markdown",
      "metadata": {
        "id": "YKmgpVI5wBfH",
        "colab_type": "text"
      },
      "source": [
        "get the validation data"
      ]
    },
    {
      "cell_type": "code",
      "metadata": {
        "id": "ozZdTe1_jmkS",
        "colab_type": "code",
        "colab": {}
      },
      "source": [
        "train_datagen=ImageDataGenerator(rescale=1./255,\n",
        "                                 shear_range=0.2,\n",
        "                                 zoom_range=0.2,\n",
        "                                 horizontal_flip=True, \n",
        "                                 validation_split=0.2)"
      ],
      "execution_count": 0,
      "outputs": []
    },
    {
      "cell_type": "code",
      "metadata": {
        "id": "PumG7344jNaa",
        "colab_type": "code",
        "colab": {}
      },
      "source": [
        "bs = 16"
      ],
      "execution_count": 0,
      "outputs": []
    },
    {
      "cell_type": "code",
      "metadata": {
        "id": "F5T00KuMjs_Q",
        "colab_type": "code",
        "outputId": "4e8f9b5b-271b-4a52-c222-0f4566f85e32",
        "colab": {
          "base_uri": "https://localhost:8080/",
          "height": 34
        }
      },
      "source": [
        "train_generator=train_datagen.flow_from_directory('/content/drive/My Drive/NEU surface defect database - test split/Train',  \n",
        "                                                 target_size=(200,200),     \n",
        "                                                 batch_size=bs,\n",
        "                                                 class_mode='categorical',                                                 \n",
        "                                                 shuffle=True,\n",
        "                                                 subset='training')"
      ],
      "execution_count": 27,
      "outputs": [
        {
          "output_type": "stream",
          "text": [
            "Found 1296 images belonging to 6 classes.\n"
          ],
          "name": "stdout"
        }
      ]
    },
    {
      "cell_type": "code",
      "metadata": {
        "id": "Pl7roZ7xzMRc",
        "colab_type": "code",
        "outputId": "6d1f6ed1-aee6-42ac-870c-d9d050f63bd5",
        "colab": {
          "base_uri": "https://localhost:8080/",
          "height": 34
        }
      },
      "source": [
        "label_map = (train_generator.class_indices)\n",
        "print(label_map)"
      ],
      "execution_count": 28,
      "outputs": [
        {
          "output_type": "stream",
          "text": [
            "{'Cr': 0, 'In': 1, 'PS': 2, 'Pa': 3, 'RS': 4, 'Sc': 5}\n"
          ],
          "name": "stdout"
        }
      ]
    },
    {
      "cell_type": "code",
      "metadata": {
        "id": "4C1reLoV_GaY",
        "colab_type": "code",
        "outputId": "6b83fd3d-9f84-45af-edb5-4355b169a242",
        "colab": {
          "base_uri": "https://localhost:8080/",
          "height": 34
        }
      },
      "source": [
        "val_generator=train_datagen.flow_from_directory('/content/drive/My Drive/NEU surface defect database - test split/Train', \n",
        "                                                 target_size=(200,200),  \n",
        "                                                 batch_size=bs,\n",
        "                                                 class_mode='categorical',\n",
        "                                                 shuffle=True,\n",
        "                                                 subset='validation')"
      ],
      "execution_count": 29,
      "outputs": [
        {
          "output_type": "stream",
          "text": [
            "Found 324 images belonging to 6 classes.\n"
          ],
          "name": "stdout"
        }
      ]
    },
    {
      "cell_type": "code",
      "metadata": {
        "id": "2N2Z0TyHj6Hs",
        "colab_type": "code",
        "colab": {}
      },
      "source": [
        "#sgd = SGD(lr=0.01, clipvalue=0.5)\n",
        "model.compile(optimizer=SGD(),loss='categorical_crossentropy',metrics=['acc'])"
      ],
      "execution_count": 0,
      "outputs": []
    },
    {
      "cell_type": "code",
      "metadata": {
        "id": "TTdkMlU7j-xp",
        "colab_type": "code",
        "colab": {}
      },
      "source": [
        "#model.summary()"
      ],
      "execution_count": 0,
      "outputs": []
    },
    {
      "cell_type": "code",
      "metadata": {
        "id": "hV4kOBMQx-gB",
        "colab_type": "code",
        "outputId": "3e86bd22-a4d2-420e-b7df-9d37b2431d8b",
        "colab": {
          "base_uri": "https://localhost:8080/",
          "height": 50
        }
      },
      "source": [
        "step_size_train=train_generator.n//train_generator.batch_size\n",
        "print(step_size_train)\n",
        "step_size_val=val_generator.n//val_generator.batch_size\n",
        "print(step_size_val)"
      ],
      "execution_count": 31,
      "outputs": [
        {
          "output_type": "stream",
          "text": [
            "81\n",
            "20\n"
          ],
          "name": "stdout"
        }
      ]
    },
    {
      "cell_type": "code",
      "metadata": {
        "id": "ucbyyvwozJJR",
        "colab_type": "code",
        "colab": {}
      },
      "source": [
        "initial_epochs = 25"
      ],
      "execution_count": 0,
      "outputs": []
    },
    {
      "cell_type": "code",
      "metadata": {
        "id": "76fKwHXmkKU0",
        "colab_type": "code",
        "outputId": "8e35fd74-b7d2-419a-e784-64e8267a05e3",
        "colab": {
          "base_uri": "https://localhost:8080/",
          "height": 994
        }
      },
      "source": [
        "history = model.fit_generator(generator=train_generator,\n",
        "                   steps_per_epoch=step_size_train,\n",
        "                   validation_data=val_generator,\n",
        "                   validation_steps=step_size_val,                \n",
        "                   epochs=initial_epochs)"
      ],
      "execution_count": 33,
      "outputs": [
        {
          "output_type": "stream",
          "text": [
            "WARNING:tensorflow:From /usr/local/lib/python3.6/dist-packages/tensorflow_core/python/ops/math_grad.py:1424: where (from tensorflow.python.ops.array_ops) is deprecated and will be removed in a future version.\n",
            "Instructions for updating:\n",
            "Use tf.where in 2.0, which has the same broadcast rule as np.where\n",
            "WARNING:tensorflow:From /usr/local/lib/python3.6/dist-packages/keras/backend/tensorflow_backend.py:1033: The name tf.assign_add is deprecated. Please use tf.compat.v1.assign_add instead.\n",
            "\n",
            "WARNING:tensorflow:From /usr/local/lib/python3.6/dist-packages/keras/backend/tensorflow_backend.py:1020: The name tf.assign is deprecated. Please use tf.compat.v1.assign instead.\n",
            "\n",
            "Epoch 1/25\n",
            "81/81 [==============================] - 712s 9s/step - loss: 0.3073 - acc: 0.9074 - val_loss: 0.0454 - val_acc: 0.9906\n",
            "Epoch 2/25\n",
            "81/81 [==============================] - 22s 278ms/step - loss: 0.0665 - acc: 0.9830 - val_loss: 0.0207 - val_acc: 0.9968\n",
            "Epoch 3/25\n",
            "81/81 [==============================] - 22s 274ms/step - loss: 0.0330 - acc: 0.9923 - val_loss: 0.0290 - val_acc: 0.9935\n",
            "Epoch 4/25\n",
            "81/81 [==============================] - 22s 270ms/step - loss: 0.0512 - acc: 0.9830 - val_loss: 0.0284 - val_acc: 0.9870\n",
            "Epoch 5/25\n",
            "81/81 [==============================] - 22s 271ms/step - loss: 0.0405 - acc: 0.9900 - val_loss: 0.0143 - val_acc: 0.9903\n",
            "Epoch 6/25\n",
            "81/81 [==============================] - 22s 269ms/step - loss: 0.0269 - acc: 0.9923 - val_loss: 0.0047 - val_acc: 1.0000\n",
            "Epoch 7/25\n",
            "81/81 [==============================] - 22s 268ms/step - loss: 0.0166 - acc: 0.9969 - val_loss: 0.0404 - val_acc: 0.9903\n",
            "Epoch 8/25\n",
            "81/81 [==============================] - 22s 268ms/step - loss: 0.0210 - acc: 0.9954 - val_loss: 0.0037 - val_acc: 1.0000\n",
            "Epoch 9/25\n",
            "81/81 [==============================] - 22s 268ms/step - loss: 0.0127 - acc: 0.9977 - val_loss: 0.0084 - val_acc: 0.9968\n",
            "Epoch 10/25\n",
            "81/81 [==============================] - 22s 266ms/step - loss: 0.0193 - acc: 0.9946 - val_loss: 0.0172 - val_acc: 0.9968\n",
            "Epoch 11/25\n",
            "81/81 [==============================] - 22s 266ms/step - loss: 0.0161 - acc: 0.9938 - val_loss: 0.0037 - val_acc: 1.0000\n",
            "Epoch 12/25\n",
            "81/81 [==============================] - 21s 265ms/step - loss: 0.0127 - acc: 0.9977 - val_loss: 0.0146 - val_acc: 0.9968\n",
            "Epoch 13/25\n",
            "81/81 [==============================] - 21s 264ms/step - loss: 0.0060 - acc: 0.9992 - val_loss: 0.0120 - val_acc: 0.9968\n",
            "Epoch 14/25\n",
            "81/81 [==============================] - 22s 267ms/step - loss: 0.0089 - acc: 0.9969 - val_loss: 0.0309 - val_acc: 0.9935\n",
            "Epoch 15/25\n",
            "81/81 [==============================] - 21s 264ms/step - loss: 0.0135 - acc: 0.9969 - val_loss: 0.0128 - val_acc: 0.9935\n",
            "Epoch 16/25\n",
            "81/81 [==============================] - 21s 265ms/step - loss: 0.0116 - acc: 0.9969 - val_loss: 0.0315 - val_acc: 0.9903\n",
            "Epoch 17/25\n",
            "81/81 [==============================] - 22s 266ms/step - loss: 0.0051 - acc: 0.9992 - val_loss: 9.9798e-04 - val_acc: 1.0000\n",
            "Epoch 18/25\n",
            "81/81 [==============================] - 22s 266ms/step - loss: 0.0100 - acc: 0.9977 - val_loss: 0.0110 - val_acc: 0.9968\n",
            "Epoch 19/25\n",
            "81/81 [==============================] - 21s 263ms/step - loss: 0.0181 - acc: 0.9946 - val_loss: 0.0166 - val_acc: 0.9935\n",
            "Epoch 20/25\n",
            "81/81 [==============================] - 21s 265ms/step - loss: 0.0038 - acc: 1.0000 - val_loss: 0.0143 - val_acc: 0.9968\n",
            "Epoch 21/25\n",
            "81/81 [==============================] - 21s 264ms/step - loss: 0.0065 - acc: 0.9985 - val_loss: 0.0058 - val_acc: 0.9968\n",
            "Epoch 22/25\n",
            "81/81 [==============================] - 22s 270ms/step - loss: 0.0070 - acc: 0.9992 - val_loss: 0.0123 - val_acc: 0.9969\n",
            "Epoch 23/25\n",
            "81/81 [==============================] - 22s 272ms/step - loss: 0.0061 - acc: 0.9985 - val_loss: 0.0053 - val_acc: 0.9968\n",
            "Epoch 24/25\n",
            "81/81 [==============================] - 22s 268ms/step - loss: 0.0078 - acc: 0.9977 - val_loss: 3.8626e-04 - val_acc: 1.0000\n",
            "Epoch 25/25\n",
            "81/81 [==============================] - 22s 271ms/step - loss: 0.0054 - acc: 0.9992 - val_loss: 0.0334 - val_acc: 0.9903\n"
          ],
          "name": "stdout"
        }
      ]
    },
    {
      "cell_type": "code",
      "metadata": {
        "id": "QlH5V99Um8-A",
        "colab_type": "code",
        "colab": {}
      },
      "source": [
        "#print(history.history.keys())"
      ],
      "execution_count": 0,
      "outputs": []
    },
    {
      "cell_type": "code",
      "metadata": {
        "id": "dEy9cmZTm-dj",
        "colab_type": "code",
        "colab": {}
      },
      "source": [
        "acc = history.history['acc']\n",
        "val_acc = history.history['val_acc']\n",
        "\n",
        "loss = history.history['loss']\n",
        "val_loss = history.history['val_loss']"
      ],
      "execution_count": 0,
      "outputs": []
    },
    {
      "cell_type": "code",
      "metadata": {
        "id": "Dr66LKrfnCLj",
        "colab_type": "code",
        "outputId": "00822f7e-16e5-49fa-ea8c-630c7c3e508e",
        "colab": {
          "base_uri": "https://localhost:8080/",
          "height": 499
        }
      },
      "source": [
        "plt.figure(figsize=(8, 8))\n",
        "plt.subplot(2, 1, 1)\n",
        "plt.plot(acc, label='Training Accuracy')\n",
        "plt.plot(val_acc, label='Validation Accuracy')\n",
        "plt.legend(loc='lower right')\n",
        "plt.ylabel('Accuracy')\n",
        "plt.ylim([0,1])\n",
        "plt.title('Training and Validation Accuracy')\n",
        "\n",
        "plt.subplot(2, 1, 2)\n",
        "plt.plot(loss, label='Training Loss')\n",
        "plt.plot(val_loss, label='Validation Loss')\n",
        "plt.legend(loc='upper right')\n",
        "plt.ylabel('Cross Entropy')\n",
        "plt.ylim([0,max(plt.ylim())])\n",
        "plt.title('Training and Validation Loss')\n",
        "plt.savefig('/content/drive/My Drive/xai_model/MN_80_20_SGD_22.jpg')\n",
        "plt.show()\n",
        "\n"
      ],
      "execution_count": 35,
      "outputs": [
        {
          "output_type": "display_data",
          "data": {
            "image/png": "[encoded data removed]",
            "text/plain": [
              "<Figure size 576x576 with 2 Axes>"
            ]
          },
          "metadata": {
            "tags": []
          }
        }
      ]
    },
    {
      "cell_type": "code",
      "metadata": {
        "id": "k7p1NBLvx3Ks",
        "colab_type": "code",
        "colab": {}
      },
      "source": [
        "base_model.trainable = True"
      ],
      "execution_count": 0,
      "outputs": []
    },
    {
      "cell_type": "code",
      "metadata": {
        "id": "-6UlieBiaO0K",
        "colab_type": "code",
        "outputId": "bbaa46f5-b40b-4ed0-9593-86a6888ac408",
        "colab": {
          "base_uri": "https://localhost:8080/",
          "height": 34
        }
      },
      "source": [
        "print(\"Number of layers in the base model: \", len(base_model.layers))"
      ],
      "execution_count": 37,
      "outputs": [
        {
          "output_type": "stream",
          "text": [
            "Number of layers in the base model:  87\n"
          ],
          "name": "stdout"
        }
      ]
    },
    {
      "cell_type": "code",
      "metadata": {
        "id": "hkk7EWl8aO4I",
        "colab_type": "code",
        "colab": {}
      },
      "source": [
        "fine_tune_at = 59"
      ],
      "execution_count": 0,
      "outputs": []
    },
    {
      "cell_type": "code",
      "metadata": {
        "id": "uro3qiBCyOyC",
        "colab_type": "code",
        "colab": {}
      },
      "source": [
        "for layer in base_model.layers[:fine_tune_at]:\n",
        "  layer.trainable =  False"
      ],
      "execution_count": 0,
      "outputs": []
    },
    {
      "cell_type": "code",
      "metadata": {
        "id": "Uz_8d2HPyXNs",
        "colab_type": "code",
        "colab": {}
      },
      "source": [
        "#model.compile(optimizer='sgd',loss='categorical_crossentropy',metrics=['acc'])"
      ],
      "execution_count": 0,
      "outputs": []
    },
    {
      "cell_type": "code",
      "metadata": {
        "id": "WP8jaCj8yfmz",
        "colab_type": "code",
        "colab": {}
      },
      "source": [
        "#model.summary()"
      ],
      "execution_count": 0,
      "outputs": []
    },
    {
      "cell_type": "code",
      "metadata": {
        "id": "8martc5syosg",
        "colab_type": "code",
        "outputId": "435e3b32-d6de-4a48-8992-a60cc9c79b19",
        "colab": {
          "base_uri": "https://localhost:8080/",
          "height": 574
        }
      },
      "source": [
        "fine_tune_epochs = 15\n",
        "total_epochs =  initial_epochs + fine_tune_epochs\n",
        "\n",
        "history_fine = model.fit_generator(generator=train_generator,\n",
        "                   steps_per_epoch=step_size_train,\n",
        "                   validation_data=val_generator,\n",
        "                   validation_steps=step_size_val,                \n",
        "                   epochs=total_epochs,\n",
        "                   initial_epoch = initial_epochs)"
      ],
      "execution_count": 41,
      "outputs": [
        {
          "output_type": "stream",
          "text": [
            "/usr/local/lib/python3.6/dist-packages/keras/engine/training.py:493: UserWarning: Discrepancy between trainable weights and collected trainable weights, did you set `model.trainable` without calling `model.compile` after ?\n",
            "  'Discrepancy between trainable weights and collected trainable'\n"
          ],
          "name": "stderr"
        },
        {
          "output_type": "stream",
          "text": [
            "Epoch 26/40\n",
            "81/81 [==============================] - 23s 290ms/step - loss: 0.0139 - acc: 0.9938 - val_loss: 0.0026 - val_acc: 1.0000\n",
            "Epoch 27/40\n",
            "81/81 [==============================] - 22s 277ms/step - loss: 0.0089 - acc: 0.9969 - val_loss: 0.0065 - val_acc: 0.9968\n",
            "Epoch 28/40\n",
            "81/81 [==============================] - 22s 270ms/step - loss: 0.0113 - acc: 0.9954 - val_loss: 0.0107 - val_acc: 0.9968\n",
            "Epoch 29/40\n",
            "81/81 [==============================] - 22s 273ms/step - loss: 0.0058 - acc: 0.9985 - val_loss: 0.0179 - val_acc: 0.9935\n",
            "Epoch 30/40\n",
            "81/81 [==============================] - 22s 270ms/step - loss: 0.0050 - acc: 0.9977 - val_loss: 0.0145 - val_acc: 0.9935\n",
            "Epoch 31/40\n",
            "81/81 [==============================] - 22s 270ms/step - loss: 0.0101 - acc: 0.9961 - val_loss: 0.0129 - val_acc: 0.9968\n",
            "Epoch 32/40\n",
            "81/81 [==============================] - 22s 271ms/step - loss: 0.0019 - acc: 1.0000 - val_loss: 0.0071 - val_acc: 0.9968\n",
            "Epoch 33/40\n",
            "81/81 [==============================] - 22s 269ms/step - loss: 0.0063 - acc: 0.9992 - val_loss: 0.0180 - val_acc: 0.9968\n",
            "Epoch 34/40\n",
            "81/81 [==============================] - 22s 268ms/step - loss: 0.0033 - acc: 0.9992 - val_loss: 0.0184 - val_acc: 0.9935\n",
            "Epoch 35/40\n",
            "81/81 [==============================] - 22s 268ms/step - loss: 0.0025 - acc: 1.0000 - val_loss: 8.6597e-04 - val_acc: 1.0000\n",
            "Epoch 36/40\n",
            "81/81 [==============================] - 21s 265ms/step - loss: 0.0071 - acc: 0.9985 - val_loss: 0.0292 - val_acc: 0.9903\n",
            "Epoch 37/40\n",
            "81/81 [==============================] - 21s 262ms/step - loss: 0.0022 - acc: 1.0000 - val_loss: 0.0311 - val_acc: 0.9903\n",
            "Epoch 38/40\n",
            "81/81 [==============================] - 21s 262ms/step - loss: 0.0045 - acc: 0.9992 - val_loss: 0.0079 - val_acc: 0.9968\n",
            "Epoch 39/40\n",
            "81/81 [==============================] - 21s 259ms/step - loss: 0.0074 - acc: 0.9977 - val_loss: 0.0170 - val_acc: 0.9968\n",
            "Epoch 40/40\n",
            "81/81 [==============================] - 21s 262ms/step - loss: 0.0027 - acc: 1.0000 - val_loss: 0.0195 - val_acc: 0.9935\n"
          ],
          "name": "stdout"
        }
      ]
    },
    {
      "cell_type": "code",
      "metadata": {
        "id": "bUeKg5H00Eri",
        "colab_type": "code",
        "colab": {}
      },
      "source": [
        "acc += history_fine.history['acc']\n",
        "val_acc += history_fine.history['val_acc']\n",
        "\n",
        "loss += history_fine.history['loss']\n",
        "val_loss += history_fine.history['val_loss']"
      ],
      "execution_count": 0,
      "outputs": []
    },
    {
      "cell_type": "code",
      "metadata": {
        "id": "JqQeX5Pt0Zmb",
        "colab_type": "code",
        "outputId": "705fb304-4bac-42bd-da6d-5dc2212bc86e",
        "colab": {
          "base_uri": "https://localhost:8080/",
          "height": 513
        }
      },
      "source": [
        "plt.figure(figsize=(8, 8))\n",
        "plt.subplot(2, 1, 1)\n",
        "plt.plot(acc, label='Training Accuracy')\n",
        "plt.plot(val_acc, label='Validation Accuracy')\n",
        "plt.ylim([0, 1])\n",
        "plt.plot([initial_epochs-1,initial_epochs-1],\n",
        "          plt.ylim(), label='Start Fine Tuning')\n",
        "plt.legend(loc='lower right')\n",
        "plt.title('Training and Validation Accuracy')\n",
        "\n",
        "plt.subplot(2, 1, 2)\n",
        "plt.plot(loss, label='Training Loss')\n",
        "plt.plot(val_loss, label='Validation Loss')\n",
        "plt.ylim([0, max(plt.ylim())])\n",
        "plt.plot([initial_epochs-1,initial_epochs-1],\n",
        "         plt.ylim(), label='Start Fine Tuning')\n",
        "plt.legend(loc='upper right')\n",
        "plt.title('Training and Validation Loss')\n",
        "plt.xlabel('epoch')\n",
        "plt.savefig('/content/drive/My Drive/xai_model/MN_FT_80_20_SFD_22.jpg')\n",
        "plt.show()"
      ],
      "execution_count": 43,
      "outputs": [
        {
          "output_type": "display_data",
          "data": {
            "image/png": "[encoded data removed]",
            "text/plain": [
              "<Figure size 576x576 with 2 Axes>"
            ]
          },
          "metadata": {
            "tags": []
          }
        }
      ]
    },
    {
      "cell_type": "code",
      "metadata": {
        "id": "GfboXjj2DTDI",
        "colab_type": "code",
        "colab": {}
      },
      "source": [
        "#model.save('/content/drive/My Drive/xai_model/model_22.h5')"
      ],
      "execution_count": 0,
      "outputs": []
    },
    {
      "cell_type": "code",
      "metadata": {
        "id": "WxKswvmXEAYz",
        "colab_type": "code",
        "colab": {}
      },
      "source": [
        "#model.save_weights('/content/drive/My Drive/xai_model/weights_22.h5')"
      ],
      "execution_count": 0,
      "outputs": []
    },
    {
      "cell_type": "markdown",
      "metadata": {
        "id": "8p9YSxm0o-RI",
        "colab_type": "text"
      },
      "source": [
        "Prediction on model 20"
      ]
    },
    {
      "cell_type": "code",
      "metadata": {
        "id": "g_5PNCtZuH8F",
        "colab_type": "code",
        "colab": {}
      },
      "source": [
        "#saved_model = load_model('/content/drive/My Drive/xai_model/model.h5')"
      ],
      "execution_count": 0,
      "outputs": []
    },
    {
      "cell_type": "code",
      "metadata": {
        "id": "Rm5AgZXgwjBx",
        "colab_type": "code",
        "colab": {}
      },
      "source": [
        "#saved_model.layers[0].input_shape"
      ],
      "execution_count": 0,
      "outputs": []
    },
    {
      "cell_type": "code",
      "metadata": {
        "id": "HuZ3qAoSuIA6",
        "colab_type": "code",
        "colab": {}
      },
      "source": [
        "#saved_model.summary()"
      ],
      "execution_count": 0,
      "outputs": []
    },
    {
      "cell_type": "code",
      "metadata": {
        "id": "505w5sJ2uID0",
        "colab_type": "code",
        "colab": {}
      },
      "source": [
        "#model.compile(optimizer='Adam',loss='categorical_crossentropy',metrics=['acc'])"
      ],
      "execution_count": 0,
      "outputs": []
    },
    {
      "cell_type": "code",
      "metadata": {
        "id": "Z2PsL2HEuH_x",
        "colab_type": "code",
        "outputId": "4b1a290d-76f8-4aa9-bf45-6cae81818f71",
        "colab": {
          "base_uri": "https://localhost:8080/",
          "height": 286
        }
      },
      "source": [
        "image_path=\"/content/drive/My Drive/xai_test/Sc_59.bmp\"\n",
        "img = image.load_img(image_path, target_size=(200,200))\n",
        "plt.imshow(img)"
      ],
      "execution_count": 0,
      "outputs": [
        {
          "output_type": "execute_result",
          "data": {
            "text/plain": [
              "<matplotlib.image.AxesImage at 0x7f006132aef0>"
            ]
          },
          "metadata": {
            "tags": []
          },
          "execution_count": 35
        },
        {
          "output_type": "display_data",
          "data": {
            "image/png": "[encoded data removed]",
            "text/plain": [
              "<Figure size 432x288 with 1 Axes>"
            ]
          },
          "metadata": {
            "tags": []
          }
        }
      ]
    },
    {
      "cell_type": "code",
      "metadata": {
        "id": "Y6ZErAEeuH5Y",
        "colab_type": "code",
        "outputId": "b8c909f7-9e55-4ef2-9842-fe1ac477edc2",
        "colab": {
          "base_uri": "https://localhost:8080/",
          "height": 50
        }
      },
      "source": [
        "img = image.img_to_array(img)\n",
        "img = np.expand_dims(img, axis=0)\n",
        "img = preprocess_input(img)\n",
        "result = model.predict(img)\n",
        "print(result)"
      ],
      "execution_count": 0,
      "outputs": [
        {
          "output_type": "stream",
          "text": [
            "[[4.8021575e-05 1.5451562e-06 3.0087494e-05 1.4551361e-03 4.6496496e-07\n",
            "  9.9846470e-01]]\n"
          ],
          "name": "stdout"
        }
      ]
    },
    {
      "cell_type": "code",
      "metadata": {
        "id": "CRX2xwCIjA-k",
        "colab_type": "code",
        "outputId": "08a19020-61f6-4e7e-da1b-a88c0c9d5af0",
        "colab": {
          "base_uri": "https://localhost:8080/",
          "height": 50
        }
      },
      "source": [
        "prediction = result.argmax(axis=-1)\n",
        "print(label_map)\n",
        "print(prediction)"
      ],
      "execution_count": 0,
      "outputs": [
        {
          "output_type": "stream",
          "text": [
            "{'Cr': 0, 'In': 1, 'PS': 2, 'Pa': 3, 'RS': 4, 'Sc': 5}\n",
            "[5]\n"
          ],
          "name": "stdout"
        }
      ]
    },
    {
      "cell_type": "code",
      "metadata": {
        "id": "QHyGXnUqyIP-",
        "colab_type": "code",
        "outputId": "33a43c68-b3c7-46da-ed69-f3a458e58604",
        "colab": {
          "base_uri": "https://localhost:8080/",
          "height": 34
        }
      },
      "source": [
        "if prediction == 0:\n",
        "  label = \"Crazing\" \n",
        "elif prediction == 1:\n",
        "  label = \"Inclusion\"\n",
        "elif prediction == 2:\n",
        "  label = \"Pitted Surface\"\n",
        "elif prediction == 3:\n",
        "  label = \"Patches\"\n",
        "elif prediction == 4:\n",
        "  label = \"Rolled-in scale\"\n",
        "elif prediction == 5:\n",
        "  label = \"Sratches\"\n",
        "else:\n",
        "  label = \"Exception\"\n",
        "\n",
        "print(label)"
      ],
      "execution_count": 0,
      "outputs": [
        {
          "output_type": "stream",
          "text": [
            "Sratches\n"
          ],
          "name": "stdout"
        }
      ]
    },
    {
      "cell_type": "code",
      "metadata": {
        "id": "mk19XGlajf_K",
        "colab_type": "code",
        "colab": {}
      },
      "source": [
        ""
      ],
      "execution_count": 0,
      "outputs": []
    }
  ]
}