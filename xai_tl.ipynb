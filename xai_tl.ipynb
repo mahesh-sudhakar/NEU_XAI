{
  "nbformat": 4,
  "nbformat_minor": 0,
  "metadata": {
    "colab": {
      "name": "xai_tl.ipynb",
      "provenance": [],
      "collapsed_sections": [],
      "include_colab_link": true
    },
    "kernelspec": {
      "name": "python3",
      "display_name": "Python 3"
    },
    "accelerator": "GPU"
  },
  "cells": [
    {
      "cell_type": "markdown",
      "metadata": {
        "id": "view-in-github",
        "colab_type": "text"
      },
      "source": [
        "<a href=\"https://colab.research.google.com/github/smahesh2694/NEU_XAI/blob/master/xai_tl.ipynb\" target=\"_parent\"><img src=\"https://colab.research.google.com/assets/colab-badge.svg\" alt=\"Open In Colab\"/></a>"
      ]
    },
    {
      "cell_type": "code",
      "metadata": {
        "id": "M_qBVAPuPRue",
        "colab_type": "code",
        "colab": {}
      },
      "source": [
        "# !pip install -q xlrd"
      ],
      "execution_count": 0,
      "outputs": []
    },
    {
      "cell_type": "code",
      "metadata": {
        "id": "eiC_mcKaJxw-",
        "colab_type": "code",
        "colab": {}
      },
      "source": [
        " #!git clone https://smahesh2694:@github.com/smahesh2694/NEU_CLS-64.git"
      ],
      "execution_count": 0,
      "outputs": []
    },
    {
      "cell_type": "code",
      "metadata": {
        "id": "LtDsRDmt5AJC",
        "colab_type": "code",
        "outputId": "254d4941-bfc2-4723-b431-e5aa63f0f669",
        "colab": {
          "base_uri": "https://localhost:8080/",
          "height": 79
        }
      },
      "source": [
        "import tensorflow as tf\n",
        "device_name = tf.test.gpu_device_name()\n",
        "if device_name != '/device:GPU:0':\n",
        "  raise SystemError('GPU device not found')\n",
        "print('Found GPU at: {}'.format(device_name))"
      ],
      "execution_count": 3,
      "outputs": [
        {
          "output_type": "display_data",
          "data": {
            "text/html": [
              "<p style=\"color: red;\">\n",
              "The default version of TensorFlow in Colab will soon switch to TensorFlow 2.x.<br>\n",
              "We recommend you <a href=\"https://www.tensorflow.org/guide/migrate\" target=\"_blank\">upgrade</a> now \n",
              "or ensure your notebook will continue to use TensorFlow 1.x via the <code>%tensorflow_version 1.x</code> magic:\n",
              "<a href=\"https://colab.research.google.com/notebooks/tensorflow_version.ipynb\" target=\"_blank\">more info</a>.</p>\n"
            ],
            "text/plain": [
              "<IPython.core.display.HTML object>"
            ]
          },
          "metadata": {
            "tags": []
          }
        },
        {
          "output_type": "stream",
          "text": [
            "Found GPU at: /device:GPU:0\n"
          ],
          "name": "stdout"
        }
      ]
    },
    {
      "cell_type": "code",
      "metadata": {
        "id": "ogluibbniMnw",
        "colab_type": "code",
        "outputId": "6a4081ea-eb76-4b1f-ea1f-915247cd36ff",
        "colab": {
          "base_uri": "https://localhost:8080/",
          "height": 121
        }
      },
      "source": [
        "from google.colab import drive\n",
        "drive.mount('/content/drive')"
      ],
      "execution_count": 4,
      "outputs": [
        {
          "output_type": "stream",
          "text": [
            "Go to this URL in a browser: https://accounts.google.com/o/oauth2/auth?client_id=947318989803-6bn6qk8qdgf4n4g3pfee6491hc0brc4i.apps.googleusercontent.com&redirect_uri=urn%3Aietf%3Awg%3Aoauth%3A2.0%3Aoob&scope=email%20https%3A%2F%2Fwww.googleapis.com%2Fauth%2Fdocs.test%20https%3A%2F%2Fwww.googleapis.com%2Fauth%2Fdrive%20https%3A%2F%2Fwww.googleapis.com%2Fauth%2Fdrive.photos.readonly%20https%3A%2F%2Fwww.googleapis.com%2Fauth%2Fpeopleapi.readonly&response_type=code\n",
            "\n",
            "Enter your authorization code:\n",
            "··········\n",
            "Mounted at /content/drive\n"
          ],
          "name": "stdout"
        }
      ]
    },
    {
      "cell_type": "code",
      "metadata": {
        "id": "qdFzy_U1_mdG",
        "colab_type": "code",
        "outputId": "d6e10593-5bef-4fe1-de87-b18db3fa456d",
        "colab": {
          "base_uri": "https://localhost:8080/",
          "height": 34
        }
      },
      "source": [
        "import pandas as pd\n",
        "import numpy as np\n",
        "import os\n",
        "import keras\n",
        "import cv2\n",
        "import matplotlib.pyplot as plt\n",
        "from keras.layers.core import Dense\n",
        "from keras.layers import GlobalAveragePooling2D\n",
        "from keras.applications import MobileNet\n",
        "from keras.preprocessing import image\n",
        "from keras.applications.mobilenet import preprocess_input\n",
        "from keras.preprocessing.image import ImageDataGenerator\n",
        "from keras.models import Model, load_model\n",
        "from keras.optimizers import Adam, SGD\n",
        "from skimage.segmentation import mark_boundaries\n",
        "from sklearn.metrics import classification_report\n",
        "from sklearn.metrics import confusion_matrix\n"
      ],
      "execution_count": 5,
      "outputs": [
        {
          "output_type": "stream",
          "text": [
            "Using TensorFlow backend.\n"
          ],
          "name": "stderr"
        }
      ]
    },
    {
      "cell_type": "markdown",
      "metadata": {
        "id": "ELbKobN65mJL",
        "colab_type": "text"
      },
      "source": [
        "When loading a given model, the “include_top” argument can be set to False, in which case the fully-connected output layers of the model used to make predictions is not loaded, allowing a new output layer to be added and trained"
      ]
    },
    {
      "cell_type": "code",
      "metadata": {
        "id": "tiyJT9aLjND8",
        "colab_type": "code",
        "outputId": "7ff49ecc-f3fd-4f21-b1f8-168934ed580f",
        "colab": {
          "base_uri": "https://localhost:8080/",
          "height": 474
        }
      },
      "source": [
        "base_model=MobileNet(weights='imagenet',include_top=False)  #input_shape= (200, 200, 3)"
      ],
      "execution_count": 6,
      "outputs": [
        {
          "output_type": "stream",
          "text": [
            "WARNING:tensorflow:From /usr/local/lib/python3.6/dist-packages/keras/backend/tensorflow_backend.py:66: The name tf.get_default_graph is deprecated. Please use tf.compat.v1.get_default_graph instead.\n",
            "\n",
            "WARNING:tensorflow:From /usr/local/lib/python3.6/dist-packages/keras/backend/tensorflow_backend.py:541: The name tf.placeholder is deprecated. Please use tf.compat.v1.placeholder instead.\n",
            "\n",
            "WARNING:tensorflow:From /usr/local/lib/python3.6/dist-packages/keras/backend/tensorflow_backend.py:4432: The name tf.random_uniform is deprecated. Please use tf.random.uniform instead.\n",
            "\n",
            "WARNING:tensorflow:From /usr/local/lib/python3.6/dist-packages/keras/backend/tensorflow_backend.py:190: The name tf.get_default_session is deprecated. Please use tf.compat.v1.get_default_session instead.\n",
            "\n",
            "WARNING:tensorflow:From /usr/local/lib/python3.6/dist-packages/keras/backend/tensorflow_backend.py:197: The name tf.ConfigProto is deprecated. Please use tf.compat.v1.ConfigProto instead.\n",
            "\n",
            "WARNING:tensorflow:From /usr/local/lib/python3.6/dist-packages/keras/backend/tensorflow_backend.py:203: The name tf.Session is deprecated. Please use tf.compat.v1.Session instead.\n",
            "\n",
            "WARNING:tensorflow:From /usr/local/lib/python3.6/dist-packages/keras/backend/tensorflow_backend.py:207: The name tf.global_variables is deprecated. Please use tf.compat.v1.global_variables instead.\n",
            "\n",
            "WARNING:tensorflow:From /usr/local/lib/python3.6/dist-packages/keras/backend/tensorflow_backend.py:216: The name tf.is_variable_initialized is deprecated. Please use tf.compat.v1.is_variable_initialized instead.\n",
            "\n",
            "WARNING:tensorflow:From /usr/local/lib/python3.6/dist-packages/keras/backend/tensorflow_backend.py:223: The name tf.variables_initializer is deprecated. Please use tf.compat.v1.variables_initializer instead.\n",
            "\n"
          ],
          "name": "stdout"
        },
        {
          "output_type": "stream",
          "text": [
            "/usr/local/lib/python3.6/dist-packages/keras_applications/mobilenet.py:207: UserWarning: `input_shape` is undefined or non-square, or `rows` is not in [128, 160, 192, 224]. Weights for input shape (224, 224) will be loaded as the default.\n",
            "  warnings.warn('`input_shape` is undefined or non-square, '\n"
          ],
          "name": "stderr"
        },
        {
          "output_type": "stream",
          "text": [
            "WARNING:tensorflow:From /usr/local/lib/python3.6/dist-packages/keras/backend/tensorflow_backend.py:2041: The name tf.nn.fused_batch_norm is deprecated. Please use tf.compat.v1.nn.fused_batch_norm instead.\n",
            "\n",
            "WARNING:tensorflow:From /usr/local/lib/python3.6/dist-packages/keras/backend/tensorflow_backend.py:148: The name tf.placeholder_with_default is deprecated. Please use tf.compat.v1.placeholder_with_default instead.\n",
            "\n",
            "Downloading data from https://github.com/fchollet/deep-learning-models/releases/download/v0.6/mobilenet_1_0_224_tf_no_top.h5\n",
            "17227776/17225924 [==============================] - 0s 0us/step\n"
          ],
          "name": "stdout"
        }
      ]
    },
    {
      "cell_type": "code",
      "metadata": {
        "id": "1Godm8TrjXVU",
        "colab_type": "code",
        "colab": {}
      },
      "source": [
        "x=base_model.output\n",
        "x=GlobalAveragePooling2D()(x)\n",
        "x=Dense(512,activation='relu')(x) \n",
        "preds=Dense(6,activation='softmax')(x)"
      ],
      "execution_count": 0,
      "outputs": []
    },
    {
      "cell_type": "code",
      "metadata": {
        "id": "Zuwus0WPjewp",
        "colab_type": "code",
        "colab": {}
      },
      "source": [
        "model=Model(inputs=base_model.input, outputs=preds)"
      ],
      "execution_count": 0,
      "outputs": []
    },
    {
      "cell_type": "code",
      "metadata": {
        "id": "FkbtNHLK7h6F",
        "colab_type": "code",
        "colab": {}
      },
      "source": [
        "#model.summary()"
      ],
      "execution_count": 0,
      "outputs": []
    },
    {
      "cell_type": "markdown",
      "metadata": {
        "id": "P7lduox_8Wvo",
        "colab_type": "text"
      },
      "source": [
        "We start by freezing all of the base model’s layers. We don’t want to train those layers since we are trying to leverage the knowledge learned by the network from the previous dataset (in this case ImageNet). By setting the layer.trainable=False , we are telling Keras not to update those weights during training, which is exactly what we want!"
      ]
    },
    {
      "cell_type": "code",
      "metadata": {
        "id": "lqe0DaUPjhw6",
        "colab_type": "code",
        "colab": {}
      },
      "source": [
        "base_model.trainable = False "
      ],
      "execution_count": 0,
      "outputs": []
    },
    {
      "cell_type": "markdown",
      "metadata": {
        "id": "YKmgpVI5wBfH",
        "colab_type": "text"
      },
      "source": [
        "get the validation data"
      ]
    },
    {
      "cell_type": "code",
      "metadata": {
        "id": "ozZdTe1_jmkS",
        "colab_type": "code",
        "colab": {}
      },
      "source": [
        "train_datagen=ImageDataGenerator(rescale=1./255,\n",
        "                                 shear_range=0.2,\n",
        "                                 zoom_range=0.2,\n",
        "                                 horizontal_flip=True, \n",
        "                                 validation_split=0.2)"
      ],
      "execution_count": 0,
      "outputs": []
    },
    {
      "cell_type": "code",
      "metadata": {
        "id": "PumG7344jNaa",
        "colab_type": "code",
        "colab": {}
      },
      "source": [
        "bs = 16"
      ],
      "execution_count": 0,
      "outputs": []
    },
    {
      "cell_type": "code",
      "metadata": {
        "id": "F5T00KuMjs_Q",
        "colab_type": "code",
        "outputId": "9e113c2b-6ea4-48cc-ad39-8c515346559c",
        "colab": {
          "base_uri": "https://localhost:8080/",
          "height": 34
        }
      },
      "source": [
        "train_generator=train_datagen.flow_from_directory('/content/drive/My Drive/NEU surface defect database - test split/Train',  \n",
        "                                                 target_size=(200,200),     \n",
        "                                                 batch_size=bs,\n",
        "                                                 class_mode='categorical',                                                 \n",
        "                                                 shuffle=True,\n",
        "                                                 subset='training')"
      ],
      "execution_count": 13,
      "outputs": [
        {
          "output_type": "stream",
          "text": [
            "Found 1296 images belonging to 6 classes.\n"
          ],
          "name": "stdout"
        }
      ]
    },
    {
      "cell_type": "code",
      "metadata": {
        "id": "Pl7roZ7xzMRc",
        "colab_type": "code",
        "outputId": "1bf73d88-d778-4313-92d1-7a62a3e08550",
        "colab": {
          "base_uri": "https://localhost:8080/",
          "height": 34
        }
      },
      "source": [
        "label_map = (train_generator.class_indices)\n",
        "print(label_map)"
      ],
      "execution_count": 14,
      "outputs": [
        {
          "output_type": "stream",
          "text": [
            "{'Cr': 0, 'In': 1, 'PS': 2, 'Pa': 3, 'RS': 4, 'Sc': 5}\n"
          ],
          "name": "stdout"
        }
      ]
    },
    {
      "cell_type": "code",
      "metadata": {
        "id": "4C1reLoV_GaY",
        "colab_type": "code",
        "outputId": "979bd362-fa7f-4ec9-c8dc-a50d6844662e",
        "colab": {
          "base_uri": "https://localhost:8080/",
          "height": 34
        }
      },
      "source": [
        "val_generator=train_datagen.flow_from_directory('/content/drive/My Drive/NEU surface defect database - test split/Train', \n",
        "                                                 target_size=(200,200),  \n",
        "                                                 batch_size=bs,\n",
        "                                                 class_mode='categorical',\n",
        "                                                 shuffle=True,\n",
        "                                                 subset='validation')"
      ],
      "execution_count": 15,
      "outputs": [
        {
          "output_type": "stream",
          "text": [
            "Found 324 images belonging to 6 classes.\n"
          ],
          "name": "stdout"
        }
      ]
    },
    {
      "cell_type": "code",
      "metadata": {
        "id": "2N2Z0TyHj6Hs",
        "colab_type": "code",
        "outputId": "aadb8943-6d5f-43bf-f8d6-0ca2a9757dcb",
        "colab": {
          "base_uri": "https://localhost:8080/",
          "height": 104
        }
      },
      "source": [
        "#sgd = SGD(lr=0.01, clipvalue=0.5)\n",
        "model.compile(optimizer=SGD(),loss='categorical_crossentropy',metrics=['acc'])"
      ],
      "execution_count": 16,
      "outputs": [
        {
          "output_type": "stream",
          "text": [
            "WARNING:tensorflow:From /usr/local/lib/python3.6/dist-packages/keras/optimizers.py:793: The name tf.train.Optimizer is deprecated. Please use tf.compat.v1.train.Optimizer instead.\n",
            "\n",
            "WARNING:tensorflow:From /usr/local/lib/python3.6/dist-packages/keras/backend/tensorflow_backend.py:3576: The name tf.log is deprecated. Please use tf.math.log instead.\n",
            "\n"
          ],
          "name": "stdout"
        }
      ]
    },
    {
      "cell_type": "code",
      "metadata": {
        "id": "TTdkMlU7j-xp",
        "colab_type": "code",
        "colab": {}
      },
      "source": [
        "#model.summary()"
      ],
      "execution_count": 0,
      "outputs": []
    },
    {
      "cell_type": "code",
      "metadata": {
        "id": "hV4kOBMQx-gB",
        "colab_type": "code",
        "outputId": "e2972055-7c66-40f1-851d-7cdef6cf8239",
        "colab": {
          "base_uri": "https://localhost:8080/",
          "height": 50
        }
      },
      "source": [
        "step_size_train=train_generator.n//train_generator.batch_size\n",
        "print(step_size_train)\n",
        "step_size_val=val_generator.n//val_generator.batch_size\n",
        "print(step_size_val)"
      ],
      "execution_count": 18,
      "outputs": [
        {
          "output_type": "stream",
          "text": [
            "81\n",
            "20\n"
          ],
          "name": "stdout"
        }
      ]
    },
    {
      "cell_type": "code",
      "metadata": {
        "id": "ucbyyvwozJJR",
        "colab_type": "code",
        "colab": {}
      },
      "source": [
        "initial_epochs = 25"
      ],
      "execution_count": 0,
      "outputs": []
    },
    {
      "cell_type": "code",
      "metadata": {
        "id": "76fKwHXmkKU0",
        "colab_type": "code",
        "colab": {}
      },
      "source": [
        "history = model.fit_generator(generator=train_generator,\n",
        "                   steps_per_epoch=step_size_train,\n",
        "                   validation_data=val_generator,\n",
        "                   validation_steps=step_size_val,                \n",
        "                   epochs=initial_epochs)"
      ],
      "execution_count": 0,
      "outputs": []
    },
    {
      "cell_type": "code",
      "metadata": {
        "id": "QlH5V99Um8-A",
        "colab_type": "code",
        "colab": {}
      },
      "source": [
        "#print(history.history.keys())"
      ],
      "execution_count": 0,
      "outputs": []
    },
    {
      "cell_type": "code",
      "metadata": {
        "id": "dEy9cmZTm-dj",
        "colab_type": "code",
        "colab": {}
      },
      "source": [
        "acc = history.history['acc']\n",
        "val_acc = history.history['val_acc']\n",
        "\n",
        "loss = history.history['loss']\n",
        "val_loss = history.history['val_loss']"
      ],
      "execution_count": 0,
      "outputs": []
    },
    {
      "cell_type": "code",
      "metadata": {
        "id": "Dr66LKrfnCLj",
        "colab_type": "code",
        "outputId": "4037aa1b-6771-4e19-db65-a2490dca62e6",
        "colab": {
          "base_uri": "https://localhost:8080/",
          "height": 499
        }
      },
      "source": [
        "plt.figure(figsize=(8, 8))\n",
        "plt.subplot(2, 1, 1)\n",
        "plt.plot(acc, label='Training Accuracy')\n",
        "plt.plot(val_acc, label='Validation Accuracy')\n",
        "plt.legend(loc='lower right')\n",
        "plt.ylabel('Accuracy')\n",
        "plt.ylim([0,1])\n",
        "plt.title('Training and Validation Accuracy')\n",
        "\n",
        "plt.subplot(2, 1, 2)\n",
        "plt.plot(loss, label='Training Loss')\n",
        "plt.plot(val_loss, label='Validation Loss')\n",
        "plt.legend(loc='upper right')\n",
        "plt.ylabel('Cross Entropy')\n",
        "plt.ylim([0,max(plt.ylim())])\n",
        "plt.title('Training and Validation Loss')\n",
        "plt.savefig('/content/drive/My Drive/xai_model/MN_80_20_SGD_25.jpg')\n",
        "plt.show()\n",
        "\n"
      ],
      "execution_count": 23,
      "outputs": [
        {
          "output_type": "display_data",
          "data": {
            "image/png": "[encoded data removed]",
            "text/plain": [
              "<Figure size 576x576 with 2 Axes>"
            ]
          },
          "metadata": {
            "tags": []
          }
        }
      ]
    },
    {
      "cell_type": "code",
      "metadata": {
        "id": "k7p1NBLvx3Ks",
        "colab_type": "code",
        "colab": {}
      },
      "source": [
        "base_model.trainable = True"
      ],
      "execution_count": 0,
      "outputs": []
    },
    {
      "cell_type": "code",
      "metadata": {
        "id": "-6UlieBiaO0K",
        "colab_type": "code",
        "outputId": "de09b5b6-573c-4555-b24f-8ff4ff03179c",
        "colab": {
          "base_uri": "https://localhost:8080/",
          "height": 34
        }
      },
      "source": [
        "print(\"Number of layers in the base model: \", len(base_model.layers))"
      ],
      "execution_count": 25,
      "outputs": [
        {
          "output_type": "stream",
          "text": [
            "Number of layers in the base model:  87\n"
          ],
          "name": "stdout"
        }
      ]
    },
    {
      "cell_type": "code",
      "metadata": {
        "id": "hkk7EWl8aO4I",
        "colab_type": "code",
        "colab": {}
      },
      "source": [
        "fine_tune_at = 59"
      ],
      "execution_count": 0,
      "outputs": []
    },
    {
      "cell_type": "code",
      "metadata": {
        "id": "uro3qiBCyOyC",
        "colab_type": "code",
        "colab": {}
      },
      "source": [
        "for layer in base_model.layers[:fine_tune_at]:\n",
        "  layer.trainable =  False"
      ],
      "execution_count": 0,
      "outputs": []
    },
    {
      "cell_type": "code",
      "metadata": {
        "id": "Uz_8d2HPyXNs",
        "colab_type": "code",
        "colab": {}
      },
      "source": [
        "#model.compile(optimizer='sgd',loss='categorical_crossentropy',metrics=['acc'])"
      ],
      "execution_count": 0,
      "outputs": []
    },
    {
      "cell_type": "code",
      "metadata": {
        "id": "WP8jaCj8yfmz",
        "colab_type": "code",
        "colab": {}
      },
      "source": [
        "#model.summary()"
      ],
      "execution_count": 0,
      "outputs": []
    },
    {
      "cell_type": "code",
      "metadata": {
        "id": "8martc5syosg",
        "colab_type": "code",
        "outputId": "6af162af-7980-44e5-8153-187b5f84b509",
        "colab": {
          "base_uri": "https://localhost:8080/",
          "height": 574
        }
      },
      "source": [
        "fine_tune_epochs = 15\n",
        "total_epochs =  initial_epochs + fine_tune_epochs\n",
        "\n",
        "history_fine = model.fit_generator(generator=train_generator,\n",
        "                   steps_per_epoch=step_size_train,\n",
        "                   validation_data=val_generator,\n",
        "                   validation_steps=step_size_val,                \n",
        "                   epochs=total_epochs,\n",
        "                   initial_epoch = initial_epochs)"
      ],
      "execution_count": 30,
      "outputs": [
        {
          "output_type": "stream",
          "text": [
            "Epoch 26/40\n"
          ],
          "name": "stdout"
        },
        {
          "output_type": "stream",
          "text": [
            "/usr/local/lib/python3.6/dist-packages/keras/engine/training.py:493: UserWarning: Discrepancy between trainable weights and collected trainable weights, did you set `model.trainable` without calling `model.compile` after ?\n",
            "  'Discrepancy between trainable weights and collected trainable'\n"
          ],
          "name": "stderr"
        },
        {
          "output_type": "stream",
          "text": [
            "81/81 [==============================] - 25s 304ms/step - loss: 0.0055 - acc: 0.9992 - val_loss: 0.0120 - val_acc: 0.9969\n",
            "Epoch 27/40\n",
            "81/81 [==============================] - 23s 284ms/step - loss: 0.0039 - acc: 0.9992 - val_loss: 0.0029 - val_acc: 1.0000\n",
            "Epoch 28/40\n",
            "81/81 [==============================] - 23s 284ms/step - loss: 0.0051 - acc: 1.0000 - val_loss: 0.0295 - val_acc: 0.9935\n",
            "Epoch 29/40\n",
            "81/81 [==============================] - 23s 281ms/step - loss: 0.0031 - acc: 1.0000 - val_loss: 0.0094 - val_acc: 0.9968\n",
            "Epoch 30/40\n",
            "81/81 [==============================] - 23s 280ms/step - loss: 0.0037 - acc: 0.9985 - val_loss: 0.0054 - val_acc: 0.9968\n",
            "Epoch 31/40\n",
            "81/81 [==============================] - 23s 279ms/step - loss: 0.0032 - acc: 0.9992 - val_loss: 0.0023 - val_acc: 1.0000\n",
            "Epoch 32/40\n",
            "81/81 [==============================] - 24s 301ms/step - loss: 0.0034 - acc: 0.9992 - val_loss: 0.0031 - val_acc: 1.0000\n",
            "Epoch 33/40\n",
            "81/81 [==============================] - 24s 293ms/step - loss: 0.0021 - acc: 1.0000 - val_loss: 2.9335e-04 - val_acc: 1.0000\n",
            "Epoch 34/40\n",
            "81/81 [==============================] - 23s 288ms/step - loss: 0.0037 - acc: 0.9985 - val_loss: 0.0067 - val_acc: 0.9968\n",
            "Epoch 35/40\n",
            "81/81 [==============================] - 23s 282ms/step - loss: 0.0039 - acc: 0.9992 - val_loss: 0.0204 - val_acc: 0.9968\n",
            "Epoch 36/40\n",
            "81/81 [==============================] - 23s 279ms/step - loss: 0.0053 - acc: 0.9985 - val_loss: 2.3095e-04 - val_acc: 1.0000\n",
            "Epoch 37/40\n",
            "81/81 [==============================] - 22s 274ms/step - loss: 0.0071 - acc: 0.9969 - val_loss: 0.0213 - val_acc: 0.9935\n",
            "Epoch 38/40\n",
            "81/81 [==============================] - 22s 274ms/step - loss: 0.0104 - acc: 0.9977 - val_loss: 9.8385e-04 - val_acc: 1.0000\n",
            "Epoch 39/40\n",
            "81/81 [==============================] - 23s 285ms/step - loss: 0.0041 - acc: 0.9985 - val_loss: 0.0012 - val_acc: 1.0000\n",
            "Epoch 40/40\n",
            "81/81 [==============================] - 24s 295ms/step - loss: 0.0039 - acc: 0.9985 - val_loss: 0.0016 - val_acc: 1.0000\n"
          ],
          "name": "stdout"
        }
      ]
    },
    {
      "cell_type": "code",
      "metadata": {
        "id": "bUeKg5H00Eri",
        "colab_type": "code",
        "colab": {}
      },
      "source": [
        "acc += history_fine.history['acc']\n",
        "val_acc += history_fine.history['val_acc']\n",
        "\n",
        "loss += history_fine.history['loss']\n",
        "val_loss += history_fine.history['val_loss']"
      ],
      "execution_count": 0,
      "outputs": []
    },
    {
      "cell_type": "code",
      "metadata": {
        "id": "JqQeX5Pt0Zmb",
        "colab_type": "code",
        "outputId": "8a5c3c68-393d-4157-e82f-d5592c3ea09f",
        "colab": {
          "base_uri": "https://localhost:8080/",
          "height": 513
        }
      },
      "source": [
        "plt.figure(figsize=(8, 8))\n",
        "plt.subplot(2, 1, 1)\n",
        "plt.plot(acc, label='Training Accuracy')\n",
        "plt.plot(val_acc, label='Validation Accuracy')\n",
        "plt.ylim([0, 1])\n",
        "plt.plot([initial_epochs-1,initial_epochs-1],\n",
        "          plt.ylim(), label='Start Fine Tuning')\n",
        "plt.legend(loc='lower right')\n",
        "plt.title('Training and Validation Accuracy')\n",
        "\n",
        "plt.subplot(2, 1, 2)\n",
        "plt.plot(loss, label='Training Loss')\n",
        "plt.plot(val_loss, label='Validation Loss')\n",
        "plt.ylim([0, max(plt.ylim())])\n",
        "plt.plot([initial_epochs-1,initial_epochs-1],\n",
        "         plt.ylim(), label='Start Fine Tuning')\n",
        "plt.legend(loc='upper right')\n",
        "plt.title('Training and Validation Loss')\n",
        "plt.xlabel('epoch')\n",
        "plt.savefig('/content/drive/My Drive/xai_model/MN_FT_80_20_SFD_25.jpg')\n",
        "plt.show()"
      ],
      "execution_count": 32,
      "outputs": [
        {
          "output_type": "display_data",
          "data": {
            "image/png": "[encoded data removed]",
            "text/plain": [
              "<Figure size 576x576 with 2 Axes>"
            ]
          },
          "metadata": {
            "tags": []
          }
        }
      ]
    },
    {
      "cell_type": "code",
      "metadata": {
        "id": "GfboXjj2DTDI",
        "colab_type": "code",
        "colab": {}
      },
      "source": [
        "model.save('/content/drive/My Drive/xai_model/model_25.h5')"
      ],
      "execution_count": 0,
      "outputs": []
    },
    {
      "cell_type": "code",
      "metadata": {
        "id": "WxKswvmXEAYz",
        "colab_type": "code",
        "colab": {}
      },
      "source": [
        "#model.save_weights('/content/drive/My Drive/xai_model/weights_24.h5')"
      ],
      "execution_count": 0,
      "outputs": []
    },
    {
      "cell_type": "markdown",
      "metadata": {
        "id": "8p9YSxm0o-RI",
        "colab_type": "text"
      },
      "source": [
        "Prediction on model 23"
      ]
    },
    {
      "cell_type": "code",
      "metadata": {
        "id": "g_5PNCtZuH8F",
        "colab_type": "code",
        "colab": {}
      },
      "source": [
        "#saved_model = load_model('/content/drive/My Drive/xai_model/model.h5')"
      ],
      "execution_count": 0,
      "outputs": []
    },
    {
      "cell_type": "code",
      "metadata": {
        "id": "mk19XGlajf_K",
        "colab_type": "code",
        "colab": {}
      },
      "source": [
        "test_datagen = ImageDataGenerator(rescale=1./255,\n",
        "                                 shear_range=0.2,\n",
        "                                 zoom_range=0.2,\n",
        "                                 horizontal_flip=True)"
      ],
      "execution_count": 0,
      "outputs": []
    },
    {
      "cell_type": "code",
      "metadata": {
        "id": "qOVNMoCIq4hQ",
        "colab_type": "code",
        "outputId": "32581e38-3301-4296-8d74-0770d4e3a4b3",
        "colab": {
          "base_uri": "https://localhost:8080/",
          "height": 34
        }
      },
      "source": [
        "test_generator = test_datagen.flow_from_directory('/content/drive/My Drive/NEU surface defect database - test split/Test',\n",
        "                                                  target_size=(200,200),     \n",
        "                                                  batch_size=16,\n",
        "                                                  class_mode='categorical',\n",
        "                                                  shuffle = False)"
      ],
      "execution_count": 37,
      "outputs": [
        {
          "output_type": "stream",
          "text": [
            "Found 180 images belonging to 6 classes.\n"
          ],
          "name": "stdout"
        }
      ]
    },
    {
      "cell_type": "code",
      "metadata": {
        "id": "je8y07osq4kL",
        "colab_type": "code",
        "colab": {}
      },
      "source": [
        "predIndxs = model.predict_generator(test_generator,steps = (test_generator.n//test_generator.batch_size)+1 )"
      ],
      "execution_count": 0,
      "outputs": []
    },
    {
      "cell_type": "code",
      "metadata": {
        "id": "1Ca8mTeEq4pQ",
        "colab_type": "code",
        "colab": {}
      },
      "source": [
        "predIndxs = np.argmax(predIndxs, axis=1)"
      ],
      "execution_count": 0,
      "outputs": []
    },
    {
      "cell_type": "code",
      "metadata": {
        "id": "0qLioq-Hq4sn",
        "colab_type": "code",
        "outputId": "e415af56-b510-4ff1-e4c6-c28d76793b99",
        "colab": {
          "base_uri": "https://localhost:8080/",
          "height": 235
        }
      },
      "source": [
        "print(classification_report(test_generator.classes, predIndxs, target_names=test_generator.class_indices.keys()))"
      ],
      "execution_count": 40,
      "outputs": [
        {
          "output_type": "stream",
          "text": [
            "              precision    recall  f1-score   support\n",
            "\n",
            "          Cr       1.00      1.00      1.00        30\n",
            "          In       0.97      1.00      0.98        30\n",
            "          PS       1.00      1.00      1.00        30\n",
            "          Pa       1.00      1.00      1.00        30\n",
            "          RS       1.00      1.00      1.00        30\n",
            "          Sc       1.00      0.97      0.98        30\n",
            "\n",
            "    accuracy                           0.99       180\n",
            "   macro avg       0.99      0.99      0.99       180\n",
            "weighted avg       0.99      0.99      0.99       180\n",
            "\n"
          ],
          "name": "stdout"
        }
      ]
    },
    {
      "cell_type": "code",
      "metadata": {
        "id": "X1s93QWHq4nd",
        "colab_type": "code",
        "colab": {}
      },
      "source": [
        "cm = confusion_matrix(test_generator.classes,predIndxs)\n",
        "total = sum(sum(cm))\n",
        "acc = (cm[0, 0] + cm[1, 1] + cm[2, 2] + cm[3, 3] + cm[4, 4] + cm[5, 5]) / total\n",
        "#sensitivity = cm[0, 0] / (cm[0, 0] + cm[0, 1]) sensitivity of each class \n",
        "#specificity = cm[1, 1] / (cm[1, 0] + cm[1, 1])"
      ],
      "execution_count": 0,
      "outputs": []
    },
    {
      "cell_type": "code",
      "metadata": {
        "id": "HQxzVuGkrRCg",
        "colab_type": "code",
        "outputId": "5170fd3d-15d0-423e-8747-0f5725c532ef",
        "colab": {
          "base_uri": "https://localhost:8080/",
          "height": 134
        }
      },
      "source": [
        "print(cm)\n",
        "print(\"Accuracy: {:.4f}\".format(acc))\n",
        "#print(\"Sensitivity: {:.4f}\".format(sensitivity))\n",
        "#print(\"Specificity: {:.4f}\".format(specificity))"
      ],
      "execution_count": 42,
      "outputs": [
        {
          "output_type": "stream",
          "text": [
            "[[30  0  0  0  0  0]\n",
            " [ 0 30  0  0  0  0]\n",
            " [ 0  0 30  0  0  0]\n",
            " [ 0  0  0 30  0  0]\n",
            " [ 0  0  0  0 30  0]\n",
            " [ 0  1  0  0  0 29]]\n",
            "Accuracy: 0.9944\n"
          ],
          "name": "stdout"
        }
      ]
    },
    {
      "cell_type": "code",
      "metadata": {
        "id": "0LjMjf_NrRE4",
        "colab_type": "code",
        "outputId": "493bc148-39ba-4774-f0eb-c1b3d29e668e",
        "colab": {
          "base_uri": "https://localhost:8080/",
          "height": 443
        }
      },
      "source": [
        "import seaborn as sn\n",
        "import pandas as pd\n",
        "    \n",
        "plt_cm = pd.DataFrame(cm, index=test_generator.class_indices.keys(), columns=test_generator.class_indices.keys())\n",
        "plt.figure(figsize = (10,7))\n",
        "sn.set(font_scale=1.4)\n",
        "sn.heatmap(plt_cm, annot=True,annot_kws={\"size\": 16})\n",
        "plt.savefig('/content/drive/My Drive/xai_model/MN_CM_25.jpg')"
      ],
      "execution_count": 43,
      "outputs": [
        {
          "output_type": "display_data",
          "data": {
            "image/png": "[encoded data removed]",
            "text/plain": [
              "<Figure size 720x504 with 2 Axes>"
            ]
          },
          "metadata": {
            "tags": []
          }
        }
      ]
    },
    {
      "cell_type": "code",
      "metadata": {
        "id": "DtLOBuLA0ejJ",
        "colab_type": "code",
        "colab": {}
      },
      "source": [
        ""
      ],
      "execution_count": 0,
      "outputs": []
    }
  ]
}