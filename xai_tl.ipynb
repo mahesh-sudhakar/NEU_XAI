{
  "nbformat": 4,
  "nbformat_minor": 0,
  "metadata": {
    "colab": {
      "name": "xai_tl.ipynb",
      "provenance": [],
      "collapsed_sections": [],
      "include_colab_link": true
    },
    "kernelspec": {
      "name": "python3",
      "display_name": "Python 3"
    },
    "accelerator": "GPU"
  },
  "cells": [
    {
      "cell_type": "markdown",
      "metadata": {
        "id": "view-in-github",
        "colab_type": "text"
      },
      "source": [
        "<a href=\"https://colab.research.google.com/github/smahesh2694/NEU_CLS-64/blob/master/xai_tl.ipynb\" target=\"_parent\"><img src=\"https://colab.research.google.com/assets/colab-badge.svg\" alt=\"Open In Colab\"/></a>"
      ]
    },
    {
      "cell_type": "code",
      "metadata": {
        "id": "M_qBVAPuPRue",
        "colab_type": "code",
        "colab": {}
      },
      "source": [
        "# !pip install -q xlrd"
      ],
      "execution_count": 0,
      "outputs": []
    },
    {
      "cell_type": "code",
      "metadata": {
        "id": "eiC_mcKaJxw-",
        "colab_type": "code",
        "colab": {}
      },
      "source": [
        " #!git clone https://smahesh2694:@github.com/smahesh2694/NEU_CLS-64.git"
      ],
      "execution_count": 0,
      "outputs": []
    },
    {
      "cell_type": "code",
      "metadata": {
        "id": "LtDsRDmt5AJC",
        "colab_type": "code",
        "outputId": "32c483da-e33b-4317-a8c6-ad578ad5ecd3",
        "colab": {
          "base_uri": "https://localhost:8080/",
          "height": 34
        }
      },
      "source": [
        "import tensorflow as tf\n",
        "device_name = tf.test.gpu_device_name()\n",
        "if device_name != '/device:GPU:0':\n",
        "  raise SystemError('GPU device not found')\n",
        "print('Found GPU at: {}'.format(device_name))"
      ],
      "execution_count": 73,
      "outputs": [
        {
          "output_type": "stream",
          "text": [
            "Found GPU at: /device:GPU:0\n"
          ],
          "name": "stdout"
        }
      ]
    },
    {
      "cell_type": "code",
      "metadata": {
        "id": "ogluibbniMnw",
        "colab_type": "code",
        "outputId": "f8b105c6-f1e6-4c96-ca2d-e5409abf9df5",
        "colab": {
          "base_uri": "https://localhost:8080/",
          "height": 34
        }
      },
      "source": [
        "from google.colab import drive\n",
        "drive.mount('/content/drive')"
      ],
      "execution_count": 74,
      "outputs": [
        {
          "output_type": "stream",
          "text": [
            "Drive already mounted at /content/drive; to attempt to forcibly remount, call drive.mount(\"/content/drive\", force_remount=True).\n"
          ],
          "name": "stdout"
        }
      ]
    },
    {
      "cell_type": "code",
      "metadata": {
        "id": "qdFzy_U1_mdG",
        "colab_type": "code",
        "colab": {}
      },
      "source": [
        "import pandas as pd\n",
        "import numpy as np\n",
        "import os\n",
        "import keras\n",
        "import matplotlib.pyplot as plt\n",
        "from keras.layers import Dense,GlobalAveragePooling2D\n",
        "from keras.applications import MobileNet\n",
        "from keras.preprocessing import image\n",
        "from keras.applications.mobilenet import preprocess_input\n",
        "from keras.preprocessing.image import ImageDataGenerator\n",
        "from keras.models import Model, load_model\n",
        "from keras.optimizers import Adam"
      ],
      "execution_count": 0,
      "outputs": []
    },
    {
      "cell_type": "code",
      "metadata": {
        "id": "tiyJT9aLjND8",
        "colab_type": "code",
        "outputId": "b9349298-9ee5-4c75-f3a7-93c76b089331",
        "colab": {
          "base_uri": "https://localhost:8080/",
          "height": 70
        }
      },
      "source": [
        "base_model=MobileNet(weights='imagenet',include_top=False, input_shape= (200, 200, 3))"
      ],
      "execution_count": 76,
      "outputs": [
        {
          "output_type": "stream",
          "text": [
            "/usr/local/lib/python3.6/dist-packages/keras_applications/mobilenet.py:207: UserWarning: `input_shape` is undefined or non-square, or `rows` is not in [128, 160, 192, 224]. Weights for input shape (224, 224) will be loaded as the default.\n",
            "  warnings.warn('`input_shape` is undefined or non-square, '\n"
          ],
          "name": "stderr"
        }
      ]
    },
    {
      "cell_type": "code",
      "metadata": {
        "id": "1Godm8TrjXVU",
        "colab_type": "code",
        "colab": {}
      },
      "source": [
        "x=base_model.output\n",
        "x=GlobalAveragePooling2D()(x)\n",
        "#x=Dense(1024,activation='relu')(x)\n",
        "#x=Dense(1024,activation='relu')(x)\n",
        "x=Dense(512,activation='relu')(x) \n",
        "preds=Dense(6,activation='softmax')(x)"
      ],
      "execution_count": 0,
      "outputs": []
    },
    {
      "cell_type": "code",
      "metadata": {
        "id": "Zuwus0WPjewp",
        "colab_type": "code",
        "colab": {}
      },
      "source": [
        "model=Model(inputs=base_model.input, outputs=preds)"
      ],
      "execution_count": 0,
      "outputs": []
    },
    {
      "cell_type": "code",
      "metadata": {
        "id": "lqe0DaUPjhw6",
        "colab_type": "code",
        "colab": {}
      },
      "source": [
        "base_model.trainable = False #default"
      ],
      "execution_count": 0,
      "outputs": []
    },
    {
      "cell_type": "code",
      "metadata": {
        "id": "ozZdTe1_jmkS",
        "colab_type": "code",
        "colab": {}
      },
      "source": [
        "train_datagen=ImageDataGenerator(rescale=1./255,\n",
        "                                 shear_range=0.2,\n",
        "                                 zoom_range=0.2,\n",
        "                                 horizontal_flip=True, \n",
        "                                 validation_split=0.1)"
      ],
      "execution_count": 0,
      "outputs": []
    },
    {
      "cell_type": "code",
      "metadata": {
        "id": "PumG7344jNaa",
        "colab_type": "code",
        "colab": {}
      },
      "source": [
        "bs = 32"
      ],
      "execution_count": 0,
      "outputs": []
    },
    {
      "cell_type": "code",
      "metadata": {
        "id": "F5T00KuMjs_Q",
        "colab_type": "code",
        "outputId": "dcba0230-5dd9-4b02-aac0-609e36f38e7c",
        "colab": {
          "base_uri": "https://localhost:8080/",
          "height": 34
        }
      },
      "source": [
        "train_generator=train_datagen.flow_from_directory('/content/drive/My Drive/NEU surface defect database',  #NEU-CLS-64\n",
        "                                                 target_size=(200,200),     \n",
        "                                                 batch_size=bs,\n",
        "                                                 class_mode='categorical',                                                 \n",
        "                                                 shuffle=True,\n",
        "                                                 subset='training')"
      ],
      "execution_count": 82,
      "outputs": [
        {
          "output_type": "stream",
          "text": [
            "Found 1628 images belonging to 6 classes.\n"
          ],
          "name": "stdout"
        }
      ]
    },
    {
      "cell_type": "code",
      "metadata": {
        "id": "4C1reLoV_GaY",
        "colab_type": "code",
        "outputId": "db0031b3-5ead-4644-eb6a-a879967ffff9",
        "colab": {
          "base_uri": "https://localhost:8080/",
          "height": 34
        }
      },
      "source": [
        "val_generator=train_datagen.flow_from_directory('/content/drive/My Drive/NEU surface defect database', \n",
        "                                                 target_size=(200,200),  \n",
        "                                                 #batch_size=32,                                                                                                batch_size=32,\n",
        "                                                 class_mode='categorical',\n",
        "                                                 shuffle=True,\n",
        "                                                 subset='validation')"
      ],
      "execution_count": 83,
      "outputs": [
        {
          "output_type": "stream",
          "text": [
            "Found 180 images belonging to 6 classes.\n"
          ],
          "name": "stdout"
        }
      ]
    },
    {
      "cell_type": "code",
      "metadata": {
        "id": "2N2Z0TyHj6Hs",
        "colab_type": "code",
        "colab": {}
      },
      "source": [
        "model.compile(optimizer='Adam',loss='categorical_crossentropy',metrics=['acc'])"
      ],
      "execution_count": 0,
      "outputs": []
    },
    {
      "cell_type": "code",
      "metadata": {
        "id": "TTdkMlU7j-xp",
        "colab_type": "code",
        "colab": {}
      },
      "source": [
        "model.summary()"
      ],
      "execution_count": 0,
      "outputs": []
    },
    {
      "cell_type": "code",
      "metadata": {
        "id": "hV4kOBMQx-gB",
        "colab_type": "code",
        "outputId": "027b8280-f832-433f-da22-59d9df1865a2",
        "colab": {
          "base_uri": "https://localhost:8080/",
          "height": 50
        }
      },
      "source": [
        "step_size_train=train_generator.n//train_generator.batch_size\n",
        "print(step_size_train)\n",
        "step_size_val=val_generator.n//val_generator.batch_size\n",
        "print(step_size_val)"
      ],
      "execution_count": 86,
      "outputs": [
        {
          "output_type": "stream",
          "text": [
            "50\n",
            "5\n"
          ],
          "name": "stdout"
        }
      ]
    },
    {
      "cell_type": "code",
      "metadata": {
        "id": "ucbyyvwozJJR",
        "colab_type": "code",
        "colab": {}
      },
      "source": [
        "initial_epochs = 20"
      ],
      "execution_count": 0,
      "outputs": []
    },
    {
      "cell_type": "code",
      "metadata": {
        "id": "76fKwHXmkKU0",
        "colab_type": "code",
        "outputId": "d383dd5d-d732-41e5-df2c-841ab492f4c7",
        "colab": {
          "base_uri": "https://localhost:8080/",
          "height": 689
        }
      },
      "source": [
        "history = model.fit_generator(generator=train_generator,\n",
        "                   steps_per_epoch=step_size_train,\n",
        "                   validation_data=val_generator,\n",
        "                   validation_steps=step_size_val,                \n",
        "                   epochs=initial_epochs)"
      ],
      "execution_count": 88,
      "outputs": [
        {
          "output_type": "stream",
          "text": [
            "Epoch 1/20\n",
            "50/50 [==============================] - 33s 668ms/step - loss: 0.2402 - acc: 0.9349 - val_loss: 4.4451 - val_acc: 0.6625\n",
            "Epoch 2/20\n",
            "50/50 [==============================] - 24s 488ms/step - loss: 0.1830 - acc: 0.9649 - val_loss: 5.4325 - val_acc: 0.6284\n",
            "Epoch 3/20\n",
            "50/50 [==============================] - 24s 487ms/step - loss: 0.1248 - acc: 0.9743 - val_loss: 0.2215 - val_acc: 0.9865\n",
            "Epoch 4/20\n",
            "50/50 [==============================] - 24s 479ms/step - loss: 0.0805 - acc: 0.9792 - val_loss: 0.3732 - val_acc: 0.9459\n",
            "Epoch 5/20\n",
            "50/50 [==============================] - 23s 468ms/step - loss: 0.1345 - acc: 0.9668 - val_loss: 2.0405 - val_acc: 0.7297\n",
            "Epoch 6/20\n",
            "50/50 [==============================] - 24s 477ms/step - loss: 0.1067 - acc: 0.9775 - val_loss: 1.6569 - val_acc: 0.8378\n",
            "Epoch 7/20\n",
            "50/50 [==============================] - 24s 479ms/step - loss: 0.0420 - acc: 0.9919 - val_loss: 0.0253 - val_acc: 0.9875\n",
            "Epoch 8/20\n",
            "50/50 [==============================] - 25s 498ms/step - loss: 0.0310 - acc: 0.9911 - val_loss: 0.0686 - val_acc: 0.9865\n",
            "Epoch 9/20\n",
            "50/50 [==============================] - 24s 471ms/step - loss: 0.0491 - acc: 0.9894 - val_loss: 0.5341 - val_acc: 0.9189\n",
            "Epoch 10/20\n",
            "50/50 [==============================] - 23s 470ms/step - loss: 0.0783 - acc: 0.9850 - val_loss: 0.0040 - val_acc: 1.0000\n",
            "Epoch 11/20\n",
            "50/50 [==============================] - 24s 472ms/step - loss: 0.0559 - acc: 0.9906 - val_loss: 2.0413 - val_acc: 0.8649\n",
            "Epoch 12/20\n",
            "50/50 [==============================] - 23s 467ms/step - loss: 0.1089 - acc: 0.9774 - val_loss: 0.0564 - val_acc: 0.9730\n",
            "Epoch 13/20\n",
            "50/50 [==============================] - 24s 486ms/step - loss: 0.0728 - acc: 0.9856 - val_loss: 8.9239e-04 - val_acc: 1.0000\n",
            "Epoch 14/20\n",
            "50/50 [==============================] - 25s 495ms/step - loss: 0.0294 - acc: 0.9925 - val_loss: 0.0254 - val_acc: 0.9932\n",
            "Epoch 15/20\n",
            "50/50 [==============================] - 23s 469ms/step - loss: 0.0764 - acc: 0.9875 - val_loss: 0.0025 - val_acc: 1.0000\n",
            "Epoch 16/20\n",
            "50/50 [==============================] - 23s 465ms/step - loss: 0.0652 - acc: 0.9862 - val_loss: 0.1528 - val_acc: 0.9595\n",
            "Epoch 17/20\n",
            "50/50 [==============================] - 24s 475ms/step - loss: 0.0368 - acc: 0.9892 - val_loss: 0.2330 - val_acc: 0.9595\n",
            "Epoch 18/20\n",
            "50/50 [==============================] - 23s 470ms/step - loss: 0.0254 - acc: 0.9925 - val_loss: 7.0098e-05 - val_acc: 1.0000\n",
            "Epoch 19/20\n",
            "50/50 [==============================] - 24s 479ms/step - loss: 0.1102 - acc: 0.9799 - val_loss: 0.4141 - val_acc: 0.9563\n",
            "Epoch 20/20\n",
            "50/50 [==============================] - 25s 496ms/step - loss: 0.0600 - acc: 0.9844 - val_loss: 0.0078 - val_acc: 1.0000\n"
          ],
          "name": "stdout"
        }
      ]
    },
    {
      "cell_type": "code",
      "metadata": {
        "id": "QlH5V99Um8-A",
        "colab_type": "code",
        "colab": {}
      },
      "source": [
        "#print(history.history.keys())"
      ],
      "execution_count": 0,
      "outputs": []
    },
    {
      "cell_type": "code",
      "metadata": {
        "id": "dEy9cmZTm-dj",
        "colab_type": "code",
        "colab": {}
      },
      "source": [
        "acc = history.history['acc']\n",
        "val_acc = history.history['val_acc']\n",
        "\n",
        "loss = history.history['loss']\n",
        "val_loss = history.history['val_loss']"
      ],
      "execution_count": 0,
      "outputs": []
    },
    {
      "cell_type": "code",
      "metadata": {
        "id": "Dr66LKrfnCLj",
        "colab_type": "code",
        "outputId": "61f78d8c-e92e-46d4-cbd1-617dd6b3111b",
        "colab": {
          "base_uri": "https://localhost:8080/",
          "height": 499
        }
      },
      "source": [
        "plt.figure(figsize=(8, 8))\n",
        "plt.subplot(2, 1, 1)\n",
        "plt.plot(acc, label='Training Accuracy')\n",
        "plt.plot(val_acc, label='Validation Accuracy')\n",
        "plt.legend(loc='lower right')\n",
        "plt.ylabel('Accuracy')\n",
        "plt.ylim([0,1])\n",
        "plt.title('Training and Validation Accuracy')\n",
        "\n",
        "plt.subplot(2, 1, 2)\n",
        "plt.plot(loss, label='Training Loss')\n",
        "plt.plot(val_loss, label='Validation Loss')\n",
        "plt.legend(loc='upper right')\n",
        "plt.ylabel('Cross Entropy')\n",
        "plt.ylim([0,max(plt.ylim())])\n",
        "plt.title('Training and Validation Loss')\n",
        "plt.savefig('/content/drive/My Drive/xai_model/MN_90_10_13.jpg')\n",
        "plt.show()\n",
        "\n"
      ],
      "execution_count": 91,
      "outputs": [
        {
          "output_type": "display_data",
          "data": {
            "image/png": "[encoded data removed]",
            "text/plain": [
              "<Figure size 576x576 with 2 Axes>"
            ]
          },
          "metadata": {
            "tags": []
          }
        }
      ]
    },
    {
      "cell_type": "code",
      "metadata": {
        "id": "GfboXjj2DTDI",
        "colab_type": "code",
        "colab": {}
      },
      "source": [
        "model.save('/content/drive/My Drive/xai_model/model.h5')"
      ],
      "execution_count": 0,
      "outputs": []
    },
    {
      "cell_type": "code",
      "metadata": {
        "id": "WxKswvmXEAYz",
        "colab_type": "code",
        "colab": {}
      },
      "source": [
        "model.save_weights('/content/drive/My Drive/xai_model/weights.h5')"
      ],
      "execution_count": 0,
      "outputs": []
    },
    {
      "cell_type": "code",
      "metadata": {
        "id": "z4cholNGP3M6",
        "colab_type": "code",
        "colab": {}
      },
      "source": [
        "#lm = load_model('/content/drive/My Drive/xai_model/model.h5')"
      ],
      "execution_count": 0,
      "outputs": []
    },
    {
      "cell_type": "code",
      "metadata": {
        "id": "4u1WtsP6QkdR",
        "colab_type": "code",
        "colab": {}
      },
      "source": [
        "#lm.summary()"
      ],
      "execution_count": 0,
      "outputs": []
    },
    {
      "cell_type": "code",
      "metadata": {
        "id": "LkIxaG03afQH",
        "colab_type": "code",
        "colab": {}
      },
      "source": [
        "#from keras.preprocessing.image import load_img, img_to_array\n",
        "#from keras.applications.mobilenet import preprocess_input, decode_predictions\n",
        "#image = load_img('/content/drive/My Drive/xai_model/Sc_7.bmp')"
      ],
      "execution_count": 0,
      "outputs": []
    },
    {
      "cell_type": "code",
      "metadata": {
        "id": "-FAZoSV0aOnU",
        "colab_type": "code",
        "colab": {}
      },
      "source": [
        "#image = img_to_array(image)\n",
        "# reshape data for the model\n",
        "#image = image.reshape((1, image.shape[0], image.shape[1], image.shape[2]))\n",
        "# prepare the image for the VGG model\n",
        "#image = preprocess_input(image)\n",
        "#yhat = model.predict(image)\n"
      ],
      "execution_count": 0,
      "outputs": []
    },
    {
      "cell_type": "code",
      "metadata": {
        "id": "iTS04ZyFaOxo",
        "colab_type": "code",
        "colab": {}
      },
      "source": [
        "# convert the probabilities to class labels\n",
        "#label = decode_predictions(yhat)\n",
        "# retrieve the most likely result, e.g. highest probability\n",
        "#label = label[0][0]\n",
        "# print the classification\n",
        "#print('%s (%.2f%%)' % (label[1], label[2]*100))"
      ],
      "execution_count": 0,
      "outputs": []
    },
    {
      "cell_type": "code",
      "metadata": {
        "id": "k7p1NBLvx3Ks",
        "colab_type": "code",
        "colab": {}
      },
      "source": [
        "base_model.trainable = True"
      ],
      "execution_count": 0,
      "outputs": []
    },
    {
      "cell_type": "code",
      "metadata": {
        "id": "-6UlieBiaO0K",
        "colab_type": "code",
        "colab": {
          "base_uri": "https://localhost:8080/",
          "height": 34
        },
        "outputId": "507b8e0f-d0c1-46d2-fe30-79d5fe1fc9a2"
      },
      "source": [
        "print(\"Number of layers in the base model: \", len(base_model.layers))"
      ],
      "execution_count": 107,
      "outputs": [
        {
          "output_type": "stream",
          "text": [
            "Number of layers in the base model:  87\n"
          ],
          "name": "stdout"
        }
      ]
    },
    {
      "cell_type": "code",
      "metadata": {
        "id": "hkk7EWl8aO4I",
        "colab_type": "code",
        "colab": {}
      },
      "source": [
        "fine_tune_at = 61"
      ],
      "execution_count": 0,
      "outputs": []
    },
    {
      "cell_type": "code",
      "metadata": {
        "id": "uro3qiBCyOyC",
        "colab_type": "code",
        "colab": {}
      },
      "source": [
        "for layer in base_model.layers[:fine_tune_at]:\n",
        "  layer.trainable =  False"
      ],
      "execution_count": 0,
      "outputs": []
    },
    {
      "cell_type": "code",
      "metadata": {
        "id": "Uz_8d2HPyXNs",
        "colab_type": "code",
        "colab": {}
      },
      "source": [
        "model.compile(optimizer='Adam',loss='categorical_crossentropy',metrics=['acc'])"
      ],
      "execution_count": 0,
      "outputs": []
    },
    {
      "cell_type": "code",
      "metadata": {
        "id": "WP8jaCj8yfmz",
        "colab_type": "code",
        "colab": {
          "base_uri": "https://localhost:8080/",
          "height": 1000
        },
        "outputId": "2f185cd4-42bf-4f51-d869-b4cd3bcc0b1b"
      },
      "source": [
        "model.summary()"
      ],
      "execution_count": 103,
      "outputs": [
        {
          "output_type": "stream",
          "text": [
            "Model: \"model_3\"\n",
            "_________________________________________________________________\n",
            "Layer (type)                 Output Shape              Param #   \n",
            "=================================================================\n",
            "input_3 (InputLayer)         (None, 200, 200, 3)       0         \n",
            "_________________________________________________________________\n",
            "conv1_pad (ZeroPadding2D)    (None, 201, 201, 3)       0         \n",
            "_________________________________________________________________\n",
            "conv1 (Conv2D)               (None, 100, 100, 32)      864       \n",
            "_________________________________________________________________\n",
            "conv1_bn (BatchNormalization (None, 100, 100, 32)      128       \n",
            "_________________________________________________________________\n",
            "conv1_relu (ReLU)            (None, 100, 100, 32)      0         \n",
            "_________________________________________________________________\n",
            "conv_dw_1 (DepthwiseConv2D)  (None, 100, 100, 32)      288       \n",
            "_________________________________________________________________\n",
            "conv_dw_1_bn (BatchNormaliza (None, 100, 100, 32)      128       \n",
            "_________________________________________________________________\n",
            "conv_dw_1_relu (ReLU)        (None, 100, 100, 32)      0         \n",
            "_________________________________________________________________\n",
            "conv_pw_1 (Conv2D)           (None, 100, 100, 64)      2048      \n",
            "_________________________________________________________________\n",
            "conv_pw_1_bn (BatchNormaliza (None, 100, 100, 64)      256       \n",
            "_________________________________________________________________\n",
            "conv_pw_1_relu (ReLU)        (None, 100, 100, 64)      0         \n",
            "_________________________________________________________________\n",
            "conv_pad_2 (ZeroPadding2D)   (None, 101, 101, 64)      0         \n",
            "_________________________________________________________________\n",
            "conv_dw_2 (DepthwiseConv2D)  (None, 50, 50, 64)        576       \n",
            "_________________________________________________________________\n",
            "conv_dw_2_bn (BatchNormaliza (None, 50, 50, 64)        256       \n",
            "_________________________________________________________________\n",
            "conv_dw_2_relu (ReLU)        (None, 50, 50, 64)        0         \n",
            "_________________________________________________________________\n",
            "conv_pw_2 (Conv2D)           (None, 50, 50, 128)       8192      \n",
            "_________________________________________________________________\n",
            "conv_pw_2_bn (BatchNormaliza (None, 50, 50, 128)       512       \n",
            "_________________________________________________________________\n",
            "conv_pw_2_relu (ReLU)        (None, 50, 50, 128)       0         \n",
            "_________________________________________________________________\n",
            "conv_dw_3 (DepthwiseConv2D)  (None, 50, 50, 128)       1152      \n",
            "_________________________________________________________________\n",
            "conv_dw_3_bn (BatchNormaliza (None, 50, 50, 128)       512       \n",
            "_________________________________________________________________\n",
            "conv_dw_3_relu (ReLU)        (None, 50, 50, 128)       0         \n",
            "_________________________________________________________________\n",
            "conv_pw_3 (Conv2D)           (None, 50, 50, 128)       16384     \n",
            "_________________________________________________________________\n",
            "conv_pw_3_bn (BatchNormaliza (None, 50, 50, 128)       512       \n",
            "_________________________________________________________________\n",
            "conv_pw_3_relu (ReLU)        (None, 50, 50, 128)       0         \n",
            "_________________________________________________________________\n",
            "conv_pad_4 (ZeroPadding2D)   (None, 51, 51, 128)       0         \n",
            "_________________________________________________________________\n",
            "conv_dw_4 (DepthwiseConv2D)  (None, 25, 25, 128)       1152      \n",
            "_________________________________________________________________\n",
            "conv_dw_4_bn (BatchNormaliza (None, 25, 25, 128)       512       \n",
            "_________________________________________________________________\n",
            "conv_dw_4_relu (ReLU)        (None, 25, 25, 128)       0         \n",
            "_________________________________________________________________\n",
            "conv_pw_4 (Conv2D)           (None, 25, 25, 256)       32768     \n",
            "_________________________________________________________________\n",
            "conv_pw_4_bn (BatchNormaliza (None, 25, 25, 256)       1024      \n",
            "_________________________________________________________________\n",
            "conv_pw_4_relu (ReLU)        (None, 25, 25, 256)       0         \n",
            "_________________________________________________________________\n",
            "conv_dw_5 (DepthwiseConv2D)  (None, 25, 25, 256)       2304      \n",
            "_________________________________________________________________\n",
            "conv_dw_5_bn (BatchNormaliza (None, 25, 25, 256)       1024      \n",
            "_________________________________________________________________\n",
            "conv_dw_5_relu (ReLU)        (None, 25, 25, 256)       0         \n",
            "_________________________________________________________________\n",
            "conv_pw_5 (Conv2D)           (None, 25, 25, 256)       65536     \n",
            "_________________________________________________________________\n",
            "conv_pw_5_bn (BatchNormaliza (None, 25, 25, 256)       1024      \n",
            "_________________________________________________________________\n",
            "conv_pw_5_relu (ReLU)        (None, 25, 25, 256)       0         \n",
            "_________________________________________________________________\n",
            "conv_pad_6 (ZeroPadding2D)   (None, 26, 26, 256)       0         \n",
            "_________________________________________________________________\n",
            "conv_dw_6 (DepthwiseConv2D)  (None, 12, 12, 256)       2304      \n",
            "_________________________________________________________________\n",
            "conv_dw_6_bn (BatchNormaliza (None, 12, 12, 256)       1024      \n",
            "_________________________________________________________________\n",
            "conv_dw_6_relu (ReLU)        (None, 12, 12, 256)       0         \n",
            "_________________________________________________________________\n",
            "conv_pw_6 (Conv2D)           (None, 12, 12, 512)       131072    \n",
            "_________________________________________________________________\n",
            "conv_pw_6_bn (BatchNormaliza (None, 12, 12, 512)       2048      \n",
            "_________________________________________________________________\n",
            "conv_pw_6_relu (ReLU)        (None, 12, 12, 512)       0         \n",
            "_________________________________________________________________\n",
            "conv_dw_7 (DepthwiseConv2D)  (None, 12, 12, 512)       4608      \n",
            "_________________________________________________________________\n",
            "conv_dw_7_bn (BatchNormaliza (None, 12, 12, 512)       2048      \n",
            "_________________________________________________________________\n",
            "conv_dw_7_relu (ReLU)        (None, 12, 12, 512)       0         \n",
            "_________________________________________________________________\n",
            "conv_pw_7 (Conv2D)           (None, 12, 12, 512)       262144    \n",
            "_________________________________________________________________\n",
            "conv_pw_7_bn (BatchNormaliza (None, 12, 12, 512)       2048      \n",
            "_________________________________________________________________\n",
            "conv_pw_7_relu (ReLU)        (None, 12, 12, 512)       0         \n",
            "_________________________________________________________________\n",
            "conv_dw_8 (DepthwiseConv2D)  (None, 12, 12, 512)       4608      \n",
            "_________________________________________________________________\n",
            "conv_dw_8_bn (BatchNormaliza (None, 12, 12, 512)       2048      \n",
            "_________________________________________________________________\n",
            "conv_dw_8_relu (ReLU)        (None, 12, 12, 512)       0         \n",
            "_________________________________________________________________\n",
            "conv_pw_8 (Conv2D)           (None, 12, 12, 512)       262144    \n",
            "_________________________________________________________________\n",
            "conv_pw_8_bn (BatchNormaliza (None, 12, 12, 512)       2048      \n",
            "_________________________________________________________________\n",
            "conv_pw_8_relu (ReLU)        (None, 12, 12, 512)       0         \n",
            "_________________________________________________________________\n",
            "conv_dw_9 (DepthwiseConv2D)  (None, 12, 12, 512)       4608      \n",
            "_________________________________________________________________\n",
            "conv_dw_9_bn (BatchNormaliza (None, 12, 12, 512)       2048      \n",
            "_________________________________________________________________\n",
            "conv_dw_9_relu (ReLU)        (None, 12, 12, 512)       0         \n",
            "_________________________________________________________________\n",
            "conv_pw_9 (Conv2D)           (None, 12, 12, 512)       262144    \n",
            "_________________________________________________________________\n",
            "conv_pw_9_bn (BatchNormaliza (None, 12, 12, 512)       2048      \n",
            "_________________________________________________________________\n",
            "conv_pw_9_relu (ReLU)        (None, 12, 12, 512)       0         \n",
            "_________________________________________________________________\n",
            "conv_dw_10 (DepthwiseConv2D) (None, 12, 12, 512)       4608      \n",
            "_________________________________________________________________\n",
            "conv_dw_10_bn (BatchNormaliz (None, 12, 12, 512)       2048      \n",
            "_________________________________________________________________\n",
            "conv_dw_10_relu (ReLU)       (None, 12, 12, 512)       0         \n",
            "_________________________________________________________________\n",
            "conv_pw_10 (Conv2D)          (None, 12, 12, 512)       262144    \n",
            "_________________________________________________________________\n",
            "conv_pw_10_bn (BatchNormaliz (None, 12, 12, 512)       2048      \n",
            "_________________________________________________________________\n",
            "conv_pw_10_relu (ReLU)       (None, 12, 12, 512)       0         \n",
            "_________________________________________________________________\n",
            "conv_dw_11 (DepthwiseConv2D) (None, 12, 12, 512)       4608      \n",
            "_________________________________________________________________\n",
            "conv_dw_11_bn (BatchNormaliz (None, 12, 12, 512)       2048      \n",
            "_________________________________________________________________\n",
            "conv_dw_11_relu (ReLU)       (None, 12, 12, 512)       0         \n",
            "_________________________________________________________________\n",
            "conv_pw_11 (Conv2D)          (None, 12, 12, 512)       262144    \n",
            "_________________________________________________________________\n",
            "conv_pw_11_bn (BatchNormaliz (None, 12, 12, 512)       2048      \n",
            "_________________________________________________________________\n",
            "conv_pw_11_relu (ReLU)       (None, 12, 12, 512)       0         \n",
            "_________________________________________________________________\n",
            "conv_pad_12 (ZeroPadding2D)  (None, 13, 13, 512)       0         \n",
            "_________________________________________________________________\n",
            "conv_dw_12 (DepthwiseConv2D) (None, 6, 6, 512)         4608      \n",
            "_________________________________________________________________\n",
            "conv_dw_12_bn (BatchNormaliz (None, 6, 6, 512)         2048      \n",
            "_________________________________________________________________\n",
            "conv_dw_12_relu (ReLU)       (None, 6, 6, 512)         0         \n",
            "_________________________________________________________________\n",
            "conv_pw_12 (Conv2D)          (None, 6, 6, 1024)        524288    \n",
            "_________________________________________________________________\n",
            "conv_pw_12_bn (BatchNormaliz (None, 6, 6, 1024)        4096      \n",
            "_________________________________________________________________\n",
            "conv_pw_12_relu (ReLU)       (None, 6, 6, 1024)        0         \n",
            "_________________________________________________________________\n",
            "conv_dw_13 (DepthwiseConv2D) (None, 6, 6, 1024)        9216      \n",
            "_________________________________________________________________\n",
            "conv_dw_13_bn (BatchNormaliz (None, 6, 6, 1024)        4096      \n",
            "_________________________________________________________________\n",
            "conv_dw_13_relu (ReLU)       (None, 6, 6, 1024)        0         \n",
            "_________________________________________________________________\n",
            "conv_pw_13 (Conv2D)          (None, 6, 6, 1024)        1048576   \n",
            "_________________________________________________________________\n",
            "conv_pw_13_bn (BatchNormaliz (None, 6, 6, 1024)        4096      \n",
            "_________________________________________________________________\n",
            "conv_pw_13_relu (ReLU)       (None, 6, 6, 1024)        0         \n",
            "_________________________________________________________________\n",
            "global_average_pooling2d_3 ( (None, 1024)              0         \n",
            "_________________________________________________________________\n",
            "dense_7 (Dense)              (None, 512)               524800    \n",
            "_________________________________________________________________\n",
            "dense_8 (Dense)              (None, 6)                 3078      \n",
            "=================================================================\n",
            "Total params: 3,756,742\n",
            "Trainable params: 527,878\n",
            "Non-trainable params: 3,228,864\n",
            "_________________________________________________________________\n"
          ],
          "name": "stdout"
        }
      ]
    },
    {
      "cell_type": "code",
      "metadata": {
        "id": "8martc5syosg",
        "colab_type": "code",
        "colab": {
          "base_uri": "https://localhost:8080/",
          "height": 353
        },
        "outputId": "de8c40c6-a6ae-4c2d-d6e6-be6affde2896"
      },
      "source": [
        "fine_tune_epochs = 10\n",
        "total_epochs =  initial_epochs + fine_tune_epochs\n",
        "\n",
        "history_fine = model.fit_generator(generator=train_generator,\n",
        "                   steps_per_epoch=step_size_train,\n",
        "                   validation_data=val_generator,\n",
        "                   validation_steps=step_size_val,                \n",
        "                   epochs=total_epochs,\n",
        "                   initial_epoch = initial_epochs)"
      ],
      "execution_count": 104,
      "outputs": [
        {
          "output_type": "stream",
          "text": [
            "Epoch 21/30\n",
            "50/50 [==============================] - 26s 525ms/step - loss: 0.0192 - acc: 0.9944 - val_loss: 0.0346 - val_acc: 0.9812\n",
            "Epoch 22/30\n",
            "50/50 [==============================] - 21s 417ms/step - loss: 0.0507 - acc: 0.9905 - val_loss: 0.0520 - val_acc: 0.9865\n",
            "Epoch 23/30\n",
            "50/50 [==============================] - 21s 412ms/step - loss: 0.0398 - acc: 0.9937 - val_loss: 0.0177 - val_acc: 1.0000\n",
            "Epoch 24/30\n",
            "50/50 [==============================] - 21s 413ms/step - loss: 0.0602 - acc: 0.9906 - val_loss: 0.0158 - val_acc: 0.9932\n",
            "Epoch 25/30\n",
            "50/50 [==============================] - 20s 393ms/step - loss: 0.0771 - acc: 0.9869 - val_loss: 0.0118 - val_acc: 0.9932\n",
            "Epoch 26/30\n",
            "50/50 [==============================] - 20s 395ms/step - loss: 0.0174 - acc: 0.9944 - val_loss: 0.1170 - val_acc: 0.9932\n",
            "Epoch 27/30\n",
            "50/50 [==============================] - 20s 403ms/step - loss: 0.0301 - acc: 0.9956 - val_loss: 0.0076 - val_acc: 1.0000\n",
            "Epoch 28/30\n",
            "50/50 [==============================] - 21s 425ms/step - loss: 0.0310 - acc: 0.9937 - val_loss: 0.0013 - val_acc: 1.0000\n",
            "Epoch 29/30\n",
            "50/50 [==============================] - 20s 390ms/step - loss: 0.0378 - acc: 0.9931 - val_loss: 0.0793 - val_acc: 0.9797\n",
            "Epoch 30/30\n",
            "50/50 [==============================] - 20s 391ms/step - loss: 0.0432 - acc: 0.9912 - val_loss: 0.0478 - val_acc: 0.9932\n"
          ],
          "name": "stdout"
        }
      ]
    },
    {
      "cell_type": "code",
      "metadata": {
        "id": "bUeKg5H00Eri",
        "colab_type": "code",
        "colab": {}
      },
      "source": [
        "acc += history_fine.history['acc']\n",
        "val_acc += history_fine.history['val_acc']\n",
        "\n",
        "loss += history_fine.history['loss']\n",
        "val_loss += history_fine.history['val_loss']"
      ],
      "execution_count": 0,
      "outputs": []
    },
    {
      "cell_type": "code",
      "metadata": {
        "id": "JqQeX5Pt0Zmb",
        "colab_type": "code",
        "colab": {
          "base_uri": "https://localhost:8080/",
          "height": 513
        },
        "outputId": "a5451710-d0e1-418b-cff5-b3f397863411"
      },
      "source": [
        "plt.figure(figsize=(8, 8))\n",
        "plt.subplot(2, 1, 1)\n",
        "plt.plot(acc, label='Training Accuracy')\n",
        "plt.plot(val_acc, label='Validation Accuracy')\n",
        "plt.ylim([0, 1])\n",
        "plt.plot([initial_epochs-1,initial_epochs-1],\n",
        "          plt.ylim(), label='Start Fine Tuning')\n",
        "plt.legend(loc='lower right')\n",
        "plt.title('Training and Validation Accuracy')\n",
        "\n",
        "plt.subplot(2, 1, 2)\n",
        "plt.plot(loss, label='Training Loss')\n",
        "plt.plot(val_loss, label='Validation Loss')\n",
        "plt.ylim([0, max(plt.ylim())])\n",
        "plt.plot([initial_epochs-1,initial_epochs-1],\n",
        "         plt.ylim(), label='Start Fine Tuning')\n",
        "plt.legend(loc='upper right')\n",
        "plt.title('Training and Validation Loss')\n",
        "plt.xlabel('epoch')\n",
        "plt.savefig('/content/drive/My Drive/xai_model/MN_FT_90_10_13.jpg')\n",
        "plt.show()"
      ],
      "execution_count": 106,
      "outputs": [
        {
          "output_type": "display_data",
          "data": {
            "image/png": "[encoded data removed]",
            "text/plain": [
              "<Figure size 576x576 with 2 Axes>"
            ]
          },
          "metadata": {
            "tags": []
          }
        }
      ]
    }
  ]
}