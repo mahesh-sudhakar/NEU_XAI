{
  "nbformat": 4,
  "nbformat_minor": 0,
  "metadata": {
    "colab": {
      "name": "xai_tl.ipynb",
      "provenance": [],
      "collapsed_sections": [],
      "include_colab_link": true
    },
    "kernelspec": {
      "name": "python3",
      "display_name": "Python 3"
    },
    "accelerator": "GPU"
  },
  "cells": [
    {
      "cell_type": "markdown",
      "metadata": {
        "id": "view-in-github",
        "colab_type": "text"
      },
      "source": [
        "<a href=\"https://colab.research.google.com/github/smahesh2694/NEU_CLS-64/blob/master/xai_tl.ipynb\" target=\"_parent\"><img src=\"https://colab.research.google.com/assets/colab-badge.svg\" alt=\"Open In Colab\"/></a>"
      ]
    },
    {
      "cell_type": "code",
      "metadata": {
        "id": "M_qBVAPuPRue",
        "colab_type": "code",
        "colab": {}
      },
      "source": [
        "# !pip install -q xlrd"
      ],
      "execution_count": 0,
      "outputs": []
    },
    {
      "cell_type": "code",
      "metadata": {
        "id": "eiC_mcKaJxw-",
        "colab_type": "code",
        "outputId": "e1f46956-d91f-4195-ef64-f4ad40bba76a",
        "colab": {
          "base_uri": "https://localhost:8080/",
          "height": 34
        }
      },
      "source": [
        " #!git clone https://smahesh2694:@github.com/smahesh2694/NEU_CLS-64.git"
      ],
      "execution_count": 0,
      "outputs": [
        {
          "output_type": "stream",
          "text": [
            "fatal: destination path 'NEU_CLS-64' already exists and is not an empty directory.\n"
          ],
          "name": "stdout"
        }
      ]
    },
    {
      "cell_type": "code",
      "metadata": {
        "id": "LtDsRDmt5AJC",
        "colab_type": "code",
        "outputId": "f51e4d8e-0f28-4953-a72d-3c9b1cb6f682",
        "colab": {
          "base_uri": "https://localhost:8080/",
          "height": 34
        }
      },
      "source": [
        "import tensorflow as tf\n",
        "device_name = tf.test.gpu_device_name()\n",
        "if device_name != '/device:GPU:0':\n",
        "  raise SystemError('GPU device not found')\n",
        "print('Found GPU at: {}'.format(device_name))"
      ],
      "execution_count": 1,
      "outputs": [
        {
          "output_type": "stream",
          "text": [
            "Found GPU at: /device:GPU:0\n"
          ],
          "name": "stdout"
        }
      ]
    },
    {
      "cell_type": "code",
      "metadata": {
        "id": "ogluibbniMnw",
        "colab_type": "code",
        "outputId": "980ef729-a946-48d1-cef3-b6b1cdb31425",
        "colab": {
          "base_uri": "https://localhost:8080/",
          "height": 121
        }
      },
      "source": [
        "from google.colab import drive\n",
        "drive.mount('/content/drive')"
      ],
      "execution_count": 2,
      "outputs": [
        {
          "output_type": "stream",
          "text": [
            "Go to this URL in a browser: https://accounts.google.com/o/oauth2/auth?client_id=947318989803-6bn6qk8qdgf4n4g3pfee6491hc0brc4i.apps.googleusercontent.com&redirect_uri=urn%3Aietf%3Awg%3Aoauth%3A2.0%3Aoob&scope=email%20https%3A%2F%2Fwww.googleapis.com%2Fauth%2Fdocs.test%20https%3A%2F%2Fwww.googleapis.com%2Fauth%2Fdrive%20https%3A%2F%2Fwww.googleapis.com%2Fauth%2Fdrive.photos.readonly%20https%3A%2F%2Fwww.googleapis.com%2Fauth%2Fpeopleapi.readonly&response_type=code\n",
            "\n",
            "Enter your authorization code:\n",
            "··········\n",
            "Mounted at /content/drive\n"
          ],
          "name": "stdout"
        }
      ]
    },
    {
      "cell_type": "code",
      "metadata": {
        "id": "qdFzy_U1_mdG",
        "colab_type": "code",
        "colab": {
          "base_uri": "https://localhost:8080/",
          "height": 34
        },
        "outputId": "d26e5b53-a34b-40e5-85f3-4910be10c84b"
      },
      "source": [
        "import pandas as pd\n",
        "import numpy as np\n",
        "import os\n",
        "import keras\n",
        "import matplotlib.pyplot as plt\n",
        "from keras.layers import Dense,GlobalAveragePooling2D\n",
        "from keras.applications import MobileNet\n",
        "from keras.preprocessing import image\n",
        "from keras.applications.mobilenet import preprocess_input\n",
        "from keras.preprocessing.image import ImageDataGenerator\n",
        "from keras.models import Model, load_model\n",
        "from keras.optimizers import Adam"
      ],
      "execution_count": 3,
      "outputs": [
        {
          "output_type": "stream",
          "text": [
            "Using TensorFlow backend.\n"
          ],
          "name": "stderr"
        }
      ]
    },
    {
      "cell_type": "code",
      "metadata": {
        "id": "tiyJT9aLjND8",
        "colab_type": "code",
        "outputId": "3caa531d-e670-49ce-9272-6b75e7604144",
        "colab": {
          "base_uri": "https://localhost:8080/",
          "height": 306
        }
      },
      "source": [
        "input_sh = (200, 200, 3)\n",
        "\n",
        "base_model=MobileNet(weights='imagenet',include_top=False, input_shape=input_sh)"
      ],
      "execution_count": 4,
      "outputs": [
        {
          "output_type": "stream",
          "text": [
            "WARNING:tensorflow:From /usr/local/lib/python3.6/dist-packages/keras/backend/tensorflow_backend.py:66: The name tf.get_default_graph is deprecated. Please use tf.compat.v1.get_default_graph instead.\n",
            "\n",
            "WARNING:tensorflow:From /usr/local/lib/python3.6/dist-packages/keras/backend/tensorflow_backend.py:541: The name tf.placeholder is deprecated. Please use tf.compat.v1.placeholder instead.\n",
            "\n",
            "WARNING:tensorflow:From /usr/local/lib/python3.6/dist-packages/keras/backend/tensorflow_backend.py:4432: The name tf.random_uniform is deprecated. Please use tf.random.uniform instead.\n",
            "\n",
            "WARNING:tensorflow:From /usr/local/lib/python3.6/dist-packages/keras/backend/tensorflow_backend.py:190: The name tf.get_default_session is deprecated. Please use tf.compat.v1.get_default_session instead.\n",
            "\n",
            "WARNING:tensorflow:From /usr/local/lib/python3.6/dist-packages/keras/backend/tensorflow_backend.py:197: The name tf.ConfigProto is deprecated. Please use tf.compat.v1.ConfigProto instead.\n",
            "\n"
          ],
          "name": "stdout"
        },
        {
          "output_type": "stream",
          "text": [
            "/usr/local/lib/python3.6/dist-packages/keras_applications/mobilenet.py:207: UserWarning: `input_shape` is undefined or non-square, or `rows` is not in [128, 160, 192, 224]. Weights for input shape (224, 224) will be loaded as the default.\n",
            "  warnings.warn('`input_shape` is undefined or non-square, '\n"
          ],
          "name": "stderr"
        },
        {
          "output_type": "stream",
          "text": [
            "WARNING:tensorflow:From /usr/local/lib/python3.6/dist-packages/keras/backend/tensorflow_backend.py:2041: The name tf.nn.fused_batch_norm is deprecated. Please use tf.compat.v1.nn.fused_batch_norm instead.\n",
            "\n",
            "Downloading data from https://github.com/fchollet/deep-learning-models/releases/download/v0.6/mobilenet_1_0_224_tf_no_top.h5\n",
            "17227776/17225924 [==============================] - 0s 0us/step\n"
          ],
          "name": "stdout"
        }
      ]
    },
    {
      "cell_type": "code",
      "metadata": {
        "id": "1Godm8TrjXVU",
        "colab_type": "code",
        "colab": {}
      },
      "source": [
        "x=base_model.output\n",
        "x=GlobalAveragePooling2D()(x)\n",
        "x=Dense(1024,activation='relu')(x)\n",
        "x=Dense(1024,activation='relu')(x)\n",
        "x=Dense(512,activation='relu')(x) \n",
        "preds=Dense(9,activation='softmax')(x)"
      ],
      "execution_count": 0,
      "outputs": []
    },
    {
      "cell_type": "code",
      "metadata": {
        "id": "Zuwus0WPjewp",
        "colab_type": "code",
        "colab": {}
      },
      "source": [
        "model=Model(inputs=base_model.input, outputs=preds)"
      ],
      "execution_count": 0,
      "outputs": []
    },
    {
      "cell_type": "code",
      "metadata": {
        "id": "lqe0DaUPjhw6",
        "colab_type": "code",
        "colab": {}
      },
      "source": [
        "base_model.trainable = False #default"
      ],
      "execution_count": 0,
      "outputs": []
    },
    {
      "cell_type": "code",
      "metadata": {
        "id": "ozZdTe1_jmkS",
        "colab_type": "code",
        "colab": {}
      },
      "source": [
        "train_datagen=ImageDataGenerator(rescale=1./255,\n",
        "                                 shear_range=0.2,\n",
        "                                 zoom_range=0.2,\n",
        "                                 horizontal_flip=True, \n",
        "                                 validation_split=0.2)"
      ],
      "execution_count": 0,
      "outputs": []
    },
    {
      "cell_type": "code",
      "metadata": {
        "id": "F5T00KuMjs_Q",
        "colab_type": "code",
        "outputId": "76fe132b-a183-4d5e-f448-5bf05065359f",
        "colab": {
          "base_uri": "https://localhost:8080/",
          "height": 34
        }
      },
      "source": [
        "train_generator=train_datagen.flow_from_directory('/content/drive/My Drive/NEU-CLS-64', \n",
        "                                                 target_size=(200,200),                                                                                                  batch_size=32,\n",
        "                                                 class_mode='categorical',\n",
        "                                                 shuffle=True,\n",
        "                                                 subset='training')"
      ],
      "execution_count": 9,
      "outputs": [
        {
          "output_type": "stream",
          "text": [
            "Found 5792 images belonging to 9 classes.\n"
          ],
          "name": "stdout"
        }
      ]
    },
    {
      "cell_type": "code",
      "metadata": {
        "id": "4C1reLoV_GaY",
        "colab_type": "code",
        "outputId": "01771403-77af-434e-9b92-8347c9e42539",
        "colab": {
          "base_uri": "https://localhost:8080/",
          "height": 34
        }
      },
      "source": [
        "val_generator=train_datagen.flow_from_directory('/content/drive/My Drive/NEU-CLS-64', \n",
        "                                                 target_size=(200,200),                                                                                                  batch_size=32,\n",
        "                                                 class_mode='categorical',\n",
        "                                                 shuffle=True,\n",
        "                                                 subset='validation')"
      ],
      "execution_count": 10,
      "outputs": [
        {
          "output_type": "stream",
          "text": [
            "Found 1444 images belonging to 9 classes.\n"
          ],
          "name": "stdout"
        }
      ]
    },
    {
      "cell_type": "code",
      "metadata": {
        "id": "2N2Z0TyHj6Hs",
        "colab_type": "code",
        "outputId": "e1b8067b-facd-4c80-8224-bbcb79503f88",
        "colab": {
          "base_uri": "https://localhost:8080/",
          "height": 70
        }
      },
      "source": [
        "model.compile(optimizer='Adam',loss='categorical_crossentropy',metrics=['acc'])"
      ],
      "execution_count": 11,
      "outputs": [
        {
          "output_type": "stream",
          "text": [
            "WARNING:tensorflow:From /usr/local/lib/python3.6/dist-packages/keras/optimizers.py:793: The name tf.train.Optimizer is deprecated. Please use tf.compat.v1.train.Optimizer instead.\n",
            "\n"
          ],
          "name": "stdout"
        }
      ]
    },
    {
      "cell_type": "code",
      "metadata": {
        "id": "TTdkMlU7j-xp",
        "colab_type": "code",
        "colab": {}
      },
      "source": [
        "model.summary()"
      ],
      "execution_count": 0,
      "outputs": []
    },
    {
      "cell_type": "code",
      "metadata": {
        "id": "qpUq__-ZkCyY",
        "colab_type": "code",
        "colab": {
          "base_uri": "https://localhost:8080/",
          "height": 50
        },
        "outputId": "89318b74-e598-45de-9734-b28242aeb41b"
      },
      "source": [
        "step_size_train=train_generator.n//train_generator.batch_size\n",
        "print(step_size_train)\n",
        "step_size_val=val_generator.n//val_generator.batch_size\n",
        "print(step_size_val)"
      ],
      "execution_count": 13,
      "outputs": [
        {
          "output_type": "stream",
          "text": [
            "181\n",
            "45\n"
          ],
          "name": "stdout"
        }
      ]
    },
    {
      "cell_type": "code",
      "metadata": {
        "id": "76fKwHXmkKU0",
        "colab_type": "code",
        "outputId": "efe28c63-0ce7-4a61-945d-190f7ce05dff",
        "colab": {
          "base_uri": "https://localhost:8080/",
          "height": 759
        }
      },
      "source": [
        "history = model.fit_generator(generator=train_generator,\n",
        "                   steps_per_epoch=step_size_train,\n",
        "                   validation_data=val_generator,\n",
        "                   validation_steps=step_size_val,                \n",
        "                   epochs=20)"
      ],
      "execution_count": 14,
      "outputs": [
        {
          "output_type": "stream",
          "text": [
            "WARNING:tensorflow:From /usr/local/lib/python3.6/dist-packages/tensorflow/python/ops/math_grad.py:1250: add_dispatch_support.<locals>.wrapper (from tensorflow.python.ops.array_ops) is deprecated and will be removed in a future version.\n",
            "Instructions for updating:\n",
            "Use tf.where in 2.0, which has the same broadcast rule as np.where\n",
            "Epoch 1/20\n",
            "181/181 [==============================] - 2064s 11s/step - loss: 0.4313 - acc: 0.8764 - val_loss: 3.7337 - val_acc: 0.3618\n",
            "Epoch 2/20\n",
            "181/181 [==============================] - 91s 504ms/step - loss: 0.2716 - acc: 0.9228 - val_loss: 0.9573 - val_acc: 0.7472\n",
            "Epoch 3/20\n",
            "181/181 [==============================] - 91s 502ms/step - loss: 0.2151 - acc: 0.9358 - val_loss: 1.0590 - val_acc: 0.7486\n",
            "Epoch 4/20\n",
            "181/181 [==============================] - 92s 508ms/step - loss: 0.1811 - acc: 0.9423 - val_loss: 0.3640 - val_acc: 0.8598\n",
            "Epoch 5/20\n",
            "181/181 [==============================] - 91s 505ms/step - loss: 0.1649 - acc: 0.9498 - val_loss: 0.5034 - val_acc: 0.8732\n",
            "Epoch 6/20\n",
            "181/181 [==============================] - 92s 507ms/step - loss: 0.1780 - acc: 0.9487 - val_loss: 0.5570 - val_acc: 0.8407\n",
            "Epoch 7/20\n",
            "181/181 [==============================] - 90s 498ms/step - loss: 0.1480 - acc: 0.9544 - val_loss: 0.3517 - val_acc: 0.8860\n",
            "Epoch 8/20\n",
            "181/181 [==============================] - 90s 499ms/step - loss: 0.1653 - acc: 0.9511 - val_loss: 0.3607 - val_acc: 0.9101\n",
            "Epoch 9/20\n",
            "181/181 [==============================] - 91s 503ms/step - loss: 0.1314 - acc: 0.9603 - val_loss: 0.4327 - val_acc: 0.8732\n",
            "Epoch 10/20\n",
            "181/181 [==============================] - 91s 502ms/step - loss: 0.1422 - acc: 0.9641 - val_loss: 0.3367 - val_acc: 0.9306\n",
            "Epoch 11/20\n",
            "181/181 [==============================] - 91s 503ms/step - loss: 0.0949 - acc: 0.9693 - val_loss: 0.2466 - val_acc: 0.9263\n",
            "Epoch 12/20\n",
            "181/181 [==============================] - 91s 500ms/step - loss: 0.0868 - acc: 0.9738 - val_loss: 0.3297 - val_acc: 0.9079\n",
            "Epoch 13/20\n",
            "181/181 [==============================] - 91s 500ms/step - loss: 0.1115 - acc: 0.9644 - val_loss: 0.2639 - val_acc: 0.9299\n",
            "Epoch 14/20\n",
            "181/181 [==============================] - 90s 495ms/step - loss: 0.1149 - acc: 0.9648 - val_loss: 0.6022 - val_acc: 0.8442\n",
            "Epoch 15/20\n",
            "181/181 [==============================] - 90s 496ms/step - loss: 0.1821 - acc: 0.9475 - val_loss: 0.5244 - val_acc: 0.8924\n",
            "Epoch 16/20\n",
            "181/181 [==============================] - 90s 498ms/step - loss: 0.1084 - acc: 0.9682 - val_loss: 0.3104 - val_acc: 0.9221\n",
            "Epoch 17/20\n",
            "181/181 [==============================] - 89s 494ms/step - loss: 0.1083 - acc: 0.9701 - val_loss: 0.3168 - val_acc: 0.8817\n",
            "Epoch 18/20\n",
            "181/181 [==============================] - 91s 500ms/step - loss: 0.0805 - acc: 0.9727 - val_loss: 0.3227 - val_acc: 0.9306\n",
            "Epoch 19/20\n",
            "181/181 [==============================] - 90s 498ms/step - loss: 0.0876 - acc: 0.9738 - val_loss: 0.5216 - val_acc: 0.8718\n",
            "Epoch 20/20\n",
            "181/181 [==============================] - 90s 500ms/step - loss: 0.0980 - acc: 0.9698 - val_loss: 0.4079 - val_acc: 0.9171\n"
          ],
          "name": "stdout"
        }
      ]
    },
    {
      "cell_type": "code",
      "metadata": {
        "id": "QlH5V99Um8-A",
        "colab_type": "code",
        "outputId": "e92bd8c9-bb1e-46ea-8a08-2cff92e87c61",
        "colab": {
          "base_uri": "https://localhost:8080/",
          "height": 34
        }
      },
      "source": [
        "print(history.history.keys())"
      ],
      "execution_count": 15,
      "outputs": [
        {
          "output_type": "stream",
          "text": [
            "dict_keys(['val_loss', 'val_acc', 'loss', 'acc'])\n"
          ],
          "name": "stdout"
        }
      ]
    },
    {
      "cell_type": "code",
      "metadata": {
        "id": "dEy9cmZTm-dj",
        "colab_type": "code",
        "colab": {}
      },
      "source": [
        "acc = history.history['acc']\n",
        "val_acc = history.history['val_acc']\n",
        "\n",
        "loss = history.history['loss']\n",
        "val_loss = history.history['val_loss']"
      ],
      "execution_count": 0,
      "outputs": []
    },
    {
      "cell_type": "code",
      "metadata": {
        "id": "Dr66LKrfnCLj",
        "colab_type": "code",
        "outputId": "11e5bdfe-56b1-424f-bfc7-9fb5654719e5",
        "colab": {
          "base_uri": "https://localhost:8080/",
          "height": 499
        }
      },
      "source": [
        "plt.figure(figsize=(8, 8))\n",
        "plt.subplot(2, 1, 1)\n",
        "plt.plot(acc, label='Training Accuracy')\n",
        "plt.plot(val_acc, label='Validation Accuracy')\n",
        "plt.legend(loc='lower right')\n",
        "plt.ylabel('Accuracy')\n",
        "plt.ylim([0,1])\n",
        "plt.title('Training and Validation Accuracy')\n",
        "\n",
        "plt.subplot(2, 1, 2)\n",
        "plt.plot(loss, label='Training Loss')\n",
        "plt.plot(val_loss, label='Validation Loss')\n",
        "plt.legend(loc='upper right')\n",
        "plt.ylabel('Cross Entropy')\n",
        "plt.ylim([0,max(plt.ylim())])\n",
        "plt.title('Training and Validation Loss')\n",
        "plt.savefig('/content/drive/My Drive/xai_model/TV_AL_80_20_1.jpg')\n",
        "plt.show()\n",
        "\n"
      ],
      "execution_count": 19,
      "outputs": [
        {
          "output_type": "display_data",
          "data": {
            "image/png": "[encoded data removed]",
            "text/plain": [
              "<Figure size 576x576 with 2 Axes>"
            ]
          },
          "metadata": {
            "tags": []
          }
        }
      ]
    },
    {
      "cell_type": "code",
      "metadata": {
        "id": "GfboXjj2DTDI",
        "colab_type": "code",
        "colab": {}
      },
      "source": [
        "model.save('/content/drive/My Drive/xai_model/model.h5')"
      ],
      "execution_count": 0,
      "outputs": []
    },
    {
      "cell_type": "code",
      "metadata": {
        "id": "WxKswvmXEAYz",
        "colab_type": "code",
        "colab": {}
      },
      "source": [
        "model.save_weights('/content/drive/My Drive/xai_model/weights.h5')"
      ],
      "execution_count": 0,
      "outputs": []
    },
    {
      "cell_type": "code",
      "metadata": {
        "id": "z4cholNGP3M6",
        "colab_type": "code",
        "colab": {}
      },
      "source": [
        "#lm = load_model('/content/drive/My Drive/xai_model/model.h5')"
      ],
      "execution_count": 0,
      "outputs": []
    },
    {
      "cell_type": "code",
      "metadata": {
        "id": "4u1WtsP6QkdR",
        "colab_type": "code",
        "colab": {}
      },
      "source": [
        "#lm.summary()"
      ],
      "execution_count": 0,
      "outputs": []
    }
  ]
}