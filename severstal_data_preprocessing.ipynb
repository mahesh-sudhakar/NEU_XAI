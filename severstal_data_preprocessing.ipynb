{
  "nbformat": 4,
  "nbformat_minor": 0,
  "metadata": {
    "colab": {
      "name": "severstal_data_preprocessing.ipynb",
      "provenance": [],
      "collapsed_sections": [],
      "authorship_tag": "ABX9TyMUVPg37PwDxIxkCya42/1x",
      "include_colab_link": true
    },
    "kernelspec": {
      "name": "python3",
      "display_name": "Python 3"
    },
    "accelerator": "GPU"
  },
  "cells": [
    {
      "cell_type": "markdown",
      "metadata": {
        "id": "view-in-github",
        "colab_type": "text"
      },
      "source": [
        "<a href=\"https://colab.research.google.com/github/smahesh2694/NEU_XAI/blob/master/severstal_data_preprocessing.ipynb\" target=\"_parent\"><img src=\"https://colab.research.google.com/assets/colab-badge.svg\" alt=\"Open In Colab\"/></a>"
      ]
    },
    {
      "cell_type": "code",
      "metadata": {
        "id": "sDVBbd605UxB",
        "colab_type": "code",
        "outputId": "f2e58886-38af-4e4a-8138-35af3b2ff511",
        "colab": {
          "base_uri": "https://localhost:8080/",
          "height": 121
        }
      },
      "source": [
        "from google.colab import drive\n",
        "drive.mount('/content/drive')"
      ],
      "execution_count": 1,
      "outputs": [
        {
          "output_type": "stream",
          "text": [
            "Go to this URL in a browser: https://accounts.google.com/o/oauth2/auth?client_id=947318989803-6bn6qk8qdgf4n4g3pfee6491hc0brc4i.apps.googleusercontent.com&redirect_uri=urn%3aietf%3awg%3aoauth%3a2.0%3aoob&response_type=code&scope=email%20https%3a%2f%2fwww.googleapis.com%2fauth%2fdocs.test%20https%3a%2f%2fwww.googleapis.com%2fauth%2fdrive%20https%3a%2f%2fwww.googleapis.com%2fauth%2fdrive.photos.readonly%20https%3a%2f%2fwww.googleapis.com%2fauth%2fpeopleapi.readonly\n",
            "\n",
            "Enter your authorization code:\n",
            "··········\n",
            "Mounted at /content/drive\n"
          ],
          "name": "stdout"
        }
      ]
    },
    {
      "cell_type": "code",
      "metadata": {
        "id": "6iekE_xbZWmW",
        "colab_type": "code",
        "colab": {}
      },
      "source": [
        "import os\n",
        "import cv2\n",
        "import pandas as pd\n",
        "import numpy as np\n",
        "from PIL import Image\n",
        "from tqdm import tqdm\n",
        "import matplotlib.pyplot as plt\n"
      ],
      "execution_count": 0,
      "outputs": []
    },
    {
      "cell_type": "code",
      "metadata": {
        "id": "HMFsQQv5ZWka",
        "colab_type": "code",
        "outputId": "f217c704-1339-4136-9b47-005724dfca84",
        "colab": {
          "base_uri": "https://localhost:8080/",
          "height": 34
        }
      },
      "source": [
        "cd /content/drive/My Drive/Kaggle/severstal-steel-old/saved_images/train"
      ],
      "execution_count": 3,
      "outputs": [
        {
          "output_type": "stream",
          "text": [
            "/content/drive/My Drive/Kaggle/severstal-steel-old/saved_images/train\n"
          ],
          "name": "stdout"
        }
      ]
    },
    {
      "cell_type": "code",
      "metadata": {
        "id": "an6B8Be6ZWei",
        "colab_type": "code",
        "outputId": "08df51bf-7bba-407d-b164-7977f1e8825e",
        "colab": {
          "base_uri": "https://localhost:8080/",
          "height": 34
        }
      },
      "source": [
        "from google.colab.patches import cv2_imshow\n",
        "\n",
        "folder = '2/'\n",
        "files = os.listdir(folder)\n",
        "\n",
        "for imgs in tqdm(range(len(files))):\n",
        "  ip_img_gray = cv2.imread(folder+files[imgs], 0)\n",
        "  # histeq_img = cv2.equalizeHist(ip_img_gray)\n",
        "\n",
        "  '''\n",
        "    Contrast Limited Adaptive Histogram Equalization\n",
        "    https://opencv-python-tutroals.readthedocs.io/en/latest/py_tutorials/py_imgproc/py_histograms/py_histogram_equalization/py_histogram_equalization.html\n",
        "  '''\n",
        "  clahe = cv2.createCLAHE(clipLimit=2.0, tileGridSize=(8,8))  \n",
        "  clahe_img_gray = clahe.apply(ip_img_gray)\n",
        "\n",
        "  ip_img = cv2.cvtColor(ip_img_gray, cv2.COLOR_GRAY2BGR)\n",
        "  clahe_img = cv2.cvtColor(clahe_img_gray, cv2.COLOR_GRAY2BGR)\n",
        "\n",
        "  plt.imsave(\"/content/drive/My Drive/Kaggle/severstal-steel-old/saved_images/augmented/train/2/\"\n",
        "            +\"clahe_\"+str((imgs+1))+\".png\",clahe_img)\n",
        "\n",
        "# fig = plt.figure()\n",
        "# fig.add_subplot(1, 2, 1)\n",
        "# plt.title(\"Original Image\")\n",
        "# plt.imshow(ip_img)\n",
        "# fig.add_subplot(1, 2, 2)\n",
        "# plt.title(\"CLAHE Image\")\n",
        "# plt.imshow(clahe_img)\n"
      ],
      "execution_count": 165,
      "outputs": [
        {
          "output_type": "stream",
          "text": [
            "100%|██████████| 147/147 [00:06<00:00, 21.54it/s]\n"
          ],
          "name": "stderr"
        }
      ]
    },
    {
      "cell_type": "code",
      "metadata": {
        "id": "_WiBHbcjZWVZ",
        "colab_type": "code",
        "outputId": "0321ec6b-ddbc-4101-d767-dcd69683b7e8",
        "colab": {
          "base_uri": "https://localhost:8080/",
          "height": 34
        }
      },
      "source": [
        "from google.colab.patches import cv2_imshow\n",
        "\n",
        "folder = '2/'\n",
        "files = os.listdir(folder)\n",
        "\n",
        "for imgs in tqdm(range(len(files))):\n",
        "  ip_img_gray = cv2.imread(folder+files[imgs], 0)\n",
        "\n",
        "  dummy = np.zeros((ip_img_gray.shape[0], ip_img_gray.shape[1]), dtype='uint8')\n",
        "\n",
        "  min_val = np.min(ip_img_gray)\n",
        "  max_val = np.max(ip_img_gray)\n",
        "\n",
        "  for i in range(ip_img_gray.shape[0]):\n",
        "    for j in range(ip_img_gray.shape[1]):\n",
        "      dummy[i,j] = 255 * ((ip_img_gray[i,j] - min_val) / max_val - min_val)\n",
        "\n",
        "  ip_img = cv2.cvtColor(ip_img_gray, cv2.COLOR_GRAY2BGR)\n",
        "  dummy_rgb = cv2.cvtColor(dummy, cv2.COLOR_GRAY2BGR)\n",
        "\n",
        "  plt.imsave(\"/content/drive/My Drive/Kaggle/severstal-steel-old/saved_images/augmented/train/2/\"\n",
        "            +\"contrast_stretching_\"+str(imgs+1)+\".png\", dummy_rgb)"
      ],
      "execution_count": 166,
      "outputs": [
        {
          "output_type": "stream",
          "text": [
            "100%|██████████| 147/147 [00:36<00:00,  4.09it/s]\n"
          ],
          "name": "stderr"
        }
      ]
    },
    {
      "cell_type": "code",
      "metadata": {
        "id": "mv96POF6ZWQR",
        "colab_type": "code",
        "colab": {}
      },
      "source": [
        "# ip_img = cv2.imread(folder+files[94])\n",
        "\n",
        "# neg_img = 255 - ip_img\n",
        "\n",
        "# fig = plt.figure()\n",
        "# fig.add_subplot(1, 2, 1)\n",
        "# plt.title(\"Original Image\")\n",
        "# plt.imshow(ip_img)\n",
        "# fig.add_subplot(1, 2, 2)\n",
        "# plt.title(\"Negative Image\")\n",
        "# plt.imshow(neg_img)"
      ],
      "execution_count": 0,
      "outputs": []
    },
    {
      "cell_type": "code",
      "metadata": {
        "id": "FZ3GtVX5ZWPX",
        "colab_type": "code",
        "outputId": "ffd9fe13-9f15-4582-f22c-c629f659ec12",
        "colab": {
          "base_uri": "https://localhost:8080/",
          "height": 34
        }
      },
      "source": [
        "folder = '2/'\n",
        "files = os.listdir(folder)\n",
        "\n",
        "for imgs in tqdm(range(len(files))):\n",
        "  ip_img = cv2.imread(folder+files[imgs])\n",
        "\n",
        "  # kernel = np.array([[-1,-1,-1], [-1,9,-1], [-1,-1,-1]])\n",
        "  kernel = np.array([[0,-1,0],[-1,7,-1],[0,-1,0]])\n",
        "  sharp_img = cv2.filter2D(ip_img, -1, kernel)\n",
        "\n",
        "  plt.imsave(\"/content/drive/My Drive/Kaggle/severstal-steel-old/saved_images/augmented/train/2/\"\n",
        "            +\"sharpened_\"+str(imgs+1)+\".png\", sharp_img)"
      ],
      "execution_count": 167,
      "outputs": [
        {
          "output_type": "stream",
          "text": [
            "100%|██████████| 147/147 [00:05<00:00, 25.92it/s]\n"
          ],
          "name": "stderr"
        }
      ]
    },
    {
      "cell_type": "code",
      "metadata": {
        "id": "dqt_HXWr1OUF",
        "colab_type": "code",
        "colab": {
          "base_uri": "https://localhost:8080/",
          "height": 1000
        },
        "outputId": "ef17cd23-d4ea-4914-cc5c-2ca4fc1585aa"
      },
      "source": [
        "from keras.preprocessing.image import ImageDataGenerator, load_img, img_to_array\n",
        "from random import randrange, uniform\n",
        "\n",
        "folder = '2/'\n",
        "files = os.listdir(folder)\n",
        "\n",
        "for trial in tqdm(range(1,6)):\n",
        "  for imgs in tqdm(range(len(files))):\n",
        "    ip_img = cv2.imread(folder+files[imgs])\n",
        "    ip_array = np.array(ip_img)\n",
        "\n",
        "    datagen = ImageDataGenerator()\n",
        "\n",
        "    transform_img = datagen.apply_transform(\n",
        "                                            x = ip_array,\n",
        "                                            transform_parameters =\n",
        "                                                {\n",
        "                                                    'theta' : randrange(0,360,10),\n",
        "                                                    'brightness': round(uniform(0.5,1), 2),\n",
        "                                                    'tx': randrange(-30,30,5),\n",
        "                                                    'ty': randrange(-30,30,5),\n",
        "                                                    'shear': randrange(-25,25,5),\n",
        "                                                    # 'zx': round(uniform(-0.5,0.5),2),\n",
        "                                                    # 'zy': uniform(-0.5,0.5),\n",
        "                                                    'flip_horizontal': (random() < 0.5),  #randomly returns true or false\n",
        "                                                    'flip_vertical': (random() < 0.5)\n",
        "\n",
        "                                                }                                                                                        \n",
        "                                            )\n",
        "    cv2.imwrite(\"/content/drive/My Drive/Kaggle/severstal-steel-old/saved_images/augmented/train/2/\"\n",
        "              +\"random_augment_\"+str(trial)+\"_\"+str(imgs+1)+\".png\", transform_img)\n"
      ],
      "execution_count": 174,
      "outputs": [
        {
          "output_type": "stream",
          "text": [
            "  0%|          | 0/5 [00:00<?, ?it/s]\n",
            "  0%|          | 0/147 [00:00<?, ?it/s]\u001b[A\n",
            "  3%|▎         | 4/147 [00:00<00:03, 37.52it/s]\u001b[A\n",
            "  6%|▌         | 9/147 [00:00<00:03, 38.38it/s]\u001b[A\n",
            "  9%|▉         | 13/147 [00:00<00:03, 38.17it/s]\u001b[A\n",
            " 12%|█▏        | 18/147 [00:00<00:03, 39.20it/s]\u001b[A\n",
            " 15%|█▍        | 22/147 [00:00<00:04, 28.41it/s]\u001b[A\n",
            " 18%|█▊        | 26/147 [00:00<00:03, 30.64it/s]\u001b[A\n",
            " 20%|██        | 30/147 [00:00<00:03, 32.46it/s]\u001b[A\n",
            " 23%|██▎       | 34/147 [00:01<00:03, 33.59it/s]\u001b[A\n",
            " 26%|██▌       | 38/147 [00:01<00:04, 25.96it/s]\u001b[A\n",
            " 29%|██▊       | 42/147 [00:01<00:03, 28.85it/s]\u001b[A\n",
            " 31%|███▏      | 46/147 [00:01<00:03, 30.52it/s]\u001b[A\n",
            " 34%|███▍      | 50/147 [00:01<00:02, 32.67it/s]\u001b[A\n",
            " 37%|███▋      | 54/147 [00:01<00:02, 34.21it/s]\u001b[A\n",
            " 39%|███▉      | 58/147 [00:01<00:03, 26.40it/s]\u001b[A\n",
            " 42%|████▏     | 62/147 [00:02<00:02, 29.03it/s]\u001b[A\n",
            " 45%|████▍     | 66/147 [00:02<00:02, 30.80it/s]\u001b[A\n",
            " 48%|████▊     | 71/147 [00:02<00:02, 33.33it/s]\u001b[A\n",
            " 51%|█████     | 75/147 [00:02<00:02, 25.51it/s]\u001b[A\n",
            " 54%|█████▎    | 79/147 [00:02<00:02, 27.97it/s]\u001b[A\n",
            " 56%|█████▋    | 83/147 [00:02<00:02, 30.25it/s]\u001b[A\n",
            " 60%|█████▉    | 88/147 [00:02<00:01, 32.83it/s]\u001b[A\n",
            " 63%|██████▎   | 92/147 [00:03<00:02, 25.50it/s]\u001b[A\n",
            " 65%|██████▌   | 96/147 [00:03<00:01, 28.32it/s]\u001b[A\n",
            " 68%|██████▊   | 100/147 [00:03<00:01, 30.98it/s]\u001b[A\n",
            " 71%|███████   | 104/147 [00:03<00:01, 33.06it/s]\u001b[A\n",
            " 73%|███████▎  | 108/147 [00:03<00:01, 25.46it/s]\u001b[A\n",
            " 76%|███████▌  | 112/147 [00:03<00:01, 28.04it/s]\u001b[A\n",
            " 79%|███████▉  | 116/147 [00:03<00:01, 30.53it/s]\u001b[A\n",
            " 82%|████████▏ | 120/147 [00:03<00:00, 32.12it/s]\u001b[A\n",
            " 84%|████████▍ | 124/147 [00:04<00:00, 32.48it/s]\u001b[A\n",
            " 87%|████████▋ | 128/147 [00:04<00:00, 25.59it/s]\u001b[A\n",
            " 90%|████████▉ | 132/147 [00:04<00:00, 28.33it/s]\u001b[A\n",
            " 93%|█████████▎| 136/147 [00:04<00:00, 30.52it/s]\u001b[A\n",
            " 95%|█████████▌| 140/147 [00:04<00:00, 32.32it/s]\u001b[A\n",
            " 98%|█████████▊| 144/147 [00:04<00:00, 25.47it/s]\u001b[A\n",
            " 20%|██        | 1/5 [00:04<00:19,  4.93s/it]\n",
            "  0%|          | 0/147 [00:00<?, ?it/s]\u001b[A\n",
            "  3%|▎         | 4/147 [00:00<00:03, 36.81it/s]\u001b[A\n",
            "  5%|▌         | 8/147 [00:00<00:03, 36.50it/s]\u001b[A\n",
            "  8%|▊         | 12/147 [00:00<00:03, 37.13it/s]\u001b[A\n",
            " 10%|█         | 15/147 [00:00<00:05, 24.92it/s]\u001b[A\n",
            " 13%|█▎        | 19/147 [00:00<00:04, 27.38it/s]\u001b[A\n",
            " 16%|█▌        | 23/147 [00:00<00:04, 29.75it/s]\u001b[A\n",
            " 18%|█▊        | 27/147 [00:00<00:03, 31.82it/s]\u001b[A\n",
            " 21%|██        | 31/147 [00:00<00:03, 33.81it/s]\u001b[A\n",
            " 24%|██▍       | 35/147 [00:01<00:04, 26.03it/s]\u001b[A\n",
            " 26%|██▌       | 38/147 [00:01<00:04, 26.30it/s]\u001b[A\n",
            " 29%|██▊       | 42/147 [00:01<00:03, 28.32it/s]\u001b[A\n",
            " 31%|███▏      | 46/147 [00:01<00:03, 30.51it/s]\u001b[A\n",
            " 34%|███▍      | 50/147 [00:01<00:03, 24.39it/s]\u001b[A\n",
            " 37%|███▋      | 54/147 [00:01<00:03, 27.15it/s]\u001b[A\n",
            " 40%|████      | 59/147 [00:02<00:02, 30.21it/s]\u001b[A\n",
            " 43%|████▎     | 63/147 [00:02<00:02, 32.36it/s]\u001b[A\n",
            " 46%|████▌     | 67/147 [00:02<00:03, 25.47it/s]\u001b[A\n",
            " 48%|████▊     | 71/147 [00:02<00:02, 28.15it/s]\u001b[A\n",
            " 51%|█████     | 75/147 [00:02<00:02, 30.16it/s]\u001b[A\n",
            " 54%|█████▎    | 79/147 [00:02<00:02, 32.29it/s]\u001b[A\n",
            " 56%|█████▋    | 83/147 [00:02<00:01, 33.69it/s]\u001b[A\n",
            " 59%|█████▉    | 87/147 [00:02<00:02, 26.79it/s]\u001b[A\n",
            " 62%|██████▏   | 91/147 [00:03<00:01, 28.45it/s]\u001b[A\n",
            " 65%|██████▍   | 95/147 [00:03<00:01, 30.49it/s]\u001b[A\n",
            " 67%|██████▋   | 99/147 [00:03<00:01, 32.23it/s]\u001b[A\n",
            " 70%|███████   | 103/147 [00:03<00:01, 24.86it/s]\u001b[A\n",
            " 73%|███████▎  | 107/147 [00:03<00:01, 27.40it/s]\u001b[A\n",
            " 76%|███████▌  | 111/147 [00:03<00:01, 29.85it/s]\u001b[A\n",
            " 78%|███████▊  | 115/147 [00:03<00:01, 31.32it/s]\u001b[A\n",
            " 81%|████████  | 119/147 [00:04<00:00, 32.81it/s]\u001b[A\n",
            " 84%|████████▎ | 123/147 [00:04<00:00, 25.73it/s]\u001b[A\n",
            " 86%|████████▋ | 127/147 [00:04<00:00, 27.80it/s]\u001b[A\n",
            " 89%|████████▉ | 131/147 [00:04<00:00, 29.87it/s]\u001b[A\n",
            " 92%|█████████▏| 135/147 [00:04<00:00, 31.55it/s]\u001b[A\n",
            " 95%|█████████▍| 139/147 [00:04<00:00, 25.92it/s]\u001b[A\n",
            " 97%|█████████▋| 143/147 [00:04<00:00, 27.48it/s]\u001b[A\n",
            "100%|██████████| 147/147 [00:05<00:00, 28.76it/s]\u001b[A\n",
            " 40%|████      | 2/5 [00:09<00:14,  4.97s/it]\n",
            "  0%|          | 0/147 [00:00<?, ?it/s]\u001b[A\n",
            "  1%|          | 1/147 [00:00<00:20,  7.01it/s]\u001b[A\n",
            "  3%|▎         | 4/147 [00:00<00:16,  8.91it/s]\u001b[A\n",
            "  5%|▍         | 7/147 [00:00<00:14,  9.72it/s]\u001b[A\n",
            "  7%|▋         | 11/147 [00:00<00:11, 12.34it/s]\u001b[A\n",
            " 10%|█         | 15/147 [00:00<00:08, 15.38it/s]\u001b[A\n",
            " 13%|█▎        | 19/147 [00:00<00:06, 18.40it/s]\u001b[A\n",
            " 16%|█▌        | 23/147 [00:00<00:05, 21.52it/s]\u001b[A\n",
            " 18%|█▊        | 26/147 [00:01<00:06, 18.34it/s]\u001b[A\n",
            " 20%|██        | 30/147 [00:01<00:05, 21.37it/s]\u001b[A\n",
            " 23%|██▎       | 34/147 [00:01<00:04, 24.33it/s]\u001b[A\n",
            " 26%|██▌       | 38/147 [00:01<00:04, 26.23it/s]\u001b[A\n",
            " 29%|██▊       | 42/147 [00:01<00:04, 21.67it/s]\u001b[A\n",
            " 31%|███▏      | 46/147 [00:01<00:04, 24.51it/s]\u001b[A\n",
            " 34%|███▍      | 50/147 [00:02<00:03, 26.21it/s]\u001b[A\n",
            " 37%|███▋      | 54/147 [00:02<00:03, 27.76it/s]\u001b[A\n",
            " 39%|███▉      | 58/147 [00:02<00:02, 29.87it/s]\u001b[A\n",
            " 42%|████▏     | 62/147 [00:02<00:03, 23.53it/s]\u001b[A\n",
            " 45%|████▍     | 66/147 [00:02<00:03, 25.91it/s]\u001b[A\n",
            " 48%|████▊     | 70/147 [00:02<00:02, 28.71it/s]\u001b[A\n",
            " 50%|█████     | 74/147 [00:02<00:02, 31.09it/s]\u001b[A\n",
            " 53%|█████▎    | 78/147 [00:03<00:02, 24.37it/s]\u001b[A\n",
            " 56%|█████▌    | 82/147 [00:03<00:02, 26.98it/s]\u001b[A\n",
            " 59%|█████▊    | 86/147 [00:03<00:02, 29.32it/s]\u001b[A\n",
            " 61%|██████    | 90/147 [00:03<00:01, 30.74it/s]\u001b[A\n",
            " 64%|██████▍   | 94/147 [00:03<00:01, 32.56it/s]\u001b[A\n",
            " 67%|██████▋   | 98/147 [00:03<00:01, 24.58it/s]\u001b[A\n",
            " 69%|██████▊   | 101/147 [00:03<00:01, 25.89it/s]\u001b[A\n",
            " 71%|███████▏  | 105/147 [00:04<00:01, 28.32it/s]\u001b[A\n",
            " 74%|███████▍  | 109/147 [00:04<00:01, 28.85it/s]\u001b[A\n",
            " 77%|███████▋  | 113/147 [00:04<00:01, 23.03it/s]\u001b[A\n",
            " 80%|███████▉  | 117/147 [00:04<00:01, 25.40it/s]\u001b[A\n",
            " 82%|████████▏ | 121/147 [00:04<00:00, 27.93it/s]\u001b[A\n",
            " 85%|████████▌ | 125/147 [00:04<00:00, 30.48it/s]\u001b[A\n",
            " 88%|████████▊ | 129/147 [00:04<00:00, 32.23it/s]\u001b[A\n",
            " 90%|█████████ | 133/147 [00:05<00:00, 25.80it/s]\u001b[A\n",
            " 93%|█████████▎| 137/147 [00:05<00:00, 27.49it/s]\u001b[A\n",
            " 96%|█████████▌| 141/147 [00:05<00:00, 29.31it/s]\u001b[A\n",
            " 99%|█████████▊| 145/147 [00:05<00:00, 30.39it/s]\u001b[A\n",
            " 60%|██████    | 3/5 [00:15<00:10,  5.13s/it]\n",
            "  0%|          | 0/147 [00:00<?, ?it/s]\u001b[A\n",
            "  1%|          | 1/147 [00:00<00:22,  6.43it/s]\u001b[A\n",
            "  3%|▎         | 5/147 [00:00<00:16,  8.53it/s]\u001b[A\n",
            "  6%|▌         | 9/147 [00:00<00:12, 11.01it/s]\u001b[A\n",
            "  9%|▉         | 13/147 [00:00<00:09, 13.91it/s]\u001b[A\n",
            " 12%|█▏        | 17/147 [00:00<00:07, 16.81it/s]\u001b[A\n",
            " 14%|█▎        | 20/147 [00:00<00:08, 15.65it/s]\u001b[A\n",
            " 16%|█▋        | 24/147 [00:00<00:06, 19.07it/s]\u001b[A\n",
            " 19%|█▉        | 28/147 [00:01<00:05, 21.93it/s]\u001b[A\n",
            " 22%|██▏       | 32/147 [00:01<00:04, 24.58it/s]\u001b[A\n",
            " 24%|██▍       | 36/147 [00:01<00:04, 26.68it/s]\u001b[A\n",
            " 27%|██▋       | 40/147 [00:01<00:04, 22.40it/s]\u001b[A\n",
            " 30%|██▉       | 44/147 [00:01<00:04, 25.05it/s]\u001b[A\n",
            " 32%|███▏      | 47/147 [00:01<00:03, 25.25it/s]\u001b[A\n",
            " 35%|███▍      | 51/147 [00:02<00:04, 21.84it/s]\u001b[A\n",
            " 38%|███▊      | 56/147 [00:02<00:03, 25.44it/s]\u001b[A\n",
            " 41%|████      | 60/147 [00:02<00:03, 28.43it/s]\u001b[A\n",
            " 44%|████▎     | 64/147 [00:02<00:02, 30.39it/s]\u001b[A\n",
            " 46%|████▋     | 68/147 [00:02<00:02, 31.30it/s]\u001b[A\n",
            " 49%|████▉     | 72/147 [00:02<00:03, 24.64it/s]\u001b[A\n",
            " 52%|█████▏    | 76/147 [00:02<00:02, 27.24it/s]\u001b[A\n",
            " 54%|█████▍    | 80/147 [00:02<00:02, 29.56it/s]\u001b[A\n",
            " 57%|█████▋    | 84/147 [00:03<00:02, 31.46it/s]\u001b[A\n",
            " 60%|█████▉    | 88/147 [00:03<00:02, 24.59it/s]\u001b[A\n",
            " 63%|██████▎   | 92/147 [00:03<00:02, 26.89it/s]\u001b[A\n",
            " 65%|██████▌   | 96/147 [00:03<00:01, 29.36it/s]\u001b[A\n",
            " 68%|██████▊   | 100/147 [00:03<00:01, 30.96it/s]\u001b[A\n",
            " 71%|███████   | 104/147 [00:03<00:01, 24.60it/s]\u001b[A\n",
            " 73%|███████▎  | 108/147 [00:03<00:01, 26.52it/s]\u001b[A\n",
            " 76%|███████▌  | 112/147 [00:04<00:01, 29.20it/s]\u001b[A\n",
            " 79%|███████▉  | 116/147 [00:04<00:00, 31.61it/s]\u001b[A\n",
            " 82%|████████▏ | 120/147 [00:04<00:00, 33.71it/s]\u001b[A\n",
            " 84%|████████▍ | 124/147 [00:04<00:00, 24.95it/s]\u001b[A\n",
            " 87%|████████▋ | 128/147 [00:04<00:00, 27.04it/s]\u001b[A\n",
            " 90%|████████▉ | 132/147 [00:04<00:00, 29.14it/s]\u001b[A\n",
            " 93%|█████████▎| 136/147 [00:04<00:00, 30.94it/s]\u001b[A\n",
            " 95%|█████████▌| 140/147 [00:05<00:00, 25.33it/s]\u001b[A\n",
            " 98%|█████████▊| 144/147 [00:05<00:00, 27.10it/s]\u001b[A\n",
            " 80%|████████  | 4/5 [00:20<00:05,  5.19s/it]\n",
            "  0%|          | 0/147 [00:00<?, ?it/s]\u001b[A\n",
            "  3%|▎         | 5/147 [00:00<00:03, 42.03it/s]\u001b[A\n",
            "  6%|▌         | 9/147 [00:00<00:03, 40.98it/s]\u001b[A\n",
            "  8%|▊         | 12/147 [00:00<00:05, 26.18it/s]\u001b[A\n",
            " 11%|█         | 16/147 [00:00<00:04, 28.94it/s]\u001b[A\n",
            " 14%|█▎        | 20/147 [00:00<00:04, 31.18it/s]\u001b[A\n",
            " 16%|█▋        | 24/147 [00:00<00:03, 32.14it/s]\u001b[A\n",
            " 19%|█▉        | 28/147 [00:00<00:03, 33.84it/s]\u001b[A\n",
            " 22%|██▏       | 32/147 [00:01<00:04, 25.06it/s]\u001b[A\n",
            " 24%|██▍       | 36/147 [00:01<00:04, 26.67it/s]\u001b[A\n",
            " 27%|██▋       | 40/147 [00:01<00:03, 29.15it/s]\u001b[A\n",
            " 31%|███       | 45/147 [00:01<00:03, 32.02it/s]\u001b[A\n",
            " 33%|███▎      | 49/147 [00:01<00:03, 25.28it/s]\u001b[A\n",
            " 36%|███▌      | 53/147 [00:01<00:03, 28.08it/s]\u001b[A\n",
            " 39%|███▉      | 57/147 [00:01<00:03, 27.47it/s]\u001b[A\n",
            " 41%|████▏     | 61/147 [00:02<00:04, 18.37it/s]\u001b[A\n",
            " 45%|████▍     | 66/147 [00:02<00:03, 22.19it/s]\u001b[A\n",
            " 48%|████▊     | 71/147 [00:02<00:02, 25.76it/s]\u001b[A\n",
            " 51%|█████     | 75/147 [00:02<00:02, 28.39it/s]\u001b[A\n",
            " 54%|█████▎    | 79/147 [00:02<00:02, 23.21it/s]\u001b[A\n",
            " 56%|█████▋    | 83/147 [00:03<00:02, 26.38it/s]\u001b[A\n",
            " 59%|█████▉    | 87/147 [00:03<00:02, 29.33it/s]\u001b[A\n",
            " 62%|██████▏   | 91/147 [00:03<00:01, 30.20it/s]\u001b[A\n",
            " 65%|██████▍   | 95/147 [00:03<00:01, 28.22it/s]\u001b[A\n",
            " 67%|██████▋   | 99/147 [00:03<00:01, 30.44it/s]\u001b[A\n",
            " 70%|███████   | 103/147 [00:03<00:01, 32.15it/s]\u001b[A\n",
            " 73%|███████▎  | 107/147 [00:03<00:01, 33.44it/s]\u001b[A\n",
            " 76%|███████▌  | 111/147 [00:03<00:01, 34.70it/s]\u001b[A\n",
            " 78%|███████▊  | 115/147 [00:04<00:01, 25.88it/s]\u001b[A\n",
            " 81%|████████  | 119/147 [00:04<00:01, 27.60it/s]\u001b[A\n",
            " 84%|████████▎ | 123/147 [00:04<00:00, 28.00it/s]\u001b[A\n",
            " 86%|████████▋ | 127/147 [00:04<00:00, 30.67it/s]\u001b[A\n",
            " 89%|████████▉ | 131/147 [00:04<00:00, 24.29it/s]\u001b[A\n",
            " 92%|█████████▏| 135/147 [00:04<00:00, 27.06it/s]\u001b[A\n",
            " 95%|█████████▍| 139/147 [00:04<00:00, 29.54it/s]\u001b[A\n",
            " 97%|█████████▋| 143/147 [00:05<00:00, 31.15it/s]\u001b[A\n",
            "100%|██████████| 147/147 [00:05<00:00, 24.86it/s]\u001b[A\n",
            "100%|██████████| 5/5 [00:26<00:00,  5.22s/it]\n"
          ],
          "name": "stderr"
        }
      ]
    },
    {
      "cell_type": "code",
      "metadata": {
        "id": "fDDQJhOHJ5Ly",
        "colab_type": "code",
        "colab": {}
      },
      "source": [
        ""
      ],
      "execution_count": 0,
      "outputs": []
    },
    {
      "cell_type": "code",
      "metadata": {
        "id": "EqmFmGYsJ5I2",
        "colab_type": "code",
        "colab": {}
      },
      "source": [
        ""
      ],
      "execution_count": 0,
      "outputs": []
    },
    {
      "cell_type": "code",
      "metadata": {
        "id": "eY9Ge2lfJ5GP",
        "colab_type": "code",
        "colab": {}
      },
      "source": [
        ""
      ],
      "execution_count": 0,
      "outputs": []
    },
    {
      "cell_type": "code",
      "metadata": {
        "id": "WkISffDcJ5Dh",
        "colab_type": "code",
        "colab": {}
      },
      "source": [
        ""
      ],
      "execution_count": 0,
      "outputs": []
    },
    {
      "cell_type": "code",
      "metadata": {
        "id": "eBkLOgxs2Rha",
        "colab_type": "code",
        "colab": {}
      },
      "source": [
        ""
      ],
      "execution_count": 0,
      "outputs": []
    },
    {
      "cell_type": "code",
      "metadata": {
        "id": "-igw5Uh71X1t",
        "colab_type": "code",
        "outputId": "a5ba5996-c764-4b02-ebab-59a3e8959149",
        "colab": {
          "base_uri": "https://localhost:8080/",
          "height": 233
        }
      },
      "source": [
        "from skimage.metrics import structural_similarity as ssim\n",
        "\n",
        "ip_img_1 = cv2.imread(folder+files[44])\n",
        "ip_img_2 = cv2.imread(folder+files[16])\n",
        "\n",
        "fig = plt.figure()\n",
        "fig.add_subplot(1,2,1)\n",
        "plt.title(\"Input image 1\")\n",
        "plt.imshow(ip_img_1)\n",
        "fig.add_subplot(1,2,2)\n",
        "plt.title(\"Input image 2\")\n",
        "plt.imshow(ip_img_2)\n",
        "\n",
        "score, diff = ssim(ip_img_1, ip_img_2, multichannel=True, full = True)\n",
        "'''\n",
        "    @returns:\n",
        "    {float} a float {-1:1} that measures structural similarity\n",
        "      between the input images\n",
        "'''\n",
        "print(\"Structural Similarity : %0.4f\" %score)\n",
        "\n",
        "# diff = (diff * 255).astype(\"uint8\")\n",
        "# cv2_imshow(diff)\n"
      ],
      "execution_count": 0,
      "outputs": [
        {
          "output_type": "stream",
          "text": [
            "Structural Similarity : 0.2078\n"
          ],
          "name": "stdout"
        },
        {
          "output_type": "display_data",
          "data": {
            "image/png": "[encoded data removed]",
            "text/plain": [
              "<Figure size 432x288 with 2 Axes>"
            ]
          },
          "metadata": {
            "tags": []
          }
        }
      ]
    },
    {
      "cell_type": "code",
      "metadata": {
        "id": "ydIqMy631Xxl",
        "colab_type": "code",
        "outputId": "6834b767-75de-4eef-bc88-60e1ba01203f",
        "colab": {
          "base_uri": "https://localhost:8080/",
          "height": 34
        }
      },
      "source": [
        "from scipy.stats import wasserstein_distance\n",
        "\n",
        "img_a = cv2.imread(folder+files[44],0)\n",
        "img_b = cv2.imread(folder+files[16],0)\n",
        "\n",
        "'''\n",
        "  hist is a 256x1 array, each value corresponds to number of pixels in that image with its corresponding pixel value.\n",
        "'''\n",
        "hist_a = cv2.calcHist([img_a],[0],None,[256],[0,256])\n",
        "hist_b = cv2.calcHist([img_b],[0],None,[256],[0,256])\n",
        "\n",
        "'''\n",
        "  Computes the first Wasserstein distance between two 1D distributions.\n",
        "'''\n",
        "wd = wasserstein_distance(np.ravel(hist_a), np.ravel(hist_b))\n",
        "print(\"Wasserstein Distance : %0.4f\" %wd)"
      ],
      "execution_count": 0,
      "outputs": [
        {
          "output_type": "stream",
          "text": [
            "Wasserstein Distance : 75.6484\n"
          ],
          "name": "stdout"
        }
      ]
    },
    {
      "cell_type": "code",
      "metadata": {
        "id": "sjuKHk8XPEdI",
        "colab_type": "code",
        "outputId": "ca0ef108-93d9-4f7c-8727-3eec2964a749",
        "colab": {
          "base_uri": "https://localhost:8080/",
          "height": 34
        }
      },
      "source": [
        "from scipy.stats import wasserstein_distance\n",
        "\n",
        "def get_histogram(img):\n",
        "  '''\n",
        "  Get the histogram of an image. For an 8-bit, grayscale image, the\n",
        "  histogram will be a 256 unit vector in which the nth value indicates\n",
        "  the percent of the pixels in the image with the given darkness level.\n",
        "  The histogram's values sum to 1.\n",
        "  '''\n",
        "  h, w = img.shape\n",
        "  hist = [0.0] * 256\n",
        "  for i in range(h):\n",
        "    for j in range(w):\n",
        "      hist[img[i, j]] += 1\n",
        "  return np.array(hist) / (h * w) \n",
        "\n",
        "img_a = cv2.imread(folder+files[44],0)\n",
        "img_b = cv2.imread(folder+files[16],0)\n",
        "\n",
        "hist_a = get_histogram(img_a)\n",
        "hist_b = get_histogram(img_b)\n",
        "wd = wasserstein_distance(hist_a, hist_b)\n",
        "print(wd)"
      ],
      "execution_count": 0,
      "outputs": [
        {
          "output_type": "stream",
          "text": [
            "0.0011543035507202148\n"
          ],
          "name": "stdout"
        }
      ]
    },
    {
      "cell_type": "code",
      "metadata": {
        "id": "IbzeXttBPEbx",
        "colab_type": "code",
        "colab": {}
      },
      "source": [
        ""
      ],
      "execution_count": 0,
      "outputs": []
    },
    {
      "cell_type": "code",
      "metadata": {
        "id": "CxzQSTgcPEYZ",
        "colab_type": "code",
        "colab": {}
      },
      "source": [
        ""
      ],
      "execution_count": 0,
      "outputs": []
    },
    {
      "cell_type": "code",
      "metadata": {
        "id": "H5bZK-JCPEWH",
        "colab_type": "code",
        "colab": {}
      },
      "source": [
        ""
      ],
      "execution_count": 0,
      "outputs": []
    }
  ]
}