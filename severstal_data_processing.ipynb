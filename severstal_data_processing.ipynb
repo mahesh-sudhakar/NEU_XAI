{
  "nbformat": 4,
  "nbformat_minor": 0,
  "metadata": {
    "colab": {
      "name": "severstal_data_processing.ipynb",
      "provenance": [],
      "collapsed_sections": [],
      "include_colab_link": true
    },
    "kernelspec": {
      "name": "python3",
      "display_name": "Python 3"
    },
    "accelerator": "GPU"
  },
  "cells": [
    {
      "cell_type": "markdown",
      "metadata": {
        "id": "view-in-github",
        "colab_type": "text"
      },
      "source": [
        "<a href=\"https://colab.research.google.com/github/smahesh2694/NEU_XAI/blob/master/severstal_data_processing.ipynb\" target=\"_parent\"><img src=\"https://colab.research.google.com/assets/colab-badge.svg\" alt=\"Open In Colab\"/></a>"
      ]
    },
    {
      "cell_type": "code",
      "metadata": {
        "id": "oKhhqsaITP5n",
        "colab_type": "code",
        "outputId": "c2daf9cd-d129-4bf2-cc62-db4ab6338bdd",
        "colab": {
          "base_uri": "https://localhost:8080/",
          "height": 34
        }
      },
      "source": [
        "from google.colab import drive\n",
        "drive.mount('/content/drive')"
      ],
      "execution_count": 7,
      "outputs": [
        {
          "output_type": "stream",
          "text": [
            "Drive already mounted at /content/drive; to attempt to forcibly remount, call drive.mount(\"/content/drive\", force_remount=True).\n"
          ],
          "name": "stdout"
        }
      ]
    },
    {
      "cell_type": "code",
      "metadata": {
        "id": "wDX26c4L_lTN",
        "colab_type": "code",
        "colab": {}
      },
      "source": [
        "import os\n",
        "from tqdm import tqdm\n",
        "import pandas as pd\n",
        "import numpy as np\n",
        "from PIL import Image\n",
        "import pickle\n",
        "\n",
        "import time "
      ],
      "execution_count": 0,
      "outputs": []
    },
    {
      "cell_type": "code",
      "metadata": {
        "id": "WykhnQiAsJpD",
        "colab_type": "code",
        "colab": {}
      },
      "source": [
        "sz = (1600, 256) #size of input images\n",
        "sz0 = 256\n",
        "MASKS = '/content/drive/My Drive/Kaggle/severstal-steel-old/train.csv'\n",
        "IMAGES = '/content/drive/My Drive/Kaggle/severstal-steel-old/images/train_images/'          #test or train\n",
        "\n",
        "def enc2mask(encs, shape=(1600,256)):\n",
        "    img = np.zeros(shape[0]*shape[1], dtype=np.uint8)\n",
        "    for m,enc in enumerate(encs):\n",
        "        if isinstance(enc,np.float) and np.isnan(enc): continue\n",
        "        s = enc.split()\n",
        "        for i in range(len(s)//2):\n",
        "            start = int(s[2*i]) - 1\n",
        "            length = int(s[2*i+1])\n",
        "            img[start:start+length] = 1 + m\n",
        "    return img.reshape(shape).T"
      ],
      "execution_count": 0,
      "outputs": []
    },
    {
      "cell_type": "code",
      "metadata": {
        "id": "wuvqFF8FsJnk",
        "colab_type": "code",
        "outputId": "1bbd6d96-3978-41b8-83d7-c00a7e34382d",
        "colab": {
          "base_uri": "https://localhost:8080/",
          "height": 34
        }
      },
      "source": [
        "df_masks = pd.read_csv(MASKS)\n",
        "split_df = df_masks['ImageId_ClassId'].str.split('_', n=1, expand=True)\n",
        "df_masks['Image'] = split_df[0]\n",
        "normal_data = []\n",
        "multi = []\n",
        "for image_code in tqdm(df_masks.Image.unique()):\n",
        "    if df_masks.groupby(['Image']).EncodedPixels.count().loc[image_code] == 0:\n",
        "        normal_data.append(image_code)\n",
        "    elif df_masks.groupby(['Image']).EncodedPixels.count().loc[image_code] > 1:\n",
        "        multi.append(image_code)"
      ],
      "execution_count": 10,
      "outputs": [
        {
          "output_type": "stream",
          "text": [
            "100%|██████████| 12568/12568 [03:55<00:00, 53.46it/s]\n"
          ],
          "name": "stderr"
        }
      ]
    },
    {
      "cell_type": "code",
      "metadata": {
        "id": "RRopwnNVilfH",
        "colab_type": "code",
        "colab": {
          "base_uri": "https://localhost:8080/",
          "height": 34
        },
        "outputId": "b81615e9-ffc6-435b-d5cc-40835b5577d5"
      },
      "source": [
        "len(normal_data)"
      ],
      "execution_count": 13,
      "outputs": [
        {
          "output_type": "execute_result",
          "data": {
            "text/plain": [
              "5902"
            ]
          },
          "metadata": {
            "tags": []
          },
          "execution_count": 13
        }
      ]
    },
    {
      "cell_type": "code",
      "metadata": {
        "id": "q_PTowyysJmC",
        "colab_type": "code",
        "colab": {}
      },
      "source": [
        "df_masks = pd.read_csv(MASKS)\n",
        "df_masks['id'] = [id[:-2] for id in df_masks.ImageId_ClassId]\n",
        "df_masks = pd.DataFrame(df_masks.groupby('id')['EncodedPixels'].apply(list))\n",
        "\n",
        "fnames = os.listdir(IMAGES)\n",
        "n_crops = 6\n",
        "offsets = [32 + sz0*i for i in range(n_crops)]"
      ],
      "execution_count": 0,
      "outputs": []
    },
    {
      "cell_type": "code",
      "metadata": {
        "id": "pFm56mkIjBQI",
        "colab_type": "code",
        "colab": {
          "base_uri": "https://localhost:8080/",
          "height": 34
        },
        "outputId": "80287b78-a0c7-4d8e-f54e-43c9d500170a"
      },
      "source": [
        "offsets"
      ],
      "execution_count": 18,
      "outputs": [
        {
          "output_type": "execute_result",
          "data": {
            "text/plain": [
              "[32, 288, 544, 800, 1056, 1312]"
            ]
          },
          "metadata": {
            "tags": []
          },
          "execution_count": 18
        }
      ]
    },
    {
      "cell_type": "code",
      "metadata": {
        "id": "Nf_uI7imjPsQ",
        "colab_type": "code",
        "colab": {
          "base_uri": "https://localhost:8080/",
          "height": 431
        },
        "outputId": "c8f12f74-71ed-4944-9aa5-10eed4746945"
      },
      "source": [
        "df_masks"
      ],
      "execution_count": 19,
      "outputs": [
        {
          "output_type": "execute_result",
          "data": {
            "text/html": [
              "<div>\n",
              "<style scoped>\n",
              "    .dataframe tbody tr th:only-of-type {\n",
              "        vertical-align: middle;\n",
              "    }\n",
              "\n",
              "    .dataframe tbody tr th {\n",
              "        vertical-align: top;\n",
              "    }\n",
              "\n",
              "    .dataframe thead th {\n",
              "        text-align: right;\n",
              "    }\n",
              "</style>\n",
              "<table border=\"1\" class=\"dataframe\">\n",
              "  <thead>\n",
              "    <tr style=\"text-align: right;\">\n",
              "      <th></th>\n",
              "      <th>EncodedPixels</th>\n",
              "    </tr>\n",
              "    <tr>\n",
              "      <th>id</th>\n",
              "      <th></th>\n",
              "    </tr>\n",
              "  </thead>\n",
              "  <tbody>\n",
              "    <tr>\n",
              "      <th>0002cc93b.jpg</th>\n",
              "      <td>[29102 12 29346 24 29602 24 29858 24 30114 24 ...</td>\n",
              "    </tr>\n",
              "    <tr>\n",
              "      <th>00031f466.jpg</th>\n",
              "      <td>[nan, nan, nan, nan]</td>\n",
              "    </tr>\n",
              "    <tr>\n",
              "      <th>000418bfc.jpg</th>\n",
              "      <td>[nan, nan, nan, nan]</td>\n",
              "    </tr>\n",
              "    <tr>\n",
              "      <th>000789191.jpg</th>\n",
              "      <td>[nan, nan, nan, nan]</td>\n",
              "    </tr>\n",
              "    <tr>\n",
              "      <th>0007a71bf.jpg</th>\n",
              "      <td>[nan, nan, 18661 28 18863 82 19091 110 19347 1...</td>\n",
              "    </tr>\n",
              "    <tr>\n",
              "      <th>...</th>\n",
              "      <td>...</td>\n",
              "    </tr>\n",
              "    <tr>\n",
              "      <th>fff0295e1.jpg</th>\n",
              "      <td>[nan, nan, nan, nan]</td>\n",
              "    </tr>\n",
              "    <tr>\n",
              "      <th>fff02e9c5.jpg</th>\n",
              "      <td>[nan, nan, 207523 3 207777 9 208030 15 208283 ...</td>\n",
              "    </tr>\n",
              "    <tr>\n",
              "      <th>fffe98443.jpg</th>\n",
              "      <td>[nan, nan, 105929 5 106177 14 106424 24 106672...</td>\n",
              "    </tr>\n",
              "    <tr>\n",
              "      <th>ffff4eaa8.jpg</th>\n",
              "      <td>[nan, nan, 16899 7 17155 20 17411 34 17667 47 ...</td>\n",
              "    </tr>\n",
              "    <tr>\n",
              "      <th>ffffd67df.jpg</th>\n",
              "      <td>[nan, nan, 30931 43 31103 127 31275 211 31489 ...</td>\n",
              "    </tr>\n",
              "  </tbody>\n",
              "</table>\n",
              "<p>12568 rows × 1 columns</p>\n",
              "</div>"
            ],
            "text/plain": [
              "                                                   EncodedPixels\n",
              "id                                                              \n",
              "0002cc93b.jpg  [29102 12 29346 24 29602 24 29858 24 30114 24 ...\n",
              "00031f466.jpg                               [nan, nan, nan, nan]\n",
              "000418bfc.jpg                               [nan, nan, nan, nan]\n",
              "000789191.jpg                               [nan, nan, nan, nan]\n",
              "0007a71bf.jpg  [nan, nan, 18661 28 18863 82 19091 110 19347 1...\n",
              "...                                                          ...\n",
              "fff0295e1.jpg                               [nan, nan, nan, nan]\n",
              "fff02e9c5.jpg  [nan, nan, 207523 3 207777 9 208030 15 208283 ...\n",
              "fffe98443.jpg  [nan, nan, 105929 5 106177 14 106424 24 106672...\n",
              "ffff4eaa8.jpg  [nan, nan, 16899 7 17155 20 17411 34 17667 47 ...\n",
              "ffffd67df.jpg  [nan, nan, 30931 43 31103 127 31275 211 31489 ...\n",
              "\n",
              "[12568 rows x 1 columns]"
            ]
          },
          "metadata": {
            "tags": []
          },
          "execution_count": 19
        }
      ]
    },
    {
      "cell_type": "code",
      "metadata": {
        "id": "3iSKQ-OHjUWI",
        "colab_type": "code",
        "colab": {
          "base_uri": "https://localhost:8080/",
          "height": 34
        },
        "outputId": "acce3312-bc41-4b76-adb6-fa3497d9a985"
      },
      "source": [
        "len(fnames)"
      ],
      "execution_count": 24,
      "outputs": [
        {
          "output_type": "execute_result",
          "data": {
            "text/plain": [
              "12568"
            ]
          },
          "metadata": {
            "tags": []
          },
          "execution_count": 24
        }
      ]
    },
    {
      "cell_type": "code",
      "metadata": {
        "id": "TXplEI7UsJkU",
        "colab_type": "code",
        "colab": {
          "base_uri": "https://localhost:8080/",
          "height": 34
        },
        "outputId": "fbc5bb2f-bfff-410a-a1d8-543d3508f031"
      },
      "source": [
        "datadict = dict()\n",
        "datadict['0'] = []\n",
        "datadict['1'] = []\n",
        "datadict['2'] = []\n",
        "datadict['3'] = []\n",
        "datadict['4'] = []\n",
        "f = open('/content/drive/My Drive/Kaggle/severstal-steel-old/black_image.txt', 'w')\n",
        "count = 0\n",
        "for fname in tqdm(fnames[:100]):\n",
        "    if '.jpg' not in fname:\n",
        "        continue\n",
        "    img0 = Image.open(os.path.join(IMAGES, fname))\n",
        "    img0 = np.asarray(img0)\n",
        "    if fname in normal_data:\n",
        "        normal_data.remove(fname)\n",
        "        r = np.random.randint(0,n_crops)\n",
        "        img = img0[:, offsets[r] : offsets[r]+sz0, :]\n",
        "        if img.mean() < 5 and img.std() < 5:\n",
        "            f.write(fname+'\\n')\n",
        "            count += 1\n",
        "            continue\n",
        "        img = img.reshape([sz0*sz0*3])\n",
        "        datadict['0'].append(img)\n",
        "        continue\n",
        "    elif fname in multi:\n",
        "        continue\n",
        "        \n",
        "    mask0 = enc2mask(df_masks.loc[fname].EncodedPixels)\n",
        "    \n",
        "    for i in range(n_crops):\n",
        "        img = img0[:, offsets[i] : offsets[i]+sz0, :]\n",
        "        if img.mean() < 5 and img.std() < 5:\n",
        "            f.write(fname+'\\n')\n",
        "            count += 1\n",
        "            continue\n",
        "        img = img.reshape([sz0*sz0*3])\n",
        "        mask = mask0[:, offsets[i]:offsets[i]+sz0]\n",
        "        lab = []\n",
        "        for v in range(1,5):\n",
        "            lab.append(list(mask.flat).count(v))\n",
        "        if mask.max() == 0:\n",
        "            datadict['0'].append(img)\n",
        "        else:\n",
        "            datadict[str(np.argmax(lab)+1)].append(img)\n",
        "f.write(str(count))\n",
        "f.close() "
      ],
      "execution_count": 25,
      "outputs": [
        {
          "output_type": "stream",
          "text": [
            "100%|██████████| 100/100 [02:25<00:00,  1.24s/it]\n"
          ],
          "name": "stderr"
        }
      ]
    },
    {
      "cell_type": "code",
      "metadata": {
        "id": "lnA9bmgNsJf7",
        "colab_type": "code",
        "colab": {}
      },
      "source": [
        "train_dict = dict()\n",
        "test_dict = dict()\n",
        "for k,v in datadict.items():\n",
        "    num_data = len(v)\n",
        "    global_idx = np.arange(num_data)\n",
        "    np.random.shuffle(global_idx)\n",
        "    train_idx = global_idx[:int(num_data*0.7)]\n",
        "    test_idx = global_idx[int(num_data*0.7):]\n",
        "    train_dict[k] = np.array(v)[train_idx]\n",
        "    test_dict[k] = np.array(v)[test_idx]"
      ],
      "execution_count": 0,
      "outputs": []
    },
    {
      "cell_type": "code",
      "metadata": {
        "id": "4I_ihBG7lEuW",
        "colab_type": "code",
        "colab": {
          "base_uri": "https://localhost:8080/",
          "height": 34
        },
        "outputId": "94ce1f37-47f5-42b6-d147-1f57a728d99c"
      },
      "source": [
        "test_idx"
      ],
      "execution_count": 31,
      "outputs": [
        {
          "output_type": "execute_result",
          "data": {
            "text/plain": [
              "array([ 2,  9,  4,  3, 11])"
            ]
          },
          "metadata": {
            "tags": []
          },
          "execution_count": 31
        }
      ]
    },
    {
      "cell_type": "code",
      "metadata": {
        "id": "nyxxQIHRsJcw",
        "colab_type": "code",
        "colab": {}
      },
      "source": [
        "train = dict()\n",
        "test = dict()\n",
        "train['data'] = []\n",
        "train['label'] = []\n",
        "test['data'] = []\n",
        "test['label'] = []\n",
        "\n",
        "for k,v in train_dict.items():\n",
        "    for img in v:\n",
        "        train['data'].append(img)\n",
        "        train['label'].append(int(k))\n",
        "train['data'] = np.array(train['data'])\n",
        "train['label'] = np.array(train['label'])"
      ],
      "execution_count": 0,
      "outputs": []
    },
    {
      "cell_type": "code",
      "metadata": {
        "id": "BWf4F3zhlckQ",
        "colab_type": "code",
        "colab": {
          "base_uri": "https://localhost:8080/",
          "height": 34
        },
        "outputId": "5a24e6dc-fef5-40e1-b887-1ae955396e16"
      },
      "source": [
        "len(train['label'])"
      ],
      "execution_count": 36,
      "outputs": [
        {
          "output_type": "execute_result",
          "data": {
            "text/plain": [
              "212"
            ]
          },
          "metadata": {
            "tags": []
          },
          "execution_count": 36
        }
      ]
    },
    {
      "cell_type": "code",
      "metadata": {
        "id": "te_pTIemsJZh",
        "colab_type": "code",
        "colab": {}
      },
      "source": [
        "for k,v in test_dict.items():\n",
        "    for img in v:\n",
        "        test['data'].append(img)\n",
        "        test['label'].append(int(k))\n",
        "test['data'] = np.array(test['data'])\n",
        "test['label'] = np.array(test['label'])"
      ],
      "execution_count": 0,
      "outputs": []
    },
    {
      "cell_type": "code",
      "metadata": {
        "id": "pgXRFxb3sJVH",
        "colab_type": "code",
        "colab": {}
      },
      "source": [
        "# pickling the array\n",
        "train_file = open('/content/drive/My Drive/Kaggle/severstal-steel-old/new/train_uni', 'wb')\n",
        "pickle.dump(train, train_file, protocol=pickle.HIGHEST_PROTOCOL)\n",
        "train_file.close()\n",
        "test_file = open('/content/drive/My Drive/Kaggle/severstal-steel-old/new/test_uni', 'wb')\n",
        "pickle.dump(test, test_file, protocol=pickle.HIGHEST_PROTOCOL)\n",
        "test_file.close()"
      ],
      "execution_count": 0,
      "outputs": []
    },
    {
      "cell_type": "code",
      "metadata": {
        "id": "73KA_aPFsJPn",
        "colab_type": "code",
        "colab": {}
      },
      "source": [
        "info = open('/content/drive/My Drive/Kaggle/severstal-steel-old/new/uni_info.txt', 'w')\n",
        "s = '0: '+str(len(datadict['0']))+'\\t1: '+str(len(datadict['1']))+'\\t2: '+str(len(datadict['2']))+'\\t3: '+str(len(datadict['3']))+'\\t4: '+str(len(datadict['4']))\n",
        "info.write(s)\n",
        "info.close()"
      ],
      "execution_count": 0,
      "outputs": []
    },
    {
      "cell_type": "code",
      "metadata": {
        "id": "DFPmWMxkfnR_",
        "colab_type": "code",
        "colab": {
          "base_uri": "https://localhost:8080/",
          "height": 50
        },
        "outputId": "32b33bbf-794b-48d2-d45c-b839a574f186"
      },
      "source": [
        "_X = np.array(train['data'])\n",
        "_Y = np.array(train['label'])\n",
        "\n",
        "assert _X.shape[0] == _Y.shape[0]\n",
        "datadict = dict()\n",
        "for i in range(5):\n",
        "    datadict[str(i)]=[]\n",
        "\n",
        "for d, l in tqdm(zip(_X, _Y)):\n",
        "    datadict[str(l)].append(d)\n",
        "\n",
        "for k, v in tqdm(datadict.items()):\n",
        "    fname = '/content/drive/My Drive/Kaggle/severstal-steel-old/new/unilabel_train_'+ k\n",
        "    f = open(fname, 'wb')\n",
        "    pickle.dump(np.array(v), f, protocol=pickle.HIGHEST_PROTOCOL)\n",
        "    f.close()"
      ],
      "execution_count": 40,
      "outputs": [
        {
          "output_type": "stream",
          "text": [
            "212it [00:00, 209074.17it/s]\n",
            "100%|██████████| 5/5 [00:00<00:00, 35.38it/s]\n"
          ],
          "name": "stderr"
        }
      ]
    },
    {
      "cell_type": "code",
      "metadata": {
        "id": "eQxUtjwafnQY",
        "colab_type": "code",
        "colab": {
          "base_uri": "https://localhost:8080/",
          "height": 50
        },
        "outputId": "7225286f-f66f-418d-e4cc-1c6106237b76"
      },
      "source": [
        "_X = np.array(test['data'])\n",
        "_Y = np.array(test['label'])\n",
        "\n",
        "assert _X.shape[0] == _Y.shape[0]\n",
        "datadict = dict()\n",
        "for i in range(5):\n",
        "    datadict[str(i)]=[]\n",
        "\n",
        "for d, l in tqdm(zip(_X, _Y)):\n",
        "    datadict[str(l)].append(d)\n",
        "\n",
        "for k, v in tqdm(datadict.items()):\n",
        "    fname = '/content/drive/My Drive/Kaggle/severstal-steel-old/new/unilabel_test_'+ k\n",
        "    f = open(fname, 'wb')\n",
        "    pickle.dump(np.array(v), f, protocol=pickle.HIGHEST_PROTOCOL)\n",
        "    f.close()"
      ],
      "execution_count": 41,
      "outputs": [
        {
          "output_type": "stream",
          "text": [
            "94it [00:00, 47801.23it/s]\n",
            "100%|██████████| 5/5 [00:00<00:00, 62.78it/s]\n"
          ],
          "name": "stderr"
        }
      ]
    },
    {
      "cell_type": "code",
      "metadata": {
        "id": "94vskpAifnOJ",
        "colab_type": "code",
        "colab": {
          "base_uri": "https://localhost:8080/",
          "height": 101
        },
        "outputId": "def91d23-27fa-453b-fc19-ebee60ba82e1"
      },
      "source": [
        "chunk = dict()\n",
        "chunk['0']=8\n",
        "chunk['3']=3\n",
        "\n",
        "for i in range(5):\n",
        "    fname = '/content/drive/My Drive/Kaggle/severstal-steel-old/new/unilabel_train_'+ str(i)\n",
        "    f = open(fname, 'rb')\n",
        "    data = pickle.load(f)\n",
        "    f.close()\n",
        "    f = open('/content/drive/My Drive/Kaggle/severstal-steel-old/new/chunked_unilabel_train_'+ str(i), 'wb')\n",
        "    if i == 1 or i == 2 or i == 4:\n",
        "        print ('label ', i, 'has of length', data.shape[0])\n",
        "        pickle.dump(data, f, protocol=pickle.HIGHEST_PROTOCOL)\n",
        "        f.close()\n",
        "    else:\n",
        "        np.random.shuffle(data)\n",
        "        print ('label ', i, 'has of length', data.shape[0], 'chunk to ',\\\n",
        "               data.shape[0]//chunk[str(i)]) \n",
        "        pickle.dump(data[:int(data.shape[0]//chunk[str(i)])], f, protocol=pickle.HIGHEST_PROTOCOL)\n",
        "        f.close()"
      ],
      "execution_count": 42,
      "outputs": [
        {
          "output_type": "stream",
          "text": [
            "label  0 has of length 129 chunk to  16\n",
            "label  1 has of length 4\n",
            "label  2 has of length 1\n",
            "label  3 has of length 68 chunk to  22\n",
            "label  4 has of length 10\n"
          ],
          "name": "stdout"
        }
      ]
    },
    {
      "cell_type": "code",
      "metadata": {
        "id": "IC-7FM-jfnME",
        "colab_type": "code",
        "colab": {
          "base_uri": "https://localhost:8080/",
          "height": 101
        },
        "outputId": "6b113437-66ca-49bb-d1fb-716b874b5783"
      },
      "source": [
        "chunk = dict()\n",
        "chunk['0']=3\n",
        "\n",
        "for i in range(5):\n",
        "    fname = '/content/drive/My Drive/Kaggle/severstal-steel-old/new/unilabel_test_'+ str(i)\n",
        "    f = open(fname, 'rb')\n",
        "    data = pickle.load(f)\n",
        "    f.close()\n",
        "    f = open('/content/drive/My Drive/Kaggle/severstal-steel-old/new/chunked_unilabel_test_'+ str(i), 'wb')\n",
        "    if i != 0:\n",
        "        print ('label ', i, 'has of length', data.shape[0])\n",
        "        pickle.dump(data, f, protocol=pickle.HIGHEST_PROTOCOL)\n",
        "        f.close()\n",
        "    else:\n",
        "        np.random.shuffle(data)\n",
        "        print ('label ', i, 'has of length', data.shape[0], 'chunk to ',\\\n",
        "               data.shape[0]//chunk[str(i)])\n",
        "        pickle.dump(data[:int(data.shape[0]//chunk[str(i)])], f, protocol=pickle.HIGHEST_PROTOCOL)\n",
        "        f.close()"
      ],
      "execution_count": 43,
      "outputs": [
        {
          "output_type": "stream",
          "text": [
            "label  0 has of length 56 chunk to  18\n",
            "label  1 has of length 2\n",
            "label  2 has of length 1\n",
            "label  3 has of length 30\n",
            "label  4 has of length 5\n"
          ],
          "name": "stdout"
        }
      ]
    },
    {
      "cell_type": "code",
      "metadata": {
        "id": "Z-MkUSovfnKC",
        "colab_type": "code",
        "colab": {}
      },
      "source": [
        ""
      ],
      "execution_count": 0,
      "outputs": []
    }
  ]
}