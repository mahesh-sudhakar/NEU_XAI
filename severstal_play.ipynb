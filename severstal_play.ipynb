{
  "nbformat": 4,
  "nbformat_minor": 0,
  "metadata": {
    "colab": {
      "name": "severstal_play.ipynb",
      "provenance": [],
      "collapsed_sections": [],
      "machine_shape": "hm",
      "include_colab_link": true
    },
    "kernelspec": {
      "name": "python3",
      "display_name": "Python 3"
    },
    "accelerator": "GPU"
  },
  "cells": [
    {
      "cell_type": "markdown",
      "metadata": {
        "id": "view-in-github",
        "colab_type": "text"
      },
      "source": [
        "<a href=\"https://colab.research.google.com/github/smahesh2694/NEU_XAI/blob/master/severstal_play.ipynb\" target=\"_parent\"><img src=\"https://colab.research.google.com/assets/colab-badge.svg\" alt=\"Open In Colab\"/></a>"
      ]
    },
    {
      "cell_type": "code",
      "metadata": {
        "id": "oKhhqsaITP5n",
        "colab_type": "code",
        "outputId": "8468b78f-ef1e-4074-9547-15bda04831e9",
        "colab": {
          "base_uri": "https://localhost:8080/",
          "height": 121
        }
      },
      "source": [
        "from google.colab import drive\n",
        "drive.mount('/content/drive')"
      ],
      "execution_count": 1,
      "outputs": [
        {
          "output_type": "stream",
          "text": [
            "Go to this URL in a browser: https://accounts.google.com/o/oauth2/auth?client_id=947318989803-6bn6qk8qdgf4n4g3pfee6491hc0brc4i.apps.googleusercontent.com&redirect_uri=urn%3aietf%3awg%3aoauth%3a2.0%3aoob&response_type=code&scope=email%20https%3a%2f%2fwww.googleapis.com%2fauth%2fdocs.test%20https%3a%2f%2fwww.googleapis.com%2fauth%2fdrive%20https%3a%2f%2fwww.googleapis.com%2fauth%2fdrive.photos.readonly%20https%3a%2f%2fwww.googleapis.com%2fauth%2fpeopleapi.readonly\n",
            "\n",
            "Enter your authorization code:\n",
            "··········\n",
            "Mounted at /content/drive\n"
          ],
          "name": "stdout"
        }
      ]
    },
    {
      "cell_type": "code",
      "metadata": {
        "id": "wDX26c4L_lTN",
        "colab_type": "code",
        "colab": {}
      },
      "source": [
        "import os\n",
        "from tqdm import tqdm\n",
        "import pandas as pd\n",
        "import numpy as np\n",
        "from PIL import Image\n",
        "import pickle\n",
        "\n",
        "import time "
      ],
      "execution_count": 0,
      "outputs": []
    },
    {
      "cell_type": "code",
      "metadata": {
        "id": "WykhnQiAsJpD",
        "colab_type": "code",
        "colab": {}
      },
      "source": [
        "sz = (1600, 256) #size of input images\n",
        "sz0 = 256\n",
        "# MASKS = '/content/drive/My Drive/Kaggle/play/severstal-steel-old/train.csv'\n",
        "# IMAGES = '/content/drive/My Drive/Kaggle/play/severstal-steel-old/images/train_images/'          #test or train\n",
        "\n",
        "def enc2mask(encs, shape=(1600,256)):\n",
        "    img = np.zeros(shape[0]*shape[1], dtype=np.uint8)\n",
        "    for m,enc in enumerate(encs):\n",
        "        if isinstance(enc,np.float) and np.isnan(enc): continue\n",
        "        s = enc.split()\n",
        "        for i in range(len(s)//2):\n",
        "            start = int(s[2*i]) - 1\n",
        "            length = int(s[2*i+1])\n",
        "            img[start:start+length] = 1 + m\n",
        "    return img.reshape(shape).T"
      ],
      "execution_count": 0,
      "outputs": []
    },
    {
      "cell_type": "code",
      "metadata": {
        "id": "wuvqFF8FsJnk",
        "colab_type": "code",
        "outputId": "fb8cf969-4332-4492-ee0b-30adcaa5d9d8",
        "colab": {
          "base_uri": "https://localhost:8080/",
          "height": 34
        }
      },
      "source": [
        "df_masks = pd.read_csv(MASKS)\n",
        "split_df = df_masks['ImageId_ClassId'].str.split('_', n=1, expand=True)\n",
        "df_masks['Image'] = split_df[0]\n",
        "normal_data = []\n",
        "multi = []\n",
        "for image_code in tqdm(df_masks.Image.unique()):\n",
        "    if df_masks.groupby(['Image']).EncodedPixels.count().loc[image_code] == 0:\n",
        "        normal_data.append(image_code)\n",
        "    elif df_masks.groupby(['Image']).EncodedPixels.count().loc[image_code] > 1:\n",
        "        multi.append(image_code)"
      ],
      "execution_count": 0,
      "outputs": [
        {
          "output_type": "stream",
          "text": [
            "100%|██████████| 12568/12568 [04:14<00:00, 49.30it/s]\n"
          ],
          "name": "stderr"
        }
      ]
    },
    {
      "cell_type": "code",
      "metadata": {
        "id": "RRopwnNVilfH",
        "colab_type": "code",
        "outputId": "139c9dac-ff1b-4365-e9d9-f6f90c3b315f",
        "colab": {
          "base_uri": "https://localhost:8080/",
          "height": 34
        }
      },
      "source": [
        "len(normal_data)"
      ],
      "execution_count": 0,
      "outputs": [
        {
          "output_type": "execute_result",
          "data": {
            "text/plain": [
              "5902"
            ]
          },
          "metadata": {
            "tags": []
          },
          "execution_count": 6
        }
      ]
    },
    {
      "cell_type": "code",
      "metadata": {
        "id": "n7iWq7jSFGj2",
        "colab_type": "code",
        "outputId": "2548419a-b6d1-4a74-aba2-f10747ce30ad",
        "colab": {
          "base_uri": "https://localhost:8080/",
          "height": 34
        }
      },
      "source": [
        "len(multi)"
      ],
      "execution_count": 0,
      "outputs": [
        {
          "output_type": "execute_result",
          "data": {
            "text/plain": [
              "427"
            ]
          },
          "metadata": {
            "tags": []
          },
          "execution_count": 7
        }
      ]
    },
    {
      "cell_type": "code",
      "metadata": {
        "id": "q_PTowyysJmC",
        "colab_type": "code",
        "colab": {}
      },
      "source": [
        "df_masks = pd.read_csv(MASKS)\n",
        "df_masks['id'] = [id[:-2] for id in df_masks.ImageId_ClassId]\n",
        "df_masks = pd.DataFrame(df_masks.groupby('id')['EncodedPixels'].apply(list))\n",
        "\n",
        "fnames = os.listdir(IMAGES)\n",
        "n_crops = 6\n",
        "offsets = [32 + sz0*i for i in range(n_crops)]"
      ],
      "execution_count": 0,
      "outputs": []
    },
    {
      "cell_type": "code",
      "metadata": {
        "id": "pFm56mkIjBQI",
        "colab_type": "code",
        "outputId": "eb434e42-df34-47ca-b02b-57f16763163d",
        "colab": {
          "base_uri": "https://localhost:8080/",
          "height": 34
        }
      },
      "source": [
        "offsets"
      ],
      "execution_count": 0,
      "outputs": [
        {
          "output_type": "execute_result",
          "data": {
            "text/plain": [
              "[32, 288, 544, 800, 1056, 1312]"
            ]
          },
          "metadata": {
            "tags": []
          },
          "execution_count": 10
        }
      ]
    },
    {
      "cell_type": "code",
      "metadata": {
        "id": "Nf_uI7imjPsQ",
        "colab_type": "code",
        "outputId": "ad89a7c5-7675-46e7-f663-faec49cbedf5",
        "colab": {
          "base_uri": "https://localhost:8080/",
          "height": 431
        }
      },
      "source": [
        "df_masks"
      ],
      "execution_count": 0,
      "outputs": [
        {
          "output_type": "execute_result",
          "data": {
            "text/html": [
              "<div>\n",
              "<style scoped>\n",
              "    .dataframe tbody tr th:only-of-type {\n",
              "        vertical-align: middle;\n",
              "    }\n",
              "\n",
              "    .dataframe tbody tr th {\n",
              "        vertical-align: top;\n",
              "    }\n",
              "\n",
              "    .dataframe thead th {\n",
              "        text-align: right;\n",
              "    }\n",
              "</style>\n",
              "<table border=\"1\" class=\"dataframe\">\n",
              "  <thead>\n",
              "    <tr style=\"text-align: right;\">\n",
              "      <th></th>\n",
              "      <th>EncodedPixels</th>\n",
              "    </tr>\n",
              "    <tr>\n",
              "      <th>id</th>\n",
              "      <th></th>\n",
              "    </tr>\n",
              "  </thead>\n",
              "  <tbody>\n",
              "    <tr>\n",
              "      <th>0002cc93b.jpg</th>\n",
              "      <td>[29102 12 29346 24 29602 24 29858 24 30114 24 ...</td>\n",
              "    </tr>\n",
              "    <tr>\n",
              "      <th>00031f466.jpg</th>\n",
              "      <td>[nan, nan, nan, nan]</td>\n",
              "    </tr>\n",
              "    <tr>\n",
              "      <th>000418bfc.jpg</th>\n",
              "      <td>[nan, nan, nan, nan]</td>\n",
              "    </tr>\n",
              "    <tr>\n",
              "      <th>000789191.jpg</th>\n",
              "      <td>[nan, nan, nan, nan]</td>\n",
              "    </tr>\n",
              "    <tr>\n",
              "      <th>0007a71bf.jpg</th>\n",
              "      <td>[nan, nan, 18661 28 18863 82 19091 110 19347 1...</td>\n",
              "    </tr>\n",
              "    <tr>\n",
              "      <th>...</th>\n",
              "      <td>...</td>\n",
              "    </tr>\n",
              "    <tr>\n",
              "      <th>fff0295e1.jpg</th>\n",
              "      <td>[nan, nan, nan, nan]</td>\n",
              "    </tr>\n",
              "    <tr>\n",
              "      <th>fff02e9c5.jpg</th>\n",
              "      <td>[nan, nan, 207523 3 207777 9 208030 15 208283 ...</td>\n",
              "    </tr>\n",
              "    <tr>\n",
              "      <th>fffe98443.jpg</th>\n",
              "      <td>[nan, nan, 105929 5 106177 14 106424 24 106672...</td>\n",
              "    </tr>\n",
              "    <tr>\n",
              "      <th>ffff4eaa8.jpg</th>\n",
              "      <td>[nan, nan, 16899 7 17155 20 17411 34 17667 47 ...</td>\n",
              "    </tr>\n",
              "    <tr>\n",
              "      <th>ffffd67df.jpg</th>\n",
              "      <td>[nan, nan, 30931 43 31103 127 31275 211 31489 ...</td>\n",
              "    </tr>\n",
              "  </tbody>\n",
              "</table>\n",
              "<p>12568 rows × 1 columns</p>\n",
              "</div>"
            ],
            "text/plain": [
              "                                                   EncodedPixels\n",
              "id                                                              \n",
              "0002cc93b.jpg  [29102 12 29346 24 29602 24 29858 24 30114 24 ...\n",
              "00031f466.jpg                               [nan, nan, nan, nan]\n",
              "000418bfc.jpg                               [nan, nan, nan, nan]\n",
              "000789191.jpg                               [nan, nan, nan, nan]\n",
              "0007a71bf.jpg  [nan, nan, 18661 28 18863 82 19091 110 19347 1...\n",
              "...                                                          ...\n",
              "fff0295e1.jpg                               [nan, nan, nan, nan]\n",
              "fff02e9c5.jpg  [nan, nan, 207523 3 207777 9 208030 15 208283 ...\n",
              "fffe98443.jpg  [nan, nan, 105929 5 106177 14 106424 24 106672...\n",
              "ffff4eaa8.jpg  [nan, nan, 16899 7 17155 20 17411 34 17667 47 ...\n",
              "ffffd67df.jpg  [nan, nan, 30931 43 31103 127 31275 211 31489 ...\n",
              "\n",
              "[12568 rows x 1 columns]"
            ]
          },
          "metadata": {
            "tags": []
          },
          "execution_count": 11
        }
      ]
    },
    {
      "cell_type": "code",
      "metadata": {
        "id": "3iSKQ-OHjUWI",
        "colab_type": "code",
        "outputId": "9148d6bd-09b3-43ba-d018-c70037db97e8",
        "colab": {
          "base_uri": "https://localhost:8080/",
          "height": 34
        }
      },
      "source": [
        "len(fnames)"
      ],
      "execution_count": 0,
      "outputs": [
        {
          "output_type": "execute_result",
          "data": {
            "text/plain": [
              "12568"
            ]
          },
          "metadata": {
            "tags": []
          },
          "execution_count": 12
        }
      ]
    },
    {
      "cell_type": "code",
      "metadata": {
        "id": "TXplEI7UsJkU",
        "colab_type": "code",
        "outputId": "d9f9c45a-6f19-415c-b0ef-c69d5b8394a1",
        "colab": {
          "base_uri": "https://localhost:8080/",
          "height": 34
        }
      },
      "source": [
        "datadict = dict()\n",
        "datadict['0'] = []\n",
        "datadict['1'] = []\n",
        "datadict['2'] = []\n",
        "datadict['3'] = []\n",
        "datadict['4'] = []\n",
        "f = open('/content/drive/My Drive/Kaggle/play/severstal-steel-old/black_image.txt', 'w')\n",
        "count = 0\n",
        "for fname in tqdm(fnames[:160]):\n",
        "    if '.jpg' not in fname:\n",
        "        continue\n",
        "    img0 = Image.open(os.path.join(IMAGES, fname))\n",
        "    img0 = np.asarray(img0)\n",
        "    if fname in normal_data:\n",
        "        normal_data.remove(fname)\n",
        "        r = np.random.randint(0,n_crops)\n",
        "        img = img0[:, offsets[r] : offsets[r]+sz0, :]\n",
        "        if img.mean() < 5 and img.std() < 5:\n",
        "            f.write(fname+'\\n')\n",
        "            count += 1\n",
        "            continue\n",
        "        img = img.reshape([sz0*sz0*3])\n",
        "        datadict['0'].append(img)\n",
        "        continue\n",
        "    elif fname in multi:\n",
        "        continue\n",
        "        \n",
        "    mask0 = enc2mask(df_masks.loc[fname].EncodedPixels)\n",
        "    \n",
        "    for i in range(n_crops):\n",
        "        img = img0[:, offsets[i] : offsets[i]+sz0, :]\n",
        "        if img.mean() < 5 and img.std() < 5:\n",
        "            f.write(fname+'\\n')\n",
        "            count += 1\n",
        "            continue\n",
        "        img = img.reshape([sz0*sz0*3])\n",
        "        mask = mask0[:, offsets[i]:offsets[i]+sz0]\n",
        "        lab = []\n",
        "        for v in range(1,5):\n",
        "            lab.append(list(mask.flat).count(v))\n",
        "        if mask.max() == 0:\n",
        "            datadict['0'].append(img)\n",
        "        else:\n",
        "            datadict[str(np.argmax(lab)+1)].append(img)\n",
        "f.write(str(count))\n",
        "f.close() \n",
        "\n",
        "\n",
        "# #additional\n",
        "# train_dict = dict()\n",
        "# test_dict = dict()\n",
        "# for k,v in datadict.items():\n",
        "#     num_data = len(v)\n",
        "#     global_idx = np.arange(num_data)\n",
        "#     np.random.shuffle(global_idx)\n",
        "#     train_idx = global_idx[:int(num_data*0.7)]\n",
        "#     test_idx = global_idx[int(num_data*0.7):]\n",
        "#     train_dict[k] = np.array(v)[train_idx]\n",
        "#     test_dict[k] = np.array(v)[test_idx]\n",
        "\n",
        "\n",
        "# train = dict()\n",
        "# test = dict()\n",
        "# train['data'] = []\n",
        "# train['label'] = []\n",
        "# test['data'] = []\n",
        "# test['label'] = []\n",
        "\n",
        "# for k,v in train_dict.items():\n",
        "#     for img in v:\n",
        "#         train['data'].append(img)\n",
        "#         train['label'].append(int(k))\n",
        "# train['data'] = np.array(train['data'])\n",
        "# train['label'] = np.array(train['label'])\n",
        "\n",
        "# for k,v in test_dict.items():\n",
        "#     for img in v:\n",
        "#         test['data'].append(img)\n",
        "#         test['label'].append(int(k))\n",
        "# test['data'] = np.array(test['data'])\n",
        "# test['label'] = np.array(test['label'])\n",
        "\n",
        "# # pickling the array\n",
        "# train_file = open('/content/drive/My Drive/Kaggle/severstal-steel-old/new/train_uni', 'wb')\n",
        "# pickle.dump(train, train_file, protocol=pickle.HIGHEST_PROTOCOL)\n",
        "# train_file.close()\n",
        "# test_file = open('/content/drive/My Drive/Kaggle/severstal-steel-old/new/test_uni', 'wb')\n",
        "# pickle.dump(test, test_file, protocol=pickle.HIGHEST_PROTOCOL)\n",
        "# test_file.close()\n",
        "\n",
        "# info = open('/content/drive/My Drive/Kaggle/severstal-steel-old/new/uni_info.txt', 'w')\n",
        "# s = '0: '+str(len(datadict['0']))+'\\t1: '+str(len(datadict['1']))+'\\t2: '+str(len(datadict['2']))+'\\t3: '+str(len(datadict['3']))+'\\t4: '+str(len(datadict['4']))\n",
        "# info.write(s)\n",
        "# info.close()\n",
        "\n",
        "# _X = np.array(train['data'])\n",
        "# _Y = np.array(train['label'])\n",
        "\n",
        "# assert _X.shape[0] == _Y.shape[0]\n",
        "# datadict = dict()\n",
        "# for i in range(5):\n",
        "#     datadict[str(i)]=[]\n",
        "\n",
        "# for d, l in tqdm(zip(_X, _Y)):\n",
        "#     datadict[str(l)].append(d)\n",
        "\n",
        "# for k, v in tqdm(datadict.items()):\n",
        "#     fname = '/content/drive/My Drive/Kaggle/severstal-steel-old/new/unilabel_train_'+ k\n",
        "#     f = open(fname, 'wb')\n",
        "#     pickle.dump(np.array(v), f, protocol=pickle.HIGHEST_PROTOCOL)\n",
        "#     f.close()\n",
        "\n",
        "# _X = np.array(test['data'])\n",
        "# _Y = np.array(test['label'])\n",
        "\n",
        "# assert _X.shape[0] == _Y.shape[0]\n",
        "# datadict = dict()\n",
        "# for i in range(5):\n",
        "#     datadict[str(i)]=[]\n",
        "\n",
        "# for d, l in tqdm(zip(_X, _Y)):\n",
        "#     datadict[str(l)].append(d)\n",
        "\n",
        "# for k, v in tqdm(datadict.items()):\n",
        "#     fname = '/content/drive/My Drive/Kaggle/severstal-steel-old/new/unilabel_test_'+ k\n",
        "#     f = open(fname, 'wb')\n",
        "#     pickle.dump(np.array(v), f, protocol=pickle.HIGHEST_PROTOCOL)\n",
        "#     f.close()\n",
        "\n",
        "# chunk = dict()\n",
        "# chunk['0']=8\n",
        "# chunk['3']=3\n",
        "\n",
        "# for i in range(5):\n",
        "#     fname = '/content/drive/My Drive/Kaggle/severstal-steel-old/new/unilabel_train_'+ str(i)\n",
        "#     f = open(fname, 'rb')\n",
        "#     data = pickle.load(f)\n",
        "#     f.close()\n",
        "#     f = open('/content/drive/My Drive/Kaggle/severstal-steel-old/new/chunked_unilabel_train_'+ str(i), 'wb')\n",
        "#     if i == 1 or i == 2 or i == 4:\n",
        "#         print ('label ', i, 'has of length', data.shape[0])\n",
        "#         pickle.dump(data, f, protocol=pickle.HIGHEST_PROTOCOL)\n",
        "#         f.close()\n",
        "#     else:\n",
        "#         np.random.shuffle(data)\n",
        "#         print ('label ', i, 'has of length', data.shape[0], 'chunk to ',\\\n",
        "#                data.shape[0]//chunk[str(i)]) \n",
        "#         pickle.dump(data[:int(data.shape[0]//chunk[str(i)])], f, protocol=pickle.HIGHEST_PROTOCOL)\n",
        "#         f.close()\n",
        "\n",
        "# chunk = dict()\n",
        "# chunk['0']=3\n",
        "\n",
        "# for i in range(5):\n",
        "#     fname = '/content/drive/My Drive/Kaggle/severstal-steel-old/new/unilabel_test_'+ str(i)\n",
        "#     f = open(fname, 'rb')\n",
        "#     data = pickle.load(f)\n",
        "#     f.close()\n",
        "#     f = open('/content/drive/My Drive/Kaggle/severstal-steel-old/new/chunked_unilabel_test_'+ str(i), 'wb')\n",
        "#     if i != 0:\n",
        "#         print ('label ', i, 'has of length', data.shape[0])\n",
        "#         pickle.dump(data, f, protocol=pickle.HIGHEST_PROTOCOL)\n",
        "#         f.close()\n",
        "#     else:\n",
        "#         np.random.shuffle(data)\n",
        "#         print ('label ', i, 'has of length', data.shape[0], 'chunk to ',\\\n",
        "#                data.shape[0]//chunk[str(i)])\n",
        "#         pickle.dump(data[:int(data.shape[0]//chunk[str(i)])], f, protocol=pickle.HIGHEST_PROTOCOL)\n",
        "#         f.close()\n",
        "\n"
      ],
      "execution_count": 0,
      "outputs": [
        {
          "output_type": "stream",
          "text": [
            "100%|██████████| 160/160 [03:56<00:00,  1.39s/it]\n"
          ],
          "name": "stderr"
        }
      ]
    },
    {
      "cell_type": "code",
      "metadata": {
        "id": "6xFLSJDuPHGC",
        "colab_type": "code",
        "outputId": "b305905f-29fe-4cdb-de7f-a47960e9306c",
        "colab": {
          "base_uri": "https://localhost:8080/",
          "height": 34
        }
      },
      "source": [
        "len(datadict['4'])"
      ],
      "execution_count": 0,
      "outputs": [
        {
          "output_type": "execute_result",
          "data": {
            "text/plain": [
              "14"
            ]
          },
          "metadata": {
            "tags": []
          },
          "execution_count": 53
        }
      ]
    },
    {
      "cell_type": "code",
      "metadata": {
        "id": "lnA9bmgNsJf7",
        "colab_type": "code",
        "colab": {}
      },
      "source": [
        "train_dict = dict()\n",
        "test_dict = dict()\n",
        "for k,v in datadict.items():\n",
        "    num_data = len(v)\n",
        "    global_idx = np.arange(num_data)\n",
        "    np.random.shuffle(global_idx)\n",
        "    train_idx = global_idx[:int(num_data*0.7)]\n",
        "    test_idx = global_idx[int(num_data*0.7):]\n",
        "    train_dict[k] = np.array(v)[train_idx]\n",
        "    test_dict[k] = np.array(v)[test_idx]"
      ],
      "execution_count": 0,
      "outputs": []
    },
    {
      "cell_type": "code",
      "metadata": {
        "id": "4I_ihBG7lEuW",
        "colab_type": "code",
        "outputId": "488aaae7-3024-4280-f88d-f7ad59c47c64",
        "colab": {
          "base_uri": "https://localhost:8080/",
          "height": 34
        }
      },
      "source": [
        "len(v)"
      ],
      "execution_count": 0,
      "outputs": [
        {
          "output_type": "execute_result",
          "data": {
            "text/plain": [
              "14"
            ]
          },
          "metadata": {
            "tags": []
          },
          "execution_count": 52
        }
      ]
    },
    {
      "cell_type": "code",
      "metadata": {
        "id": "V3VMib_iPyEn",
        "colab_type": "code",
        "outputId": "6095986f-7690-42ab-ac90-27fe9523f98b",
        "colab": {
          "base_uri": "https://localhost:8080/",
          "height": 34
        }
      },
      "source": [
        "train_idx"
      ],
      "execution_count": 0,
      "outputs": [
        {
          "output_type": "execute_result",
          "data": {
            "text/plain": [
              "array([ 0,  3,  6, 11,  8,  9, 13, 10,  5])"
            ]
          },
          "metadata": {
            "tags": []
          },
          "execution_count": 59
        }
      ]
    },
    {
      "cell_type": "code",
      "metadata": {
        "id": "dle2cdkQPg8L",
        "colab_type": "code",
        "outputId": "71d25ccd-6f33-4a8e-ba6b-367dd6afac1e",
        "colab": {
          "base_uri": "https://localhost:8080/",
          "height": 34
        }
      },
      "source": [
        "len(train_dict['4'])"
      ],
      "execution_count": 0,
      "outputs": [
        {
          "output_type": "execute_result",
          "data": {
            "text/plain": [
              "9"
            ]
          },
          "metadata": {
            "tags": []
          },
          "execution_count": 58
        }
      ]
    },
    {
      "cell_type": "code",
      "metadata": {
        "id": "M9SNAEmSP5WU",
        "colab_type": "code",
        "outputId": "2590122d-e876-46de-ecfe-55c307050a58",
        "colab": {
          "base_uri": "https://localhost:8080/",
          "height": 134
        }
      },
      "source": [
        "train_dict['4']"
      ],
      "execution_count": 0,
      "outputs": [
        {
          "output_type": "execute_result",
          "data": {
            "text/plain": [
              "array([[101, 101, 101, ..., 208, 208, 208],\n",
              "       [105, 105, 105, ..., 209, 209, 209],\n",
              "       [ 54,  54,  54, ...,  57,  57,  57],\n",
              "       ...,\n",
              "       [ 83,  83,  83, ...,  95,  95,  95],\n",
              "       [ 63,  63,  63, ..., 118, 118, 118],\n",
              "       [ 48,  48,  48, ...,  86,  86,  86]], dtype=uint8)"
            ]
          },
          "metadata": {
            "tags": []
          },
          "execution_count": 63
        }
      ]
    },
    {
      "cell_type": "code",
      "metadata": {
        "id": "nyxxQIHRsJcw",
        "colab_type": "code",
        "colab": {}
      },
      "source": [
        "train = dict()\n",
        "test = dict()\n",
        "train['data'] = []\n",
        "train['label'] = []\n",
        "test['data'] = []\n",
        "test['label'] = []\n",
        "\n",
        "for k,v in train_dict.items():\n",
        "    for img in v:\n",
        "        train['data'].append(img)\n",
        "        train['label'].append(int(k))\n",
        "train['data'] = np.array(train['data'])\n",
        "train['label'] = np.array(train['label'])"
      ],
      "execution_count": 0,
      "outputs": []
    },
    {
      "cell_type": "code",
      "metadata": {
        "id": "BWf4F3zhlckQ",
        "colab_type": "code",
        "outputId": "b0a85880-440e-4492-8dc3-456187ebdee6",
        "colab": {
          "base_uri": "https://localhost:8080/",
          "height": 34
        }
      },
      "source": [
        "len(train['data'])"
      ],
      "execution_count": 0,
      "outputs": [
        {
          "output_type": "execute_result",
          "data": {
            "text/plain": [
              "343"
            ]
          },
          "metadata": {
            "tags": []
          },
          "execution_count": 66
        }
      ]
    },
    {
      "cell_type": "code",
      "metadata": {
        "id": "te_pTIemsJZh",
        "colab_type": "code",
        "colab": {}
      },
      "source": [
        "for k,v in test_dict.items():\n",
        "    for img in v:\n",
        "        test['data'].append(img)\n",
        "        test['label'].append(int(k))\n",
        "test['data'] = np.array(test['data'])\n",
        "test['label'] = np.array(test['label'])"
      ],
      "execution_count": 0,
      "outputs": []
    },
    {
      "cell_type": "code",
      "metadata": {
        "id": "pgXRFxb3sJVH",
        "colab_type": "code",
        "colab": {}
      },
      "source": [
        "# pickling the array\n",
        "train_file = open('/content/drive/My Drive/Kaggle/play/severstal-steel-old/new/train_uni', 'wb')\n",
        "pickle.dump(train, train_file, protocol=pickle.HIGHEST_PROTOCOL)\n",
        "train_file.close()\n",
        "test_file = open('/content/drive/My Drive/Kaggle/play/severstal-steel-old/new/test_uni', 'wb')\n",
        "pickle.dump(test, test_file, protocol=pickle.HIGHEST_PROTOCOL)\n",
        "test_file.close()"
      ],
      "execution_count": 0,
      "outputs": []
    },
    {
      "cell_type": "code",
      "metadata": {
        "id": "73KA_aPFsJPn",
        "colab_type": "code",
        "colab": {}
      },
      "source": [
        "info = open('/content/drive/My Drive/Kaggle/play/severstal-steel-old/new/uni_info.txt', 'w')\n",
        "s = '0: '+str(len(datadict['0']))+'\\t1: '+str(len(datadict['1']))+'\\t2: '+str(len(datadict['2']))+'\\t3: '+str(len(datadict['3']))+'\\t4: '+str(len(datadict['4']))\n",
        "info.write(s)\n",
        "info.close()"
      ],
      "execution_count": 0,
      "outputs": []
    },
    {
      "cell_type": "code",
      "metadata": {
        "id": "KUHqaaXDVGng",
        "colab_type": "code",
        "colab": {}
      },
      "source": [
        ""
      ],
      "execution_count": 0,
      "outputs": []
    },
    {
      "cell_type": "code",
      "metadata": {
        "id": "DFPmWMxkfnR_",
        "colab_type": "code",
        "outputId": "7546afe0-3794-4311-d6e7-034d9482640c",
        "colab": {
          "base_uri": "https://localhost:8080/",
          "height": 50
        }
      },
      "source": [
        "_X = np.array(train['data'])\n",
        "_Y = np.array(train['label'])\n",
        "\n",
        "assert _X.shape[0] == _Y.shape[0]\n",
        "datadict = dict()\n",
        "for i in range(5):\n",
        "    datadict[str(i)]=[]\n",
        "\n",
        "for d, l in tqdm(zip(_X, _Y)):\n",
        "    datadict[str(l)].append(d)\n",
        "\n",
        "for k, v in tqdm(datadict.items()):\n",
        "    fname = '/content/drive/My Drive/Kaggle/play/severstal-steel-old/new/unilabel_train_'+ k\n",
        "    f = open(fname, 'wb')\n",
        "    pickle.dump(np.array(v), f, protocol=pickle.HIGHEST_PROTOCOL)\n",
        "    f.close()"
      ],
      "execution_count": 0,
      "outputs": [
        {
          "output_type": "stream",
          "text": [
            "343it [00:00, 114880.32it/s]\n",
            "100%|██████████| 5/5 [00:00<00:00,  9.85it/s]\n"
          ],
          "name": "stderr"
        }
      ]
    },
    {
      "cell_type": "code",
      "metadata": {
        "id": "eQxUtjwafnQY",
        "colab_type": "code",
        "outputId": "a8815ae8-c47b-4532-a2d6-8ab40ceba65f",
        "colab": {
          "base_uri": "https://localhost:8080/",
          "height": 50
        }
      },
      "source": [
        "_X = np.array(test['data'])\n",
        "_Y = np.array(test['label'])\n",
        "\n",
        "assert _X.shape[0] == _Y.shape[0]\n",
        "datadict = dict()\n",
        "for i in range(5):\n",
        "    datadict[str(i)]=[]\n",
        "\n",
        "for d, l in tqdm(zip(_X, _Y)):\n",
        "    datadict[str(l)].append(d)\n",
        "\n",
        "for k, v in tqdm(datadict.items()):\n",
        "    fname = '/content/drive/My Drive/Kaggle/play/severstal-steel-old/new/unilabel_test_'+ k\n",
        "    f = open(fname, 'wb')\n",
        "    pickle.dump(np.array(v), f, protocol=pickle.HIGHEST_PROTOCOL)\n",
        "    f.close()"
      ],
      "execution_count": 0,
      "outputs": [
        {
          "output_type": "stream",
          "text": [
            "150it [00:00, 108305.32it/s]\n",
            "100%|██████████| 5/5 [00:00<00:00, 34.67it/s]\n"
          ],
          "name": "stderr"
        }
      ]
    },
    {
      "cell_type": "code",
      "metadata": {
        "id": "94vskpAifnOJ",
        "colab_type": "code",
        "outputId": "65a760c1-bf5d-4662-f6aa-3b62b10eafad",
        "colab": {
          "base_uri": "https://localhost:8080/",
          "height": 101
        }
      },
      "source": [
        "chunk = dict()\n",
        "chunk['0']=8\n",
        "chunk['3']=3\n",
        "\n",
        "for i in range(5):\n",
        "    fname = '/content/drive/My Drive/Kaggle/play/severstal-steel-old/new/unilabel_train_'+ str(i)\n",
        "    f = open(fname, 'rb')\n",
        "    data = pickle.load(f)\n",
        "    f.close()\n",
        "    f = open('/content/drive/My Drive/Kaggle/play/severstal-steel-old/new/chunked_unilabel_train_'+ str(i), 'wb')\n",
        "    if i == 1 or i == 2 or i == 4:\n",
        "        print ('label ', i, 'has of length', data.shape[0])\n",
        "        pickle.dump(data, f, protocol=pickle.HIGHEST_PROTOCOL)\n",
        "        f.close()\n",
        "    else:\n",
        "        np.random.shuffle(data)\n",
        "        print ('label ', i, 'has of length', data.shape[0], 'chunk to ',\\\n",
        "               data.shape[0]//chunk[str(i)]) \n",
        "        pickle.dump(data[:int(data.shape[0]//chunk[str(i)])], f, protocol=pickle.HIGHEST_PROTOCOL)\n",
        "        f.close()"
      ],
      "execution_count": 0,
      "outputs": [
        {
          "output_type": "stream",
          "text": [
            "label  0 has of length 201 chunk to  25\n",
            "label  1 has of length 17\n",
            "label  2 has of length 2\n",
            "label  3 has of length 114 chunk to  38\n",
            "label  4 has of length 9\n"
          ],
          "name": "stdout"
        }
      ]
    },
    {
      "cell_type": "code",
      "metadata": {
        "id": "IC-7FM-jfnME",
        "colab_type": "code",
        "outputId": "357f126c-6730-4713-9a57-d79f651779a0",
        "colab": {
          "base_uri": "https://localhost:8080/",
          "height": 101
        }
      },
      "source": [
        "chunk = dict()\n",
        "chunk['0']=3\n",
        "\n",
        "for i in range(5):\n",
        "    fname = '/content/drive/My Drive/Kaggle/play/severstal-steel-old/new/unilabel_test_'+ str(i)\n",
        "    f = open(fname, 'rb')\n",
        "    data = pickle.load(f)\n",
        "    f.close()\n",
        "    f = open('/content/drive/My Drive/Kaggle/play/severstal-steel-old/new/chunked_unilabel_test_'+ str(i), 'wb')\n",
        "    if i != 0:\n",
        "        print ('label ', i, 'has of length', data.shape[0])\n",
        "        pickle.dump(data, f, protocol=pickle.HIGHEST_PROTOCOL)\n",
        "        f.close()\n",
        "    else:\n",
        "        np.random.shuffle(data)\n",
        "        print ('label ', i, 'has of length', data.shape[0], 'chunk to ',\\\n",
        "               data.shape[0]//chunk[str(i)])\n",
        "        pickle.dump(data[:int(data.shape[0]//chunk[str(i)])], f, protocol=pickle.HIGHEST_PROTOCOL)\n",
        "        f.close()"
      ],
      "execution_count": 0,
      "outputs": [
        {
          "output_type": "stream",
          "text": [
            "label  0 has of length 87 chunk to  29\n",
            "label  1 has of length 8\n",
            "label  2 has of length 1\n",
            "label  3 has of length 49\n",
            "label  4 has of length 5\n"
          ],
          "name": "stdout"
        }
      ]
    },
    {
      "cell_type": "markdown",
      "metadata": {
        "id": "5mZnwqI5wd6U",
        "colab_type": "text"
      },
      "source": [
        "Play"
      ]
    },
    {
      "cell_type": "code",
      "metadata": {
        "id": "IxgTv6G8Wej6",
        "colab_type": "code",
        "colab": {}
      },
      "source": [
        "#play\n",
        "\n",
        "file_name = '/content/drive/My Drive/Kaggle/severstal-steel-old/new/train_uni'\n",
        "f = open(file_name , 'rb')\n",
        "pickle_data = pickle.load(f)\n",
        "f.close()"
      ],
      "execution_count": 0,
      "outputs": []
    },
    {
      "cell_type": "code",
      "metadata": {
        "id": "e3IMCT-w9Z5f",
        "colab_type": "code",
        "outputId": "2f87870e-2b68-41a6-9440-7fa28e6c543a",
        "colab": {
          "base_uri": "https://localhost:8080/",
          "height": 34
        }
      },
      "source": [
        "print(type(pickle_data))"
      ],
      "execution_count": 0,
      "outputs": [
        {
          "output_type": "stream",
          "text": [
            "<class 'dict'>\n"
          ],
          "name": "stdout"
        }
      ]
    },
    {
      "cell_type": "code",
      "metadata": {
        "id": "CYFUSKjWx288",
        "colab_type": "code",
        "outputId": "4f9f5717-c010-4d5c-a137-b9cadd146dd2",
        "colab": {
          "base_uri": "https://localhost:8080/",
          "height": 34
        }
      },
      "source": [
        "len(pickle_data['data'])"
      ],
      "execution_count": 0,
      "outputs": [
        {
          "output_type": "execute_result",
          "data": {
            "text/plain": [
              "26839"
            ]
          },
          "metadata": {
            "tags": []
          },
          "execution_count": 5
        }
      ]
    },
    {
      "cell_type": "code",
      "metadata": {
        "id": "WMMB8LXEWegx",
        "colab_type": "code",
        "outputId": "ccb3e96f-a5f6-4676-f64e-06b76088a9e7",
        "colab": {
          "base_uri": "https://localhost:8080/",
          "height": 50
        }
      },
      "source": [
        "pickle_data[0][:30]"
      ],
      "execution_count": 0,
      "outputs": [
        {
          "output_type": "execute_result",
          "data": {
            "text/plain": [
              "array([59, 59, 59, 66, 66, 66, 62, 62, 62, 58, 58, 58, 64, 64, 64, 63, 63,\n",
              "       63, 60, 60, 60, 64, 64, 64, 69, 69, 69, 63, 63, 63], dtype=uint8)"
            ]
          },
          "metadata": {
            "tags": []
          },
          "execution_count": 5
        }
      ]
    },
    {
      "cell_type": "code",
      "metadata": {
        "id": "w8FoJz9bYjOm",
        "colab_type": "code",
        "colab": {}
      },
      "source": [
        "rs = pickle_data['data'][7].reshape(256,256,3)"
      ],
      "execution_count": 0,
      "outputs": []
    },
    {
      "cell_type": "code",
      "metadata": {
        "id": "tUWthsPeWedT",
        "colab_type": "code",
        "outputId": "1df2ee5f-804b-4c8c-fde8-cdbe9a7eabe8",
        "colab": {
          "base_uri": "https://localhost:8080/",
          "height": 286
        }
      },
      "source": [
        "from matplotlib import pyplot as plt\n",
        "\n",
        "plt.imshow(rs)"
      ],
      "execution_count": 0,
      "outputs": [
        {
          "output_type": "execute_result",
          "data": {
            "text/plain": [
              "<matplotlib.image.AxesImage at 0x7f39a9034160>"
            ]
          },
          "metadata": {
            "tags": []
          },
          "execution_count": 7
        },
        {
          "output_type": "display_data",
          "data": {
            "image/png": "[encoded data removed]",
            "text/plain": [
              "<Figure size 432x288 with 1 Axes>"
            ]
          },
          "metadata": {
            "tags": []
          }
        }
      ]
    },
    {
      "cell_type": "code",
      "metadata": {
        "id": "22ioUVGixiBf",
        "colab_type": "code",
        "colab": {}
      },
      "source": [
        "# assert X.shape[0] == Y.shape[0]\n",
        "# datadict = dict()\n",
        "# for i in range(5):\n",
        "#     datadict[str(i)]=[]\n",
        "\n",
        "# for data, label in tqdm(zip(X,Y)):\n",
        "#   datadict[str(label)].append(data)\n",
        "\n",
        "# plt.savefig('/content/drive/My Drive/Kaggle/severstal-steel-old/saved_images/')"
      ],
      "execution_count": 0,
      "outputs": []
    },
    {
      "cell_type": "code",
      "metadata": {
        "id": "aHqncHqh3PyE",
        "colab_type": "code",
        "colab": {}
      },
      "source": [
        "file_name = '/content/drive/My Drive/Kaggle/severstal-steel-old/new/unilabel_train_0'\n",
        "f = open(file_name, 'rb')\n",
        "train_0 = pickle.load(f)\n",
        "f.close()"
      ],
      "execution_count": 0,
      "outputs": []
    },
    {
      "cell_type": "code",
      "metadata": {
        "id": "Au7_gT3-3PqH",
        "colab_type": "code",
        "outputId": "6a5b9533-ed3e-418c-adc4-d6319ce0fcec",
        "colab": {
          "base_uri": "https://localhost:8080/",
          "height": 286
        }
      },
      "source": [
        "# import matplotlib.pyplot as plt\n",
        "# import matplotlib.image as mpimg\n",
        "\n",
        "# a = train_0[0].reshape(256,256,3)\n",
        "\n",
        "# new_img = Image.fromarray(a , 'RGB')\n",
        "# new_img.save('/content/drive/My Drive/Kaggle/severstal-steel-old/saved_images/new_image.png')\n",
        "# plt.imshow(a)"
      ],
      "execution_count": 0,
      "outputs": [
        {
          "output_type": "execute_result",
          "data": {
            "text/plain": [
              "<matplotlib.image.AxesImage at 0x7faeb9cfe390>"
            ]
          },
          "metadata": {
            "tags": []
          },
          "execution_count": 17
        },
        {
          "output_type": "display_data",
          "data": {
            "image/png": "[encoded data removed]",
            "text/plain": [
              "<Figure size 432x288 with 1 Axes>"
            ]
          },
          "metadata": {
            "tags": []
          }
        }
      ]
    },
    {
      "cell_type": "code",
      "metadata": {
        "id": "2VnNcPB4WRhC",
        "colab_type": "code",
        "colab": {}
      },
      "source": [
        "load_img = mpimg.imread(\"/content/drive/My Drive/Kaggle/severstal-steel-old/saved_images/new_image.png\")\n",
        "plt.imshow(load_img)"
      ],
      "execution_count": 0,
      "outputs": []
    },
    {
      "cell_type": "code",
      "metadata": {
        "id": "yTnRw-duZdJ5",
        "colab_type": "code",
        "colab": {}
      },
      "source": [
        "import matplotlib.pyplot as plt\n",
        "import matplotlib.image as mpimg\n",
        "\n",
        "for label in tqdm(range(5)):\n",
        "  print(f'\\n [INFO]... Loading label {str(label)}')\n",
        "  file_name = '/content/drive/My Drive/Kaggle/severstal-steel-old/new/unilabel_train_'+str(label)\n",
        "  f = open(file_name, 'rb')\n",
        "  train_pickle = pickle.load(f)\n",
        "  f.close()\n",
        "  \n",
        "  print(f'\\n No. of images found : {len(train_pickle)}')\n",
        "\n",
        "  for i in tqdm(range(len(train_pickle))):   \n",
        "    rs_img = train_pickle[i].reshape(256,256,3)\n",
        "    array_img = Image.fromarray(rs_img, 'RGB')\n",
        "    array_img.save('/content/drive/My Drive/Kaggle/severstal-steel-old/saved_images/train/'+str(label)+'/'+str(i+1)+'.png')\n",
        "\n",
        "  "
      ],
      "execution_count": 0,
      "outputs": []
    },
    {
      "cell_type": "code",
      "metadata": {
        "id": "7sosazFsu6RS",
        "colab_type": "code",
        "outputId": "c217e0f3-ada6-403c-cc54-11a6f515dcb6",
        "colab": {
          "base_uri": "https://localhost:8080/",
          "height": 67
        }
      },
      "source": [
        "import matplotlib.pyplot as plt\n",
        "import matplotlib.image as mpimg\n",
        "\n",
        "file_name = '/content/drive/My Drive/Kaggle/severstal-steel-old/new/unilabel_train_4'\n",
        "f = open(file_name, 'rb')\n",
        "train_pickle = pickle.load(f)\n",
        "f.close()\n",
        "\n",
        "print(f'\\n No. of images found : {len(train_pickle)}')\n",
        "\n",
        "for i in tqdm(range(len(train_pickle))):   \n",
        "  rs_img = train_pickle[i].reshape(256,256,3)\n",
        "  array_img = Image.fromarray(rs_img, 'RGB')\n",
        "  array_img.save('/content/drive/My Drive/Kaggle/severstal-steel-old/saved_images/train/4/'+str(i+1)+'.png')\n",
        "\n",
        "  "
      ],
      "execution_count": 0,
      "outputs": [
        {
          "output_type": "stream",
          "text": [
            "  0%|          | 4/971 [00:00<00:27, 34.76it/s]"
          ],
          "name": "stderr"
        },
        {
          "output_type": "stream",
          "text": [
            "\n",
            " No. of images found : 971\n"
          ],
          "name": "stdout"
        },
        {
          "output_type": "stream",
          "text": [
            "100%|██████████| 971/971 [00:33<00:00, 29.21it/s]\n"
          ],
          "name": "stderr"
        }
      ]
    },
    {
      "cell_type": "code",
      "metadata": {
        "id": "gd4OM9-izvOc",
        "colab_type": "code",
        "outputId": "0fb24e91-71b1-400a-dc70-c15f8de708c6",
        "colab": {
          "base_uri": "https://localhost:8080/",
          "height": 286
        }
      },
      "source": [
        "plt.imshow(train_pickle[970].reshape(256,256,3))"
      ],
      "execution_count": 0,
      "outputs": [
        {
          "output_type": "execute_result",
          "data": {
            "text/plain": [
              "<matplotlib.image.AxesImage at 0x7f4b5bd55be0>"
            ]
          },
          "metadata": {
            "tags": []
          },
          "execution_count": 9
        },
        {
          "output_type": "display_data",
          "data": {
            "image/png": "[encoded data removed]",
            "text/plain": [
              "<Figure size 432x288 with 1 Axes>"
            ]
          },
          "metadata": {
            "tags": []
          }
        }
      ]
    },
    {
      "cell_type": "code",
      "metadata": {
        "id": "Ap4U45lRZdBc",
        "colab_type": "code",
        "outputId": "e1cc22e7-50b7-4e0b-a9f3-83ac25c105a1",
        "colab": {
          "base_uri": "https://localhost:8080/",
          "height": 1000
        }
      },
      "source": [
        "import matplotlib.pyplot as plt\n",
        "import matplotlib.image as mpimg\n",
        "\n",
        "for label in tqdm(range(5)):\n",
        "  print(f'\\n [INFO]... Loading label {str(label)}')\n",
        "  file_name = '/content/drive/My Drive/Kaggle/severstal-steel-old/new/unilabel_test_'+str(label)\n",
        "  f = open(file_name, 'rb')\n",
        "  test_pickle = pickle.load(f)\n",
        "  f.close()\n",
        "  \n",
        "  print(f'\\n No. of images found : {len(test_pickle)}')\n",
        "\n",
        "  for i in tqdm(range(len(test_pickle))):   \n",
        "    rs_img = test_pickle[i].reshape(256,256,3)\n",
        "    array_img = Image.fromarray(rs_img, 'RGB')\n",
        "    array_img.save('/content/drive/My Drive/Kaggle/severstal-steel-old/saved_images/test/'+str(label)+'/'+str(i+1)+'.png')\n",
        "\n",
        "  "
      ],
      "execution_count": 0,
      "outputs": [
        {
          "output_type": "stream",
          "text": [
            "\r  0%|          | 0/5 [00:00<?, ?it/s]"
          ],
          "name": "stderr"
        },
        {
          "output_type": "stream",
          "text": [
            "\n",
            " [INFO]... Loading label 0\n"
          ],
          "name": "stdout"
        },
        {
          "output_type": "stream",
          "text": [
            "\n",
            "  0%|          | 0/7124 [00:00<?, ?it/s]\u001b[A"
          ],
          "name": "stderr"
        },
        {
          "output_type": "stream",
          "text": [
            "\n",
            " No. of images found : 7124\n"
          ],
          "name": "stdout"
        },
        {
          "output_type": "stream",
          "text": [
            "\n",
            "  0%|          | 1/7124 [00:00<37:04,  3.20it/s]\u001b[A\n",
            "  0%|          | 5/7124 [00:00<26:55,  4.41it/s]\u001b[A\n",
            "  0%|          | 7/7124 [00:00<25:27,  4.66it/s]\u001b[A\n",
            "  0%|          | 12/7124 [00:00<18:40,  6.35it/s]\u001b[A\n",
            "  0%|          | 16/7124 [00:01<13:57,  8.49it/s]\u001b[A\n",
            "  0%|          | 21/7124 [00:01<10:35, 11.18it/s]\u001b[A\n",
            "  0%|          | 26/7124 [00:01<09:11, 12.87it/s]\u001b[A\n",
            "  0%|          | 31/7124 [00:01<07:17, 16.21it/s]\u001b[A\n",
            "  1%|          | 36/7124 [00:01<05:48, 20.32it/s]\u001b[A\n",
            "  1%|          | 41/7124 [00:01<04:50, 24.35it/s]\u001b[A\n",
            "  1%|          | 46/7124 [00:01<05:08, 22.92it/s]\u001b[A\n",
            "  1%|          | 50/7124 [00:02<04:32, 25.93it/s]\u001b[A\n",
            "  1%|          | 55/7124 [00:02<04:00, 29.37it/s]\u001b[A\n",
            "  1%|          | 60/7124 [00:02<03:38, 32.36it/s]\u001b[A\n",
            "  1%|          | 65/7124 [00:02<04:22, 26.86it/s]\u001b[A\n",
            "  1%|          | 70/7124 [00:02<03:54, 30.13it/s]\u001b[A\n",
            "  1%|          | 75/7124 [00:02<03:32, 33.13it/s]\u001b[A\n",
            "  1%|          | 80/7124 [00:02<03:18, 35.53it/s]\u001b[A\n",
            "  1%|          | 84/7124 [00:03<03:58, 29.46it/s]\u001b[A\n",
            "  1%|          | 89/7124 [00:03<03:35, 32.62it/s]\u001b[A\n",
            "  1%|▏         | 93/7124 [00:03<03:30, 33.43it/s]\u001b[A\n",
            "  1%|▏         | 98/7124 [00:03<03:18, 35.41it/s]\u001b[A\n",
            "  1%|▏         | 102/7124 [00:03<03:12, 36.50it/s]\u001b[A\n",
            "  1%|▏         | 106/7124 [00:03<04:20, 26.93it/s]\u001b[A\n",
            "  2%|▏         | 110/7124 [00:03<03:55, 29.80it/s]\u001b[A\n",
            "  2%|▏         | 115/7124 [00:04<03:34, 32.66it/s]\u001b[A\n",
            "  2%|▏         | 119/7124 [00:04<03:23, 34.41it/s]\u001b[A\n",
            "  2%|▏         | 123/7124 [00:04<04:28, 26.08it/s]\u001b[A\n",
            "  2%|▏         | 127/7124 [00:04<04:00, 29.07it/s]\u001b[A\n",
            "  2%|▏         | 131/7124 [00:04<03:44, 31.17it/s]\u001b[A\n",
            "  2%|▏         | 135/7124 [00:04<03:29, 33.30it/s]\u001b[A\n",
            "  2%|▏         | 139/7124 [00:04<03:25, 34.01it/s]\u001b[A\n",
            "  2%|▏         | 143/7124 [00:05<04:32, 25.63it/s]\u001b[A\n",
            "  2%|▏         | 148/7124 [00:05<04:02, 28.78it/s]\u001b[A\n",
            "  2%|▏         | 152/7124 [00:05<03:45, 30.95it/s]\u001b[A\n",
            "  2%|▏         | 157/7124 [00:05<03:24, 34.13it/s]\u001b[A\n",
            "  2%|▏         | 161/7124 [00:05<04:24, 26.32it/s]\u001b[A\n",
            "  2%|▏         | 166/7124 [00:05<03:51, 30.11it/s]\u001b[A\n",
            "  2%|▏         | 171/7124 [00:05<03:30, 33.07it/s]\u001b[A\n",
            "  2%|▏         | 176/7124 [00:05<03:14, 35.72it/s]\u001b[A\n",
            "  3%|▎         | 180/7124 [00:06<04:17, 26.96it/s]\u001b[A\n",
            "  3%|▎         | 185/7124 [00:06<03:46, 30.65it/s]\u001b[A\n",
            "  3%|▎         | 190/7124 [00:06<03:22, 34.26it/s]\u001b[A\n",
            "  3%|▎         | 195/7124 [00:06<03:10, 36.38it/s]\u001b[A\n",
            "  3%|▎         | 200/7124 [00:06<04:01, 28.65it/s]\u001b[A\n",
            "  3%|▎         | 205/7124 [00:06<03:38, 31.61it/s]\u001b[A\n",
            "  3%|▎         | 210/7124 [00:07<03:24, 33.86it/s]\u001b[A\n",
            "  3%|▎         | 215/7124 [00:07<03:07, 36.78it/s]\u001b[A\n",
            "  3%|▎         | 220/7124 [00:07<03:56, 29.25it/s]\u001b[A\n",
            "  3%|▎         | 225/7124 [00:07<03:36, 31.81it/s]\u001b[A\n",
            "  3%|▎         | 230/7124 [00:07<03:20, 34.42it/s]\u001b[A\n",
            "  3%|▎         | 234/7124 [00:07<04:21, 26.34it/s]\u001b[A\n",
            "  3%|▎         | 238/7124 [00:07<03:57, 29.01it/s]\u001b[A\n",
            "  3%|▎         | 243/7124 [00:08<03:37, 31.69it/s]\u001b[A\n",
            "  3%|▎         | 248/7124 [00:08<03:23, 33.86it/s]\u001b[A\n",
            "  4%|▎         | 252/7124 [00:08<03:13, 35.45it/s]\u001b[A\n",
            "  4%|▎         | 256/7124 [00:08<04:13, 27.07it/s]\u001b[A\n",
            "  4%|▎         | 260/7124 [00:08<03:49, 29.91it/s]\u001b[A\n",
            "  4%|▎         | 264/7124 [00:08<03:33, 32.19it/s]\u001b[A\n",
            "  4%|▍         | 269/7124 [00:08<03:19, 34.34it/s]\u001b[A\n",
            "  4%|▍         | 273/7124 [00:09<04:19, 26.43it/s]\u001b[A\n",
            "  4%|▍         | 278/7124 [00:09<03:50, 29.73it/s]\u001b[A\n",
            "  4%|▍         | 283/7124 [00:09<03:28, 32.74it/s]\u001b[A\n",
            "  4%|▍         | 288/7124 [00:09<03:17, 34.65it/s]\u001b[A\n",
            "  4%|▍         | 292/7124 [00:09<04:21, 26.17it/s]\u001b[A\n",
            "  4%|▍         | 297/7124 [00:09<03:52, 29.42it/s]\u001b[A\n",
            "  4%|▍         | 302/7124 [00:09<03:28, 32.65it/s]\u001b[A\n",
            "  4%|▍         | 307/7124 [00:10<03:16, 34.78it/s]\u001b[A\n",
            "  4%|▍         | 311/7124 [00:10<04:14, 26.82it/s]\u001b[A\n",
            "  4%|▍         | 315/7124 [00:10<04:00, 28.34it/s]\u001b[A\n",
            "  4%|▍         | 319/7124 [00:10<03:41, 30.67it/s]\u001b[A\n",
            "  5%|▍         | 323/7124 [00:10<04:44, 23.93it/s]\u001b[A\n",
            "  5%|▍         | 327/7124 [00:10<04:15, 26.62it/s]\u001b[A\n",
            "  5%|▍         | 332/7124 [00:10<03:47, 29.79it/s]\u001b[A\n",
            "  5%|▍         | 336/7124 [00:11<03:30, 32.22it/s]\u001b[A\n",
            "  5%|▍         | 340/7124 [00:11<04:25, 25.52it/s]\u001b[A\n",
            "  5%|▍         | 345/7124 [00:11<03:53, 29.09it/s]\u001b[A\n",
            "  5%|▍         | 349/7124 [00:11<03:36, 31.32it/s]\u001b[A\n",
            "  5%|▍         | 354/7124 [00:11<03:20, 33.83it/s]\u001b[A\n",
            "  5%|▌         | 358/7124 [00:11<03:12, 35.20it/s]\u001b[A\n",
            "  5%|▌         | 362/7124 [00:12<04:16, 26.33it/s]\u001b[A\n",
            "  5%|▌         | 366/7124 [00:12<03:54, 28.79it/s]\u001b[A\n",
            "  5%|▌         | 371/7124 [00:12<03:34, 31.42it/s]\u001b[A\n",
            "  5%|▌         | 375/7124 [00:12<03:22, 33.32it/s]\u001b[A\n",
            "  5%|▌         | 379/7124 [00:12<04:12, 26.68it/s]\u001b[A\n",
            "  5%|▌         | 383/7124 [00:12<03:49, 29.41it/s]\u001b[A\n",
            "  5%|▌         | 387/7124 [00:12<03:32, 31.71it/s]\u001b[A\n",
            "  5%|▌         | 391/7124 [00:12<03:19, 33.77it/s]\u001b[A\n",
            "  6%|▌         | 395/7124 [00:13<04:20, 25.83it/s]\u001b[A\n",
            "  6%|▌         | 400/7124 [00:13<03:50, 29.12it/s]\u001b[A\n",
            "  6%|▌         | 405/7124 [00:13<03:28, 32.15it/s]\u001b[A\n",
            "  6%|▌         | 410/7124 [00:13<03:12, 34.82it/s]\u001b[A\n",
            "  6%|▌         | 414/7124 [00:13<04:15, 26.30it/s]\u001b[A\n",
            "  6%|▌         | 419/7124 [00:13<03:43, 30.03it/s]\u001b[A\n",
            "  6%|▌         | 424/7124 [00:13<03:25, 32.62it/s]\u001b[A\n",
            "  6%|▌         | 429/7124 [00:14<03:12, 34.83it/s]\u001b[A\n",
            "  6%|▌         | 433/7124 [00:14<03:31, 31.60it/s]\u001b[A\n",
            "  6%|▌         | 438/7124 [00:14<03:16, 34.00it/s]\u001b[A\n",
            "  6%|▌         | 443/7124 [00:14<03:05, 35.97it/s]\u001b[A\n",
            "  6%|▋         | 448/7124 [00:14<02:52, 38.81it/s]\u001b[A\n",
            "  6%|▋         | 453/7124 [00:14<03:44, 29.70it/s]\u001b[A\n",
            "  6%|▋         | 458/7124 [00:14<03:24, 32.56it/s]\u001b[A\n",
            "  6%|▋         | 463/7124 [00:15<03:07, 35.62it/s]\u001b[A\n",
            "  7%|▋         | 468/7124 [00:15<02:59, 37.17it/s]\u001b[A\n",
            "  7%|▋         | 472/7124 [00:15<03:59, 27.81it/s]\u001b[A\n",
            "  7%|▋         | 477/7124 [00:15<03:29, 31.73it/s]\u001b[A\n",
            "  7%|▋         | 482/7124 [00:15<03:13, 34.31it/s]\u001b[A\n",
            "  7%|▋         | 487/7124 [00:15<03:03, 36.14it/s]\u001b[A\n",
            "  7%|▋         | 491/7124 [00:15<04:02, 27.31it/s]\u001b[A\n",
            "  7%|▋         | 496/7124 [00:16<03:38, 30.38it/s]\u001b[A\n",
            "  7%|▋         | 501/7124 [00:16<03:17, 33.59it/s]\u001b[A\n",
            "  7%|▋         | 505/7124 [00:16<03:08, 35.19it/s]\u001b[A\n",
            "  7%|▋         | 509/7124 [00:16<04:10, 26.43it/s]\u001b[A\n",
            "  7%|▋         | 514/7124 [00:16<03:42, 29.65it/s]\u001b[A\n",
            "  7%|▋         | 519/7124 [00:16<03:22, 32.54it/s]\u001b[A\n",
            "  7%|▋         | 523/7124 [00:16<03:11, 34.46it/s]\u001b[A\n",
            "  7%|▋         | 527/7124 [00:17<04:13, 26.00it/s]\u001b[A\n",
            "  7%|▋         | 532/7124 [00:17<03:45, 29.29it/s]\u001b[A\n",
            "  8%|▊         | 537/7124 [00:17<03:24, 32.29it/s]\u001b[A\n",
            "  8%|▊         | 543/7124 [00:17<03:44, 29.28it/s]\u001b[A\n",
            "  8%|▊         | 548/7124 [00:17<03:23, 32.25it/s]\u001b[A\n",
            "  8%|▊         | 553/7124 [00:17<03:03, 35.76it/s]\u001b[A\n",
            "  8%|▊         | 558/7124 [00:17<02:53, 37.77it/s]\u001b[A\n",
            "  8%|▊         | 563/7124 [00:18<03:38, 30.01it/s]\u001b[A\n",
            "  8%|▊         | 568/7124 [00:18<03:21, 32.60it/s]\u001b[A\n",
            "  8%|▊         | 573/7124 [00:18<03:05, 35.31it/s]\u001b[A\n",
            "  8%|▊         | 577/7124 [00:18<03:01, 36.17it/s]\u001b[A\n",
            "  8%|▊         | 581/7124 [00:18<03:51, 28.24it/s]\u001b[A\n",
            "  8%|▊         | 586/7124 [00:18<03:25, 31.82it/s]\u001b[A\n",
            "  8%|▊         | 591/7124 [00:18<03:10, 34.36it/s]\u001b[A\n",
            "  8%|▊         | 596/7124 [00:19<02:57, 36.71it/s]\u001b[A\n",
            "  8%|▊         | 600/7124 [00:19<03:53, 27.89it/s]\u001b[A\n",
            "  8%|▊         | 604/7124 [00:19<03:33, 30.60it/s]\u001b[A\n",
            "  9%|▊         | 609/7124 [00:19<03:16, 33.19it/s]\u001b[A\n",
            "  9%|▊         | 614/7124 [00:19<03:07, 34.78it/s]\u001b[A\n",
            "  9%|▊         | 618/7124 [00:19<04:04, 26.56it/s]\u001b[A\n",
            "  9%|▊         | 623/7124 [00:20<03:36, 29.97it/s]\u001b[A\n",
            "  9%|▉         | 628/7124 [00:20<03:18, 32.73it/s]\u001b[A\n",
            "  9%|▉         | 633/7124 [00:20<03:04, 35.17it/s]\u001b[A\n",
            "  9%|▉         | 637/7124 [00:20<03:39, 29.58it/s]\u001b[A\n",
            "  9%|▉         | 642/7124 [00:20<03:19, 32.46it/s]\u001b[A\n",
            "  9%|▉         | 647/7124 [00:20<02:59, 36.14it/s]\u001b[A\n",
            "  9%|▉         | 652/7124 [00:20<02:51, 37.74it/s]\u001b[A\n",
            "  9%|▉         | 657/7124 [00:21<03:38, 29.63it/s]\u001b[A\n",
            "  9%|▉         | 662/7124 [00:21<03:16, 32.94it/s]\u001b[A\n",
            "  9%|▉         | 667/7124 [00:21<03:02, 35.42it/s]\u001b[A\n",
            "  9%|▉         | 671/7124 [00:21<03:59, 27.00it/s]\u001b[A\n",
            "  9%|▉         | 675/7124 [00:21<03:41, 29.05it/s]\u001b[A\n",
            " 10%|▉         | 679/7124 [00:21<03:25, 31.40it/s]\u001b[A\n",
            " 10%|▉         | 683/7124 [00:21<04:04, 26.39it/s]\u001b[A\n",
            " 10%|▉         | 688/7124 [00:22<03:37, 29.61it/s]\u001b[A\n",
            " 10%|▉         | 693/7124 [00:22<03:14, 33.05it/s]\u001b[A\n",
            " 10%|▉         | 698/7124 [00:22<02:59, 35.89it/s]\u001b[A\n",
            " 10%|▉         | 702/7124 [00:22<03:53, 27.46it/s]\u001b[A\n",
            " 10%|▉         | 707/7124 [00:22<03:28, 30.73it/s]\u001b[A\n",
            " 10%|▉         | 712/7124 [00:22<03:12, 33.33it/s]\u001b[A\n",
            " 10%|█         | 717/7124 [00:22<02:58, 35.88it/s]\u001b[A\n",
            " 10%|█         | 721/7124 [00:23<04:00, 26.57it/s]\u001b[A\n",
            " 10%|█         | 726/7124 [00:23<03:32, 30.05it/s]\u001b[A\n",
            " 10%|█         | 731/7124 [00:23<03:13, 32.99it/s]\u001b[A\n",
            " 10%|█         | 736/7124 [00:23<02:56, 36.21it/s]\u001b[A\n",
            " 10%|█         | 741/7124 [00:23<03:41, 28.88it/s]\u001b[A\n",
            " 10%|█         | 746/7124 [00:23<03:21, 31.73it/s]\u001b[A\n",
            " 11%|█         | 750/7124 [00:23<03:11, 33.21it/s]\u001b[A\n",
            " 11%|█         | 754/7124 [00:24<05:54, 17.95it/s]\u001b[A\n",
            " 11%|█         | 758/7124 [00:24<05:10, 20.47it/s]\u001b[A\n",
            " 11%|█         | 761/7124 [00:24<04:46, 22.18it/s]\u001b[A\n",
            " 11%|█         | 765/7124 [00:24<04:22, 24.25it/s]\u001b[A\n",
            " 11%|█         | 768/7124 [00:24<05:40, 18.68it/s]\u001b[A\n",
            " 11%|█         | 771/7124 [00:25<05:03, 20.92it/s]\u001b[A\n",
            " 11%|█         | 776/7124 [00:25<04:18, 24.55it/s]\u001b[A\n",
            " 11%|█         | 781/7124 [00:25<03:45, 28.19it/s]\u001b[A\n",
            " 11%|█         | 786/7124 [00:25<04:10, 25.26it/s]\u001b[A\n",
            " 11%|█         | 791/7124 [00:25<03:40, 28.69it/s]\u001b[A\n",
            " 11%|█         | 796/7124 [00:25<03:13, 32.66it/s]\u001b[A\n",
            " 11%|█         | 801/7124 [00:25<02:59, 35.21it/s]\u001b[A\n",
            " 11%|█▏        | 805/7124 [00:26<03:49, 27.57it/s]\u001b[A\n",
            " 11%|█▏        | 810/7124 [00:26<03:24, 30.93it/s]\u001b[A\n",
            " 11%|█▏        | 815/7124 [00:26<03:06, 33.83it/s]\u001b[A\n",
            " 11%|█▏        | 819/7124 [00:26<03:22, 31.15it/s]\u001b[A\n",
            " 12%|█▏        | 824/7124 [00:26<03:03, 34.31it/s]\u001b[A\n",
            " 12%|█▏        | 829/7124 [00:26<02:51, 36.78it/s]\u001b[A\n",
            " 12%|█▏        | 834/7124 [00:26<02:41, 38.87it/s]\u001b[A\n",
            " 12%|█▏        | 839/7124 [00:27<03:30, 29.91it/s]\u001b[A\n",
            " 12%|█▏        | 843/7124 [00:27<03:15, 32.15it/s]\u001b[A\n",
            " 12%|█▏        | 848/7124 [00:27<02:59, 34.89it/s]\u001b[A\n",
            " 12%|█▏        | 852/7124 [00:27<02:53, 36.11it/s]\u001b[A\n",
            " 12%|█▏        | 857/7124 [00:27<03:38, 28.69it/s]\u001b[A\n",
            " 12%|█▏        | 862/7124 [00:27<03:18, 31.50it/s]\u001b[A\n",
            " 12%|█▏        | 867/7124 [00:27<03:05, 33.76it/s]\u001b[A\n",
            " 12%|█▏        | 872/7124 [00:28<02:53, 36.05it/s]\u001b[A\n",
            " 12%|█▏        | 876/7124 [00:28<03:48, 27.39it/s]\u001b[A\n",
            " 12%|█▏        | 881/7124 [00:28<03:23, 30.65it/s]\u001b[A\n",
            " 12%|█▏        | 886/7124 [00:28<03:08, 33.05it/s]\u001b[A\n",
            " 13%|█▎        | 891/7124 [00:28<03:45, 27.65it/s]\u001b[A\n",
            " 13%|█▎        | 895/7124 [00:28<03:28, 29.82it/s]\u001b[A\n",
            " 13%|█▎        | 900/7124 [00:28<03:06, 33.44it/s]\u001b[A\n",
            " 13%|█▎        | 904/7124 [00:29<02:57, 35.12it/s]\u001b[A\n",
            " 13%|█▎        | 908/7124 [00:29<03:53, 26.63it/s]\u001b[A\n",
            " 13%|█▎        | 913/7124 [00:29<03:27, 29.98it/s]\u001b[A\n",
            " 13%|█▎        | 918/7124 [00:29<03:09, 32.81it/s]\u001b[A\n",
            " 13%|█▎        | 923/7124 [00:29<02:56, 35.15it/s]\u001b[A\n",
            " 13%|█▎        | 927/7124 [00:30<05:19, 19.37it/s]\u001b[A\n",
            " 13%|█▎        | 932/7124 [00:30<04:28, 23.05it/s]\u001b[A\n",
            " 13%|█▎        | 936/7124 [00:30<03:54, 26.38it/s]\u001b[A\n",
            " 13%|█▎        | 940/7124 [00:30<03:30, 29.35it/s]\u001b[A\n",
            " 13%|█▎        | 944/7124 [00:30<04:17, 24.03it/s]\u001b[A\n",
            " 13%|█▎        | 949/7124 [00:30<03:44, 27.55it/s]\u001b[A\n",
            " 13%|█▎        | 954/7124 [00:30<03:15, 31.50it/s]\u001b[A\n",
            " 13%|█▎        | 958/7124 [00:30<03:03, 33.55it/s]\u001b[A\n",
            " 14%|█▎        | 962/7124 [00:31<03:58, 25.85it/s]\u001b[A\n",
            " 14%|█▎        | 967/7124 [00:31<03:30, 29.26it/s]\u001b[A\n",
            " 14%|█▎        | 972/7124 [00:31<03:09, 32.45it/s]\u001b[A\n",
            " 14%|█▎        | 976/7124 [00:31<03:39, 28.05it/s]\u001b[A\n",
            " 14%|█▍        | 981/7124 [00:31<03:13, 31.75it/s]\u001b[A\n",
            " 14%|█▍        | 986/7124 [00:31<02:59, 34.16it/s]\u001b[A\n",
            " 14%|█▍        | 991/7124 [00:31<02:46, 36.81it/s]\u001b[A\n",
            " 14%|█▍        | 996/7124 [00:32<03:27, 29.54it/s]\u001b[A\n",
            " 14%|█▍        | 1002/7124 [00:32<03:01, 33.64it/s]\u001b[A\n",
            " 14%|█▍        | 1007/7124 [00:32<02:44, 37.20it/s]\u001b[A\n",
            " 14%|█▍        | 1012/7124 [00:32<03:25, 29.79it/s]\u001b[A\n",
            " 14%|█▍        | 1016/7124 [00:32<03:10, 32.13it/s]\u001b[A\n",
            " 14%|█▍        | 1021/7124 [00:32<02:56, 34.65it/s]\u001b[A\n",
            " 14%|█▍        | 1026/7124 [00:33<02:46, 36.65it/s]\u001b[A\n",
            " 14%|█▍        | 1030/7124 [00:33<03:45, 27.03it/s]\u001b[A\n",
            " 15%|█▍        | 1035/7124 [00:33<03:21, 30.23it/s]\u001b[A\n",
            " 15%|█▍        | 1039/7124 [00:33<03:07, 32.44it/s]\u001b[A\n",
            " 15%|█▍        | 1044/7124 [00:33<02:55, 34.63it/s]\u001b[A\n",
            " 15%|█▍        | 1048/7124 [00:33<03:52, 26.18it/s]\u001b[A\n",
            " 15%|█▍        | 1053/7124 [00:33<03:20, 30.26it/s]\u001b[A\n",
            " 15%|█▍        | 1058/7124 [00:34<03:03, 33.07it/s]\u001b[A\n",
            " 15%|█▍        | 1063/7124 [00:34<02:50, 35.49it/s]\u001b[A\n",
            " 15%|█▍        | 1067/7124 [00:34<03:41, 27.38it/s]\u001b[A\n",
            " 15%|█▌        | 1072/7124 [00:34<03:17, 30.64it/s]\u001b[A\n",
            " 15%|█▌        | 1077/7124 [00:34<03:01, 33.32it/s]\u001b[A\n",
            " 15%|█▌        | 1081/7124 [00:34<02:56, 34.24it/s]\u001b[A\n",
            " 15%|█▌        | 1085/7124 [00:34<02:54, 34.65it/s]\u001b[A\n",
            " 15%|█▌        | 1090/7124 [00:34<02:44, 36.61it/s]\u001b[A\n",
            " 15%|█▌        | 1095/7124 [00:35<02:37, 38.37it/s]\u001b[A\n",
            " 15%|█▌        | 1100/7124 [00:35<02:32, 39.45it/s]\u001b[A\n",
            " 16%|█▌        | 1105/7124 [00:35<03:18, 30.25it/s]\u001b[A\n",
            " 16%|█▌        | 1110/7124 [00:35<03:04, 32.65it/s]\u001b[A\n",
            " 16%|█▌        | 1115/7124 [00:35<02:50, 35.19it/s]\u001b[A\n",
            " 16%|█▌        | 1119/7124 [00:35<03:43, 26.89it/s]\u001b[A\n",
            " 16%|█▌        | 1124/7124 [00:36<03:19, 30.02it/s]\u001b[A\n",
            " 16%|█▌        | 1129/7124 [00:36<02:58, 33.51it/s]\u001b[A\n",
            " 16%|█▌        | 1134/7124 [00:36<02:48, 35.46it/s]\u001b[A\n",
            " 16%|█▌        | 1138/7124 [00:36<03:37, 27.51it/s]\u001b[A\n",
            " 16%|█▌        | 1143/7124 [00:36<03:15, 30.64it/s]\u001b[A\n",
            " 16%|█▌        | 1148/7124 [00:36<02:56, 33.94it/s]\u001b[A\n",
            " 16%|█▌        | 1152/7124 [00:36<02:49, 35.32it/s]\u001b[A\n",
            " 16%|█▌        | 1156/7124 [00:36<02:45, 36.10it/s]\u001b[A\n",
            " 16%|█▋        | 1160/7124 [00:37<03:37, 27.44it/s]\u001b[A\n",
            " 16%|█▋        | 1165/7124 [00:37<03:12, 30.97it/s]\u001b[A\n",
            " 16%|█▋        | 1170/7124 [00:37<02:55, 33.86it/s]\u001b[A\n",
            " 16%|█▋        | 1175/7124 [00:37<02:46, 35.64it/s]\u001b[A\n",
            " 17%|█▋        | 1179/7124 [00:37<03:41, 26.86it/s]\u001b[A\n",
            " 17%|█▋        | 1184/7124 [00:37<03:15, 30.45it/s]\u001b[A\n",
            " 17%|█▋        | 1189/7124 [00:38<02:58, 33.25it/s]\u001b[A\n",
            " 17%|█▋        | 1194/7124 [00:38<03:33, 27.81it/s]\u001b[A\n",
            " 17%|█▋        | 1198/7124 [00:38<03:16, 30.11it/s]\u001b[A\n",
            " 17%|█▋        | 1203/7124 [00:38<02:59, 32.94it/s]\u001b[A\n",
            " 17%|█▋        | 1208/7124 [00:38<02:47, 35.35it/s]\u001b[A\n",
            " 17%|█▋        | 1212/7124 [00:38<03:40, 26.77it/s]\u001b[A\n",
            " 17%|█▋        | 1217/7124 [00:38<03:15, 30.26it/s]\u001b[A\n",
            " 17%|█▋        | 1221/7124 [00:39<03:03, 32.09it/s]\u001b[A\n",
            " 17%|█▋        | 1226/7124 [00:39<02:47, 35.19it/s]\u001b[A\n",
            " 17%|█▋        | 1230/7124 [00:39<03:19, 29.51it/s]\u001b[A\n",
            " 17%|█▋        | 1235/7124 [00:39<03:02, 32.32it/s]\u001b[A\n",
            " 17%|█▋        | 1240/7124 [00:39<02:48, 34.98it/s]\u001b[A\n",
            " 17%|█▋        | 1244/7124 [00:39<02:44, 35.80it/s]\u001b[A\n",
            " 18%|█▊        | 1248/7124 [00:39<03:41, 26.53it/s]\u001b[A\n",
            " 18%|█▊        | 1253/7124 [00:40<03:13, 30.34it/s]\u001b[A\n",
            " 18%|█▊        | 1258/7124 [00:40<02:58, 32.89it/s]\u001b[A\n",
            " 18%|█▊        | 1263/7124 [00:40<02:46, 35.25it/s]\u001b[A\n",
            " 18%|█▊        | 1267/7124 [00:40<03:36, 27.09it/s]\u001b[A\n",
            " 18%|█▊        | 1272/7124 [00:40<03:08, 30.98it/s]\u001b[A\n",
            " 18%|█▊        | 1277/7124 [00:40<02:52, 33.81it/s]\u001b[A\n",
            " 18%|█▊        | 1282/7124 [00:40<02:38, 36.82it/s]\u001b[A\n",
            " 18%|█▊        | 1287/7124 [00:41<02:49, 34.53it/s]\u001b[A\n",
            " 18%|█▊        | 1291/7124 [00:41<02:42, 35.89it/s]\u001b[A\n",
            " 18%|█▊        | 1296/7124 [00:41<02:37, 37.09it/s]\u001b[A\n",
            " 18%|█▊        | 1301/7124 [00:41<02:32, 38.07it/s]\u001b[A\n",
            " 18%|█▊        | 1305/7124 [00:41<03:26, 28.11it/s]\u001b[A\n",
            " 18%|█▊        | 1309/7124 [00:41<03:10, 30.57it/s]\u001b[A\n",
            " 18%|█▊        | 1314/7124 [00:41<02:53, 33.46it/s]\u001b[A\n",
            " 19%|█▊        | 1319/7124 [00:41<02:44, 35.28it/s]\u001b[A\n",
            " 19%|█▊        | 1323/7124 [00:42<03:38, 26.59it/s]\u001b[A\n",
            " 19%|█▊        | 1328/7124 [00:42<03:13, 30.01it/s]\u001b[A\n",
            " 19%|█▊        | 1333/7124 [00:42<02:50, 33.87it/s]\u001b[A\n",
            " 19%|█▉        | 1338/7124 [00:42<02:39, 36.20it/s]\u001b[A\n",
            " 19%|█▉        | 1343/7124 [00:42<03:17, 29.22it/s]\u001b[A\n",
            " 19%|█▉        | 1348/7124 [00:42<02:59, 32.14it/s]\u001b[A\n",
            " 19%|█▉        | 1353/7124 [00:43<02:47, 34.49it/s]\u001b[A\n",
            " 19%|█▉        | 1357/7124 [00:43<03:34, 26.84it/s]\u001b[A\n",
            " 19%|█▉        | 1361/7124 [00:43<03:20, 28.73it/s]\u001b[A\n",
            " 19%|█▉        | 1366/7124 [00:43<03:00, 31.98it/s]\u001b[A\n",
            " 19%|█▉        | 1371/7124 [00:43<02:45, 34.67it/s]\u001b[A\n",
            " 19%|█▉        | 1375/7124 [00:43<03:37, 26.39it/s]\u001b[A\n",
            " 19%|█▉        | 1380/7124 [00:43<03:09, 30.32it/s]\u001b[A\n",
            " 19%|█▉        | 1385/7124 [00:44<02:53, 33.13it/s]\u001b[A\n",
            " 20%|█▉        | 1390/7124 [00:44<02:39, 35.89it/s]\u001b[A\n",
            " 20%|█▉        | 1394/7124 [00:44<03:26, 27.76it/s]\u001b[A\n",
            " 20%|█▉        | 1399/7124 [00:44<03:03, 31.25it/s]\u001b[A\n",
            " 20%|█▉        | 1404/7124 [00:44<02:47, 34.09it/s]\u001b[A\n",
            " 20%|█▉        | 1409/7124 [00:44<03:36, 26.35it/s]\u001b[A\n",
            " 20%|█▉        | 1413/7124 [00:44<03:16, 29.00it/s]\u001b[A\n",
            " 20%|█▉        | 1418/7124 [00:45<02:59, 31.81it/s]\u001b[A\n",
            " 20%|█▉        | 1423/7124 [00:45<02:45, 34.47it/s]\u001b[A\n",
            " 20%|██        | 1428/7124 [00:45<03:20, 28.43it/s]\u001b[A\n",
            " 20%|██        | 1433/7124 [00:45<03:02, 31.27it/s]\u001b[A\n",
            " 20%|██        | 1437/7124 [00:45<02:50, 33.26it/s]\u001b[A\n",
            " 20%|██        | 1442/7124 [00:45<02:35, 36.43it/s]\u001b[A\n",
            " 20%|██        | 1447/7124 [00:46<03:12, 29.53it/s]\u001b[A\n",
            " 20%|██        | 1452/7124 [00:46<02:56, 32.13it/s]\u001b[A\n",
            " 20%|██        | 1457/7124 [00:46<02:45, 34.28it/s]\u001b[A\n",
            " 21%|██        | 1462/7124 [00:46<02:33, 37.00it/s]\u001b[A\n",
            " 21%|██        | 1466/7124 [00:46<03:22, 27.96it/s]\u001b[A\n",
            " 21%|██        | 1471/7124 [00:46<03:01, 31.21it/s]\u001b[A\n",
            " 21%|██        | 1476/7124 [00:46<02:45, 34.19it/s]\u001b[A\n",
            " 21%|██        | 1481/7124 [00:46<02:36, 35.96it/s]\u001b[A\n",
            " 21%|██        | 1485/7124 [00:47<03:18, 28.36it/s]\u001b[A\n",
            " 21%|██        | 1490/7124 [00:47<02:57, 31.66it/s]\u001b[A\n",
            " 21%|██        | 1495/7124 [00:47<02:44, 34.30it/s]\u001b[A\n",
            " 21%|██        | 1500/7124 [00:47<03:14, 28.98it/s]\u001b[A\n",
            " 21%|██        | 1505/7124 [00:47<02:54, 32.20it/s]\u001b[A\n",
            " 21%|██        | 1509/7124 [00:47<02:45, 33.99it/s]\u001b[A\n",
            " 21%|██▏       | 1514/7124 [00:48<02:35, 36.15it/s]\u001b[A\n",
            " 21%|██▏       | 1518/7124 [00:48<03:22, 27.74it/s]\u001b[A\n",
            " 21%|██▏       | 1522/7124 [00:48<03:04, 30.40it/s]\u001b[A\n",
            " 21%|██▏       | 1526/7124 [00:48<02:52, 32.43it/s]\u001b[A\n",
            " 21%|██▏       | 1531/7124 [00:48<02:39, 35.07it/s]\u001b[A\n",
            " 22%|██▏       | 1535/7124 [00:48<02:39, 35.13it/s]\u001b[A\n",
            " 22%|██▏       | 1539/7124 [00:48<03:26, 27.04it/s]\u001b[A\n",
            " 22%|██▏       | 1543/7124 [00:48<03:07, 29.81it/s]\u001b[A\n",
            " 22%|██▏       | 1548/7124 [00:49<02:52, 32.32it/s]\u001b[A\n",
            " 22%|██▏       | 1552/7124 [00:49<03:37, 25.65it/s]\u001b[A\n",
            " 22%|██▏       | 1557/7124 [00:49<03:08, 29.49it/s]\u001b[A\n",
            " 22%|██▏       | 1562/7124 [00:49<02:52, 32.19it/s]\u001b[A\n",
            " 22%|██▏       | 1566/7124 [00:49<02:44, 33.70it/s]\u001b[A\n",
            " 22%|██▏       | 1570/7124 [00:49<03:48, 24.28it/s]\u001b[A\n",
            " 22%|██▏       | 1575/7124 [00:50<03:19, 27.79it/s]\u001b[A\n",
            " 22%|██▏       | 1580/7124 [00:50<02:55, 31.57it/s]\u001b[A\n",
            " 22%|██▏       | 1585/7124 [00:50<02:42, 34.05it/s]\u001b[A\n",
            " 22%|██▏       | 1589/7124 [00:50<03:27, 26.62it/s]\u001b[A\n",
            " 22%|██▏       | 1594/7124 [00:50<03:05, 29.85it/s]\u001b[A\n",
            " 22%|██▏       | 1599/7124 [00:50<02:46, 33.21it/s]\u001b[A\n",
            " 23%|██▎       | 1604/7124 [00:50<02:32, 36.21it/s]\u001b[A\n",
            " 23%|██▎       | 1609/7124 [00:51<03:18, 27.81it/s]\u001b[A\n",
            " 23%|██▎       | 1614/7124 [00:51<02:58, 30.81it/s]\u001b[A\n",
            " 23%|██▎       | 1619/7124 [00:51<02:43, 33.75it/s]\u001b[A\n",
            " 23%|██▎       | 1623/7124 [00:51<03:29, 26.25it/s]\u001b[A\n",
            " 23%|██▎       | 1628/7124 [00:51<03:04, 29.73it/s]\u001b[A\n",
            " 23%|██▎       | 1633/7124 [00:51<02:49, 32.48it/s]\u001b[A\n",
            " 23%|██▎       | 1638/7124 [00:51<02:35, 35.17it/s]\u001b[A\n",
            " 23%|██▎       | 1642/7124 [00:52<03:20, 27.41it/s]\u001b[A\n",
            " 23%|██▎       | 1647/7124 [00:52<02:59, 30.50it/s]\u001b[A\n",
            " 23%|██▎       | 1652/7124 [00:52<02:43, 33.51it/s]\u001b[A\n",
            " 23%|██▎       | 1657/7124 [00:52<02:32, 35.90it/s]\u001b[A\n",
            " 23%|██▎       | 1661/7124 [00:52<03:19, 27.34it/s]\u001b[A\n",
            " 23%|██▎       | 1666/7124 [00:52<03:00, 30.23it/s]\u001b[A\n",
            " 23%|██▎       | 1671/7124 [00:53<02:46, 32.80it/s]\u001b[A\n",
            " 24%|██▎       | 1675/7124 [00:53<02:37, 34.52it/s]\u001b[A\n",
            " 24%|██▎       | 1679/7124 [00:53<03:20, 27.16it/s]\u001b[A\n",
            " 24%|██▎       | 1684/7124 [00:53<02:55, 30.96it/s]\u001b[A\n",
            " 24%|██▎       | 1689/7124 [00:53<02:43, 33.23it/s]\u001b[A\n",
            " 24%|██▍       | 1694/7124 [00:53<02:28, 36.53it/s]\u001b[A\n",
            " 24%|██▍       | 1699/7124 [00:53<03:09, 28.58it/s]\u001b[A\n",
            " 24%|██▍       | 1704/7124 [00:54<02:51, 31.67it/s]\u001b[A\n",
            " 24%|██▍       | 1708/7124 [00:54<02:41, 33.62it/s]\u001b[A\n",
            " 24%|██▍       | 1712/7124 [00:54<03:28, 26.01it/s]\u001b[A\n",
            " 24%|██▍       | 1717/7124 [00:54<03:00, 29.89it/s]\u001b[A\n",
            " 24%|██▍       | 1721/7124 [00:54<02:47, 32.33it/s]\u001b[A\n",
            " 24%|██▍       | 1725/7124 [00:54<02:37, 34.27it/s]\u001b[A\n",
            " 24%|██▍       | 1729/7124 [00:54<03:27, 26.01it/s]\u001b[A\n",
            " 24%|██▍       | 1733/7124 [00:55<03:08, 28.64it/s]\u001b[A\n",
            " 24%|██▍       | 1738/7124 [00:55<02:46, 32.30it/s]\u001b[A\n",
            " 24%|██▍       | 1743/7124 [00:55<02:35, 34.64it/s]\u001b[A\n",
            " 25%|██▍       | 1747/7124 [00:55<03:24, 26.31it/s]\u001b[A\n",
            " 25%|██▍       | 1751/7124 [00:55<03:04, 29.18it/s]\u001b[A\n",
            " 25%|██▍       | 1756/7124 [00:55<02:48, 31.83it/s]\u001b[A\n",
            " 25%|██▍       | 1761/7124 [00:55<02:33, 34.85it/s]\u001b[A\n",
            " 25%|██▍       | 1765/7124 [00:56<03:23, 26.40it/s]\u001b[A\n",
            " 25%|██▍       | 1770/7124 [00:56<03:01, 29.56it/s]\u001b[A\n",
            " 25%|██▍       | 1775/7124 [00:56<02:45, 32.23it/s]\u001b[A\n",
            " 25%|██▍       | 1779/7124 [00:56<02:37, 33.93it/s]\u001b[A\n",
            " 25%|██▌       | 1783/7124 [00:56<02:42, 32.84it/s]\u001b[A\n",
            " 25%|██▌       | 1788/7124 [00:56<02:31, 35.11it/s]\u001b[A\n",
            " 25%|██▌       | 1793/7124 [00:56<02:24, 36.94it/s]\u001b[A\n",
            " 25%|██▌       | 1798/7124 [00:56<02:18, 38.42it/s]\u001b[A\n",
            " 25%|██▌       | 1802/7124 [00:57<03:12, 27.58it/s]\u001b[A\n",
            " 25%|██▌       | 1807/7124 [00:57<02:52, 30.79it/s]\u001b[A\n",
            " 25%|██▌       | 1812/7124 [00:57<02:36, 33.91it/s]\u001b[A\n",
            " 25%|██▌       | 1816/7124 [00:57<03:19, 26.67it/s]\u001b[A\n",
            " 26%|██▌       | 1821/7124 [00:57<02:55, 30.17it/s]\u001b[A\n",
            " 26%|██▌       | 1826/7124 [00:57<02:38, 33.46it/s]\u001b[A\n",
            " 26%|██▌       | 1831/7124 [00:57<02:26, 36.05it/s]\u001b[A\n",
            " 26%|██▌       | 1836/7124 [00:58<03:03, 28.88it/s]\u001b[A\n",
            " 26%|██▌       | 1841/7124 [00:58<02:45, 32.02it/s]\u001b[A\n",
            " 26%|██▌       | 1845/7124 [00:58<02:35, 34.03it/s]\u001b[A\n",
            " 26%|██▌       | 1850/7124 [00:58<02:27, 35.80it/s]\u001b[A\n",
            " 26%|██▌       | 1854/7124 [00:58<03:18, 26.55it/s]\u001b[A\n",
            " 26%|██▌       | 1859/7124 [00:58<02:55, 29.92it/s]\u001b[A\n",
            " 26%|██▌       | 1863/7124 [00:59<02:43, 32.11it/s]\u001b[A\n",
            " 26%|██▌       | 1867/7124 [00:59<02:34, 34.12it/s]\u001b[A\n",
            " 26%|██▋       | 1871/7124 [00:59<02:28, 35.28it/s]\u001b[A\n",
            " 26%|██▋       | 1875/7124 [00:59<03:14, 26.95it/s]\u001b[A\n",
            " 26%|██▋       | 1880/7124 [00:59<02:54, 29.99it/s]\u001b[A\n",
            " 26%|██▋       | 1885/7124 [00:59<02:42, 32.34it/s]\u001b[A\n",
            " 27%|██▋       | 1889/7124 [00:59<03:17, 26.52it/s]\u001b[A\n",
            " 27%|██▋       | 1893/7124 [01:00<02:58, 29.33it/s]\u001b[A\n",
            " 27%|██▋       | 1897/7124 [01:00<02:46, 31.45it/s]\u001b[A\n",
            " 27%|██▋       | 1901/7124 [01:00<02:36, 33.31it/s]\u001b[A\n",
            " 27%|██▋       | 1905/7124 [01:00<02:30, 34.74it/s]\u001b[A\n",
            " 27%|██▋       | 1909/7124 [01:00<03:35, 24.20it/s]\u001b[A\n",
            " 27%|██▋       | 1913/7124 [01:00<03:10, 27.33it/s]\u001b[A\n",
            " 27%|██▋       | 1918/7124 [01:00<02:50, 30.46it/s]\u001b[A\n",
            " 27%|██▋       | 1923/7124 [01:00<02:35, 33.41it/s]\u001b[A\n",
            " 27%|██▋       | 1927/7124 [01:01<03:16, 26.51it/s]\u001b[A\n",
            " 27%|██▋       | 1932/7124 [01:01<02:54, 29.71it/s]\u001b[A\n",
            " 27%|██▋       | 1937/7124 [01:01<02:39, 32.52it/s]\u001b[A\n",
            " 27%|██▋       | 1942/7124 [01:01<03:09, 27.36it/s]\u001b[A\n",
            " 27%|██▋       | 1946/7124 [01:01<02:51, 30.18it/s]\u001b[A\n",
            " 27%|██▋       | 1950/7124 [01:01<02:40, 32.32it/s]\u001b[A\n",
            " 27%|██▋       | 1954/7124 [01:01<02:30, 34.27it/s]\u001b[A\n",
            " 27%|██▋       | 1958/7124 [01:02<03:13, 26.69it/s]\u001b[A\n",
            " 28%|██▊       | 1962/7124 [01:02<02:56, 29.20it/s]\u001b[A\n",
            " 28%|██▊       | 1967/7124 [01:02<02:38, 32.59it/s]\u001b[A\n",
            " 28%|██▊       | 1972/7124 [01:02<02:28, 34.80it/s]\u001b[A\n",
            " 28%|██▊       | 1977/7124 [01:02<03:03, 28.07it/s]\u001b[A\n",
            " 28%|██▊       | 1982/7124 [01:02<02:45, 31.15it/s]\u001b[A\n",
            " 28%|██▊       | 1986/7124 [01:03<02:34, 33.31it/s]\u001b[A\n",
            " 28%|██▊       | 1991/7124 [01:03<02:23, 35.85it/s]\u001b[A\n",
            " 28%|██▊       | 1996/7124 [01:03<02:59, 28.60it/s]\u001b[A\n",
            " 28%|██▊       | 2001/7124 [01:03<02:41, 31.81it/s]\u001b[A\n",
            " 28%|██▊       | 2006/7124 [01:03<02:30, 34.04it/s]\u001b[A\n",
            " 28%|██▊       | 2011/7124 [01:03<02:22, 35.88it/s]\u001b[A\n",
            " 28%|██▊       | 2015/7124 [01:03<03:09, 26.90it/s]\u001b[A\n",
            " 28%|██▊       | 2020/7124 [01:04<02:50, 29.94it/s]\u001b[A\n",
            " 28%|██▊       | 2025/7124 [01:04<02:31, 33.65it/s]\u001b[A\n",
            " 28%|██▊       | 2030/7124 [01:04<02:22, 35.77it/s]\u001b[A\n",
            " 29%|██▊       | 2034/7124 [01:04<02:29, 34.04it/s]\u001b[A\n",
            " 29%|██▊       | 2039/7124 [01:04<02:20, 36.21it/s]\u001b[A\n",
            " 29%|██▊       | 2044/7124 [01:04<02:15, 37.55it/s]\u001b[A\n",
            " 29%|██▊       | 2048/7124 [01:04<02:13, 38.15it/s]\u001b[A\n",
            " 29%|██▉       | 2052/7124 [01:05<02:55, 28.98it/s]\u001b[A\n",
            " 29%|██▉       | 2057/7124 [01:05<02:38, 32.03it/s]\u001b[A\n",
            " 29%|██▉       | 2061/7124 [01:05<02:30, 33.63it/s]\u001b[A\n",
            " 29%|██▉       | 2066/7124 [01:05<02:22, 35.38it/s]\u001b[A\n",
            " 29%|██▉       | 2070/7124 [01:05<02:48, 30.02it/s]\u001b[A\n",
            " 29%|██▉       | 2075/7124 [01:05<02:33, 32.99it/s]\u001b[A\n",
            " 29%|██▉       | 2079/7124 [01:05<02:36, 32.16it/s]\u001b[A\n",
            " 29%|██▉       | 2083/7124 [01:06<03:23, 24.71it/s]\u001b[A\n",
            " 29%|██▉       | 2087/7124 [01:06<03:01, 27.68it/s]\u001b[A\n",
            " 29%|██▉       | 2092/7124 [01:06<02:40, 31.31it/s]\u001b[A\n",
            " 29%|██▉       | 2097/7124 [01:06<02:29, 33.72it/s]\u001b[A\n",
            " 29%|██▉       | 2101/7124 [01:06<03:04, 27.17it/s]\u001b[A\n",
            " 30%|██▉       | 2106/7124 [01:06<02:44, 30.58it/s]\u001b[A\n",
            " 30%|██▉       | 2110/7124 [01:06<02:32, 32.88it/s]\u001b[A\n",
            " 30%|██▉       | 2115/7124 [01:06<02:21, 35.49it/s]\u001b[A\n",
            " 30%|██▉       | 2119/7124 [01:07<03:05, 26.94it/s]\u001b[A\n",
            " 30%|██▉       | 2123/7124 [01:07<02:48, 29.60it/s]\u001b[A\n",
            " 30%|██▉       | 2128/7124 [01:07<02:29, 33.35it/s]\u001b[A\n",
            " 30%|██▉       | 2132/7124 [01:07<02:22, 34.94it/s]\u001b[A\n",
            " 30%|██▉       | 2136/7124 [01:07<03:05, 26.85it/s]\u001b[A\n",
            " 30%|███       | 2140/7124 [01:07<02:48, 29.63it/s]\u001b[A\n",
            " 30%|███       | 2145/7124 [01:07<02:31, 32.87it/s]\u001b[A\n",
            " 30%|███       | 2150/7124 [01:08<02:20, 35.32it/s]\u001b[A\n",
            " 30%|███       | 2154/7124 [01:08<03:06, 26.64it/s]\u001b[A\n",
            " 30%|███       | 2159/7124 [01:08<02:47, 29.71it/s]\u001b[A\n",
            " 30%|███       | 2164/7124 [01:08<02:30, 32.87it/s]\u001b[A\n",
            " 30%|███       | 2168/7124 [01:08<02:59, 27.60it/s]\u001b[A\n",
            " 30%|███       | 2172/7124 [01:08<02:44, 30.18it/s]\u001b[A\n",
            " 31%|███       | 2177/7124 [01:08<02:30, 32.85it/s]\u001b[A\n",
            " 31%|███       | 2182/7124 [01:09<02:19, 35.34it/s]\u001b[A\n",
            " 31%|███       | 2186/7124 [01:09<03:05, 26.61it/s]\u001b[A\n",
            " 31%|███       | 2190/7124 [01:09<02:48, 29.26it/s]\u001b[A\n",
            " 31%|███       | 2195/7124 [01:09<02:34, 31.84it/s]\u001b[A\n",
            " 31%|███       | 2200/7124 [01:09<02:25, 33.86it/s]\u001b[A\n",
            " 31%|███       | 2204/7124 [01:09<03:08, 26.12it/s]\u001b[A\n",
            " 31%|███       | 2209/7124 [01:09<02:47, 29.40it/s]\u001b[A\n",
            " 31%|███       | 2214/7124 [01:10<02:29, 32.91it/s]\u001b[A\n",
            " 31%|███       | 2219/7124 [01:10<02:16, 35.83it/s]\u001b[A\n",
            " 31%|███       | 2223/7124 [01:10<03:17, 24.86it/s]\u001b[A\n",
            " 31%|███▏      | 2228/7124 [01:10<02:53, 28.15it/s]\u001b[A\n",
            " 31%|███▏      | 2233/7124 [01:10<02:32, 32.13it/s]\u001b[A\n",
            " 31%|███▏      | 2238/7124 [01:10<02:18, 35.27it/s]\u001b[A\n",
            " 31%|███▏      | 2243/7124 [01:11<02:50, 28.70it/s]\u001b[A\n",
            " 32%|███▏      | 2247/7124 [01:11<02:35, 31.31it/s]\u001b[A\n",
            " 32%|███▏      | 2252/7124 [01:11<02:21, 34.36it/s]\u001b[A\n",
            " 32%|███▏      | 2257/7124 [01:11<02:13, 36.41it/s]\u001b[A\n",
            " 32%|███▏      | 2261/7124 [01:11<03:00, 27.01it/s]\u001b[A\n",
            " 32%|███▏      | 2266/7124 [01:11<02:39, 30.39it/s]\u001b[A\n",
            " 32%|███▏      | 2271/7124 [01:11<02:22, 33.98it/s]\u001b[A\n",
            " 32%|███▏      | 2275/7124 [01:12<02:48, 28.70it/s]\u001b[A\n",
            " 32%|███▏      | 2280/7124 [01:12<02:34, 31.27it/s]\u001b[A\n",
            " 32%|███▏      | 2285/7124 [01:12<02:22, 33.96it/s]\u001b[A\n",
            " 32%|███▏      | 2290/7124 [01:12<02:09, 37.42it/s]\u001b[A\n",
            " 32%|███▏      | 2295/7124 [01:12<02:41, 29.84it/s]\u001b[A\n",
            " 32%|███▏      | 2300/7124 [01:12<02:26, 32.85it/s]\u001b[A\n",
            " 32%|███▏      | 2305/7124 [01:12<02:15, 35.66it/s]\u001b[A\n",
            " 32%|███▏      | 2309/7124 [01:12<02:10, 36.81it/s]\u001b[A\n",
            " 32%|███▏      | 2313/7124 [01:13<02:55, 27.38it/s]\u001b[A\n",
            " 33%|███▎      | 2318/7124 [01:13<02:35, 30.90it/s]\u001b[A\n",
            " 33%|███▎      | 2323/7124 [01:13<02:20, 34.12it/s]\u001b[A\n",
            " 33%|███▎      | 2328/7124 [01:13<02:11, 36.52it/s]\u001b[A\n",
            " 33%|███▎      | 2333/7124 [01:13<02:37, 30.37it/s]\u001b[A\n",
            " 33%|███▎      | 2338/7124 [01:13<02:25, 32.99it/s]\u001b[A\n",
            " 33%|███▎      | 2342/7124 [01:14<02:17, 34.71it/s]\u001b[A\n",
            " 33%|███▎      | 2346/7124 [01:14<02:12, 35.95it/s]\u001b[A\n",
            " 33%|███▎      | 2350/7124 [01:14<02:56, 26.99it/s]\u001b[A\n",
            " 33%|███▎      | 2355/7124 [01:14<02:37, 30.26it/s]\u001b[A\n",
            " 33%|███▎      | 2360/7124 [01:14<02:22, 33.36it/s]\u001b[A\n",
            " 33%|███▎      | 2365/7124 [01:14<02:13, 35.57it/s]\u001b[A\n",
            " 33%|███▎      | 2369/7124 [01:14<02:55, 27.14it/s]\u001b[A\n",
            " 33%|███▎      | 2373/7124 [01:15<02:38, 29.95it/s]\u001b[A\n",
            " 33%|███▎      | 2378/7124 [01:15<02:25, 32.70it/s]\u001b[A\n",
            " 33%|███▎      | 2383/7124 [01:15<02:15, 35.06it/s]\u001b[A\n",
            " 34%|███▎      | 2387/7124 [01:15<03:12, 24.66it/s]\u001b[A\n",
            " 34%|███▎      | 2391/7124 [01:15<02:50, 27.82it/s]\u001b[A\n",
            " 34%|███▎      | 2395/7124 [01:15<02:35, 30.35it/s]\u001b[A\n",
            " 34%|███▎      | 2400/7124 [01:15<02:21, 33.48it/s]\u001b[A\n",
            " 34%|███▎      | 2404/7124 [01:16<02:57, 26.54it/s]\u001b[A\n",
            " 34%|███▍      | 2409/7124 [01:16<02:38, 29.84it/s]\u001b[A\n",
            " 34%|███▍      | 2414/7124 [01:16<02:23, 32.90it/s]\u001b[A\n",
            " 34%|███▍      | 2419/7124 [01:16<02:08, 36.57it/s]\u001b[A\n",
            " 34%|███▍      | 2424/7124 [01:16<02:39, 29.46it/s]\u001b[A\n",
            " 34%|███▍      | 2429/7124 [01:16<02:25, 32.33it/s]\u001b[A\n",
            " 34%|███▍      | 2434/7124 [01:16<02:14, 34.83it/s]\u001b[A\n",
            " 34%|███▍      | 2439/7124 [01:17<02:44, 28.50it/s]\u001b[A\n",
            " 34%|███▍      | 2444/7124 [01:17<02:28, 31.47it/s]\u001b[A\n",
            " 34%|███▍      | 2449/7124 [01:17<02:15, 34.51it/s]\u001b[A\n",
            " 34%|███▍      | 2454/7124 [01:17<02:07, 36.66it/s]\u001b[A\n",
            " 35%|███▍      | 2458/7124 [01:17<02:48, 27.68it/s]\u001b[A\n",
            " 35%|███▍      | 2463/7124 [01:17<02:29, 31.26it/s]\u001b[A\n",
            " 35%|███▍      | 2468/7124 [01:17<02:16, 34.04it/s]\u001b[A\n",
            " 35%|███▍      | 2473/7124 [01:18<02:05, 37.05it/s]\u001b[A\n",
            " 35%|███▍      | 2478/7124 [01:18<02:17, 33.75it/s]\u001b[A\n",
            " 35%|███▍      | 2483/7124 [01:18<02:05, 36.91it/s]\u001b[A\n",
            " 35%|███▍      | 2488/7124 [01:18<02:01, 38.28it/s]\u001b[A\n",
            " 35%|███▍      | 2493/7124 [01:18<02:01, 38.27it/s]\u001b[A\n",
            " 35%|███▌      | 2497/7124 [01:18<02:47, 27.63it/s]\u001b[A\n",
            " 35%|███▌      | 2501/7124 [01:18<02:33, 30.16it/s]\u001b[A\n",
            " 35%|███▌      | 2506/7124 [01:19<02:19, 33.18it/s]\u001b[A\n",
            " 35%|███▌      | 2510/7124 [01:19<02:56, 26.20it/s]\u001b[A\n",
            " 35%|███▌      | 2515/7124 [01:19<02:34, 29.88it/s]\u001b[A\n",
            " 35%|███▌      | 2519/7124 [01:19<02:22, 32.23it/s]\u001b[A\n",
            " 35%|███▌      | 2524/7124 [01:19<02:10, 35.15it/s]\u001b[A\n",
            " 35%|███▌      | 2528/7124 [01:19<02:43, 28.15it/s]\u001b[A\n",
            " 36%|███▌      | 2533/7124 [01:19<02:24, 31.72it/s]\u001b[A\n",
            " 36%|███▌      | 2538/7124 [01:20<02:13, 34.41it/s]\u001b[A\n",
            " 36%|███▌      | 2543/7124 [01:20<02:02, 37.46it/s]\u001b[A\n",
            " 36%|███▌      | 2548/7124 [01:20<02:33, 29.87it/s]\u001b[A\n",
            " 36%|███▌      | 2553/7124 [01:20<02:18, 33.11it/s]\u001b[A\n",
            " 36%|███▌      | 2558/7124 [01:20<02:07, 35.85it/s]\u001b[A\n",
            " 36%|███▌      | 2563/7124 [01:20<02:34, 29.48it/s]\u001b[A\n",
            " 36%|███▌      | 2568/7124 [01:20<02:21, 32.24it/s]\u001b[A\n",
            " 36%|███▌      | 2573/7124 [01:21<02:10, 34.85it/s]\u001b[A\n",
            " 36%|███▌      | 2578/7124 [01:21<02:03, 36.85it/s]\u001b[A\n",
            " 36%|███▌      | 2582/7124 [01:21<02:40, 28.24it/s]\u001b[A\n",
            " 36%|███▋      | 2587/7124 [01:21<02:24, 31.39it/s]\u001b[A\n",
            " 36%|███▋      | 2592/7124 [01:21<02:12, 34.31it/s]\u001b[A\n",
            " 36%|███▋      | 2597/7124 [01:21<02:01, 37.41it/s]\u001b[A\n",
            " 37%|███▋      | 2602/7124 [01:22<02:31, 29.92it/s]\u001b[A\n",
            " 37%|███▋      | 2607/7124 [01:22<02:19, 32.47it/s]\u001b[A\n",
            " 37%|███▋      | 2612/7124 [01:22<02:08, 35.14it/s]\u001b[A\n",
            " 37%|███▋      | 2617/7124 [01:22<02:36, 28.86it/s]\u001b[A\n",
            " 37%|███▋      | 2622/7124 [01:22<02:19, 32.16it/s]\u001b[A\n",
            " 37%|███▋      | 2627/7124 [01:22<02:08, 34.99it/s]\u001b[A\n",
            " 37%|███▋      | 2632/7124 [01:22<02:00, 37.22it/s]\u001b[A\n",
            " 37%|███▋      | 2637/7124 [01:23<02:37, 28.48it/s]\u001b[A\n",
            " 37%|███▋      | 2642/7124 [01:23<02:19, 32.05it/s]\u001b[A\n",
            " 37%|███▋      | 2647/7124 [01:23<02:07, 35.09it/s]\u001b[A\n",
            " 37%|███▋      | 2652/7124 [01:23<02:31, 29.54it/s]\u001b[A\n",
            " 37%|███▋      | 2656/7124 [01:23<02:20, 31.74it/s]\u001b[A\n",
            " 37%|███▋      | 2661/7124 [01:23<02:11, 33.95it/s]\u001b[A\n",
            " 37%|███▋      | 2666/7124 [01:23<02:04, 35.70it/s]\u001b[A\n",
            " 37%|███▋      | 2670/7124 [01:24<02:44, 27.04it/s]\u001b[A\n",
            " 38%|███▊      | 2674/7124 [01:24<02:30, 29.64it/s]\u001b[A\n",
            " 38%|███▊      | 2679/7124 [01:24<02:13, 33.30it/s]\u001b[A\n",
            " 38%|███▊      | 2684/7124 [01:24<02:03, 35.93it/s]\u001b[A\n",
            " 38%|███▊      | 2688/7124 [01:24<01:59, 37.04it/s]\u001b[A\n",
            " 38%|███▊      | 2692/7124 [01:24<02:38, 28.03it/s]\u001b[A\n",
            " 38%|███▊      | 2697/7124 [01:24<02:22, 31.16it/s]\u001b[A\n",
            " 38%|███▊      | 2702/7124 [01:25<02:10, 33.85it/s]\u001b[A\n",
            " 38%|███▊      | 2707/7124 [01:25<02:02, 35.96it/s]\u001b[A\n",
            " 38%|███▊      | 2711/7124 [01:25<02:40, 27.55it/s]\u001b[A\n",
            " 38%|███▊      | 2716/7124 [01:25<02:19, 31.61it/s]\u001b[A\n",
            " 38%|███▊      | 2720/7124 [01:25<02:16, 32.16it/s]\u001b[A\n",
            " 38%|███▊      | 2724/7124 [01:25<03:11, 22.98it/s]\u001b[A\n",
            " 38%|███▊      | 2729/7124 [01:26<02:45, 26.58it/s]\u001b[A\n",
            " 38%|███▊      | 2734/7124 [01:26<02:24, 30.42it/s]\u001b[A\n",
            " 38%|███▊      | 2739/7124 [01:26<02:12, 33.15it/s]\u001b[A\n",
            " 39%|███▊      | 2743/7124 [01:26<02:49, 25.80it/s]\u001b[A\n",
            " 39%|███▊      | 2747/7124 [01:26<02:32, 28.65it/s]\u001b[A\n",
            " 39%|███▊      | 2751/7124 [01:26<02:19, 31.29it/s]\u001b[A\n",
            " 39%|███▊      | 2756/7124 [01:26<02:08, 34.04it/s]\u001b[A\n",
            " 39%|███▊      | 2760/7124 [01:27<02:43, 26.64it/s]\u001b[A\n",
            " 39%|███▉      | 2765/7124 [01:27<02:22, 30.56it/s]\u001b[A\n",
            " 39%|███▉      | 2770/7124 [01:27<02:08, 34.00it/s]\u001b[A\n",
            " 39%|███▉      | 2775/7124 [01:27<02:00, 36.10it/s]\u001b[A\n",
            " 39%|███▉      | 2780/7124 [01:27<02:02, 35.38it/s]\u001b[A\n",
            " 39%|███▉      | 2785/7124 [01:27<01:56, 37.27it/s]\u001b[A\n",
            " 39%|███▉      | 2790/7124 [01:27<01:51, 38.83it/s]\u001b[A\n",
            " 39%|███▉      | 2795/7124 [01:27<01:48, 39.75it/s]\u001b[A\n",
            " 39%|███▉      | 2800/7124 [01:28<02:22, 30.36it/s]\u001b[A\n",
            " 39%|███▉      | 2805/7124 [01:28<02:08, 33.58it/s]\u001b[A\n",
            " 39%|███▉      | 2810/7124 [01:28<02:00, 35.67it/s]\u001b[A\n",
            " 40%|███▉      | 2815/7124 [01:28<02:30, 28.55it/s]\u001b[A\n",
            " 40%|███▉      | 2819/7124 [01:28<02:20, 30.69it/s]\u001b[A\n",
            " 40%|███▉      | 2823/7124 [01:28<02:11, 32.67it/s]\u001b[A\n",
            " 40%|███▉      | 2828/7124 [01:28<02:02, 35.16it/s]\u001b[A\n",
            " 40%|███▉      | 2832/7124 [01:29<02:41, 26.56it/s]\u001b[A\n",
            " 40%|███▉      | 2837/7124 [01:29<02:23, 29.87it/s]\u001b[A\n",
            " 40%|███▉      | 2842/7124 [01:29<02:08, 33.30it/s]\u001b[A\n",
            " 40%|███▉      | 2847/7124 [01:29<02:00, 35.52it/s]\u001b[A\n",
            " 40%|████      | 2851/7124 [01:29<02:40, 26.55it/s]\u001b[A\n",
            " 40%|████      | 2855/7124 [01:29<02:27, 28.89it/s]\u001b[A\n",
            " 40%|████      | 2860/7124 [01:29<02:12, 32.11it/s]\u001b[A\n",
            " 40%|████      | 2865/7124 [01:30<02:04, 34.22it/s]\u001b[A\n",
            " 40%|████      | 2869/7124 [01:30<02:42, 26.10it/s]\u001b[A\n",
            " 40%|████      | 2873/7124 [01:30<02:27, 28.82it/s]\u001b[A\n",
            " 40%|████      | 2877/7124 [01:30<02:15, 31.30it/s]\u001b[A\n",
            " 40%|████      | 2881/7124 [01:30<02:09, 32.64it/s]\u001b[A\n",
            " 40%|████      | 2885/7124 [01:30<03:03, 23.05it/s]\u001b[A\n",
            " 41%|████      | 2890/7124 [01:31<02:40, 26.37it/s]\u001b[A\n",
            " 41%|████      | 2895/7124 [01:31<02:22, 29.59it/s]\u001b[A\n",
            " 41%|████      | 2900/7124 [01:31<02:09, 32.59it/s]\u001b[A\n",
            " 41%|████      | 2904/7124 [01:31<02:42, 25.90it/s]\u001b[A\n",
            " 41%|████      | 2908/7124 [01:31<02:26, 28.79it/s]\u001b[A\n",
            " 41%|████      | 2913/7124 [01:31<02:11, 32.06it/s]\u001b[A\n",
            " 41%|████      | 2917/7124 [01:31<02:05, 33.49it/s]\u001b[A\n",
            " 41%|████      | 2921/7124 [01:32<02:31, 27.79it/s]\u001b[A\n",
            " 41%|████      | 2925/7124 [01:32<02:19, 30.16it/s]\u001b[A\n",
            " 41%|████      | 2929/7124 [01:32<02:09, 32.49it/s]\u001b[A\n",
            " 41%|████      | 2933/7124 [01:32<02:02, 34.13it/s]\u001b[A\n",
            " 41%|████      | 2938/7124 [01:32<02:28, 28.18it/s]\u001b[A\n",
            " 41%|████▏     | 2943/7124 [01:32<02:13, 31.32it/s]\u001b[A\n",
            " 41%|████▏     | 2948/7124 [01:32<02:01, 34.30it/s]\u001b[A\n",
            " 41%|████▏     | 2953/7124 [01:32<01:53, 36.86it/s]\u001b[A\n",
            " 42%|████▏     | 2957/7124 [01:33<02:34, 26.89it/s]\u001b[A\n",
            " 42%|████▏     | 2962/7124 [01:33<02:18, 29.94it/s]\u001b[A\n",
            " 42%|████▏     | 2966/7124 [01:33<02:08, 32.33it/s]\u001b[A\n",
            " 42%|████▏     | 2971/7124 [01:33<01:59, 34.76it/s]\u001b[A\n",
            " 42%|████▏     | 2975/7124 [01:33<02:28, 27.92it/s]\u001b[A\n",
            " 42%|████▏     | 2980/7124 [01:33<02:14, 30.76it/s]\u001b[A\n",
            " 42%|████▏     | 2985/7124 [01:34<02:04, 33.37it/s]\u001b[A\n",
            " 42%|████▏     | 2990/7124 [01:34<01:56, 35.38it/s]\u001b[A\n",
            " 42%|████▏     | 2994/7124 [01:34<02:36, 26.43it/s]\u001b[A\n",
            " 42%|████▏     | 2999/7124 [01:34<02:18, 29.82it/s]\u001b[A\n",
            " 42%|████▏     | 3004/7124 [01:34<02:06, 32.51it/s]\u001b[A\n",
            " 42%|████▏     | 3009/7124 [01:34<02:30, 27.36it/s]\u001b[A\n",
            " 42%|████▏     | 3014/7124 [01:34<02:13, 30.78it/s]\u001b[A\n",
            " 42%|████▏     | 3019/7124 [01:35<02:02, 33.45it/s]\u001b[A\n",
            " 42%|████▏     | 3024/7124 [01:35<01:55, 35.42it/s]\u001b[A\n",
            " 43%|████▎     | 3028/7124 [01:35<02:00, 34.10it/s]\u001b[A\n",
            " 43%|████▎     | 3033/7124 [01:35<01:52, 36.33it/s]\u001b[A\n",
            " 43%|████▎     | 3037/7124 [01:35<01:49, 37.25it/s]\u001b[A\n",
            " 43%|████▎     | 3041/7124 [01:35<01:48, 37.54it/s]\u001b[A\n",
            " 43%|████▎     | 3045/7124 [01:35<01:46, 38.15it/s]\u001b[A\n",
            " 43%|████▎     | 3049/7124 [01:36<02:46, 24.55it/s]\u001b[A\n",
            " 43%|████▎     | 3053/7124 [01:36<02:28, 27.40it/s]\u001b[A\n",
            " 43%|████▎     | 3057/7124 [01:36<02:14, 30.19it/s]\u001b[A\n",
            " 43%|████▎     | 3062/7124 [01:36<02:02, 33.18it/s]\u001b[A\n",
            " 43%|████▎     | 3066/7124 [01:36<02:35, 26.07it/s]\u001b[A\n",
            " 43%|████▎     | 3070/7124 [01:36<02:19, 29.06it/s]\u001b[A\n",
            " 43%|████▎     | 3075/7124 [01:36<02:04, 32.57it/s]\u001b[A\n",
            " 43%|████▎     | 3080/7124 [01:36<01:54, 35.36it/s]\u001b[A\n",
            " 43%|████▎     | 3084/7124 [01:37<02:32, 26.58it/s]\u001b[A\n",
            " 43%|████▎     | 3088/7124 [01:37<02:17, 29.30it/s]\u001b[A\n",
            " 43%|████▎     | 3093/7124 [01:37<02:05, 32.14it/s]\u001b[A\n",
            " 43%|████▎     | 3098/7124 [01:37<01:55, 34.90it/s]\u001b[A\n",
            " 44%|████▎     | 3102/7124 [01:37<02:29, 26.94it/s]\u001b[A\n",
            " 44%|████▎     | 3107/7124 [01:37<02:12, 30.21it/s]\u001b[A\n",
            " 44%|████▎     | 3112/7124 [01:37<02:01, 32.90it/s]\u001b[A\n",
            " 44%|████▍     | 3117/7124 [01:38<01:51, 36.03it/s]\u001b[A\n",
            " 44%|████▍     | 3121/7124 [01:38<02:26, 27.31it/s]\u001b[A\n",
            " 44%|████▍     | 3125/7124 [01:38<02:13, 30.02it/s]\u001b[A\n",
            " 44%|████▍     | 3130/7124 [01:38<02:01, 32.78it/s]\u001b[A\n",
            " 44%|████▍     | 3135/7124 [01:38<01:54, 34.84it/s]\u001b[A\n",
            " 44%|████▍     | 3139/7124 [01:38<02:32, 26.08it/s]\u001b[A\n",
            " 44%|████▍     | 3143/7124 [01:39<02:16, 29.06it/s]\u001b[A\n",
            " 44%|████▍     | 3148/7124 [01:39<02:04, 32.03it/s]\u001b[A\n",
            " 44%|████▍     | 3153/7124 [01:39<01:55, 34.24it/s]\u001b[A\n",
            " 44%|████▍     | 3157/7124 [01:39<02:33, 25.88it/s]\u001b[A\n",
            " 44%|████▍     | 3162/7124 [01:39<02:15, 29.30it/s]\u001b[A\n",
            " 44%|████▍     | 3166/7124 [01:39<02:05, 31.46it/s]\u001b[A\n",
            " 44%|████▍     | 3170/7124 [01:39<01:58, 33.39it/s]\u001b[A\n",
            " 45%|████▍     | 3174/7124 [01:40<02:25, 27.19it/s]\u001b[A\n",
            " 45%|████▍     | 3179/7124 [01:40<02:10, 30.26it/s]\u001b[A\n",
            " 45%|████▍     | 3184/7124 [01:40<01:57, 33.62it/s]\u001b[A\n",
            " 45%|████▍     | 3189/7124 [01:40<01:49, 35.83it/s]\u001b[A\n",
            " 45%|████▍     | 3193/7124 [01:40<02:24, 27.14it/s]\u001b[A\n",
            " 45%|████▍     | 3198/7124 [01:40<02:10, 30.16it/s]\u001b[A\n",
            " 45%|████▍     | 3203/7124 [01:40<01:55, 34.00it/s]\u001b[A\n",
            " 45%|████▌     | 3208/7124 [01:40<01:47, 36.29it/s]\u001b[A\n",
            " 45%|████▌     | 3213/7124 [01:41<02:26, 26.73it/s]\u001b[A\n",
            " 45%|████▌     | 3218/7124 [01:41<02:09, 30.27it/s]\u001b[A\n",
            " 45%|████▌     | 3223/7124 [01:41<01:55, 33.64it/s]\u001b[A\n",
            " 45%|████▌     | 3227/7124 [01:41<02:21, 27.59it/s]\u001b[A\n",
            " 45%|████▌     | 3232/7124 [01:41<02:07, 30.63it/s]\u001b[A\n",
            " 45%|████▌     | 3237/7124 [01:41<01:58, 32.80it/s]\u001b[A\n",
            " 45%|████▌     | 3241/7124 [01:42<01:53, 34.29it/s]\u001b[A\n",
            " 46%|████▌     | 3245/7124 [01:42<02:23, 26.96it/s]\u001b[A\n",
            " 46%|████▌     | 3250/7124 [01:42<02:07, 30.38it/s]\u001b[A\n",
            " 46%|████▌     | 3255/7124 [01:42<01:54, 33.68it/s]\u001b[A\n",
            " 46%|████▌     | 3260/7124 [01:42<01:46, 36.28it/s]\u001b[A\n",
            " 46%|████▌     | 3264/7124 [01:42<02:22, 27.13it/s]\u001b[A\n",
            " 46%|████▌     | 3269/7124 [01:42<02:07, 30.20it/s]\u001b[A\n",
            " 46%|████▌     | 3273/7124 [01:43<01:58, 32.37it/s]\u001b[A\n",
            " 46%|████▌     | 3278/7124 [01:43<01:50, 34.82it/s]\u001b[A\n",
            " 46%|████▌     | 3282/7124 [01:43<02:24, 26.67it/s]\u001b[A\n",
            " 46%|████▌     | 3287/7124 [01:43<02:06, 30.29it/s]\u001b[A\n",
            " 46%|████▌     | 3292/7124 [01:43<01:56, 32.80it/s]\u001b[A\n",
            " 46%|████▋     | 3296/7124 [01:43<01:51, 34.36it/s]\u001b[A\n",
            " 46%|████▋     | 3300/7124 [01:43<02:23, 26.67it/s]\u001b[A\n",
            " 46%|████▋     | 3304/7124 [01:44<02:08, 29.61it/s]\u001b[A\n",
            " 46%|████▋     | 3308/7124 [01:44<01:58, 32.08it/s]\u001b[A\n",
            " 47%|████▋     | 3313/7124 [01:44<01:49, 34.96it/s]\u001b[A\n",
            " 47%|████▋     | 3317/7124 [01:44<02:22, 26.75it/s]\u001b[A\n",
            " 47%|████▋     | 3321/7124 [01:44<02:08, 29.56it/s]\u001b[A\n",
            " 47%|████▋     | 3325/7124 [01:44<01:59, 31.83it/s]\u001b[A\n",
            " 47%|████▋     | 3330/7124 [01:44<01:49, 34.73it/s]\u001b[A\n",
            " 47%|████▋     | 3334/7124 [01:45<02:21, 26.75it/s]\u001b[A\n",
            " 47%|████▋     | 3338/7124 [01:45<02:07, 29.60it/s]\u001b[A\n",
            " 47%|████▋     | 3343/7124 [01:45<01:56, 32.35it/s]\u001b[A\n",
            " 47%|████▋     | 3348/7124 [01:45<01:48, 34.79it/s]\u001b[A\n",
            " 47%|████▋     | 3352/7124 [01:45<02:18, 27.24it/s]\u001b[A\n",
            " 47%|████▋     | 3357/7124 [01:45<02:04, 30.30it/s]\u001b[A\n",
            " 47%|████▋     | 3362/7124 [01:45<01:53, 33.15it/s]\u001b[A\n",
            " 47%|████▋     | 3367/7124 [01:45<01:45, 35.62it/s]\u001b[A\n",
            " 47%|████▋     | 3371/7124 [01:46<02:25, 25.74it/s]\u001b[A\n",
            " 47%|████▋     | 3376/7124 [01:46<02:06, 29.63it/s]\u001b[A\n",
            " 47%|████▋     | 3381/7124 [01:46<01:54, 32.57it/s]\u001b[A\n",
            " 48%|████▊     | 3386/7124 [01:46<01:46, 35.15it/s]\u001b[A\n",
            " 48%|████▊     | 3390/7124 [01:46<02:21, 26.31it/s]\u001b[A\n",
            " 48%|████▊     | 3395/7124 [01:46<02:06, 29.47it/s]\u001b[A\n",
            " 48%|████▊     | 3400/7124 [01:47<01:55, 32.24it/s]\u001b[A\n",
            " 48%|████▊     | 3404/7124 [01:47<01:51, 33.39it/s]\u001b[A\n",
            " 48%|████▊     | 3408/7124 [01:47<02:23, 25.91it/s]\u001b[A\n",
            " 48%|████▊     | 3412/7124 [01:47<02:08, 28.84it/s]\u001b[A\n",
            " 48%|████▊     | 3417/7124 [01:47<01:57, 31.59it/s]\u001b[A\n",
            " 48%|████▊     | 3421/7124 [01:47<01:50, 33.46it/s]\u001b[A\n",
            " 48%|████▊     | 3425/7124 [01:47<02:19, 26.47it/s]\u001b[A\n",
            " 48%|████▊     | 3429/7124 [01:48<02:06, 29.18it/s]\u001b[A\n",
            " 48%|████▊     | 3433/7124 [01:48<01:57, 31.41it/s]\u001b[A\n",
            " 48%|████▊     | 3437/7124 [01:48<01:51, 32.94it/s]\u001b[A\n",
            " 48%|████▊     | 3441/7124 [01:48<01:46, 34.66it/s]\u001b[A\n",
            " 48%|████▊     | 3445/7124 [01:48<02:22, 25.84it/s]\u001b[A\n",
            " 48%|████▊     | 3450/7124 [01:48<02:05, 29.19it/s]\u001b[A\n",
            " 48%|████▊     | 3454/7124 [01:48<01:57, 31.33it/s]\u001b[A\n",
            " 49%|████▊     | 3459/7124 [01:48<01:48, 33.83it/s]\u001b[A\n",
            " 49%|████▊     | 3463/7124 [01:49<02:19, 26.16it/s]\u001b[A\n",
            " 49%|████▊     | 3468/7124 [01:49<02:04, 29.26it/s]\u001b[A\n",
            " 49%|████▉     | 3473/7124 [01:49<01:54, 31.87it/s]\u001b[A\n",
            " 49%|████▉     | 3478/7124 [01:49<01:46, 34.24it/s]\u001b[A\n",
            " 49%|████▉     | 3482/7124 [01:49<02:03, 29.45it/s]\u001b[A\n",
            " 49%|████▉     | 3487/7124 [01:49<01:53, 32.10it/s]\u001b[A\n",
            " 49%|████▉     | 3491/7124 [01:49<01:50, 32.75it/s]\u001b[A\n",
            " 49%|████▉     | 3495/7124 [01:50<02:04, 29.06it/s]\u001b[A\n",
            " 49%|████▉     | 3500/7124 [01:50<01:53, 32.00it/s]\u001b[A\n",
            " 49%|████▉     | 3505/7124 [01:50<01:42, 35.25it/s]\u001b[A\n",
            " 49%|████▉     | 3510/7124 [01:50<01:37, 36.90it/s]\u001b[A\n",
            " 49%|████▉     | 3514/7124 [01:50<02:10, 27.58it/s]\u001b[A\n",
            " 49%|████▉     | 3519/7124 [01:50<01:57, 30.55it/s]\u001b[A\n",
            " 49%|████▉     | 3523/7124 [01:50<01:49, 32.81it/s]\u001b[A\n",
            " 50%|████▉     | 3527/7124 [01:51<01:45, 34.21it/s]\u001b[A\n",
            " 50%|████▉     | 3532/7124 [01:51<02:17, 26.03it/s]\u001b[A\n",
            " 50%|████▉     | 3537/7124 [01:51<02:02, 29.28it/s]\u001b[A\n",
            " 50%|████▉     | 3542/7124 [01:51<01:49, 32.60it/s]\u001b[A\n",
            " 50%|████▉     | 3547/7124 [01:51<01:40, 35.71it/s]\u001b[A\n",
            " 50%|████▉     | 3551/7124 [01:51<02:10, 27.43it/s]\u001b[A\n",
            " 50%|████▉     | 3556/7124 [01:52<01:56, 30.54it/s]\u001b[A\n",
            " 50%|████▉     | 3561/7124 [01:52<01:46, 33.37it/s]\u001b[A\n",
            " 50%|█████     | 3566/7124 [01:52<01:39, 35.67it/s]\u001b[A\n",
            " 50%|█████     | 3570/7124 [01:52<02:11, 27.02it/s]\u001b[A\n",
            " 50%|█████     | 3575/7124 [01:52<01:58, 30.01it/s]\u001b[A\n",
            " 50%|█████     | 3580/7124 [01:52<01:48, 32.78it/s]\u001b[A\n",
            " 50%|█████     | 3585/7124 [01:52<01:41, 34.83it/s]\u001b[A\n",
            " 50%|█████     | 3589/7124 [01:53<02:13, 26.56it/s]\u001b[A\n",
            " 50%|█████     | 3594/7124 [01:53<01:58, 29.78it/s]\u001b[A\n",
            " 51%|█████     | 3598/7124 [01:53<01:50, 31.82it/s]\u001b[A\n",
            " 51%|█████     | 3603/7124 [01:53<01:43, 34.11it/s]\u001b[A\n",
            " 51%|█████     | 3607/7124 [01:53<02:11, 26.80it/s]\u001b[A\n",
            " 51%|█████     | 3612/7124 [01:53<01:55, 30.47it/s]\u001b[A\n",
            " 51%|█████     | 3617/7124 [01:53<01:46, 32.93it/s]\u001b[A\n",
            " 51%|█████     | 3622/7124 [01:54<01:41, 34.57it/s]\u001b[A\n",
            " 51%|█████     | 3626/7124 [01:54<02:11, 26.62it/s]\u001b[A\n",
            " 51%|█████     | 3632/7124 [01:54<01:53, 30.88it/s]\u001b[A\n",
            " 51%|█████     | 3637/7124 [01:54<01:42, 34.13it/s]\u001b[A\n",
            " 51%|█████     | 3641/7124 [01:54<02:10, 26.74it/s]\u001b[A\n",
            " 51%|█████     | 3646/7124 [01:54<01:55, 30.18it/s]\u001b[A\n",
            " 51%|█████     | 3651/7124 [01:54<01:44, 33.27it/s]\u001b[A\n",
            " 51%|█████▏    | 3656/7124 [01:55<01:38, 35.34it/s]\u001b[A\n",
            " 51%|█████▏    | 3660/7124 [01:55<02:08, 27.06it/s]\u001b[A\n",
            " 51%|█████▏    | 3665/7124 [01:55<01:55, 30.07it/s]\u001b[A\n",
            " 52%|█████▏    | 3670/7124 [01:55<01:42, 33.62it/s]\u001b[A\n",
            " 52%|█████▏    | 3675/7124 [01:55<01:57, 29.48it/s]\u001b[A\n",
            " 52%|█████▏    | 3680/7124 [01:55<01:44, 32.89it/s]\u001b[A\n",
            " 52%|█████▏    | 3685/7124 [01:56<01:37, 35.28it/s]\u001b[A\n",
            " 52%|█████▏    | 3691/7124 [01:56<01:28, 38.62it/s]\u001b[A\n",
            " 52%|█████▏    | 3696/7124 [01:56<01:54, 29.93it/s]\u001b[A\n",
            " 52%|█████▏    | 3700/7124 [01:56<01:47, 31.89it/s]\u001b[A\n",
            " 52%|█████▏    | 3705/7124 [01:56<01:39, 34.48it/s]\u001b[A\n",
            " 52%|█████▏    | 3709/7124 [01:56<02:07, 26.86it/s]\u001b[A\n",
            " 52%|█████▏    | 3714/7124 [01:56<01:52, 30.29it/s]\u001b[A\n",
            " 52%|█████▏    | 3719/7124 [01:57<01:42, 33.27it/s]\u001b[A\n",
            " 52%|█████▏    | 3724/7124 [01:57<01:35, 35.45it/s]\u001b[A\n",
            " 52%|█████▏    | 3728/7124 [01:57<01:47, 31.67it/s]\u001b[A\n",
            " 52%|█████▏    | 3733/7124 [01:57<01:38, 34.35it/s]\u001b[A\n",
            " 52%|█████▏    | 3738/7124 [01:57<01:33, 36.37it/s]\u001b[A\n",
            " 53%|█████▎    | 3743/7124 [01:57<01:27, 38.69it/s]\u001b[A\n",
            " 53%|█████▎    | 3748/7124 [01:57<01:52, 29.92it/s]\u001b[A\n",
            " 53%|█████▎    | 3753/7124 [01:58<01:43, 32.69it/s]\u001b[A\n",
            " 53%|█████▎    | 3758/7124 [01:58<01:35, 35.07it/s]\u001b[A\n",
            " 53%|█████▎    | 3763/7124 [01:58<01:58, 28.45it/s]\u001b[A\n",
            " 53%|█████▎    | 3768/7124 [01:58<01:44, 32.04it/s]\u001b[A\n",
            " 53%|█████▎    | 3773/7124 [01:58<01:36, 34.55it/s]\u001b[A\n",
            " 53%|█████▎    | 3778/7124 [01:58<01:32, 36.06it/s]\u001b[A\n",
            " 53%|█████▎    | 3782/7124 [01:58<01:48, 30.80it/s]\u001b[A\n",
            " 53%|█████▎    | 3787/7124 [01:59<01:37, 34.34it/s]\u001b[A\n",
            " 53%|█████▎    | 3791/7124 [01:59<01:33, 35.83it/s]\u001b[A\n",
            " 53%|█████▎    | 3796/7124 [01:59<01:27, 37.97it/s]\u001b[A\n",
            " 53%|█████▎    | 3801/7124 [01:59<01:51, 29.89it/s]\u001b[A\n",
            " 53%|█████▎    | 3806/7124 [01:59<01:41, 32.61it/s]\u001b[A\n",
            " 53%|█████▎    | 3811/7124 [01:59<01:35, 34.82it/s]\u001b[A\n",
            " 54%|█████▎    | 3816/7124 [02:00<01:56, 28.48it/s]\u001b[A\n",
            " 54%|█████▎    | 3820/7124 [02:00<01:46, 31.10it/s]\u001b[A\n",
            " 54%|█████▎    | 3825/7124 [02:00<01:36, 34.06it/s]\u001b[A\n",
            " 54%|█████▍    | 3830/7124 [02:00<01:29, 36.84it/s]\u001b[A\n",
            " 54%|█████▍    | 3834/7124 [02:00<01:58, 27.76it/s]\u001b[A\n",
            " 54%|█████▍    | 3838/7124 [02:00<01:47, 30.54it/s]\u001b[A\n",
            " 54%|█████▍    | 3843/7124 [02:00<01:39, 32.98it/s]\u001b[A\n",
            " 54%|█████▍    | 3848/7124 [02:00<01:32, 35.46it/s]\u001b[A\n",
            " 54%|█████▍    | 3852/7124 [02:01<02:03, 26.60it/s]\u001b[A\n",
            " 54%|█████▍    | 3857/7124 [02:01<01:49, 29.75it/s]\u001b[A\n",
            " 54%|█████▍    | 3862/7124 [02:01<01:39, 32.64it/s]\u001b[A\n",
            " 54%|█████▍    | 3866/7124 [02:01<01:35, 34.14it/s]\u001b[A\n",
            " 54%|█████▍    | 3870/7124 [02:01<02:18, 23.55it/s]\u001b[A\n",
            " 54%|█████▍    | 3874/7124 [02:01<02:03, 26.40it/s]\u001b[A\n",
            " 54%|█████▍    | 3879/7124 [02:02<01:48, 29.97it/s]\u001b[A\n",
            " 55%|█████▍    | 3884/7124 [02:02<01:38, 32.74it/s]\u001b[A\n",
            " 55%|█████▍    | 3888/7124 [02:02<02:04, 26.02it/s]\u001b[A\n",
            " 55%|█████▍    | 3893/7124 [02:02<01:49, 29.54it/s]\u001b[A\n",
            " 55%|█████▍    | 3897/7124 [02:02<01:40, 31.99it/s]\u001b[A\n",
            " 55%|█████▍    | 3901/7124 [02:02<01:35, 33.76it/s]\u001b[A\n",
            " 55%|█████▍    | 3905/7124 [02:02<02:00, 26.77it/s]\u001b[A\n",
            " 55%|█████▍    | 3910/7124 [02:03<01:45, 30.56it/s]\u001b[A\n",
            " 55%|█████▍    | 3915/7124 [02:03<01:36, 33.12it/s]\u001b[A\n",
            " 55%|█████▌    | 3920/7124 [02:03<01:30, 35.26it/s]\u001b[A\n",
            " 55%|█████▌    | 3924/7124 [02:03<01:59, 26.71it/s]\u001b[A\n",
            " 55%|█████▌    | 3929/7124 [02:03<01:46, 30.01it/s]\u001b[A\n",
            " 55%|█████▌    | 3933/7124 [02:03<01:39, 32.04it/s]\u001b[A\n",
            " 55%|█████▌    | 3938/7124 [02:03<01:30, 35.08it/s]\u001b[A\n",
            " 55%|█████▌    | 3942/7124 [02:04<01:58, 26.86it/s]\u001b[A\n",
            " 55%|█████▌    | 3947/7124 [02:04<01:47, 29.46it/s]\u001b[A\n",
            " 55%|█████▌    | 3952/7124 [02:04<01:38, 32.04it/s]\u001b[A\n",
            " 56%|█████▌    | 3956/7124 [02:04<01:33, 34.02it/s]\u001b[A\n",
            " 56%|█████▌    | 3960/7124 [02:04<02:01, 26.01it/s]\u001b[A\n",
            " 56%|█████▌    | 3964/7124 [02:04<01:50, 28.70it/s]\u001b[A\n",
            " 56%|█████▌    | 3969/7124 [02:04<01:39, 31.66it/s]\u001b[A\n",
            " 56%|█████▌    | 3974/7124 [02:05<01:33, 33.78it/s]\u001b[A\n",
            " 56%|█████▌    | 3978/7124 [02:05<01:45, 29.88it/s]\u001b[A\n",
            " 56%|█████▌    | 3982/7124 [02:05<01:37, 32.24it/s]\u001b[A\n",
            " 56%|█████▌    | 3987/7124 [02:05<01:30, 34.72it/s]\u001b[A\n",
            " 56%|█████▌    | 3992/7124 [02:05<01:22, 37.92it/s]\u001b[A\n",
            " 56%|█████▌    | 3997/7124 [02:05<01:43, 30.13it/s]\u001b[A\n",
            " 56%|█████▌    | 4002/7124 [02:05<01:34, 33.16it/s]\u001b[A\n",
            " 56%|█████▌    | 4007/7124 [02:05<01:27, 35.72it/s]\u001b[A\n",
            " 56%|█████▋    | 4011/7124 [02:06<01:51, 27.83it/s]\u001b[A\n",
            " 56%|█████▋    | 4016/7124 [02:06<01:40, 31.03it/s]\u001b[A\n",
            " 56%|█████▋    | 4021/7124 [02:06<01:32, 33.46it/s]\u001b[A\n",
            " 57%|█████▋    | 4026/7124 [02:06<01:25, 36.37it/s]\u001b[A\n",
            " 57%|█████▋    | 4030/7124 [02:06<01:44, 29.70it/s]\u001b[A\n",
            " 57%|█████▋    | 4035/7124 [02:06<01:34, 32.55it/s]\u001b[A\n",
            " 57%|█████▋    | 4040/7124 [02:06<01:27, 35.05it/s]\u001b[A\n",
            " 57%|█████▋    | 4044/7124 [02:07<01:27, 35.03it/s]\u001b[A\n",
            " 57%|█████▋    | 4048/7124 [02:07<01:57, 26.28it/s]\u001b[A\n",
            " 57%|█████▋    | 4052/7124 [02:07<01:45, 29.23it/s]\u001b[A\n",
            " 57%|█████▋    | 4057/7124 [02:07<01:35, 32.16it/s]\u001b[A\n",
            " 57%|█████▋    | 4061/7124 [02:07<01:30, 33.99it/s]\u001b[A\n",
            " 57%|█████▋    | 4065/7124 [02:07<01:26, 35.39it/s]\u001b[A\n",
            " 57%|█████▋    | 4069/7124 [02:07<01:54, 26.71it/s]\u001b[A\n",
            " 57%|█████▋    | 4073/7124 [02:08<01:43, 29.60it/s]\u001b[A\n",
            " 57%|█████▋    | 4078/7124 [02:08<01:31, 33.32it/s]\u001b[A\n",
            " 57%|█████▋    | 4083/7124 [02:08<01:25, 35.57it/s]\u001b[A\n",
            " 57%|█████▋    | 4087/7124 [02:08<01:52, 27.07it/s]\u001b[A\n",
            " 57%|█████▋    | 4091/7124 [02:08<01:41, 29.80it/s]\u001b[A\n",
            " 57%|█████▋    | 4096/7124 [02:08<01:30, 33.32it/s]\u001b[A\n",
            " 58%|█████▊    | 4101/7124 [02:08<01:24, 35.89it/s]\u001b[A\n",
            " 58%|█████▊    | 4105/7124 [02:09<01:51, 27.00it/s]\u001b[A\n",
            " 58%|█████▊    | 4110/7124 [02:09<01:38, 30.61it/s]\u001b[A\n",
            " 58%|█████▊    | 4115/7124 [02:09<01:30, 33.35it/s]\u001b[A\n",
            " 58%|█████▊    | 4120/7124 [02:09<01:24, 35.56it/s]\u001b[A\n",
            " 58%|█████▊    | 4124/7124 [02:09<01:53, 26.38it/s]\u001b[A\n",
            " 58%|█████▊    | 4129/7124 [02:09<01:41, 29.55it/s]\u001b[A\n",
            " 58%|█████▊    | 4134/7124 [02:09<01:32, 32.20it/s]\u001b[A\n",
            " 58%|█████▊    | 4139/7124 [02:10<01:50, 27.06it/s]\u001b[A\n",
            " 58%|█████▊    | 4144/7124 [02:10<01:38, 30.19it/s]\u001b[A\n",
            " 58%|█████▊    | 4149/7124 [02:10<01:31, 32.48it/s]\u001b[A\n",
            " 58%|█████▊    | 4153/7124 [02:10<01:27, 34.00it/s]\u001b[A\n",
            " 58%|█████▊    | 4157/7124 [02:10<01:23, 35.56it/s]\u001b[A\n",
            " 58%|█████▊    | 4161/7124 [02:10<01:51, 26.55it/s]\u001b[A\n",
            " 58%|█████▊    | 4165/7124 [02:10<01:40, 29.49it/s]\u001b[A\n",
            " 59%|█████▊    | 4169/7124 [02:11<01:33, 31.70it/s]\u001b[A\n",
            " 59%|█████▊    | 4174/7124 [02:11<01:50, 26.65it/s]\u001b[A\n",
            " 59%|█████▊    | 4179/7124 [02:11<01:38, 29.95it/s]\u001b[A\n",
            " 59%|█████▊    | 4184/7124 [02:11<01:28, 33.08it/s]\u001b[A\n",
            " 59%|█████▉    | 4189/7124 [02:11<01:22, 35.59it/s]\u001b[A\n",
            " 59%|█████▉    | 4193/7124 [02:11<02:03, 23.79it/s]\u001b[A\n",
            " 59%|█████▉    | 4198/7124 [02:12<01:47, 27.34it/s]\u001b[A\n",
            " 59%|█████▉    | 4203/7124 [02:12<01:35, 30.46it/s]\u001b[A\n",
            " 59%|█████▉    | 4207/7124 [02:12<01:56, 25.10it/s]\u001b[A\n",
            " 59%|█████▉    | 4212/7124 [02:12<01:42, 28.35it/s]\u001b[A\n",
            " 59%|█████▉    | 4217/7124 [02:12<01:31, 31.61it/s]\u001b[A\n",
            " 59%|█████▉    | 4222/7124 [02:12<01:23, 34.66it/s]\u001b[A\n",
            " 59%|█████▉    | 4226/7124 [02:12<01:36, 30.06it/s]\u001b[A\n",
            " 59%|█████▉    | 4230/7124 [02:13<01:33, 30.85it/s]\u001b[A\n",
            " 59%|█████▉    | 4234/7124 [02:13<01:27, 32.89it/s]\u001b[A\n",
            " 60%|█████▉    | 4239/7124 [02:13<01:22, 34.81it/s]\u001b[A\n",
            " 60%|█████▉    | 4244/7124 [02:13<01:41, 28.38it/s]\u001b[A\n",
            " 60%|█████▉    | 4248/7124 [02:13<01:34, 30.46it/s]\u001b[A\n",
            " 60%|█████▉    | 4252/7124 [02:13<01:28, 32.54it/s]\u001b[A\n",
            " 60%|█████▉    | 4257/7124 [02:13<01:22, 34.77it/s]\u001b[A\n",
            " 60%|█████▉    | 4262/7124 [02:14<01:41, 28.28it/s]\u001b[A\n",
            " 60%|█████▉    | 4266/7124 [02:14<01:33, 30.50it/s]\u001b[A\n",
            " 60%|█████▉    | 4271/7124 [02:14<01:25, 33.51it/s]\u001b[A\n",
            " 60%|██████    | 4276/7124 [02:14<01:17, 36.65it/s]\u001b[A\n",
            " 60%|██████    | 4281/7124 [02:14<01:26, 32.71it/s]\u001b[A\n",
            " 60%|██████    | 4286/7124 [02:14<01:21, 34.63it/s]\u001b[A\n",
            " 60%|██████    | 4291/7124 [02:14<01:17, 36.70it/s]\u001b[A\n",
            " 60%|██████    | 4296/7124 [02:15<01:13, 38.44it/s]\u001b[A\n",
            " 60%|██████    | 4301/7124 [02:15<01:34, 30.03it/s]\u001b[A\n",
            " 60%|██████    | 4306/7124 [02:15<01:25, 32.88it/s]\u001b[A\n",
            " 61%|██████    | 4311/7124 [02:15<01:19, 35.35it/s]\u001b[A\n",
            " 61%|██████    | 4316/7124 [02:15<01:14, 37.48it/s]\u001b[A\n",
            " 61%|██████    | 4320/7124 [02:15<01:40, 27.82it/s]\u001b[A\n",
            " 61%|██████    | 4324/7124 [02:15<01:32, 30.39it/s]\u001b[A\n",
            " 61%|██████    | 4329/7124 [02:16<01:24, 33.13it/s]\u001b[A\n",
            " 61%|██████    | 4334/7124 [02:16<01:17, 36.07it/s]\u001b[A\n",
            " 61%|██████    | 4338/7124 [02:16<01:41, 27.56it/s]\u001b[A\n",
            " 61%|██████    | 4343/7124 [02:16<01:29, 31.16it/s]\u001b[A\n",
            " 61%|██████    | 4348/7124 [02:16<01:20, 34.54it/s]\u001b[A\n",
            " 61%|██████    | 4352/7124 [02:16<01:17, 35.85it/s]\u001b[A\n",
            " 61%|██████    | 4356/7124 [02:17<01:51, 24.80it/s]\u001b[A\n",
            " 61%|██████    | 4360/7124 [02:17<01:39, 27.76it/s]\u001b[A\n",
            " 61%|██████▏   | 4365/7124 [02:17<01:27, 31.37it/s]\u001b[A\n",
            " 61%|██████▏   | 4370/7124 [02:17<01:20, 34.08it/s]\u001b[A\n",
            " 61%|██████▏   | 4374/7124 [02:17<01:44, 26.24it/s]\u001b[A\n",
            " 61%|██████▏   | 4379/7124 [02:17<01:33, 29.29it/s]\u001b[A\n",
            " 62%|██████▏   | 4383/7124 [02:17<01:26, 31.84it/s]\u001b[A\n",
            " 62%|██████▏   | 4388/7124 [02:18<01:42, 26.74it/s]\u001b[A\n",
            " 62%|██████▏   | 4393/7124 [02:18<01:30, 30.08it/s]\u001b[A\n",
            " 62%|██████▏   | 4398/7124 [02:18<01:20, 33.85it/s]\u001b[A\n",
            " 62%|██████▏   | 4403/7124 [02:18<01:14, 36.50it/s]\u001b[A\n",
            " 62%|██████▏   | 4408/7124 [02:18<01:32, 29.23it/s]\u001b[A\n",
            " 62%|██████▏   | 4413/7124 [02:18<01:24, 32.01it/s]\u001b[A\n",
            " 62%|██████▏   | 4418/7124 [02:18<01:18, 34.55it/s]\u001b[A\n",
            " 62%|██████▏   | 4423/7124 [02:19<01:14, 36.14it/s]\u001b[A\n",
            " 62%|██████▏   | 4427/7124 [02:19<01:29, 30.12it/s]\u001b[A\n",
            " 62%|██████▏   | 4432/7124 [02:19<01:20, 33.35it/s]\u001b[A\n",
            " 62%|██████▏   | 4437/7124 [02:19<01:13, 36.38it/s]\u001b[A\n",
            " 62%|██████▏   | 4442/7124 [02:19<01:10, 37.88it/s]\u001b[A\n",
            " 62%|██████▏   | 4447/7124 [02:19<01:28, 30.26it/s]\u001b[A\n",
            " 62%|██████▏   | 4452/7124 [02:19<01:20, 33.32it/s]\u001b[A\n",
            " 63%|██████▎   | 4457/7124 [02:20<01:15, 35.27it/s]\u001b[A\n",
            " 63%|██████▎   | 4462/7124 [02:20<01:30, 29.32it/s]\u001b[A\n",
            " 63%|██████▎   | 4467/7124 [02:20<01:21, 32.49it/s]\u001b[A\n",
            " 63%|██████▎   | 4472/7124 [02:20<01:15, 35.32it/s]\u001b[A\n",
            " 63%|██████▎   | 4477/7124 [02:20<01:10, 37.56it/s]\u001b[A\n",
            " 63%|██████▎   | 4482/7124 [02:20<01:18, 33.74it/s]\u001b[A\n",
            " 63%|██████▎   | 4487/7124 [02:20<01:13, 35.65it/s]\u001b[A\n",
            " 63%|██████▎   | 4491/7124 [02:21<01:13, 35.59it/s]\u001b[A\n",
            " 63%|██████▎   | 4496/7124 [02:21<01:10, 37.16it/s]\u001b[A\n",
            " 63%|██████▎   | 4500/7124 [02:21<01:37, 27.02it/s]\u001b[A\n",
            " 63%|██████▎   | 4504/7124 [02:21<01:27, 29.87it/s]\u001b[A\n",
            " 63%|██████▎   | 4509/7124 [02:21<01:19, 32.73it/s]\u001b[A\n",
            " 63%|██████▎   | 4514/7124 [02:21<01:34, 27.55it/s]\u001b[A\n",
            " 63%|██████▎   | 4518/7124 [02:21<01:27, 29.66it/s]\u001b[A\n",
            " 63%|██████▎   | 4523/7124 [02:22<01:19, 32.63it/s]\u001b[A\n",
            " 64%|██████▎   | 4527/7124 [02:22<01:16, 33.95it/s]\u001b[A\n",
            " 64%|██████▎   | 4532/7124 [02:22<01:32, 28.11it/s]\u001b[A\n",
            " 64%|██████▎   | 4536/7124 [02:22<01:26, 29.92it/s]\u001b[A\n",
            " 64%|██████▎   | 4540/7124 [02:22<01:21, 31.85it/s]\u001b[A\n",
            " 64%|██████▍   | 4545/7124 [02:22<01:14, 34.64it/s]\u001b[A\n",
            " 64%|██████▍   | 4549/7124 [02:23<01:36, 26.60it/s]\u001b[A\n",
            " 64%|██████▍   | 4554/7124 [02:23<01:24, 30.33it/s]\u001b[A\n",
            " 64%|██████▍   | 4558/7124 [02:23<01:18, 32.51it/s]\u001b[A\n",
            " 64%|██████▍   | 4563/7124 [02:23<01:14, 34.52it/s]\u001b[A\n",
            " 64%|██████▍   | 4567/7124 [02:23<01:38, 26.01it/s]\u001b[A\n",
            " 64%|██████▍   | 4572/7124 [02:23<01:26, 29.37it/s]\u001b[A\n",
            " 64%|██████▍   | 4576/7124 [02:23<01:21, 31.40it/s]\u001b[A\n",
            " 64%|██████▍   | 4581/7124 [02:24<01:35, 26.69it/s]\u001b[A\n",
            " 64%|██████▍   | 4586/7124 [02:24<01:23, 30.41it/s]\u001b[A\n",
            " 64%|██████▍   | 4591/7124 [02:24<01:16, 33.24it/s]\u001b[A\n",
            " 65%|██████▍   | 4596/7124 [02:24<01:11, 35.60it/s]\u001b[A\n",
            " 65%|██████▍   | 4600/7124 [02:24<01:31, 27.54it/s]\u001b[A\n",
            " 65%|██████▍   | 4604/7124 [02:24<01:22, 30.38it/s]\u001b[A\n",
            " 65%|██████▍   | 4608/7124 [02:24<01:16, 32.68it/s]\u001b[A\n",
            " 65%|██████▍   | 4612/7124 [02:24<01:12, 34.49it/s]\u001b[A\n",
            " 65%|██████▍   | 4617/7124 [02:25<01:06, 37.86it/s]\u001b[A\n",
            " 65%|██████▍   | 4622/7124 [02:25<01:25, 29.21it/s]\u001b[A\n",
            " 65%|██████▍   | 4627/7124 [02:25<01:17, 32.19it/s]\u001b[A\n",
            " 65%|██████▌   | 4632/7124 [02:25<01:11, 34.72it/s]\u001b[A\n",
            " 65%|██████▌   | 4636/7124 [02:25<01:32, 27.04it/s]\u001b[A\n",
            " 65%|██████▌   | 4641/7124 [02:25<01:22, 30.11it/s]\u001b[A\n",
            " 65%|██████▌   | 4646/7124 [02:25<01:14, 33.32it/s]\u001b[A\n",
            " 65%|██████▌   | 4651/7124 [02:26<01:09, 35.57it/s]\u001b[A\n",
            " 65%|██████▌   | 4655/7124 [02:26<01:32, 26.77it/s]\u001b[A\n",
            " 65%|██████▌   | 4659/7124 [02:26<01:24, 29.23it/s]\u001b[A\n",
            " 65%|██████▌   | 4664/7124 [02:26<01:15, 32.63it/s]\u001b[A\n",
            " 66%|██████▌   | 4668/7124 [02:26<01:11, 34.32it/s]\u001b[A\n",
            " 66%|██████▌   | 4672/7124 [02:26<01:33, 26.18it/s]\u001b[A\n",
            " 66%|██████▌   | 4677/7124 [02:27<01:23, 29.41it/s]\u001b[A\n",
            " 66%|██████▌   | 4682/7124 [02:27<01:15, 32.15it/s]\u001b[A\n",
            " 66%|██████▌   | 4687/7124 [02:27<01:10, 34.52it/s]\u001b[A\n",
            " 66%|██████▌   | 4691/7124 [02:27<01:38, 24.76it/s]\u001b[A\n",
            " 66%|██████▌   | 4696/7124 [02:27<01:25, 28.37it/s]\u001b[A\n",
            " 66%|██████▌   | 4701/7124 [02:27<01:16, 31.53it/s]\u001b[A\n",
            " 66%|██████▌   | 4706/7124 [02:27<01:09, 34.76it/s]\u001b[A\n",
            " 66%|██████▌   | 4710/7124 [02:28<01:29, 26.98it/s]\u001b[A\n",
            " 66%|██████▌   | 4715/7124 [02:28<01:19, 30.49it/s]\u001b[A\n",
            " 66%|██████▋   | 4720/7124 [02:28<01:12, 33.14it/s]\u001b[A\n",
            " 66%|██████▋   | 4725/7124 [02:28<01:07, 35.33it/s]\u001b[A\n",
            " 66%|██████▋   | 4729/7124 [02:28<01:14, 32.34it/s]\u001b[A\n",
            " 66%|██████▋   | 4734/7124 [02:28<01:07, 35.34it/s]\u001b[A\n",
            " 67%|██████▋   | 4739/7124 [02:28<01:04, 36.90it/s]\u001b[A\n",
            " 67%|██████▋   | 4744/7124 [02:28<01:02, 38.38it/s]\u001b[A\n",
            " 67%|██████▋   | 4749/7124 [02:29<01:18, 30.28it/s]\u001b[A\n",
            " 67%|██████▋   | 4753/7124 [02:29<01:14, 31.99it/s]\u001b[A\n",
            " 67%|██████▋   | 4758/7124 [02:29<01:09, 34.29it/s]\u001b[A\n",
            " 67%|██████▋   | 4762/7124 [02:29<01:21, 29.16it/s]\u001b[A\n",
            " 67%|██████▋   | 4767/7124 [02:29<01:13, 31.98it/s]\u001b[A\n",
            " 67%|██████▋   | 4772/7124 [02:29<01:07, 34.73it/s]\u001b[A\n",
            " 67%|██████▋   | 4777/7124 [02:29<01:04, 36.51it/s]\u001b[A\n",
            " 67%|██████▋   | 4781/7124 [02:30<01:08, 33.99it/s]\u001b[A\n",
            " 67%|██████▋   | 4786/7124 [02:30<01:04, 36.10it/s]\u001b[A\n",
            " 67%|██████▋   | 4791/7124 [02:30<01:02, 37.61it/s]\u001b[A\n",
            " 67%|██████▋   | 4796/7124 [02:30<01:17, 30.15it/s]\u001b[A\n",
            " 67%|██████▋   | 4801/7124 [02:30<01:10, 32.96it/s]\u001b[A\n",
            " 67%|██████▋   | 4806/7124 [02:30<01:05, 35.23it/s]\u001b[A\n",
            " 68%|██████▊   | 4811/7124 [02:30<01:01, 37.56it/s]\u001b[A\n",
            " 68%|██████▊   | 4815/7124 [02:31<01:24, 27.29it/s]\u001b[A\n",
            " 68%|██████▊   | 4820/7124 [02:31<01:15, 30.38it/s]\u001b[A\n",
            " 68%|██████▊   | 4825/7124 [02:31<01:10, 32.63it/s]\u001b[A\n",
            " 68%|██████▊   | 4830/7124 [02:31<01:05, 34.83it/s]\u001b[A\n",
            " 68%|██████▊   | 4834/7124 [02:31<01:07, 33.77it/s]\u001b[A\n",
            " 68%|██████▊   | 4839/7124 [02:31<01:03, 36.05it/s]\u001b[A\n",
            " 68%|██████▊   | 4844/7124 [02:31<01:01, 37.27it/s]\u001b[A\n",
            " 68%|██████▊   | 4849/7124 [02:32<00:57, 39.33it/s]\u001b[A\n",
            " 68%|██████▊   | 4854/7124 [02:32<01:23, 27.32it/s]\u001b[A\n",
            " 68%|██████▊   | 4859/7124 [02:32<01:14, 30.58it/s]\u001b[A\n",
            " 68%|██████▊   | 4864/7124 [02:32<01:08, 32.99it/s]\u001b[A\n",
            " 68%|██████▊   | 4868/7124 [02:32<01:21, 27.74it/s]\u001b[A\n",
            " 68%|██████▊   | 4873/7124 [02:32<01:11, 31.40it/s]\u001b[A\n",
            " 68%|██████▊   | 4878/7124 [02:33<01:05, 34.48it/s]\u001b[A\n",
            " 69%|██████▊   | 4882/7124 [02:33<01:02, 35.65it/s]\u001b[A\n",
            " 69%|██████▊   | 4886/7124 [02:33<01:23, 26.79it/s]\u001b[A\n",
            " 69%|██████▊   | 4891/7124 [02:33<01:14, 30.05it/s]\u001b[A\n",
            " 69%|██████▊   | 4896/7124 [02:33<01:06, 33.46it/s]\u001b[A\n",
            " 69%|██████▉   | 4901/7124 [02:33<01:01, 36.28it/s]\u001b[A\n",
            " 69%|██████▉   | 4906/7124 [02:33<01:16, 29.03it/s]\u001b[A\n",
            " 69%|██████▉   | 4911/7124 [02:34<01:08, 32.27it/s]\u001b[A\n",
            " 69%|██████▉   | 4916/7124 [02:34<01:04, 34.44it/s]\u001b[A\n",
            " 69%|██████▉   | 4920/7124 [02:34<01:22, 26.58it/s]\u001b[A\n",
            " 69%|██████▉   | 4925/7124 [02:34<01:13, 29.73it/s]\u001b[A\n",
            " 69%|██████▉   | 4930/7124 [02:34<01:06, 32.79it/s]\u001b[A\n",
            " 69%|██████▉   | 4935/7124 [02:34<01:00, 36.16it/s]\u001b[A\n",
            " 69%|██████▉   | 4940/7124 [02:35<01:14, 29.27it/s]\u001b[A\n",
            " 69%|██████▉   | 4945/7124 [02:35<01:06, 32.62it/s]\u001b[A\n",
            " 69%|██████▉   | 4950/7124 [02:35<01:01, 35.10it/s]\u001b[A\n",
            " 70%|██████▉   | 4955/7124 [02:35<01:13, 29.52it/s]\u001b[A\n",
            " 70%|██████▉   | 4960/7124 [02:35<01:06, 32.77it/s]\u001b[A\n",
            " 70%|██████▉   | 4965/7124 [02:35<01:00, 35.56it/s]\u001b[A\n",
            " 70%|██████▉   | 4969/7124 [02:35<00:59, 36.02it/s]\u001b[A\n",
            " 70%|██████▉   | 4973/7124 [02:36<01:19, 27.13it/s]\u001b[A\n",
            " 70%|██████▉   | 4978/7124 [02:36<01:10, 30.31it/s]\u001b[A\n",
            " 70%|██████▉   | 4983/7124 [02:36<01:04, 33.18it/s]\u001b[A\n",
            " 70%|███████   | 4988/7124 [02:36<00:58, 36.79it/s]\u001b[A\n",
            " 70%|███████   | 4993/7124 [02:36<01:12, 29.31it/s]\u001b[A\n",
            " 70%|███████   | 4997/7124 [02:36<01:07, 31.74it/s]\u001b[A\n",
            " 70%|███████   | 5002/7124 [02:36<01:02, 33.96it/s]\u001b[A\n",
            " 70%|███████   | 5007/7124 [02:36<00:59, 35.84it/s]\u001b[A\n",
            " 70%|███████   | 5011/7124 [02:37<01:17, 27.12it/s]\u001b[A\n",
            " 70%|███████   | 5016/7124 [02:37<01:09, 30.13it/s]\u001b[A\n",
            " 70%|███████   | 5021/7124 [02:37<01:03, 32.90it/s]\u001b[A\n",
            " 71%|███████   | 5026/7124 [02:37<01:01, 34.08it/s]\u001b[A\n",
            " 71%|███████   | 5030/7124 [02:37<00:58, 35.64it/s]\u001b[A\n",
            " 71%|███████   | 5035/7124 [02:37<00:54, 38.27it/s]\u001b[A\n",
            " 71%|███████   | 5040/7124 [02:37<00:52, 39.65it/s]\u001b[A\n",
            " 71%|███████   | 5045/7124 [02:38<01:08, 30.50it/s]\u001b[A\n",
            " 71%|███████   | 5049/7124 [02:38<01:03, 32.73it/s]\u001b[A\n",
            " 71%|███████   | 5054/7124 [02:38<00:59, 34.93it/s]\u001b[A\n",
            " 71%|███████   | 5059/7124 [02:38<00:56, 36.85it/s]\u001b[A\n",
            " 71%|███████   | 5063/7124 [02:38<01:16, 27.07it/s]\u001b[A\n",
            " 71%|███████   | 5068/7124 [02:38<01:07, 30.39it/s]\u001b[A\n",
            " 71%|███████   | 5073/7124 [02:38<01:02, 32.82it/s]\u001b[A\n",
            " 71%|███████▏  | 5077/7124 [02:39<01:00, 34.07it/s]\u001b[A\n",
            " 71%|███████▏  | 5081/7124 [02:39<01:18, 26.08it/s]\u001b[A\n",
            " 71%|███████▏  | 5086/7124 [02:39<01:09, 29.17it/s]\u001b[A\n",
            " 71%|███████▏  | 5090/7124 [02:39<01:04, 31.60it/s]\u001b[A\n",
            " 72%|███████▏  | 5095/7124 [02:39<00:59, 34.12it/s]\u001b[A\n",
            " 72%|███████▏  | 5099/7124 [02:39<00:57, 35.47it/s]\u001b[A\n",
            " 72%|███████▏  | 5103/7124 [02:39<01:12, 27.80it/s]\u001b[A\n",
            " 72%|███████▏  | 5107/7124 [02:40<01:06, 30.52it/s]\u001b[A\n",
            " 72%|███████▏  | 5111/7124 [02:40<01:01, 32.79it/s]\u001b[A\n",
            " 72%|███████▏  | 5116/7124 [02:40<00:56, 35.25it/s]\u001b[A\n",
            " 72%|███████▏  | 5120/7124 [02:40<01:14, 26.94it/s]\u001b[A\n",
            " 72%|███████▏  | 5125/7124 [02:40<01:06, 30.28it/s]\u001b[A\n",
            " 72%|███████▏  | 5130/7124 [02:40<01:00, 32.79it/s]\u001b[A\n",
            " 72%|███████▏  | 5135/7124 [02:40<00:56, 34.96it/s]\u001b[A\n",
            " 72%|███████▏  | 5139/7124 [02:41<01:15, 26.44it/s]\u001b[A\n",
            " 72%|███████▏  | 5144/7124 [02:41<01:06, 29.62it/s]\u001b[A\n",
            " 72%|███████▏  | 5149/7124 [02:41<00:59, 33.15it/s]\u001b[A\n",
            " 72%|███████▏  | 5154/7124 [02:41<00:55, 35.42it/s]\u001b[A\n",
            " 72%|███████▏  | 5158/7124 [02:41<01:14, 26.44it/s]\u001b[A\n",
            " 72%|███████▏  | 5163/7124 [02:41<01:05, 30.01it/s]\u001b[A\n",
            " 73%|███████▎  | 5167/7124 [02:41<01:02, 31.55it/s]\u001b[A\n",
            " 73%|███████▎  | 5171/7124 [02:42<00:58, 33.46it/s]\u001b[A\n",
            " 73%|███████▎  | 5175/7124 [02:42<01:16, 25.44it/s]\u001b[A\n",
            " 73%|███████▎  | 5180/7124 [02:42<01:06, 29.12it/s]\u001b[A\n",
            " 73%|███████▎  | 5184/7124 [02:42<01:01, 31.55it/s]\u001b[A\n",
            " 73%|███████▎  | 5189/7124 [02:42<00:56, 34.00it/s]\u001b[A\n",
            " 73%|███████▎  | 5193/7124 [02:42<01:19, 24.33it/s]\u001b[A\n",
            " 73%|███████▎  | 5197/7124 [02:43<01:11, 26.88it/s]\u001b[A\n",
            " 73%|███████▎  | 5201/7124 [02:43<01:04, 29.69it/s]\u001b[A\n",
            " 73%|███████▎  | 5206/7124 [02:43<00:59, 32.26it/s]\u001b[A\n",
            " 73%|███████▎  | 5210/7124 [02:43<01:14, 25.61it/s]\u001b[A\n",
            " 73%|███████▎  | 5215/7124 [02:43<01:06, 28.83it/s]\u001b[A\n",
            " 73%|███████▎  | 5219/7124 [02:43<01:02, 30.65it/s]\u001b[A\n",
            " 73%|███████▎  | 5224/7124 [02:43<00:56, 33.71it/s]\u001b[A\n",
            " 73%|███████▎  | 5228/7124 [02:43<01:02, 30.44it/s]\u001b[A\n",
            " 73%|███████▎  | 5233/7124 [02:44<00:56, 33.58it/s]\u001b[A\n",
            " 74%|███████▎  | 5238/7124 [02:44<00:51, 36.41it/s]\u001b[A\n",
            " 74%|███████▎  | 5243/7124 [02:44<00:48, 39.12it/s]\u001b[A\n",
            " 74%|███████▎  | 5248/7124 [02:44<01:02, 30.11it/s]\u001b[A\n",
            " 74%|███████▎  | 5253/7124 [02:44<00:57, 32.59it/s]\u001b[A\n",
            " 74%|███████▍  | 5258/7124 [02:44<00:53, 35.10it/s]\u001b[A\n",
            " 74%|███████▍  | 5262/7124 [02:45<01:09, 26.69it/s]\u001b[A\n",
            " 74%|███████▍  | 5267/7124 [02:45<01:01, 30.07it/s]\u001b[A\n",
            " 74%|███████▍  | 5272/7124 [02:45<00:55, 33.17it/s]\u001b[A\n",
            " 74%|███████▍  | 5277/7124 [02:45<00:51, 35.54it/s]\u001b[A\n",
            " 74%|███████▍  | 5281/7124 [02:45<01:05, 28.14it/s]\u001b[A\n",
            " 74%|███████▍  | 5285/7124 [02:45<00:59, 30.84it/s]\u001b[A\n",
            " 74%|███████▍  | 5289/7124 [02:45<00:55, 32.88it/s]\u001b[A\n",
            " 74%|███████▍  | 5294/7124 [02:45<00:52, 34.67it/s]\u001b[A\n",
            " 74%|███████▍  | 5298/7124 [02:46<01:08, 26.58it/s]\u001b[A\n",
            " 74%|███████▍  | 5303/7124 [02:46<01:01, 29.83it/s]\u001b[A\n",
            " 75%|███████▍  | 5308/7124 [02:46<00:55, 32.62it/s]\u001b[A\n",
            " 75%|███████▍  | 5313/7124 [02:46<00:51, 34.98it/s]\u001b[A\n",
            " 75%|███████▍  | 5317/7124 [02:46<01:07, 26.60it/s]\u001b[A\n",
            " 75%|███████▍  | 5321/7124 [02:46<01:01, 29.30it/s]\u001b[A\n",
            " 75%|███████▍  | 5326/7124 [02:46<00:55, 32.24it/s]\u001b[A\n",
            " 75%|███████▍  | 5330/7124 [02:47<00:53, 33.83it/s]\u001b[A\n",
            " 75%|███████▍  | 5334/7124 [02:47<01:07, 26.57it/s]\u001b[A\n",
            " 75%|███████▍  | 5339/7124 [02:47<00:59, 30.06it/s]\u001b[A\n",
            " 75%|███████▌  | 5344/7124 [02:47<00:53, 33.40it/s]\u001b[A\n",
            " 75%|███████▌  | 5349/7124 [02:47<00:49, 35.65it/s]\u001b[A\n",
            " 75%|███████▌  | 5353/7124 [02:47<01:11, 24.84it/s]\u001b[A\n",
            " 75%|███████▌  | 5357/7124 [02:48<01:04, 27.36it/s]\u001b[A\n",
            " 75%|███████▌  | 5361/7124 [02:48<01:00, 29.05it/s]\u001b[A\n",
            " 75%|███████▌  | 5365/7124 [02:48<00:56, 31.19it/s]\u001b[A\n",
            " 75%|███████▌  | 5369/7124 [02:48<01:12, 24.23it/s]\u001b[A\n",
            " 75%|███████▌  | 5373/7124 [02:48<01:04, 27.12it/s]\u001b[A\n",
            " 75%|███████▌  | 5377/7124 [02:48<00:59, 29.34it/s]\u001b[A\n",
            " 76%|███████▌  | 5381/7124 [02:48<00:54, 31.72it/s]\u001b[A\n",
            " 76%|███████▌  | 5385/7124 [02:48<00:51, 33.71it/s]\u001b[A\n",
            " 76%|███████▌  | 5389/7124 [02:49<01:06, 26.15it/s]\u001b[A\n",
            " 76%|███████▌  | 5394/7124 [02:49<00:59, 29.30it/s]\u001b[A\n",
            " 76%|███████▌  | 5399/7124 [02:49<00:54, 31.77it/s]\u001b[A\n",
            " 76%|███████▌  | 5403/7124 [02:49<01:07, 25.58it/s]\u001b[A\n",
            " 76%|███████▌  | 5408/7124 [02:49<00:59, 28.95it/s]\u001b[A\n",
            " 76%|███████▌  | 5413/7124 [02:49<00:52, 32.54it/s]\u001b[A\n",
            " 76%|███████▌  | 5418/7124 [02:49<00:48, 34.93it/s]\u001b[A\n",
            " 76%|███████▌  | 5422/7124 [02:50<01:04, 26.56it/s]\u001b[A\n",
            " 76%|███████▌  | 5427/7124 [02:50<00:56, 29.94it/s]\u001b[A\n",
            " 76%|███████▌  | 5432/7124 [02:50<00:50, 33.66it/s]\u001b[A\n",
            " 76%|███████▋  | 5437/7124 [02:50<00:46, 36.55it/s]\u001b[A\n",
            " 76%|███████▋  | 5442/7124 [02:50<00:56, 29.57it/s]\u001b[A\n",
            " 76%|███████▋  | 5447/7124 [02:50<00:51, 32.86it/s]\u001b[A\n",
            " 77%|███████▋  | 5452/7124 [02:51<00:47, 35.25it/s]\u001b[A\n",
            " 77%|███████▋  | 5457/7124 [02:51<00:58, 28.45it/s]\u001b[A\n",
            " 77%|███████▋  | 5461/7124 [02:51<00:53, 31.15it/s]\u001b[A\n",
            " 77%|███████▋  | 5466/7124 [02:51<00:49, 33.50it/s]\u001b[A\n",
            " 77%|███████▋  | 5471/7124 [02:51<00:46, 35.79it/s]\u001b[A\n",
            " 77%|███████▋  | 5476/7124 [02:51<00:50, 32.40it/s]\u001b[A\n",
            " 77%|███████▋  | 5481/7124 [02:51<00:47, 34.74it/s]\u001b[A\n",
            " 77%|███████▋  | 5486/7124 [02:52<00:44, 37.01it/s]\u001b[A\n",
            " 77%|███████▋  | 5490/7124 [02:52<00:43, 37.79it/s]\u001b[A\n",
            " 77%|███████▋  | 5494/7124 [02:52<00:55, 29.55it/s]\u001b[A\n",
            " 77%|███████▋  | 5500/7124 [02:52<00:48, 33.61it/s]\u001b[A\n",
            " 77%|███████▋  | 5505/7124 [02:52<00:45, 35.52it/s]\u001b[A\n",
            " 77%|███████▋  | 5509/7124 [02:52<00:44, 36.67it/s]\u001b[A\n",
            " 77%|███████▋  | 5513/7124 [02:52<01:03, 25.31it/s]\u001b[A\n",
            " 77%|███████▋  | 5518/7124 [02:53<00:55, 29.14it/s]\u001b[A\n",
            " 78%|███████▊  | 5522/7124 [02:53<00:51, 31.26it/s]\u001b[A\n",
            " 78%|███████▊  | 5527/7124 [02:53<00:47, 33.76it/s]\u001b[A\n",
            " 78%|███████▊  | 5531/7124 [02:53<00:59, 26.90it/s]\u001b[A\n",
            " 78%|███████▊  | 5536/7124 [02:53<00:52, 30.15it/s]\u001b[A\n",
            " 78%|███████▊  | 5540/7124 [02:53<00:49, 32.20it/s]\u001b[A\n",
            " 78%|███████▊  | 5545/7124 [02:53<00:44, 35.63it/s]\u001b[A\n",
            " 78%|███████▊  | 5549/7124 [02:54<00:59, 26.67it/s]\u001b[A\n",
            " 78%|███████▊  | 5554/7124 [02:54<00:52, 29.90it/s]\u001b[A\n",
            " 78%|███████▊  | 5559/7124 [02:54<00:48, 32.58it/s]\u001b[A\n",
            " 78%|███████▊  | 5563/7124 [02:54<00:46, 33.43it/s]\u001b[A\n",
            " 78%|███████▊  | 5567/7124 [02:54<00:54, 28.49it/s]\u001b[A\n",
            " 78%|███████▊  | 5571/7124 [02:54<00:50, 30.97it/s]\u001b[A\n",
            " 78%|███████▊  | 5576/7124 [02:54<00:46, 33.41it/s]\u001b[A\n",
            " 78%|███████▊  | 5580/7124 [02:54<00:44, 35.03it/s]\u001b[A\n",
            " 78%|███████▊  | 5584/7124 [02:55<00:57, 26.92it/s]\u001b[A\n",
            " 78%|███████▊  | 5589/7124 [02:55<00:50, 30.45it/s]\u001b[A\n",
            " 79%|███████▊  | 5594/7124 [02:55<00:44, 34.05it/s]\u001b[A\n",
            " 79%|███████▊  | 5599/7124 [02:55<00:42, 35.95it/s]\u001b[A\n",
            " 79%|███████▊  | 5603/7124 [02:55<00:56, 26.89it/s]\u001b[A\n",
            " 79%|███████▊  | 5608/7124 [02:55<00:49, 30.49it/s]\u001b[A\n",
            " 79%|███████▉  | 5613/7124 [02:55<00:45, 33.45it/s]\u001b[A\n",
            " 79%|███████▉  | 5618/7124 [02:56<00:42, 35.55it/s]\u001b[A\n",
            " 79%|███████▉  | 5622/7124 [02:56<00:55, 26.96it/s]\u001b[A\n",
            " 79%|███████▉  | 5626/7124 [02:56<00:50, 29.83it/s]\u001b[A\n",
            " 79%|███████▉  | 5630/7124 [02:56<00:46, 32.28it/s]\u001b[A\n",
            " 79%|███████▉  | 5635/7124 [02:56<00:51, 28.88it/s]\u001b[A\n",
            " 79%|███████▉  | 5640/7124 [02:56<00:46, 31.72it/s]\u001b[A\n",
            " 79%|███████▉  | 5645/7124 [02:57<00:42, 34.73it/s]\u001b[A\n",
            " 79%|███████▉  | 5650/7124 [02:57<00:40, 36.66it/s]\u001b[A\n",
            " 79%|███████▉  | 5654/7124 [02:57<00:54, 27.17it/s]\u001b[A\n",
            " 79%|███████▉  | 5659/7124 [02:57<00:46, 31.48it/s]\u001b[A\n",
            " 80%|███████▉  | 5664/7124 [02:57<00:42, 33.96it/s]\u001b[A\n",
            " 80%|███████▉  | 5669/7124 [02:57<00:40, 35.89it/s]\u001b[A\n",
            " 80%|███████▉  | 5673/7124 [02:57<00:58, 24.63it/s]\u001b[A\n",
            " 80%|███████▉  | 5677/7124 [02:58<00:52, 27.69it/s]\u001b[A\n",
            " 80%|███████▉  | 5682/7124 [02:58<00:46, 30.70it/s]\u001b[A\n",
            " 80%|███████▉  | 5686/7124 [02:58<00:43, 32.97it/s]\u001b[A\n",
            " 80%|███████▉  | 5690/7124 [02:58<00:56, 25.44it/s]\u001b[A\n",
            " 80%|███████▉  | 5694/7124 [02:58<00:50, 28.49it/s]\u001b[A\n",
            " 80%|███████▉  | 5698/7124 [02:58<00:46, 30.70it/s]\u001b[A\n",
            " 80%|████████  | 5703/7124 [02:58<00:42, 33.06it/s]\u001b[A\n",
            " 80%|████████  | 5707/7124 [02:59<00:54, 25.86it/s]\u001b[A\n",
            " 80%|████████  | 5712/7124 [02:59<00:48, 29.04it/s]\u001b[A\n",
            " 80%|████████  | 5717/7124 [02:59<00:44, 31.60it/s]\u001b[A\n",
            " 80%|████████  | 5722/7124 [02:59<00:44, 31.60it/s]\u001b[A\n",
            " 80%|████████  | 5726/7124 [02:59<00:41, 33.57it/s]\u001b[A\n",
            " 80%|████████  | 5730/7124 [02:59<00:39, 35.26it/s]\u001b[A\n",
            " 81%|████████  | 5735/7124 [02:59<00:37, 36.76it/s]\u001b[A\n",
            " 81%|████████  | 5739/7124 [02:59<00:37, 37.36it/s]\u001b[A\n",
            " 81%|████████  | 5743/7124 [03:00<00:50, 27.12it/s]\u001b[A\n",
            " 81%|████████  | 5748/7124 [03:00<00:45, 30.44it/s]\u001b[A\n",
            " 81%|████████  | 5753/7124 [03:00<00:40, 33.51it/s]\u001b[A\n",
            " 81%|████████  | 5758/7124 [03:00<00:38, 35.94it/s]\u001b[A\n",
            " 81%|████████  | 5762/7124 [03:00<00:50, 27.12it/s]\u001b[A\n",
            " 81%|████████  | 5767/7124 [03:00<00:44, 30.27it/s]\u001b[A\n",
            " 81%|████████  | 5772/7124 [03:01<00:40, 33.09it/s]\u001b[A\n",
            " 81%|████████  | 5776/7124 [03:01<00:38, 34.77it/s]\u001b[A\n",
            " 81%|████████  | 5780/7124 [03:01<00:40, 33.43it/s]\u001b[A\n",
            " 81%|████████  | 5785/7124 [03:01<00:36, 36.57it/s]\u001b[A\n",
            " 81%|████████▏ | 5790/7124 [03:01<00:34, 38.15it/s]\u001b[A\n",
            " 81%|████████▏ | 5795/7124 [03:01<00:33, 39.18it/s]\u001b[A\n",
            " 81%|████████▏ | 5800/7124 [03:01<00:45, 29.42it/s]\u001b[A\n",
            " 81%|████████▏ | 5804/7124 [03:01<00:41, 31.89it/s]\u001b[A\n",
            " 82%|████████▏ | 5809/7124 [03:02<00:37, 34.62it/s]\u001b[A\n",
            " 82%|████████▏ | 5813/7124 [03:02<00:49, 26.23it/s]\u001b[A\n",
            " 82%|████████▏ | 5818/7124 [03:02<00:44, 29.43it/s]\u001b[A\n",
            " 82%|████████▏ | 5822/7124 [03:02<00:41, 31.74it/s]\u001b[A\n",
            " 82%|████████▏ | 5826/7124 [03:02<00:38, 33.59it/s]\u001b[A\n",
            " 82%|████████▏ | 5830/7124 [03:02<00:45, 28.69it/s]\u001b[A\n",
            " 82%|████████▏ | 5835/7124 [03:02<00:41, 31.39it/s]\u001b[A\n",
            " 82%|████████▏ | 5839/7124 [03:03<00:39, 32.45it/s]\u001b[A\n",
            " 82%|████████▏ | 5844/7124 [03:03<00:36, 35.20it/s]\u001b[A\n",
            " 82%|████████▏ | 5848/7124 [03:03<00:47, 26.93it/s]\u001b[A\n",
            " 82%|████████▏ | 5853/7124 [03:03<00:42, 30.19it/s]\u001b[A\n",
            " 82%|████████▏ | 5857/7124 [03:03<00:39, 32.45it/s]\u001b[A\n",
            " 82%|████████▏ | 5862/7124 [03:03<00:36, 34.55it/s]\u001b[A\n",
            " 82%|████████▏ | 5866/7124 [03:03<00:47, 26.22it/s]\u001b[A\n",
            " 82%|████████▏ | 5871/7124 [03:04<00:42, 29.57it/s]\u001b[A\n",
            " 82%|████████▏ | 5876/7124 [03:04<00:37, 33.40it/s]\u001b[A\n",
            " 83%|████████▎ | 5881/7124 [03:04<00:34, 36.13it/s]\u001b[A\n",
            " 83%|████████▎ | 5886/7124 [03:04<00:43, 28.61it/s]\u001b[A\n",
            " 83%|████████▎ | 5891/7124 [03:04<00:38, 31.80it/s]\u001b[A\n",
            " 83%|████████▎ | 5896/7124 [03:04<00:35, 34.24it/s]\u001b[A\n",
            " 83%|████████▎ | 5901/7124 [03:05<00:45, 26.83it/s]\u001b[A\n",
            " 83%|████████▎ | 5905/7124 [03:05<00:42, 28.55it/s]\u001b[A\n",
            " 83%|████████▎ | 5910/7124 [03:05<00:37, 32.09it/s]\u001b[A\n",
            " 83%|████████▎ | 5915/7124 [03:05<00:34, 35.04it/s]\u001b[A\n",
            " 83%|████████▎ | 5919/7124 [03:05<00:45, 26.43it/s]\u001b[A\n",
            " 83%|████████▎ | 5924/7124 [03:05<00:40, 29.98it/s]\u001b[A\n",
            " 83%|████████▎ | 5929/7124 [03:05<00:36, 32.90it/s]\u001b[A\n",
            " 83%|████████▎ | 5934/7124 [03:06<00:33, 35.66it/s]\u001b[A\n",
            " 83%|████████▎ | 5938/7124 [03:06<00:44, 26.92it/s]\u001b[A\n",
            " 83%|████████▎ | 5943/7124 [03:06<00:39, 30.13it/s]\u001b[A\n",
            " 83%|████████▎ | 5948/7124 [03:06<00:35, 33.39it/s]\u001b[A\n",
            " 84%|████████▎ | 5953/7124 [03:06<00:32, 35.99it/s]\u001b[A\n",
            " 84%|████████▎ | 5958/7124 [03:06<00:40, 29.02it/s]\u001b[A\n",
            " 84%|████████▎ | 5963/7124 [03:06<00:36, 32.25it/s]\u001b[A\n",
            " 84%|████████▍ | 5967/7124 [03:07<00:34, 33.82it/s]\u001b[A\n",
            " 84%|████████▍ | 5971/7124 [03:07<00:38, 29.99it/s]\u001b[A\n",
            " 84%|████████▍ | 5976/7124 [03:07<00:34, 32.91it/s]\u001b[A\n",
            " 84%|████████▍ | 5981/7124 [03:07<00:32, 35.42it/s]\u001b[A\n",
            " 84%|████████▍ | 5986/7124 [03:07<00:30, 37.26it/s]\u001b[A\n",
            " 84%|████████▍ | 5990/7124 [03:07<00:41, 27.60it/s]\u001b[A\n",
            " 84%|████████▍ | 5995/7124 [03:07<00:36, 30.90it/s]\u001b[A\n",
            " 84%|████████▍ | 6000/7124 [03:08<00:32, 34.30it/s]\u001b[A\n",
            " 84%|████████▍ | 6004/7124 [03:08<00:31, 35.53it/s]\u001b[A\n",
            " 84%|████████▍ | 6008/7124 [03:08<00:37, 29.73it/s]\u001b[A\n",
            " 84%|████████▍ | 6012/7124 [03:08<00:35, 31.20it/s]\u001b[A\n",
            " 84%|████████▍ | 6017/7124 [03:08<00:31, 34.80it/s]\u001b[A\n",
            " 85%|████████▍ | 6021/7124 [03:08<00:30, 36.01it/s]\u001b[A\n",
            " 85%|████████▍ | 6025/7124 [03:08<00:39, 27.54it/s]\u001b[A\n",
            " 85%|████████▍ | 6029/7124 [03:08<00:36, 30.13it/s]\u001b[A\n",
            " 85%|████████▍ | 6033/7124 [03:09<00:34, 31.42it/s]\u001b[A\n",
            " 85%|████████▍ | 6037/7124 [03:09<00:32, 33.31it/s]\u001b[A\n",
            " 85%|████████▍ | 6042/7124 [03:09<00:30, 35.50it/s]\u001b[A\n",
            " 85%|████████▍ | 6046/7124 [03:09<00:40, 26.61it/s]\u001b[A\n",
            " 85%|████████▍ | 6051/7124 [03:09<00:36, 29.56it/s]\u001b[A\n",
            " 85%|████████▌ | 6056/7124 [03:09<00:33, 32.30it/s]\u001b[A\n",
            " 85%|████████▌ | 6061/7124 [03:09<00:30, 34.85it/s]\u001b[A\n",
            " 85%|████████▌ | 6065/7124 [03:10<00:40, 26.47it/s]\u001b[A\n",
            " 85%|████████▌ | 6070/7124 [03:10<00:35, 29.58it/s]\u001b[A\n",
            " 85%|████████▌ | 6075/7124 [03:10<00:32, 32.62it/s]\u001b[A\n",
            " 85%|████████▌ | 6080/7124 [03:10<00:38, 27.18it/s]\u001b[A\n",
            " 85%|████████▌ | 6084/7124 [03:10<00:34, 29.91it/s]\u001b[A\n",
            " 85%|████████▌ | 6088/7124 [03:10<00:32, 31.96it/s]\u001b[A\n",
            " 86%|████████▌ | 6093/7124 [03:10<00:29, 35.06it/s]\u001b[A\n",
            " 86%|████████▌ | 6097/7124 [03:11<00:38, 26.75it/s]\u001b[A\n",
            " 86%|████████▌ | 6101/7124 [03:11<00:34, 29.68it/s]\u001b[A\n",
            " 86%|████████▌ | 6106/7124 [03:11<00:31, 32.69it/s]\u001b[A\n",
            " 86%|████████▌ | 6111/7124 [03:11<00:28, 35.06it/s]\u001b[A\n",
            " 86%|████████▌ | 6116/7124 [03:11<00:35, 28.44it/s]\u001b[A\n",
            " 86%|████████▌ | 6120/7124 [03:11<00:32, 30.92it/s]\u001b[A\n",
            " 86%|████████▌ | 6124/7124 [03:11<00:30, 32.73it/s]\u001b[A\n",
            " 86%|████████▌ | 6129/7124 [03:12<00:28, 35.22it/s]\u001b[A\n",
            " 86%|████████▌ | 6133/7124 [03:12<00:27, 36.14it/s]\u001b[A\n",
            " 86%|████████▌ | 6137/7124 [03:12<00:35, 27.60it/s]\u001b[A\n",
            " 86%|████████▌ | 6142/7124 [03:12<00:31, 30.88it/s]\u001b[A\n",
            " 86%|████████▋ | 6147/7124 [03:12<00:29, 33.39it/s]\u001b[A\n",
            " 86%|████████▋ | 6152/7124 [03:12<00:27, 35.93it/s]\u001b[A\n",
            " 86%|████████▋ | 6156/7124 [03:13<00:36, 26.21it/s]\u001b[A\n",
            " 86%|████████▋ | 6160/7124 [03:13<00:32, 29.22it/s]\u001b[A\n",
            " 87%|████████▋ | 6164/7124 [03:13<00:30, 31.25it/s]\u001b[A\n",
            " 87%|████████▋ | 6169/7124 [03:13<00:28, 33.20it/s]\u001b[A\n",
            " 87%|████████▋ | 6173/7124 [03:13<00:30, 30.93it/s]\u001b[A\n",
            " 87%|████████▋ | 6177/7124 [03:13<00:28, 32.78it/s]\u001b[A\n",
            " 87%|████████▋ | 6181/7124 [03:13<00:27, 34.59it/s]\u001b[A\n",
            " 87%|████████▋ | 6186/7124 [03:13<00:25, 37.31it/s]\u001b[A\n",
            " 87%|████████▋ | 6190/7124 [03:14<00:33, 27.65it/s]\u001b[A\n",
            " 87%|████████▋ | 6194/7124 [03:14<00:30, 30.39it/s]\u001b[A\n",
            " 87%|████████▋ | 6198/7124 [03:14<00:28, 32.69it/s]\u001b[A\n",
            " 87%|████████▋ | 6203/7124 [03:14<00:25, 35.43it/s]\u001b[A\n",
            " 87%|████████▋ | 6207/7124 [03:14<00:34, 26.61it/s]\u001b[A\n",
            " 87%|████████▋ | 6212/7124 [03:14<00:30, 30.02it/s]\u001b[A\n",
            " 87%|████████▋ | 6217/7124 [03:14<00:27, 32.90it/s]\u001b[A\n",
            " 87%|████████▋ | 6222/7124 [03:14<00:25, 35.47it/s]\u001b[A\n",
            " 87%|████████▋ | 6226/7124 [03:15<00:32, 27.67it/s]\u001b[A\n",
            " 87%|████████▋ | 6231/7124 [03:15<00:28, 30.94it/s]\u001b[A\n",
            " 88%|████████▊ | 6236/7124 [03:15<00:26, 33.83it/s]\u001b[A\n",
            " 88%|████████▊ | 6240/7124 [03:15<00:34, 25.99it/s]\u001b[A\n",
            " 88%|████████▊ | 6244/7124 [03:15<00:30, 28.68it/s]\u001b[A\n",
            " 88%|████████▊ | 6249/7124 [03:15<00:27, 31.57it/s]\u001b[A\n",
            " 88%|████████▊ | 6254/7124 [03:16<00:25, 34.24it/s]\u001b[A\n",
            " 88%|████████▊ | 6258/7124 [03:16<00:33, 26.16it/s]\u001b[A\n",
            " 88%|████████▊ | 6263/7124 [03:16<00:28, 29.94it/s]\u001b[A\n",
            " 88%|████████▊ | 6268/7124 [03:16<00:25, 33.00it/s]\u001b[A\n",
            " 88%|████████▊ | 6272/7124 [03:16<00:24, 34.59it/s]\u001b[A\n",
            " 88%|████████▊ | 6276/7124 [03:16<00:31, 26.87it/s]\u001b[A\n",
            " 88%|████████▊ | 6280/7124 [03:16<00:28, 29.78it/s]\u001b[A\n",
            " 88%|████████▊ | 6285/7124 [03:17<00:25, 32.66it/s]\u001b[A\n",
            " 88%|████████▊ | 6289/7124 [03:17<00:25, 33.05it/s]\u001b[A\n",
            " 88%|████████▊ | 6293/7124 [03:17<00:23, 34.71it/s]\u001b[A\n",
            " 88%|████████▊ | 6297/7124 [03:17<00:30, 27.01it/s]\u001b[A\n",
            " 88%|████████▊ | 6302/7124 [03:17<00:27, 30.35it/s]\u001b[A\n",
            " 89%|████████▊ | 6307/7124 [03:17<00:24, 33.13it/s]\u001b[A\n",
            " 89%|████████▊ | 6312/7124 [03:17<00:23, 35.11it/s]\u001b[A\n",
            " 89%|████████▊ | 6316/7124 [03:18<00:30, 26.57it/s]\u001b[A\n",
            " 89%|████████▊ | 6321/7124 [03:18<00:26, 29.77it/s]\u001b[A\n",
            " 89%|████████▉ | 6325/7124 [03:18<00:25, 31.87it/s]\u001b[A\n",
            " 89%|████████▉ | 6329/7124 [03:18<00:23, 33.42it/s]\u001b[A\n",
            " 89%|████████▉ | 6333/7124 [03:18<00:33, 23.47it/s]\u001b[A\n",
            " 89%|████████▉ | 6337/7124 [03:18<00:30, 26.12it/s]\u001b[A\n",
            " 89%|████████▉ | 6341/7124 [03:18<00:27, 28.41it/s]\u001b[A\n",
            " 89%|████████▉ | 6345/7124 [03:19<00:25, 30.59it/s]\u001b[A\n",
            " 89%|████████▉ | 6349/7124 [03:19<00:31, 24.79it/s]\u001b[A\n",
            " 89%|████████▉ | 6354/7124 [03:19<00:27, 28.49it/s]\u001b[A\n",
            " 89%|████████▉ | 6359/7124 [03:19<00:24, 31.54it/s]\u001b[A\n",
            " 89%|████████▉ | 6363/7124 [03:19<00:22, 33.13it/s]\u001b[A\n",
            " 89%|████████▉ | 6367/7124 [03:19<00:28, 26.74it/s]\u001b[A\n",
            " 89%|████████▉ | 6371/7124 [03:19<00:25, 29.62it/s]\u001b[A\n",
            " 89%|████████▉ | 6375/7124 [03:20<00:23, 31.87it/s]\u001b[A\n",
            " 90%|████████▉ | 6379/7124 [03:20<00:22, 33.70it/s]\u001b[A\n",
            " 90%|████████▉ | 6383/7124 [03:20<00:28, 25.93it/s]\u001b[A\n",
            " 90%|████████▉ | 6388/7124 [03:20<00:25, 28.98it/s]\u001b[A\n",
            " 90%|████████▉ | 6393/7124 [03:20<00:22, 32.18it/s]\u001b[A\n",
            " 90%|████████▉ | 6397/7124 [03:20<00:21, 34.04it/s]\u001b[A\n",
            " 90%|████████▉ | 6402/7124 [03:20<00:26, 26.94it/s]\u001b[A\n",
            " 90%|████████▉ | 6406/7124 [03:21<00:25, 28.35it/s]\u001b[A\n",
            " 90%|████████▉ | 6411/7124 [03:21<00:22, 31.63it/s]\u001b[A\n",
            " 90%|█████████ | 6416/7124 [03:21<00:20, 33.99it/s]\u001b[A\n",
            " 90%|█████████ | 6420/7124 [03:21<00:27, 25.96it/s]\u001b[A\n",
            " 90%|█████████ | 6424/7124 [03:21<00:24, 28.70it/s]\u001b[A\n",
            " 90%|█████████ | 6429/7124 [03:21<00:21, 32.56it/s]\u001b[A\n",
            " 90%|█████████ | 6433/7124 [03:21<00:20, 34.32it/s]\u001b[A\n",
            " 90%|█████████ | 6437/7124 [03:22<00:26, 26.38it/s]\u001b[A\n",
            " 90%|█████████ | 6441/7124 [03:22<00:23, 29.07it/s]\u001b[A\n",
            " 90%|█████████ | 6445/7124 [03:22<00:21, 31.37it/s]\u001b[A\n",
            " 91%|█████████ | 6450/7124 [03:22<00:19, 33.88it/s]\u001b[A\n",
            " 91%|█████████ | 6454/7124 [03:22<00:18, 35.40it/s]\u001b[A\n",
            " 91%|█████████ | 6458/7124 [03:22<00:25, 25.71it/s]\u001b[A\n",
            " 91%|█████████ | 6462/7124 [03:22<00:23, 28.37it/s]\u001b[A\n",
            " 91%|█████████ | 6466/7124 [03:23<00:21, 30.73it/s]\u001b[A\n",
            " 91%|█████████ | 6470/7124 [03:23<00:20, 32.19it/s]\u001b[A\n",
            " 91%|█████████ | 6474/7124 [03:23<00:22, 28.92it/s]\u001b[A\n",
            " 91%|█████████ | 6478/7124 [03:23<00:20, 31.53it/s]\u001b[A\n",
            " 91%|█████████ | 6483/7124 [03:23<00:18, 33.89it/s]\u001b[A\n",
            " 91%|█████████ | 6488/7124 [03:23<00:17, 36.84it/s]\u001b[A\n",
            " 91%|█████████ | 6492/7124 [03:23<00:24, 25.40it/s]\u001b[A\n",
            " 91%|█████████ | 6496/7124 [03:24<00:22, 27.88it/s]\u001b[A\n",
            " 91%|█████████ | 6500/7124 [03:24<00:20, 30.23it/s]\u001b[A\n",
            " 91%|█████████▏| 6505/7124 [03:24<00:23, 26.17it/s]\u001b[A\n",
            " 91%|█████████▏| 6510/7124 [03:24<00:20, 30.19it/s]\u001b[A\n",
            " 91%|█████████▏| 6515/7124 [03:24<00:18, 33.07it/s]\u001b[A\n",
            " 92%|█████████▏| 6520/7124 [03:24<00:16, 35.75it/s]\u001b[A\n",
            " 92%|█████████▏| 6524/7124 [03:24<00:22, 27.04it/s]\u001b[A\n",
            " 92%|█████████▏| 6528/7124 [03:25<00:20, 29.34it/s]\u001b[A\n",
            " 92%|█████████▏| 6532/7124 [03:25<00:18, 31.37it/s]\u001b[A\n",
            " 92%|█████████▏| 6537/7124 [03:25<00:17, 33.87it/s]\u001b[A\n",
            " 92%|█████████▏| 6541/7124 [03:25<00:22, 26.26it/s]\u001b[A\n",
            " 92%|█████████▏| 6546/7124 [03:25<00:19, 29.71it/s]\u001b[A\n",
            " 92%|█████████▏| 6550/7124 [03:25<00:17, 31.99it/s]\u001b[A\n",
            " 92%|█████████▏| 6555/7124 [03:25<00:16, 34.20it/s]\u001b[A\n",
            " 92%|█████████▏| 6560/7124 [03:26<00:20, 27.71it/s]\u001b[A\n",
            " 92%|█████████▏| 6564/7124 [03:26<00:18, 30.16it/s]\u001b[A\n",
            " 92%|█████████▏| 6568/7124 [03:26<00:17, 31.91it/s]\u001b[A\n",
            " 92%|█████████▏| 6572/7124 [03:26<00:16, 33.62it/s]\u001b[A\n",
            " 92%|█████████▏| 6576/7124 [03:26<00:18, 29.95it/s]\u001b[A\n",
            " 92%|█████████▏| 6581/7124 [03:26<00:16, 32.54it/s]\u001b[A\n",
            " 92%|█████████▏| 6586/7124 [03:26<00:15, 35.43it/s]\u001b[A\n",
            " 93%|█████████▎| 6591/7124 [03:26<00:14, 36.85it/s]\u001b[A\n",
            " 93%|█████████▎| 6595/7124 [03:27<00:19, 27.13it/s]\u001b[A\n",
            " 93%|█████████▎| 6600/7124 [03:27<00:17, 30.59it/s]\u001b[A\n",
            " 93%|█████████▎| 6605/7124 [03:27<00:15, 33.51it/s]\u001b[A\n",
            " 93%|█████████▎| 6610/7124 [03:27<00:14, 36.12it/s]\u001b[A\n",
            " 93%|█████████▎| 6614/7124 [03:27<00:18, 27.03it/s]\u001b[A\n",
            " 93%|█████████▎| 6619/7124 [03:27<00:16, 31.12it/s]\u001b[A\n",
            " 93%|█████████▎| 6624/7124 [03:27<00:14, 33.74it/s]\u001b[A\n",
            " 93%|█████████▎| 6628/7124 [03:28<00:17, 28.56it/s]\u001b[A\n",
            " 93%|█████████▎| 6632/7124 [03:28<00:15, 31.04it/s]\u001b[A\n",
            " 93%|█████████▎| 6637/7124 [03:28<00:14, 33.56it/s]\u001b[A\n",
            " 93%|█████████▎| 6642/7124 [03:28<00:13, 35.79it/s]\u001b[A\n",
            " 93%|█████████▎| 6646/7124 [03:28<00:19, 25.03it/s]\u001b[A\n",
            " 93%|█████████▎| 6651/7124 [03:28<00:16, 28.47it/s]\u001b[A\n",
            " 93%|█████████▎| 6656/7124 [03:29<00:14, 31.78it/s]\u001b[A\n",
            " 93%|█████████▎| 6660/7124 [03:29<00:13, 33.19it/s]\u001b[A\n",
            " 94%|█████████▎| 6665/7124 [03:29<00:16, 27.34it/s]\u001b[A\n",
            " 94%|█████████▎| 6670/7124 [03:29<00:14, 31.18it/s]\u001b[A\n",
            " 94%|█████████▎| 6675/7124 [03:29<00:13, 33.59it/s]\u001b[A\n",
            " 94%|█████████▍| 6679/7124 [03:29<00:13, 34.19it/s]\u001b[A\n",
            " 94%|█████████▍| 6683/7124 [03:29<00:14, 30.89it/s]\u001b[A\n",
            " 94%|█████████▍| 6688/7124 [03:29<00:12, 34.22it/s]\u001b[A\n",
            " 94%|█████████▍| 6693/7124 [03:30<00:11, 36.28it/s]\u001b[A\n",
            " 94%|█████████▍| 6698/7124 [03:30<00:14, 29.20it/s]\u001b[A\n",
            " 94%|█████████▍| 6702/7124 [03:30<00:13, 31.65it/s]\u001b[A\n",
            " 94%|█████████▍| 6707/7124 [03:30<00:12, 34.69it/s]\u001b[A\n",
            " 94%|█████████▍| 6711/7124 [03:30<00:11, 36.03it/s]\u001b[A\n",
            " 94%|█████████▍| 6716/7124 [03:30<00:14, 28.80it/s]\u001b[A\n",
            " 94%|█████████▍| 6720/7124 [03:31<00:13, 29.27it/s]\u001b[A\n",
            " 94%|█████████▍| 6724/7124 [03:31<00:12, 31.60it/s]\u001b[A\n",
            " 94%|█████████▍| 6729/7124 [03:31<00:11, 34.38it/s]\u001b[A\n",
            " 95%|█████████▍| 6733/7124 [03:31<00:14, 27.57it/s]\u001b[A\n",
            " 95%|█████████▍| 6738/7124 [03:31<00:12, 31.07it/s]\u001b[A\n",
            " 95%|█████████▍| 6743/7124 [03:31<00:11, 33.39it/s]\u001b[A\n",
            " 95%|█████████▍| 6748/7124 [03:31<00:10, 35.77it/s]\u001b[A\n",
            " 95%|█████████▍| 6752/7124 [03:32<00:13, 27.45it/s]\u001b[A\n",
            " 95%|█████████▍| 6757/7124 [03:32<00:11, 30.98it/s]\u001b[A\n",
            " 95%|█████████▍| 6762/7124 [03:32<00:10, 33.35it/s]\u001b[A\n",
            " 95%|█████████▍| 6767/7124 [03:32<00:10, 35.41it/s]\u001b[A\n",
            " 95%|█████████▌| 6771/7124 [03:32<00:13, 26.73it/s]\u001b[A\n",
            " 95%|█████████▌| 6776/7124 [03:32<00:11, 30.66it/s]\u001b[A\n",
            " 95%|█████████▌| 6781/7124 [03:32<00:10, 33.74it/s]\u001b[A\n",
            " 95%|█████████▌| 6786/7124 [03:32<00:09, 37.13it/s]\u001b[A\n",
            " 95%|█████████▌| 6791/7124 [03:33<00:11, 28.86it/s]\u001b[A\n",
            " 95%|█████████▌| 6796/7124 [03:33<00:10, 31.49it/s]\u001b[A\n",
            " 95%|█████████▌| 6801/7124 [03:33<00:09, 34.76it/s]\u001b[A\n",
            " 96%|█████████▌| 6805/7124 [03:33<00:08, 36.00it/s]\u001b[A\n",
            " 96%|█████████▌| 6809/7124 [03:33<00:13, 24.08it/s]\u001b[A\n",
            " 96%|█████████▌| 6814/7124 [03:33<00:11, 28.13it/s]\u001b[A\n",
            " 96%|█████████▌| 6819/7124 [03:34<00:09, 31.68it/s]\u001b[A\n",
            " 96%|█████████▌| 6824/7124 [03:34<00:10, 28.67it/s]\u001b[A\n",
            " 96%|█████████▌| 6828/7124 [03:34<00:09, 30.48it/s]\u001b[A\n",
            " 96%|█████████▌| 6833/7124 [03:34<00:08, 33.56it/s]\u001b[A\n",
            " 96%|█████████▌| 6837/7124 [03:34<00:08, 35.25it/s]\u001b[A\n",
            " 96%|█████████▌| 6841/7124 [03:34<00:10, 27.15it/s]\u001b[A\n",
            " 96%|█████████▌| 6846/7124 [03:34<00:09, 30.48it/s]\u001b[A\n",
            " 96%|█████████▌| 6850/7124 [03:35<00:08, 32.06it/s]\u001b[A\n",
            " 96%|█████████▌| 6855/7124 [03:35<00:07, 34.36it/s]\u001b[A\n",
            " 96%|█████████▋| 6859/7124 [03:35<00:09, 26.61it/s]\u001b[A\n",
            " 96%|█████████▋| 6864/7124 [03:35<00:08, 30.03it/s]\u001b[A\n",
            " 96%|█████████▋| 6869/7124 [03:35<00:07, 32.55it/s]\u001b[A\n",
            " 96%|█████████▋| 6874/7124 [03:35<00:07, 34.85it/s]\u001b[A\n",
            " 97%|█████████▋| 6878/7124 [03:36<00:09, 26.76it/s]\u001b[A\n",
            " 97%|█████████▋| 6883/7124 [03:36<00:08, 30.10it/s]\u001b[A\n",
            " 97%|█████████▋| 6888/7124 [03:36<00:07, 33.11it/s]\u001b[A\n",
            " 97%|█████████▋| 6893/7124 [03:36<00:06, 36.70it/s]\u001b[A\n",
            " 97%|█████████▋| 6898/7124 [03:36<00:07, 28.98it/s]\u001b[A\n",
            " 97%|█████████▋| 6902/7124 [03:36<00:07, 31.55it/s]\u001b[A\n",
            " 97%|█████████▋| 6907/7124 [03:36<00:06, 34.13it/s]\u001b[A\n",
            " 97%|█████████▋| 6912/7124 [03:36<00:05, 36.35it/s]\u001b[A\n",
            " 97%|█████████▋| 6916/7124 [03:37<00:07, 27.47it/s]\u001b[A\n",
            " 97%|█████████▋| 6920/7124 [03:37<00:06, 30.24it/s]\u001b[A\n",
            " 97%|█████████▋| 6925/7124 [03:37<00:05, 33.33it/s]\u001b[A\n",
            " 97%|█████████▋| 6930/7124 [03:37<00:05, 35.19it/s]\u001b[A\n",
            " 97%|█████████▋| 6934/7124 [03:37<00:07, 26.88it/s]\u001b[A\n",
            " 97%|█████████▋| 6939/7124 [03:37<00:06, 30.28it/s]\u001b[A\n",
            " 97%|█████████▋| 6944/7124 [03:38<00:05, 32.96it/s]\u001b[A\n",
            " 98%|█████████▊| 6949/7124 [03:38<00:04, 35.66it/s]\u001b[A\n",
            " 98%|█████████▊| 6953/7124 [03:38<00:06, 26.83it/s]\u001b[A\n",
            " 98%|█████████▊| 6958/7124 [03:38<00:05, 30.26it/s]\u001b[A\n",
            " 98%|█████████▊| 6963/7124 [03:38<00:04, 34.02it/s]\u001b[A\n",
            " 98%|█████████▊| 6968/7124 [03:38<00:04, 36.10it/s]\u001b[A\n",
            " 98%|█████████▊| 6973/7124 [03:39<00:05, 26.04it/s]\u001b[A\n",
            " 98%|█████████▊| 6977/7124 [03:39<00:05, 29.07it/s]\u001b[A\n",
            " 98%|█████████▊| 6982/7124 [03:39<00:04, 32.15it/s]\u001b[A\n",
            " 98%|█████████▊| 6987/7124 [03:39<00:05, 27.14it/s]\u001b[A\n",
            " 98%|█████████▊| 6992/7124 [03:39<00:04, 30.14it/s]\u001b[A\n",
            " 98%|█████████▊| 6996/7124 [03:39<00:03, 32.46it/s]\u001b[A\n",
            " 98%|█████████▊| 7001/7124 [03:39<00:03, 34.57it/s]\u001b[A\n",
            " 98%|█████████▊| 7005/7124 [03:40<00:04, 26.93it/s]\u001b[A\n",
            " 98%|█████████▊| 7009/7124 [03:40<00:03, 29.70it/s]\u001b[A\n",
            " 98%|█████████▊| 7014/7124 [03:40<00:03, 32.97it/s]\u001b[A\n",
            " 99%|█████████▊| 7019/7124 [03:40<00:02, 35.51it/s]\u001b[A\n",
            " 99%|█████████▊| 7023/7124 [03:40<00:03, 29.77it/s]\u001b[A\n",
            " 99%|█████████▊| 7029/7124 [03:40<00:02, 33.77it/s]\u001b[A\n",
            " 99%|█████████▊| 7034/7124 [03:40<00:02, 35.60it/s]\u001b[A\n",
            " 99%|█████████▉| 7038/7124 [03:40<00:02, 36.41it/s]\u001b[A\n",
            " 99%|█████████▉| 7042/7124 [03:41<00:03, 26.71it/s]\u001b[A\n",
            " 99%|█████████▉| 7047/7124 [03:41<00:02, 30.31it/s]\u001b[A\n",
            " 99%|█████████▉| 7052/7124 [03:41<00:02, 33.14it/s]\u001b[A\n",
            " 99%|█████████▉| 7057/7124 [03:41<00:01, 35.99it/s]\u001b[A\n",
            " 99%|█████████▉| 7061/7124 [03:41<00:02, 27.21it/s]\u001b[A\n",
            " 99%|█████████▉| 7066/7124 [03:41<00:01, 30.62it/s]\u001b[A\n",
            " 99%|█████████▉| 7070/7124 [03:41<00:01, 31.87it/s]\u001b[A\n",
            " 99%|█████████▉| 7075/7124 [03:42<00:01, 34.75it/s]\u001b[A\n",
            " 99%|█████████▉| 7079/7124 [03:42<00:01, 25.86it/s]\u001b[A\n",
            " 99%|█████████▉| 7084/7124 [03:42<00:01, 29.63it/s]\u001b[A\n",
            "100%|█████████▉| 7089/7124 [03:42<00:01, 33.49it/s]\u001b[A\n",
            "100%|█████████▉| 7094/7124 [03:42<00:00, 35.52it/s]\u001b[A\n",
            "100%|█████████▉| 7098/7124 [03:42<00:00, 27.28it/s]\u001b[A\n",
            "100%|█████████▉| 7103/7124 [03:42<00:00, 30.43it/s]\u001b[A\n",
            "100%|█████████▉| 7107/7124 [03:43<00:00, 32.28it/s]\u001b[A\n",
            "100%|█████████▉| 7112/7124 [03:43<00:00, 34.60it/s]\u001b[A\n",
            "100%|█████████▉| 7116/7124 [03:43<00:00, 26.99it/s]\u001b[A\n",
            "100%|█████████▉| 7121/7124 [03:43<00:00, 30.61it/s]\u001b[A\n",
            " 20%|██        | 1/5 [03:58<15:54, 238.70s/it]"
          ],
          "name": "stderr"
        },
        {
          "output_type": "stream",
          "text": [
            "\n",
            " [INFO]... Loading label 1\n"
          ],
          "name": "stdout"
        },
        {
          "output_type": "stream",
          "text": [
            "\n",
            "  0%|          | 0/401 [00:00<?, ?it/s]\u001b[A\n",
            "  1%|          | 3/401 [00:00<00:15, 26.41it/s]\u001b[A"
          ],
          "name": "stderr"
        },
        {
          "output_type": "stream",
          "text": [
            "\n",
            " No. of images found : 401\n"
          ],
          "name": "stdout"
        },
        {
          "output_type": "stream",
          "text": [
            "\n",
            "  1%|          | 5/401 [00:00<00:21, 18.49it/s]\u001b[A\n",
            "  2%|▏         | 10/401 [00:00<00:17, 22.51it/s]\u001b[A\n",
            "  4%|▎         | 15/401 [00:00<00:14, 26.80it/s]\u001b[A\n",
            "  5%|▍         | 20/401 [00:00<00:12, 30.71it/s]\u001b[A\n",
            "  6%|▌         | 24/401 [00:00<00:15, 25.00it/s]\u001b[A\n",
            "  7%|▋         | 29/401 [00:00<00:12, 29.15it/s]\u001b[A\n",
            "  9%|▊         | 35/401 [00:01<00:11, 33.20it/s]\u001b[A\n",
            " 10%|▉         | 40/401 [00:01<00:10, 35.90it/s]\u001b[A\n",
            " 11%|█         | 45/401 [00:01<00:11, 29.87it/s]\u001b[A\n",
            " 12%|█▏        | 50/401 [00:01<00:10, 33.13it/s]\u001b[A\n",
            " 14%|█▎        | 55/401 [00:01<00:09, 35.47it/s]\u001b[A\n",
            " 15%|█▍        | 59/401 [00:01<00:12, 26.51it/s]\u001b[A\n",
            " 16%|█▌        | 64/401 [00:01<00:11, 30.46it/s]\u001b[A\n",
            " 17%|█▋        | 69/401 [00:02<00:09, 33.81it/s]\u001b[A\n",
            " 19%|█▊        | 75/401 [00:02<00:10, 29.81it/s]\u001b[A\n",
            " 20%|█▉        | 80/401 [00:02<00:09, 32.55it/s]\u001b[A\n",
            " 21%|██        | 85/401 [00:02<00:08, 36.12it/s]\u001b[A\n",
            " 22%|██▏       | 90/401 [00:02<00:08, 36.76it/s]\u001b[A\n",
            " 23%|██▎       | 94/401 [00:02<00:11, 26.68it/s]\u001b[A\n",
            " 24%|██▍       | 98/401 [00:03<00:10, 29.51it/s]\u001b[A\n",
            " 25%|██▌       | 102/401 [00:03<00:09, 31.56it/s]\u001b[A\n",
            " 27%|██▋       | 107/401 [00:03<00:08, 34.14it/s]\u001b[A\n",
            " 28%|██▊       | 111/401 [00:03<00:10, 27.11it/s]\u001b[A\n",
            " 29%|██▉       | 116/401 [00:03<00:09, 31.30it/s]\u001b[A\n",
            " 30%|██▉       | 120/401 [00:03<00:08, 33.13it/s]\u001b[A\n",
            " 31%|███       | 125/401 [00:04<00:16, 16.86it/s]\u001b[A\n",
            " 32%|███▏      | 130/401 [00:04<00:12, 21.01it/s]\u001b[A\n",
            " 34%|███▎      | 135/401 [00:04<00:10, 25.02it/s]\u001b[A\n",
            " 35%|███▍      | 140/401 [00:04<00:09, 28.80it/s]\u001b[A\n",
            " 36%|███▌      | 144/401 [00:04<00:10, 24.51it/s]\u001b[A\n",
            " 37%|███▋      | 149/401 [00:04<00:08, 28.89it/s]\u001b[A\n",
            " 38%|███▊      | 154/401 [00:05<00:07, 31.59it/s]\u001b[A\n",
            " 40%|███▉      | 159/401 [00:05<00:06, 35.37it/s]\u001b[A\n",
            " 41%|████      | 164/401 [00:05<00:08, 28.22it/s]\u001b[A\n",
            " 42%|████▏     | 169/401 [00:05<00:07, 32.36it/s]\u001b[A\n",
            " 43%|████▎     | 174/401 [00:05<00:06, 34.68it/s]\u001b[A\n",
            " 45%|████▍     | 179/401 [00:05<00:07, 28.64it/s]\u001b[A\n",
            " 46%|████▌     | 184/401 [00:06<00:06, 32.27it/s]\u001b[A\n",
            " 47%|████▋     | 189/401 [00:06<00:06, 34.67it/s]\u001b[A\n",
            " 48%|████▊     | 194/401 [00:06<00:07, 29.00it/s]\u001b[A\n",
            " 50%|████▉     | 199/401 [00:06<00:06, 32.59it/s]\u001b[A\n",
            " 51%|█████     | 204/401 [00:06<00:05, 34.97it/s]\u001b[A\n",
            " 52%|█████▏    | 209/401 [00:06<00:05, 37.43it/s]\u001b[A\n",
            " 53%|█████▎    | 214/401 [00:07<00:06, 29.44it/s]\u001b[A\n",
            " 55%|█████▍    | 219/401 [00:07<00:05, 33.30it/s]\u001b[A\n",
            " 56%|█████▌    | 224/401 [00:07<00:05, 35.19it/s]\u001b[A\n",
            " 57%|█████▋    | 228/401 [00:07<00:05, 30.08it/s]\u001b[A\n",
            " 58%|█████▊    | 233/401 [00:07<00:04, 33.84it/s]\u001b[A\n",
            " 59%|█████▉    | 237/401 [00:07<00:04, 35.36it/s]\u001b[A\n",
            " 60%|██████    | 242/401 [00:07<00:04, 37.18it/s]\u001b[A\n",
            " 61%|██████▏   | 246/401 [00:07<00:05, 29.32it/s]\u001b[A\n",
            " 63%|██████▎   | 251/401 [00:08<00:04, 32.46it/s]\u001b[A\n",
            " 64%|██████▍   | 256/401 [00:08<00:04, 35.35it/s]\u001b[A\n",
            " 65%|██████▌   | 261/401 [00:08<00:03, 36.77it/s]\u001b[A\n",
            " 66%|██████▌   | 265/401 [00:08<00:05, 26.85it/s]\u001b[A\n",
            " 67%|██████▋   | 270/401 [00:08<00:04, 30.60it/s]\u001b[A\n",
            " 69%|██████▉   | 276/401 [00:08<00:03, 34.67it/s]\u001b[A\n",
            " 70%|███████   | 281/401 [00:09<00:04, 26.27it/s]\u001b[A\n",
            " 71%|███████▏  | 286/401 [00:09<00:03, 29.54it/s]\u001b[A\n",
            " 73%|███████▎  | 291/401 [00:09<00:03, 32.67it/s]\u001b[A\n",
            " 74%|███████▎  | 295/401 [00:09<00:03, 27.23it/s]\u001b[A\n",
            " 75%|███████▍  | 300/401 [00:09<00:03, 30.74it/s]\u001b[A\n",
            " 76%|███████▌  | 305/401 [00:09<00:02, 34.21it/s]\u001b[A\n",
            " 78%|███████▊  | 311/401 [00:09<00:02, 38.24it/s]\u001b[A\n",
            " 79%|███████▉  | 316/401 [00:10<00:02, 30.73it/s]\u001b[A\n",
            " 80%|████████  | 321/401 [00:10<00:02, 34.14it/s]\u001b[A\n",
            " 81%|████████▏ | 326/401 [00:10<00:02, 36.97it/s]\u001b[A\n",
            " 83%|████████▎ | 331/401 [00:10<00:02, 29.28it/s]\u001b[A\n",
            " 84%|████████▍ | 336/401 [00:10<00:02, 32.43it/s]\u001b[A\n",
            " 85%|████████▌ | 341/401 [00:10<00:01, 35.74it/s]\u001b[A\n",
            " 86%|████████▋ | 346/401 [00:10<00:01, 38.91it/s]\u001b[A\n",
            " 88%|████████▊ | 351/401 [00:11<00:01, 37.19it/s]\u001b[A\n",
            " 89%|████████▉ | 356/401 [00:11<00:01, 39.80it/s]\u001b[A\n",
            " 90%|█████████ | 361/401 [00:11<00:00, 41.59it/s]\u001b[A\n",
            " 91%|█████████▏| 366/401 [00:11<00:01, 31.00it/s]\u001b[A\n",
            " 93%|█████████▎| 371/401 [00:11<00:00, 34.94it/s]\u001b[A\n",
            " 94%|█████████▍| 376/401 [00:11<00:00, 37.59it/s]\u001b[A\n",
            " 95%|█████████▌| 381/401 [00:11<00:00, 38.91it/s]\u001b[A\n",
            " 96%|█████████▋| 386/401 [00:12<00:00, 30.65it/s]\u001b[A\n",
            " 98%|█████████▊| 391/401 [00:12<00:00, 33.57it/s]\u001b[A\n",
            " 99%|█████████▉| 396/401 [00:12<00:00, 36.19it/s]\u001b[A\n",
            "100%|█████████▉| 400/401 [00:12<00:00, 29.64it/s]\u001b[A\n",
            " 40%|████      | 2/5 [04:12<08:34, 171.34s/it]"
          ],
          "name": "stderr"
        },
        {
          "output_type": "stream",
          "text": [
            "\n",
            " [INFO]... Loading label 2\n"
          ],
          "name": "stdout"
        },
        {
          "output_type": "stream",
          "text": [
            "\n",
            "  0%|          | 0/63 [00:00<?, ?it/s]\u001b[A\n",
            "  8%|▊         | 5/63 [00:00<00:01, 48.58it/s]\u001b[A"
          ],
          "name": "stderr"
        },
        {
          "output_type": "stream",
          "text": [
            "\n",
            " No. of images found : 63\n"
          ],
          "name": "stdout"
        },
        {
          "output_type": "stream",
          "text": [
            "\n",
            " 16%|█▌        | 10/63 [00:00<00:01, 48.54it/s]\u001b[A\n",
            " 22%|██▏       | 14/63 [00:00<00:01, 30.81it/s]\u001b[A\n",
            " 33%|███▎      | 21/63 [00:00<00:01, 36.51it/s]\u001b[A\n",
            " 43%|████▎     | 27/63 [00:00<00:00, 40.66it/s]\u001b[A\n",
            " 51%|█████     | 32/63 [00:00<00:00, 31.39it/s]\u001b[A\n",
            " 60%|██████    | 38/63 [00:01<00:00, 35.66it/s]\u001b[A\n",
            " 68%|██████▊   | 43/63 [00:01<00:00, 38.48it/s]\u001b[A\n",
            " 76%|███████▌  | 48/63 [00:01<00:00, 37.15it/s]\u001b[A\n",
            " 87%|████████▋ | 55/63 [00:01<00:00, 41.62it/s]\u001b[A\n",
            " 97%|█████████▋| 61/63 [00:01<00:00, 44.15it/s]\u001b[A\n",
            " 60%|██████    | 3/5 [04:15<04:01, 120.69s/it]"
          ],
          "name": "stderr"
        },
        {
          "output_type": "stream",
          "text": [
            "\n",
            " [INFO]... Loading label 3\n"
          ],
          "name": "stdout"
        },
        {
          "output_type": "stream",
          "text": [
            "\n",
            "  0%|          | 0/3500 [00:00<?, ?it/s]\u001b[A\n",
            "  0%|          | 4/3500 [00:00<01:46, 32.76it/s]\u001b[A"
          ],
          "name": "stderr"
        },
        {
          "output_type": "stream",
          "text": [
            "\n",
            " No. of images found : 3500\n"
          ],
          "name": "stdout"
        },
        {
          "output_type": "stream",
          "text": [
            "\n",
            "  0%|          | 9/3500 [00:01<04:18, 13.48it/s]\u001b[A\n",
            "  0%|          | 14/3500 [00:01<03:26, 16.88it/s]\u001b[A\n",
            "  1%|          | 19/3500 [00:01<02:47, 20.76it/s]\u001b[A\n",
            "  1%|          | 23/3500 [00:01<02:23, 24.17it/s]\u001b[A\n",
            "  1%|          | 27/3500 [00:01<02:39, 21.79it/s]\u001b[A\n",
            "  1%|          | 31/3500 [00:01<02:17, 25.18it/s]\u001b[A\n",
            "  1%|          | 36/3500 [00:01<02:00, 28.78it/s]\u001b[A\n",
            "  1%|          | 41/3500 [00:01<01:46, 32.51it/s]\u001b[A\n",
            "  1%|▏         | 45/3500 [00:02<02:18, 24.86it/s]\u001b[A\n",
            "  1%|▏         | 49/3500 [00:02<02:04, 27.65it/s]\u001b[A\n",
            "  2%|▏         | 54/3500 [00:02<01:52, 30.74it/s]\u001b[A\n",
            "  2%|▏         | 59/3500 [00:02<02:10, 26.29it/s]\u001b[A\n",
            "  2%|▏         | 64/3500 [00:02<01:56, 29.39it/s]\u001b[A\n",
            "  2%|▏         | 69/3500 [00:02<01:46, 32.26it/s]\u001b[A\n",
            "  2%|▏         | 74/3500 [00:02<01:37, 35.05it/s]\u001b[A\n",
            "  2%|▏         | 78/3500 [00:03<02:08, 26.73it/s]\u001b[A\n",
            "  2%|▏         | 82/3500 [00:03<01:55, 29.48it/s]\u001b[A\n",
            "  2%|▏         | 87/3500 [00:03<01:45, 32.29it/s]\u001b[A\n",
            "  3%|▎         | 92/3500 [00:03<01:37, 34.84it/s]\u001b[A\n",
            "  3%|▎         | 96/3500 [00:03<02:08, 26.47it/s]\u001b[A\n",
            "  3%|▎         | 101/3500 [00:03<01:53, 29.90it/s]\u001b[A\n",
            "  3%|▎         | 106/3500 [00:04<01:43, 32.91it/s]\u001b[A\n",
            "  3%|▎         | 111/3500 [00:04<01:37, 34.90it/s]\u001b[A\n",
            "  3%|▎         | 115/3500 [00:04<02:06, 26.67it/s]\u001b[A\n",
            "  3%|▎         | 119/3500 [00:04<01:54, 29.41it/s]\u001b[A\n",
            "  4%|▎         | 123/3500 [00:04<01:45, 31.91it/s]\u001b[A\n",
            "  4%|▎         | 128/3500 [00:04<01:37, 34.54it/s]\u001b[A\n",
            "  4%|▍         | 132/3500 [00:04<01:59, 28.26it/s]\u001b[A\n",
            "  4%|▍         | 137/3500 [00:05<01:45, 32.01it/s]\u001b[A\n",
            "  4%|▍         | 142/3500 [00:05<01:35, 35.11it/s]\u001b[A\n",
            "  4%|▍         | 147/3500 [00:05<01:29, 37.42it/s]\u001b[A\n",
            "  4%|▍         | 152/3500 [00:05<01:53, 29.48it/s]\u001b[A\n",
            "  4%|▍         | 157/3500 [00:05<01:42, 32.66it/s]\u001b[A\n",
            "  5%|▍         | 162/3500 [00:05<01:35, 34.95it/s]\u001b[A\n",
            "  5%|▍         | 166/3500 [00:05<02:03, 26.94it/s]\u001b[A\n",
            "  5%|▍         | 170/3500 [00:06<01:52, 29.57it/s]\u001b[A\n",
            "  5%|▌         | 175/3500 [00:06<01:42, 32.38it/s]\u001b[A\n",
            "  5%|▌         | 179/3500 [00:06<01:37, 34.17it/s]\u001b[A\n",
            "  5%|▌         | 183/3500 [00:06<02:04, 26.61it/s]\u001b[A\n",
            "  5%|▌         | 188/3500 [00:06<01:50, 30.04it/s]\u001b[A\n",
            "  6%|▌         | 193/3500 [00:06<01:41, 32.52it/s]\u001b[A\n",
            "  6%|▌         | 198/3500 [00:06<01:35, 34.60it/s]\u001b[A\n",
            "  6%|▌         | 202/3500 [00:07<02:02, 26.91it/s]\u001b[A\n",
            "  6%|▌         | 207/3500 [00:07<01:48, 30.31it/s]\u001b[A\n",
            "  6%|▌         | 212/3500 [00:07<01:39, 32.95it/s]\u001b[A\n",
            "  6%|▌         | 217/3500 [00:07<01:33, 35.02it/s]\u001b[A\n",
            "  6%|▋         | 221/3500 [00:07<02:01, 27.08it/s]\u001b[A\n",
            "  6%|▋         | 226/3500 [00:07<01:44, 31.19it/s]\u001b[A\n",
            "  7%|▋         | 231/3500 [00:07<01:36, 33.83it/s]\u001b[A\n",
            "  7%|▋         | 236/3500 [00:08<01:57, 27.87it/s]\u001b[A\n",
            "  7%|▋         | 241/3500 [00:08<01:46, 30.69it/s]\u001b[A\n",
            "  7%|▋         | 245/3500 [00:08<01:39, 32.83it/s]\u001b[A\n",
            "  7%|▋         | 250/3500 [00:08<01:32, 35.09it/s]\u001b[A\n",
            "  7%|▋         | 254/3500 [00:08<02:01, 26.63it/s]\u001b[A\n",
            "  7%|▋         | 259/3500 [00:08<01:48, 29.86it/s]\u001b[A\n",
            "  8%|▊         | 264/3500 [00:08<01:38, 32.73it/s]\u001b[A\n",
            "  8%|▊         | 268/3500 [00:09<02:03, 26.16it/s]\u001b[A\n",
            "  8%|▊         | 273/3500 [00:09<01:49, 29.37it/s]\u001b[A\n",
            "  8%|▊         | 278/3500 [00:09<01:38, 32.64it/s]\u001b[A\n",
            "  8%|▊         | 283/3500 [00:09<01:30, 35.45it/s]\u001b[A\n",
            "  8%|▊         | 287/3500 [00:09<01:58, 27.05it/s]\u001b[A\n",
            "  8%|▊         | 292/3500 [00:09<01:46, 30.17it/s]\u001b[A\n",
            "  8%|▊         | 297/3500 [00:09<01:35, 33.70it/s]\u001b[A\n",
            "  9%|▊         | 302/3500 [00:10<01:26, 37.08it/s]\u001b[A\n",
            "  9%|▉         | 307/3500 [00:10<01:48, 29.52it/s]\u001b[A\n",
            "  9%|▉         | 311/3500 [00:10<01:40, 31.74it/s]\u001b[A\n",
            "  9%|▉         | 316/3500 [00:10<01:32, 34.31it/s]\u001b[A\n",
            "  9%|▉         | 321/3500 [00:10<01:27, 36.39it/s]\u001b[A\n",
            "  9%|▉         | 325/3500 [00:10<01:56, 27.31it/s]\u001b[A\n",
            "  9%|▉         | 329/3500 [00:11<01:46, 29.89it/s]\u001b[A\n",
            " 10%|▉         | 334/3500 [00:11<01:37, 32.59it/s]\u001b[A\n",
            " 10%|▉         | 338/3500 [00:11<02:04, 25.34it/s]\u001b[A\n",
            " 10%|▉         | 343/3500 [00:11<01:49, 28.86it/s]\u001b[A\n",
            " 10%|▉         | 348/3500 [00:11<01:39, 31.71it/s]\u001b[A\n",
            " 10%|█         | 353/3500 [00:11<01:32, 34.17it/s]\u001b[A\n",
            " 10%|█         | 357/3500 [00:11<01:57, 26.78it/s]\u001b[A\n",
            " 10%|█         | 362/3500 [00:12<01:43, 30.27it/s]\u001b[A\n",
            " 10%|█         | 367/3500 [00:12<01:33, 33.46it/s]\u001b[A\n",
            " 11%|█         | 371/3500 [00:12<02:00, 25.89it/s]\u001b[A\n",
            " 11%|█         | 376/3500 [00:12<01:46, 29.45it/s]\u001b[A\n",
            " 11%|█         | 381/3500 [00:12<01:34, 33.07it/s]\u001b[A\n",
            " 11%|█         | 386/3500 [00:12<01:27, 35.74it/s]\u001b[A\n",
            " 11%|█         | 391/3500 [00:13<01:49, 28.52it/s]\u001b[A\n",
            " 11%|█▏        | 395/3500 [00:13<01:39, 31.13it/s]\u001b[A\n",
            " 11%|█▏        | 400/3500 [00:13<01:31, 34.01it/s]\u001b[A\n",
            " 12%|█▏        | 404/3500 [00:13<01:39, 31.14it/s]\u001b[A\n",
            " 12%|█▏        | 409/3500 [00:13<01:29, 34.60it/s]\u001b[A\n",
            " 12%|█▏        | 415/3500 [00:13<01:20, 38.49it/s]\u001b[A\n",
            " 12%|█▏        | 420/3500 [00:13<01:16, 40.36it/s]\u001b[A\n",
            " 12%|█▏        | 425/3500 [00:13<01:39, 30.88it/s]\u001b[A\n",
            " 12%|█▏        | 429/3500 [00:14<01:34, 32.65it/s]\u001b[A\n",
            " 12%|█▏        | 434/3500 [00:14<01:28, 34.57it/s]\u001b[A\n",
            " 13%|█▎        | 439/3500 [00:14<01:23, 36.85it/s]\u001b[A\n",
            " 13%|█▎        | 443/3500 [00:14<01:51, 27.52it/s]\u001b[A\n",
            " 13%|█▎        | 447/3500 [00:14<01:41, 30.13it/s]\u001b[A\n",
            " 13%|█▎        | 452/3500 [00:14<01:32, 32.87it/s]\u001b[A\n",
            " 13%|█▎        | 456/3500 [00:15<01:57, 25.83it/s]\u001b[A\n",
            " 13%|█▎        | 461/3500 [00:15<01:43, 29.43it/s]\u001b[A\n",
            " 13%|█▎        | 466/3500 [00:15<01:33, 32.48it/s]\u001b[A\n",
            " 13%|█▎        | 471/3500 [00:15<01:26, 35.08it/s]\u001b[A\n",
            " 14%|█▎        | 475/3500 [00:15<01:52, 26.93it/s]\u001b[A\n",
            " 14%|█▎        | 480/3500 [00:15<01:39, 30.25it/s]\u001b[A\n",
            " 14%|█▍        | 485/3500 [00:15<01:31, 32.91it/s]\u001b[A\n",
            " 14%|█▍        | 490/3500 [00:15<01:25, 35.35it/s]\u001b[A\n",
            " 14%|█▍        | 494/3500 [00:16<01:51, 27.07it/s]\u001b[A\n",
            " 14%|█▍        | 499/3500 [00:16<01:38, 30.39it/s]\u001b[A\n",
            " 14%|█▍        | 503/3500 [00:16<01:31, 32.70it/s]\u001b[A\n",
            " 14%|█▍        | 507/3500 [00:16<01:26, 34.49it/s]\u001b[A\n",
            " 15%|█▍        | 511/3500 [00:16<01:53, 26.28it/s]\u001b[A\n",
            " 15%|█▍        | 517/3500 [00:16<01:37, 30.71it/s]\u001b[A\n",
            " 15%|█▍        | 522/3500 [00:16<01:28, 33.53it/s]\u001b[A\n",
            " 15%|█▌        | 526/3500 [00:17<01:53, 26.21it/s]\u001b[A\n",
            " 15%|█▌        | 531/3500 [00:17<01:40, 29.52it/s]\u001b[A\n",
            " 15%|█▌        | 536/3500 [00:17<01:30, 32.84it/s]\u001b[A\n",
            " 15%|█▌        | 541/3500 [00:17<01:23, 35.44it/s]\u001b[A\n",
            " 16%|█▌        | 545/3500 [00:17<01:55, 25.51it/s]\u001b[A\n",
            " 16%|█▌        | 550/3500 [00:17<01:41, 29.01it/s]\u001b[A\n",
            " 16%|█▌        | 555/3500 [00:18<01:31, 32.06it/s]\u001b[A\n",
            " 16%|█▌        | 559/3500 [00:18<01:55, 25.50it/s]\u001b[A\n",
            " 16%|█▌        | 564/3500 [00:18<01:40, 29.29it/s]\u001b[A\n",
            " 16%|█▋        | 569/3500 [00:18<01:31, 32.14it/s]\u001b[A\n",
            " 16%|█▋        | 574/3500 [00:18<01:23, 34.83it/s]\u001b[A\n",
            " 17%|█▋        | 578/3500 [00:18<01:50, 26.40it/s]\u001b[A\n",
            " 17%|█▋        | 583/3500 [00:18<01:36, 30.13it/s]\u001b[A\n",
            " 17%|█▋        | 588/3500 [00:19<01:28, 32.97it/s]\u001b[A\n",
            " 17%|█▋        | 593/3500 [00:19<01:22, 35.10it/s]\u001b[A\n",
            " 17%|█▋        | 597/3500 [00:19<01:44, 27.89it/s]\u001b[A\n",
            " 17%|█▋        | 602/3500 [00:19<01:32, 31.42it/s]\u001b[A\n",
            " 17%|█▋        | 607/3500 [00:19<01:21, 35.29it/s]\u001b[A\n",
            " 17%|█▋        | 612/3500 [00:19<01:40, 28.80it/s]\u001b[A\n",
            " 18%|█▊        | 616/3500 [00:20<01:38, 29.27it/s]\u001b[A\n",
            " 18%|█▊        | 621/3500 [00:20<01:26, 33.11it/s]\u001b[A\n",
            " 18%|█▊        | 626/3500 [00:20<01:20, 35.63it/s]\u001b[A\n",
            " 18%|█▊        | 630/3500 [00:20<01:45, 27.27it/s]\u001b[A\n",
            " 18%|█▊        | 635/3500 [00:20<01:31, 31.17it/s]\u001b[A\n",
            " 18%|█▊        | 640/3500 [00:20<01:23, 34.11it/s]\u001b[A\n",
            " 18%|█▊        | 644/3500 [00:20<01:46, 26.79it/s]\u001b[A\n",
            " 19%|█▊        | 649/3500 [00:21<01:33, 30.50it/s]\u001b[A\n",
            " 19%|█▊        | 654/3500 [00:21<01:25, 33.13it/s]\u001b[A\n",
            " 19%|█▉        | 659/3500 [00:21<01:20, 35.20it/s]\u001b[A\n",
            " 19%|█▉        | 663/3500 [00:21<01:44, 27.19it/s]\u001b[A\n",
            " 19%|█▉        | 668/3500 [00:21<01:32, 30.60it/s]\u001b[A\n",
            " 19%|█▉        | 673/3500 [00:21<01:23, 33.67it/s]\u001b[A\n",
            " 19%|█▉        | 677/3500 [00:21<01:21, 34.66it/s]\u001b[A\n",
            " 19%|█▉        | 681/3500 [00:22<01:40, 28.10it/s]\u001b[A\n",
            " 20%|█▉        | 686/3500 [00:22<01:28, 31.84it/s]\u001b[A\n",
            " 20%|█▉        | 691/3500 [00:22<01:21, 34.45it/s]\u001b[A\n",
            " 20%|█▉        | 696/3500 [00:22<01:15, 36.95it/s]\u001b[A\n",
            " 20%|██        | 701/3500 [00:22<01:35, 29.35it/s]\u001b[A\n",
            " 20%|██        | 706/3500 [00:22<01:25, 32.79it/s]\u001b[A\n",
            " 20%|██        | 711/3500 [00:22<01:18, 35.63it/s]\u001b[A\n",
            " 20%|██        | 715/3500 [00:23<01:41, 27.56it/s]\u001b[A\n",
            " 21%|██        | 720/3500 [00:23<01:29, 31.14it/s]\u001b[A\n",
            " 21%|██        | 725/3500 [00:23<01:21, 33.87it/s]\u001b[A\n",
            " 21%|██        | 730/3500 [00:23<01:15, 36.48it/s]\u001b[A\n",
            " 21%|██        | 735/3500 [00:23<01:20, 34.24it/s]\u001b[A\n",
            " 21%|██        | 740/3500 [00:23<01:14, 36.96it/s]\u001b[A\n",
            " 21%|██▏       | 745/3500 [00:23<01:11, 38.39it/s]\u001b[A\n",
            " 21%|██▏       | 750/3500 [00:24<01:31, 29.90it/s]\u001b[A\n",
            " 22%|██▏       | 755/3500 [00:24<01:23, 32.74it/s]\u001b[A\n",
            " 22%|██▏       | 759/3500 [00:24<01:20, 34.15it/s]\u001b[A\n",
            " 22%|██▏       | 764/3500 [00:24<01:14, 36.52it/s]\u001b[A\n",
            " 22%|██▏       | 768/3500 [00:24<01:37, 27.92it/s]\u001b[A\n",
            " 22%|██▏       | 772/3500 [00:24<01:30, 30.11it/s]\u001b[A\n",
            " 22%|██▏       | 777/3500 [00:24<01:22, 33.03it/s]\u001b[A\n",
            " 22%|██▏       | 781/3500 [00:25<01:35, 28.41it/s]\u001b[A\n",
            " 22%|██▏       | 786/3500 [00:25<01:24, 32.28it/s]\u001b[A\n",
            " 23%|██▎       | 791/3500 [00:25<01:16, 35.35it/s]\u001b[A\n",
            " 23%|██▎       | 796/3500 [00:25<01:11, 37.89it/s]\u001b[A\n",
            " 23%|██▎       | 801/3500 [00:25<01:27, 30.67it/s]\u001b[A\n",
            " 23%|██▎       | 806/3500 [00:25<01:19, 34.00it/s]\u001b[A\n",
            " 23%|██▎       | 811/3500 [00:25<01:12, 36.99it/s]\u001b[A\n",
            " 23%|██▎       | 816/3500 [00:25<01:09, 38.87it/s]\u001b[A\n",
            " 23%|██▎       | 821/3500 [00:26<01:27, 30.64it/s]\u001b[A\n",
            " 24%|██▎       | 825/3500 [00:26<01:21, 32.79it/s]\u001b[A\n",
            " 24%|██▎       | 830/3500 [00:26<01:16, 34.95it/s]\u001b[A\n",
            " 24%|██▍       | 835/3500 [00:26<01:26, 30.73it/s]\u001b[A\n",
            " 24%|██▍       | 840/3500 [00:26<01:19, 33.37it/s]\u001b[A\n",
            " 24%|██▍       | 844/3500 [00:26<01:16, 34.70it/s]\u001b[A\n",
            " 24%|██▍       | 849/3500 [00:26<01:11, 36.90it/s]\u001b[A\n",
            " 24%|██▍       | 853/3500 [00:27<01:36, 27.42it/s]\u001b[A\n",
            " 25%|██▍       | 858/3500 [00:27<01:26, 30.53it/s]\u001b[A\n",
            " 25%|██▍       | 863/3500 [00:27<01:16, 34.36it/s]\u001b[A\n",
            " 25%|██▍       | 868/3500 [00:27<01:33, 28.21it/s]\u001b[A\n",
            " 25%|██▍       | 873/3500 [00:27<01:23, 31.50it/s]\u001b[A\n",
            " 25%|██▌       | 878/3500 [00:27<01:16, 34.23it/s]\u001b[A\n",
            " 25%|██▌       | 883/3500 [00:27<01:12, 36.27it/s]\u001b[A\n",
            " 25%|██▌       | 887/3500 [00:28<01:38, 26.52it/s]\u001b[A\n",
            " 25%|██▌       | 892/3500 [00:28<01:28, 29.62it/s]\u001b[A\n",
            " 26%|██▌       | 897/3500 [00:28<01:18, 33.31it/s]\u001b[A\n",
            " 26%|██▌       | 901/3500 [00:28<01:39, 26.01it/s]\u001b[A\n",
            " 26%|██▌       | 906/3500 [00:28<01:26, 29.95it/s]\u001b[A\n",
            " 26%|██▌       | 911/3500 [00:28<01:16, 33.90it/s]\u001b[A\n",
            " 26%|██▌       | 916/3500 [00:29<01:11, 36.13it/s]\u001b[A\n",
            " 26%|██▋       | 921/3500 [00:29<01:27, 29.39it/s]\u001b[A\n",
            " 26%|██▋       | 926/3500 [00:29<01:18, 32.75it/s]\u001b[A\n",
            " 27%|██▋       | 931/3500 [00:29<01:12, 35.53it/s]\u001b[A\n",
            " 27%|██▋       | 935/3500 [00:29<01:26, 29.73it/s]\u001b[A\n",
            " 27%|██▋       | 940/3500 [00:29<01:18, 32.59it/s]\u001b[A\n",
            " 27%|██▋       | 945/3500 [00:29<01:12, 35.18it/s]\u001b[A\n",
            " 27%|██▋       | 950/3500 [00:30<01:07, 37.73it/s]\u001b[A\n",
            " 27%|██▋       | 955/3500 [00:30<01:25, 29.82it/s]\u001b[A\n",
            " 27%|██▋       | 960/3500 [00:30<01:17, 32.74it/s]\u001b[A\n",
            " 28%|██▊       | 965/3500 [00:30<01:12, 35.19it/s]\u001b[A\n",
            " 28%|██▊       | 969/3500 [00:30<01:35, 26.60it/s]\u001b[A\n",
            " 28%|██▊       | 974/3500 [00:30<01:24, 29.79it/s]\u001b[A\n",
            " 28%|██▊       | 979/3500 [00:30<01:18, 32.21it/s]\u001b[A\n",
            " 28%|██▊       | 984/3500 [00:31<01:12, 34.90it/s]\u001b[A\n",
            " 28%|██▊       | 988/3500 [00:31<01:10, 35.43it/s]\u001b[A\n",
            " 28%|██▊       | 993/3500 [00:31<01:07, 36.92it/s]\u001b[A\n",
            " 29%|██▊       | 998/3500 [00:31<01:03, 39.53it/s]\u001b[A\n",
            " 29%|██▊       | 1003/3500 [00:31<01:20, 30.97it/s]\u001b[A\n",
            " 29%|██▉       | 1008/3500 [00:31<01:14, 33.56it/s]\u001b[A\n",
            " 29%|██▉       | 1013/3500 [00:31<01:09, 35.73it/s]\u001b[A\n",
            " 29%|██▉       | 1018/3500 [00:32<01:05, 37.66it/s]\u001b[A\n",
            " 29%|██▉       | 1022/3500 [00:32<01:28, 28.11it/s]\u001b[A\n",
            " 29%|██▉       | 1027/3500 [00:32<01:18, 31.49it/s]\u001b[A\n",
            " 29%|██▉       | 1032/3500 [00:32<01:10, 34.82it/s]\u001b[A\n",
            " 30%|██▉       | 1037/3500 [00:32<01:06, 36.93it/s]\u001b[A\n",
            " 30%|██▉       | 1042/3500 [00:32<01:24, 29.14it/s]\u001b[A\n",
            " 30%|██▉       | 1047/3500 [00:32<01:16, 31.93it/s]\u001b[A\n",
            " 30%|███       | 1051/3500 [00:33<01:12, 33.90it/s]\u001b[A\n",
            " 30%|███       | 1055/3500 [00:33<01:10, 34.83it/s]\u001b[A\n",
            " 30%|███       | 1059/3500 [00:33<01:35, 25.49it/s]\u001b[A\n",
            " 30%|███       | 1064/3500 [00:33<01:23, 29.09it/s]\u001b[A\n",
            " 31%|███       | 1069/3500 [00:33<01:15, 32.08it/s]\u001b[A\n",
            " 31%|███       | 1073/3500 [00:33<01:35, 25.46it/s]\u001b[A\n",
            " 31%|███       | 1078/3500 [00:34<01:24, 28.82it/s]\u001b[A\n",
            " 31%|███       | 1082/3500 [00:34<01:17, 31.12it/s]\u001b[A\n",
            " 31%|███       | 1086/3500 [00:34<01:14, 32.54it/s]\u001b[A\n",
            " 31%|███       | 1090/3500 [00:34<01:34, 25.37it/s]\u001b[A\n",
            " 31%|███▏      | 1095/3500 [00:34<01:23, 28.94it/s]\u001b[A\n",
            " 31%|███▏      | 1100/3500 [00:34<01:15, 31.87it/s]\u001b[A\n",
            " 32%|███▏      | 1105/3500 [00:34<01:08, 35.04it/s]\u001b[A\n",
            " 32%|███▏      | 1109/3500 [00:35<01:30, 26.28it/s]\u001b[A\n",
            " 32%|███▏      | 1114/3500 [00:35<01:19, 30.13it/s]\u001b[A\n",
            " 32%|███▏      | 1119/3500 [00:35<01:12, 32.91it/s]\u001b[A\n",
            " 32%|███▏      | 1124/3500 [00:35<01:06, 35.53it/s]\u001b[A\n",
            " 32%|███▏      | 1128/3500 [00:35<01:28, 26.86it/s]\u001b[A\n",
            " 32%|███▏      | 1133/3500 [00:35<01:18, 30.07it/s]\u001b[A\n",
            " 33%|███▎      | 1138/3500 [00:35<01:10, 33.29it/s]\u001b[A\n",
            " 33%|███▎      | 1142/3500 [00:35<01:07, 34.98it/s]\u001b[A\n",
            " 33%|███▎      | 1146/3500 [00:36<01:40, 23.53it/s]\u001b[A\n",
            " 33%|███▎      | 1151/3500 [00:36<01:27, 26.93it/s]\u001b[A\n",
            " 33%|███▎      | 1156/3500 [00:36<01:18, 30.01it/s]\u001b[A\n",
            " 33%|███▎      | 1160/3500 [00:36<01:12, 32.43it/s]\u001b[A\n",
            " 33%|███▎      | 1164/3500 [00:36<01:31, 25.60it/s]\u001b[A\n",
            " 33%|███▎      | 1169/3500 [00:36<01:19, 29.34it/s]\u001b[A\n",
            " 34%|███▎      | 1174/3500 [00:37<01:10, 33.14it/s]\u001b[A\n",
            " 34%|███▎      | 1178/3500 [00:37<01:28, 26.32it/s]\u001b[A\n",
            " 34%|███▍      | 1183/3500 [00:37<01:18, 29.65it/s]\u001b[A\n",
            " 34%|███▍      | 1188/3500 [00:37<01:09, 33.37it/s]\u001b[A\n",
            " 34%|███▍      | 1192/3500 [00:37<01:06, 34.90it/s]\u001b[A\n",
            " 34%|███▍      | 1196/3500 [00:37<01:26, 26.73it/s]\u001b[A\n",
            " 34%|███▍      | 1201/3500 [00:37<01:15, 30.46it/s]\u001b[A\n",
            " 34%|███▍      | 1206/3500 [00:38<01:08, 33.41it/s]\u001b[A\n",
            " 35%|███▍      | 1211/3500 [00:38<01:03, 36.07it/s]\u001b[A\n",
            " 35%|███▍      | 1216/3500 [00:38<01:21, 28.16it/s]\u001b[A\n",
            " 35%|███▍      | 1221/3500 [00:38<01:12, 31.56it/s]\u001b[A\n",
            " 35%|███▌      | 1225/3500 [00:38<01:09, 32.96it/s]\u001b[A\n",
            " 35%|███▌      | 1229/3500 [00:38<01:05, 34.79it/s]\u001b[A\n",
            " 35%|███▌      | 1233/3500 [00:38<01:11, 31.75it/s]\u001b[A\n",
            " 35%|███▌      | 1237/3500 [00:39<01:07, 33.31it/s]\u001b[A\n",
            " 35%|███▌      | 1242/3500 [00:39<01:04, 34.90it/s]\u001b[A\n",
            " 36%|███▌      | 1247/3500 [00:39<01:01, 36.42it/s]\u001b[A\n",
            " 36%|███▌      | 1251/3500 [00:39<01:21, 27.54it/s]\u001b[A\n",
            " 36%|███▌      | 1255/3500 [00:39<01:14, 29.98it/s]\u001b[A\n",
            " 36%|███▌      | 1260/3500 [00:39<01:09, 32.33it/s]\u001b[A\n",
            " 36%|███▌      | 1264/3500 [00:39<01:05, 34.15it/s]\u001b[A\n",
            " 36%|███▌      | 1268/3500 [00:40<01:24, 26.49it/s]\u001b[A\n",
            " 36%|███▋      | 1273/3500 [00:40<01:13, 30.11it/s]\u001b[A\n",
            " 36%|███▋      | 1277/3500 [00:40<01:09, 32.13it/s]\u001b[A\n",
            " 37%|███▋      | 1281/3500 [00:40<01:05, 33.73it/s]\u001b[A\n",
            " 37%|███▋      | 1285/3500 [00:40<01:16, 29.08it/s]\u001b[A\n",
            " 37%|███▋      | 1290/3500 [00:40<01:09, 31.77it/s]\u001b[A\n",
            " 37%|███▋      | 1295/3500 [00:40<01:03, 34.48it/s]\u001b[A\n",
            " 37%|███▋      | 1299/3500 [00:41<01:23, 26.48it/s]\u001b[A\n",
            " 37%|███▋      | 1304/3500 [00:41<01:13, 29.84it/s]\u001b[A\n",
            " 37%|███▋      | 1309/3500 [00:41<01:05, 33.64it/s]\u001b[A\n",
            " 38%|███▊      | 1314/3500 [00:41<01:01, 35.76it/s]\u001b[A\n",
            " 38%|███▊      | 1318/3500 [00:41<01:27, 24.90it/s]\u001b[A\n",
            " 38%|███▊      | 1323/3500 [00:41<01:16, 28.59it/s]\u001b[A\n",
            " 38%|███▊      | 1327/3500 [00:41<01:10, 31.01it/s]\u001b[A\n",
            " 38%|███▊      | 1332/3500 [00:42<01:04, 33.87it/s]\u001b[A\n",
            " 38%|███▊      | 1336/3500 [00:42<01:18, 27.58it/s]\u001b[A\n",
            " 38%|███▊      | 1341/3500 [00:42<01:10, 30.77it/s]\u001b[A\n",
            " 38%|███▊      | 1346/3500 [00:42<01:03, 33.82it/s]\u001b[A\n",
            " 39%|███▊      | 1351/3500 [00:42<00:59, 36.08it/s]\u001b[A\n",
            " 39%|███▊      | 1355/3500 [00:42<01:20, 26.72it/s]\u001b[A\n",
            " 39%|███▉      | 1359/3500 [00:42<01:13, 29.06it/s]\u001b[A\n",
            " 39%|███▉      | 1364/3500 [00:43<01:05, 32.37it/s]\u001b[A\n",
            " 39%|███▉      | 1368/3500 [00:43<01:23, 25.66it/s]\u001b[A\n",
            " 39%|███▉      | 1373/3500 [00:43<01:13, 29.02it/s]\u001b[A\n",
            " 39%|███▉      | 1378/3500 [00:43<01:06, 32.10it/s]\u001b[A\n",
            " 40%|███▉      | 1383/3500 [00:43<01:00, 34.90it/s]\u001b[A\n",
            " 40%|███▉      | 1387/3500 [00:43<01:08, 30.90it/s]\u001b[A\n",
            " 40%|███▉      | 1392/3500 [00:43<01:02, 33.70it/s]\u001b[A\n",
            " 40%|███▉      | 1397/3500 [00:44<00:59, 35.13it/s]\u001b[A\n",
            " 40%|████      | 1402/3500 [00:44<00:55, 37.79it/s]\u001b[A\n",
            " 40%|████      | 1407/3500 [00:44<01:11, 29.46it/s]\u001b[A\n",
            " 40%|████      | 1412/3500 [00:44<01:03, 33.10it/s]\u001b[A\n",
            " 40%|████      | 1417/3500 [00:44<00:57, 36.25it/s]\u001b[A\n",
            " 41%|████      | 1422/3500 [00:44<01:12, 28.67it/s]\u001b[A\n",
            " 41%|████      | 1427/3500 [00:44<01:05, 31.68it/s]\u001b[A\n",
            " 41%|████      | 1432/3500 [00:45<01:00, 34.30it/s]\u001b[A\n",
            " 41%|████      | 1437/3500 [00:45<00:56, 36.50it/s]\u001b[A\n",
            " 41%|████      | 1441/3500 [00:45<01:15, 27.20it/s]\u001b[A\n",
            " 41%|████▏     | 1446/3500 [00:45<01:06, 30.69it/s]\u001b[A\n",
            " 41%|████▏     | 1451/3500 [00:45<01:01, 33.44it/s]\u001b[A\n",
            " 42%|████▏     | 1455/3500 [00:45<00:58, 35.16it/s]\u001b[A\n",
            " 42%|████▏     | 1459/3500 [00:46<01:15, 26.97it/s]\u001b[A\n",
            " 42%|████▏     | 1464/3500 [00:46<01:07, 30.36it/s]\u001b[A\n",
            " 42%|████▏     | 1469/3500 [00:46<01:00, 33.67it/s]\u001b[A\n",
            " 42%|████▏     | 1474/3500 [00:46<00:56, 35.97it/s]\u001b[A\n",
            " 42%|████▏     | 1478/3500 [00:46<01:22, 24.55it/s]\u001b[A\n",
            " 42%|████▏     | 1483/3500 [00:46<01:11, 28.37it/s]\u001b[A\n",
            " 43%|████▎     | 1488/3500 [00:46<01:04, 31.42it/s]\u001b[A\n",
            " 43%|████▎     | 1492/3500 [00:47<01:20, 24.81it/s]\u001b[A\n",
            " 43%|████▎     | 1497/3500 [00:47<01:10, 28.44it/s]\u001b[A\n",
            " 43%|████▎     | 1502/3500 [00:47<01:03, 31.60it/s]\u001b[A\n",
            " 43%|████▎     | 1507/3500 [00:47<00:57, 34.51it/s]\u001b[A\n",
            " 43%|████▎     | 1511/3500 [00:47<01:13, 27.02it/s]\u001b[A\n",
            " 43%|████▎     | 1516/3500 [00:47<01:05, 30.26it/s]\u001b[A\n",
            " 43%|████▎     | 1521/3500 [00:47<00:59, 33.39it/s]\u001b[A\n",
            " 44%|████▎     | 1526/3500 [00:48<01:11, 27.70it/s]\u001b[A\n",
            " 44%|████▎     | 1530/3500 [00:48<01:06, 29.69it/s]\u001b[A\n",
            " 44%|████▍     | 1535/3500 [00:48<01:00, 32.67it/s]\u001b[A\n",
            " 44%|████▍     | 1540/3500 [00:48<00:55, 35.48it/s]\u001b[A\n",
            " 44%|████▍     | 1544/3500 [00:48<01:12, 26.92it/s]\u001b[A\n",
            " 44%|████▍     | 1548/3500 [00:48<01:07, 29.02it/s]\u001b[A\n",
            " 44%|████▍     | 1553/3500 [00:48<01:00, 32.42it/s]\u001b[A\n",
            " 45%|████▍     | 1558/3500 [00:49<00:55, 34.87it/s]\u001b[A\n",
            " 45%|████▍     | 1562/3500 [00:49<01:12, 26.67it/s]\u001b[A\n",
            " 45%|████▍     | 1567/3500 [00:49<01:03, 30.64it/s]\u001b[A\n",
            " 45%|████▍     | 1572/3500 [00:49<00:56, 34.40it/s]\u001b[A\n",
            " 45%|████▌     | 1577/3500 [00:49<01:07, 28.38it/s]\u001b[A\n",
            " 45%|████▌     | 1582/3500 [00:49<01:00, 31.47it/s]\u001b[A\n",
            " 45%|████▌     | 1586/3500 [00:50<00:58, 32.78it/s]\u001b[A\n",
            " 45%|████▌     | 1591/3500 [00:50<00:53, 35.36it/s]\u001b[A\n",
            " 46%|████▌     | 1595/3500 [00:50<01:10, 27.21it/s]\u001b[A\n",
            " 46%|████▌     | 1599/3500 [00:50<01:03, 29.99it/s]\u001b[A\n",
            " 46%|████▌     | 1604/3500 [00:50<00:57, 32.95it/s]\u001b[A\n",
            " 46%|████▌     | 1609/3500 [00:50<00:52, 35.78it/s]\u001b[A\n",
            " 46%|████▌     | 1613/3500 [00:50<01:08, 27.63it/s]\u001b[A\n",
            " 46%|████▌     | 1618/3500 [00:51<01:01, 30.75it/s]\u001b[A\n",
            " 46%|████▋     | 1623/3500 [00:51<00:55, 33.85it/s]\u001b[A\n",
            " 46%|████▋     | 1627/3500 [00:51<01:16, 24.41it/s]\u001b[A\n",
            " 47%|████▋     | 1631/3500 [00:51<01:07, 27.60it/s]\u001b[A\n",
            " 47%|████▋     | 1636/3500 [00:51<00:58, 31.77it/s]\u001b[A\n",
            " 47%|████▋     | 1640/3500 [00:51<00:55, 33.70it/s]\u001b[A\n",
            " 47%|████▋     | 1644/3500 [00:51<00:53, 34.68it/s]\u001b[A\n",
            " 47%|████▋     | 1648/3500 [00:52<01:09, 26.73it/s]\u001b[A\n",
            " 47%|████▋     | 1652/3500 [00:52<01:02, 29.57it/s]\u001b[A\n",
            " 47%|████▋     | 1656/3500 [00:52<00:57, 32.02it/s]\u001b[A\n",
            " 47%|████▋     | 1660/3500 [00:52<00:54, 33.65it/s]\u001b[A\n",
            " 48%|████▊     | 1664/3500 [00:52<01:13, 25.06it/s]\u001b[A\n",
            " 48%|████▊     | 1669/3500 [00:52<01:04, 28.50it/s]\u001b[A\n",
            " 48%|████▊     | 1674/3500 [00:52<00:56, 32.24it/s]\u001b[A\n",
            " 48%|████▊     | 1678/3500 [00:53<01:11, 25.58it/s]\u001b[A\n",
            " 48%|████▊     | 1683/3500 [00:53<01:02, 29.14it/s]\u001b[A\n",
            " 48%|████▊     | 1688/3500 [00:53<00:54, 32.95it/s]\u001b[A\n",
            " 48%|████▊     | 1693/3500 [00:53<00:50, 36.03it/s]\u001b[A\n",
            " 49%|████▊     | 1698/3500 [00:53<01:04, 28.03it/s]\u001b[A\n",
            " 49%|████▊     | 1703/3500 [00:53<00:57, 31.06it/s]\u001b[A\n",
            " 49%|████▉     | 1708/3500 [00:53<00:53, 33.63it/s]\u001b[A\n",
            " 49%|████▉     | 1712/3500 [00:54<01:07, 26.34it/s]\u001b[A\n",
            " 49%|████▉     | 1717/3500 [00:54<00:59, 29.86it/s]\u001b[A\n",
            " 49%|████▉     | 1722/3500 [00:54<00:53, 32.93it/s]\u001b[A\n",
            " 49%|████▉     | 1727/3500 [00:54<00:50, 35.10it/s]\u001b[A\n",
            " 49%|████▉     | 1731/3500 [00:54<01:06, 26.75it/s]\u001b[A\n",
            " 50%|████▉     | 1736/3500 [00:54<00:58, 30.35it/s]\u001b[A\n",
            " 50%|████▉     | 1741/3500 [00:54<00:52, 33.27it/s]\u001b[A\n",
            " 50%|████▉     | 1746/3500 [00:55<01:03, 27.54it/s]\u001b[A\n",
            " 50%|█████     | 1751/3500 [00:55<00:55, 31.28it/s]\u001b[A\n",
            " 50%|█████     | 1756/3500 [00:55<00:50, 34.51it/s]\u001b[A\n",
            " 50%|█████     | 1761/3500 [00:55<00:47, 36.54it/s]\u001b[A\n",
            " 50%|█████     | 1766/3500 [00:55<00:58, 29.52it/s]\u001b[A\n",
            " 51%|█████     | 1770/3500 [00:55<00:54, 31.90it/s]\u001b[A\n",
            " 51%|█████     | 1775/3500 [00:56<00:49, 34.70it/s]\u001b[A\n",
            " 51%|█████     | 1780/3500 [00:56<00:46, 37.27it/s]\u001b[A\n",
            " 51%|█████     | 1785/3500 [00:56<00:48, 35.06it/s]\u001b[A\n",
            " 51%|█████     | 1790/3500 [00:56<00:45, 37.43it/s]\u001b[A\n",
            " 51%|█████▏    | 1795/3500 [00:56<00:44, 38.49it/s]\u001b[A\n",
            " 51%|█████▏    | 1800/3500 [00:56<01:00, 27.91it/s]\u001b[A\n",
            " 52%|█████▏    | 1805/3500 [00:56<00:54, 31.34it/s]\u001b[A\n",
            " 52%|█████▏    | 1810/3500 [00:57<00:49, 33.81it/s]\u001b[A\n",
            " 52%|█████▏    | 1815/3500 [00:57<00:46, 35.89it/s]\u001b[A\n",
            " 52%|█████▏    | 1819/3500 [00:57<01:01, 27.12it/s]\u001b[A\n",
            " 52%|█████▏    | 1824/3500 [00:57<00:54, 30.69it/s]\u001b[A\n",
            " 52%|█████▏    | 1829/3500 [00:57<00:49, 33.66it/s]\u001b[A\n",
            " 52%|█████▏    | 1833/3500 [00:57<00:47, 35.13it/s]\u001b[A\n",
            " 52%|█████▏    | 1837/3500 [00:57<00:54, 30.50it/s]\u001b[A\n",
            " 53%|█████▎    | 1842/3500 [00:57<00:48, 34.41it/s]\u001b[A\n",
            " 53%|█████▎    | 1847/3500 [00:58<00:44, 36.77it/s]\u001b[A\n",
            " 53%|█████▎    | 1852/3500 [00:58<00:57, 28.67it/s]\u001b[A\n",
            " 53%|█████▎    | 1857/3500 [00:58<00:51, 31.86it/s]\u001b[A\n",
            " 53%|█████▎    | 1862/3500 [00:58<00:47, 34.75it/s]\u001b[A\n",
            " 53%|█████▎    | 1867/3500 [00:58<00:43, 37.14it/s]\u001b[A\n",
            " 53%|█████▎    | 1872/3500 [00:58<00:55, 29.52it/s]\u001b[A\n",
            " 54%|█████▎    | 1877/3500 [00:59<00:49, 32.94it/s]\u001b[A\n",
            " 54%|█████▍    | 1882/3500 [00:59<00:45, 35.74it/s]\u001b[A\n",
            " 54%|█████▍    | 1887/3500 [00:59<00:56, 28.38it/s]\u001b[A\n",
            " 54%|█████▍    | 1892/3500 [00:59<00:51, 31.38it/s]\u001b[A\n",
            " 54%|█████▍    | 1897/3500 [00:59<00:47, 33.87it/s]\u001b[A\n",
            " 54%|█████▍    | 1902/3500 [00:59<00:57, 27.70it/s]\u001b[A\n",
            " 54%|█████▍    | 1907/3500 [01:00<00:51, 30.83it/s]\u001b[A\n",
            " 55%|█████▍    | 1912/3500 [01:00<00:47, 33.72it/s]\u001b[A\n",
            " 55%|█████▍    | 1917/3500 [01:00<00:44, 35.63it/s]\u001b[A\n",
            " 55%|█████▍    | 1921/3500 [01:00<00:58, 26.86it/s]\u001b[A\n",
            " 55%|█████▌    | 1926/3500 [01:00<00:51, 30.46it/s]\u001b[A\n",
            " 55%|█████▌    | 1931/3500 [01:00<00:47, 33.27it/s]\u001b[A\n",
            " 55%|█████▌    | 1936/3500 [01:00<00:43, 35.93it/s]\u001b[A\n",
            " 55%|█████▌    | 1940/3500 [01:01<00:58, 26.88it/s]\u001b[A\n",
            " 56%|█████▌    | 1945/3500 [01:01<00:50, 30.50it/s]\u001b[A\n",
            " 56%|█████▌    | 1950/3500 [01:01<00:44, 34.53it/s]\u001b[A\n",
            " 56%|█████▌    | 1955/3500 [01:01<01:00, 25.66it/s]\u001b[A\n",
            " 56%|█████▌    | 1960/3500 [01:01<00:52, 29.12it/s]\u001b[A\n",
            " 56%|█████▌    | 1965/3500 [01:01<00:47, 32.15it/s]\u001b[A\n",
            " 56%|█████▋    | 1970/3500 [01:02<00:57, 26.73it/s]\u001b[A\n",
            " 56%|█████▋    | 1975/3500 [01:02<00:51, 29.90it/s]\u001b[A\n",
            " 57%|█████▋    | 1980/3500 [01:02<00:46, 32.61it/s]\u001b[A\n",
            " 57%|█████▋    | 1985/3500 [01:02<00:43, 34.95it/s]\u001b[A\n",
            " 57%|█████▋    | 1989/3500 [01:02<00:55, 27.02it/s]\u001b[A\n",
            " 57%|█████▋    | 1994/3500 [01:02<00:48, 30.93it/s]\u001b[A\n",
            " 57%|█████▋    | 1999/3500 [01:02<00:44, 33.47it/s]\u001b[A\n",
            " 57%|█████▋    | 2004/3500 [01:03<00:42, 34.97it/s]\u001b[A\n",
            " 57%|█████▋    | 2008/3500 [01:03<00:56, 26.63it/s]\u001b[A\n",
            " 57%|█████▋    | 2012/3500 [01:03<00:51, 28.87it/s]\u001b[A\n",
            " 58%|█████▊    | 2017/3500 [01:03<00:46, 31.97it/s]\u001b[A\n",
            " 58%|█████▊    | 2021/3500 [01:03<00:57, 25.73it/s]\u001b[A\n",
            " 58%|█████▊    | 2026/3500 [01:03<00:50, 29.03it/s]\u001b[A\n",
            " 58%|█████▊    | 2031/3500 [01:04<00:45, 32.05it/s]\u001b[A\n",
            " 58%|█████▊    | 2035/3500 [01:04<00:43, 33.79it/s]\u001b[A\n",
            " 58%|█████▊    | 2039/3500 [01:04<00:56, 26.02it/s]\u001b[A\n",
            " 58%|█████▊    | 2044/3500 [01:04<00:48, 29.86it/s]\u001b[A\n",
            " 59%|█████▊    | 2049/3500 [01:04<00:43, 33.57it/s]\u001b[A\n",
            " 59%|█████▊    | 2054/3500 [01:04<00:40, 35.76it/s]\u001b[A\n",
            " 59%|█████▉    | 2058/3500 [01:04<00:53, 26.74it/s]\u001b[A\n",
            " 59%|█████▉    | 2063/3500 [01:05<00:47, 30.04it/s]\u001b[A\n",
            " 59%|█████▉    | 2067/3500 [01:05<00:44, 32.38it/s]\u001b[A\n",
            " 59%|█████▉    | 2071/3500 [01:05<00:41, 34.17it/s]\u001b[A\n",
            " 59%|█████▉    | 2075/3500 [01:05<00:54, 26.02it/s]\u001b[A\n",
            " 59%|█████▉    | 2080/3500 [01:05<00:48, 29.19it/s]\u001b[A\n",
            " 60%|█████▉    | 2085/3500 [01:05<00:43, 32.65it/s]\u001b[A\n",
            " 60%|█████▉    | 2090/3500 [01:05<00:40, 34.68it/s]\u001b[A\n",
            " 60%|█████▉    | 2094/3500 [01:06<00:51, 27.07it/s]\u001b[A\n",
            " 60%|█████▉    | 2098/3500 [01:06<00:47, 29.37it/s]\u001b[A\n",
            " 60%|██████    | 2102/3500 [01:06<00:44, 31.48it/s]\u001b[A\n",
            " 60%|██████    | 2107/3500 [01:06<00:52, 26.64it/s]\u001b[A\n",
            " 60%|██████    | 2112/3500 [01:06<00:46, 29.82it/s]\u001b[A\n",
            " 60%|██████    | 2116/3500 [01:06<00:43, 32.14it/s]\u001b[A\n",
            " 61%|██████    | 2121/3500 [01:06<00:39, 34.68it/s]\u001b[A\n",
            " 61%|██████    | 2125/3500 [01:07<00:57, 23.75it/s]\u001b[A\n",
            " 61%|██████    | 2129/3500 [01:07<00:51, 26.67it/s]\u001b[A\n",
            " 61%|██████    | 2134/3500 [01:07<00:45, 29.99it/s]\u001b[A\n",
            " 61%|██████    | 2139/3500 [01:07<00:41, 33.13it/s]\u001b[A\n",
            " 61%|██████    | 2143/3500 [01:07<00:52, 25.97it/s]\u001b[A\n",
            " 61%|██████▏   | 2147/3500 [01:07<00:46, 28.94it/s]\u001b[A\n",
            " 61%|██████▏   | 2151/3500 [01:07<00:42, 31.38it/s]\u001b[A\n",
            " 62%|██████▏   | 2155/3500 [01:08<00:41, 32.66it/s]\u001b[A\n",
            " 62%|██████▏   | 2159/3500 [01:08<00:52, 25.39it/s]\u001b[A\n",
            " 62%|██████▏   | 2163/3500 [01:08<00:47, 28.25it/s]\u001b[A\n",
            " 62%|██████▏   | 2168/3500 [01:08<00:41, 32.29it/s]\u001b[A\n",
            " 62%|██████▏   | 2173/3500 [01:08<00:37, 35.04it/s]\u001b[A\n",
            " 62%|██████▏   | 2177/3500 [01:08<00:49, 26.63it/s]\u001b[A\n",
            " 62%|██████▏   | 2181/3500 [01:08<00:45, 29.20it/s]\u001b[A\n",
            " 62%|██████▏   | 2186/3500 [01:09<00:40, 32.34it/s]\u001b[A\n",
            " 63%|██████▎   | 2191/3500 [01:09<00:37, 35.01it/s]\u001b[A\n",
            " 63%|██████▎   | 2195/3500 [01:09<00:49, 26.13it/s]\u001b[A\n",
            " 63%|██████▎   | 2200/3500 [01:09<00:44, 29.53it/s]\u001b[A\n",
            " 63%|██████▎   | 2205/3500 [01:09<00:40, 32.08it/s]\u001b[A\n",
            " 63%|██████▎   | 2209/3500 [01:09<00:38, 33.19it/s]\u001b[A\n",
            " 63%|██████▎   | 2213/3500 [01:10<00:49, 26.07it/s]\u001b[A\n",
            " 63%|██████▎   | 2218/3500 [01:10<00:43, 29.25it/s]\u001b[A\n",
            " 63%|██████▎   | 2222/3500 [01:10<00:40, 31.74it/s]\u001b[A\n",
            " 64%|██████▎   | 2226/3500 [01:10<00:37, 33.73it/s]\u001b[A\n",
            " 64%|██████▎   | 2230/3500 [01:10<00:51, 24.62it/s]\u001b[A\n",
            " 64%|██████▍   | 2235/3500 [01:10<00:45, 28.06it/s]\u001b[A\n",
            " 64%|██████▍   | 2239/3500 [01:10<00:41, 30.71it/s]\u001b[A\n",
            " 64%|██████▍   | 2244/3500 [01:11<00:47, 26.22it/s]\u001b[A\n",
            " 64%|██████▍   | 2248/3500 [01:11<00:43, 28.97it/s]\u001b[A\n",
            " 64%|██████▍   | 2252/3500 [01:11<00:39, 31.53it/s]\u001b[A\n",
            " 64%|██████▍   | 2257/3500 [01:11<00:36, 33.86it/s]\u001b[A\n",
            " 65%|██████▍   | 2261/3500 [01:11<00:35, 34.64it/s]\u001b[A\n",
            " 65%|██████▍   | 2265/3500 [01:11<00:46, 26.65it/s]\u001b[A\n",
            " 65%|██████▍   | 2269/3500 [01:11<00:42, 29.17it/s]\u001b[A\n",
            " 65%|██████▍   | 2273/3500 [01:11<00:38, 31.53it/s]\u001b[A\n",
            " 65%|██████▌   | 2278/3500 [01:12<00:35, 34.47it/s]\u001b[A\n",
            " 65%|██████▌   | 2282/3500 [01:12<00:42, 28.74it/s]\u001b[A\n",
            " 65%|██████▌   | 2287/3500 [01:12<00:38, 31.90it/s]\u001b[A\n",
            " 65%|██████▌   | 2292/3500 [01:12<00:35, 34.31it/s]\u001b[A\n",
            " 66%|██████▌   | 2296/3500 [01:12<00:34, 35.12it/s]\u001b[A\n",
            " 66%|██████▌   | 2300/3500 [01:12<00:44, 26.87it/s]\u001b[A\n",
            " 66%|██████▌   | 2304/3500 [01:12<00:42, 28.44it/s]\u001b[A\n",
            " 66%|██████▌   | 2309/3500 [01:13<00:37, 31.52it/s]\u001b[A\n",
            " 66%|██████▌   | 2313/3500 [01:13<00:46, 25.76it/s]\u001b[A\n",
            " 66%|██████▌   | 2317/3500 [01:13<00:41, 28.65it/s]\u001b[A\n",
            " 66%|██████▋   | 2321/3500 [01:13<00:37, 31.08it/s]\u001b[A\n",
            " 66%|██████▋   | 2325/3500 [01:13<00:35, 33.09it/s]\u001b[A\n",
            " 67%|██████▋   | 2330/3500 [01:13<00:33, 34.97it/s]\u001b[A\n",
            " 67%|██████▋   | 2334/3500 [01:13<00:39, 29.40it/s]\u001b[A\n",
            " 67%|██████▋   | 2338/3500 [01:14<00:37, 31.29it/s]\u001b[A\n",
            " 67%|██████▋   | 2342/3500 [01:14<00:35, 32.63it/s]\u001b[A\n",
            " 67%|██████▋   | 2346/3500 [01:14<00:34, 33.15it/s]\u001b[A\n",
            " 67%|██████▋   | 2350/3500 [01:14<00:44, 26.03it/s]\u001b[A\n",
            " 67%|██████▋   | 2355/3500 [01:14<00:39, 29.31it/s]\u001b[A\n",
            " 67%|██████▋   | 2360/3500 [01:14<00:35, 32.16it/s]\u001b[A\n",
            " 68%|██████▊   | 2365/3500 [01:14<00:41, 27.32it/s]\u001b[A\n",
            " 68%|██████▊   | 2369/3500 [01:15<00:38, 29.57it/s]\u001b[A\n",
            " 68%|██████▊   | 2374/3500 [01:15<00:34, 32.93it/s]\u001b[A\n",
            " 68%|██████▊   | 2379/3500 [01:15<00:31, 35.11it/s]\u001b[A\n",
            " 68%|██████▊   | 2383/3500 [01:15<00:33, 33.76it/s]\u001b[A\n",
            " 68%|██████▊   | 2388/3500 [01:15<00:30, 36.15it/s]\u001b[A\n",
            " 68%|██████▊   | 2393/3500 [01:15<00:29, 37.58it/s]\u001b[A\n",
            " 68%|██████▊   | 2397/3500 [01:15<00:28, 38.22it/s]\u001b[A\n",
            " 69%|██████▊   | 2401/3500 [01:16<00:39, 27.84it/s]\u001b[A\n",
            " 69%|██████▊   | 2406/3500 [01:16<00:35, 30.83it/s]\u001b[A\n",
            " 69%|██████▉   | 2410/3500 [01:16<00:33, 32.50it/s]\u001b[A\n",
            " 69%|██████▉   | 2415/3500 [01:16<00:30, 35.15it/s]\u001b[A\n",
            " 69%|██████▉   | 2419/3500 [01:16<00:40, 26.55it/s]\u001b[A\n",
            " 69%|██████▉   | 2424/3500 [01:16<00:36, 29.66it/s]\u001b[A\n",
            " 69%|██████▉   | 2429/3500 [01:16<00:32, 33.23it/s]\u001b[A\n",
            " 70%|██████▉   | 2434/3500 [01:17<00:40, 26.42it/s]\u001b[A\n",
            " 70%|██████▉   | 2439/3500 [01:17<00:35, 29.85it/s]\u001b[A\n",
            " 70%|██████▉   | 2444/3500 [01:17<00:32, 32.52it/s]\u001b[A\n",
            " 70%|██████▉   | 2449/3500 [01:17<00:30, 34.79it/s]\u001b[A\n",
            " 70%|███████   | 2453/3500 [01:17<00:40, 25.81it/s]\u001b[A\n",
            " 70%|███████   | 2457/3500 [01:17<00:36, 28.71it/s]\u001b[A\n",
            " 70%|███████   | 2462/3500 [01:17<00:32, 31.56it/s]\u001b[A\n",
            " 70%|███████   | 2467/3500 [01:18<00:39, 26.34it/s]\u001b[A\n",
            " 71%|███████   | 2471/3500 [01:18<00:35, 28.83it/s]\u001b[A\n",
            " 71%|███████   | 2475/3500 [01:18<00:32, 31.23it/s]\u001b[A\n",
            " 71%|███████   | 2480/3500 [01:18<00:29, 34.09it/s]\u001b[A\n",
            " 71%|███████   | 2484/3500 [01:18<00:30, 32.95it/s]\u001b[A\n",
            " 71%|███████   | 2489/3500 [01:18<00:28, 35.35it/s]\u001b[A\n",
            " 71%|███████   | 2493/3500 [01:18<00:27, 36.40it/s]\u001b[A\n",
            " 71%|███████▏  | 2498/3500 [01:18<00:26, 37.95it/s]\u001b[A\n",
            " 71%|███████▏  | 2502/3500 [01:19<00:35, 28.49it/s]\u001b[A\n",
            " 72%|███████▏  | 2507/3500 [01:19<00:31, 31.58it/s]\u001b[A\n",
            " 72%|███████▏  | 2512/3500 [01:19<00:28, 34.76it/s]\u001b[A\n",
            " 72%|███████▏  | 2517/3500 [01:19<00:34, 28.11it/s]\u001b[A\n",
            " 72%|███████▏  | 2522/3500 [01:19<00:31, 31.22it/s]\u001b[A\n",
            " 72%|███████▏  | 2527/3500 [01:19<00:28, 34.41it/s]\u001b[A\n",
            " 72%|███████▏  | 2531/3500 [01:20<00:27, 35.85it/s]\u001b[A\n",
            " 72%|███████▏  | 2535/3500 [01:20<00:34, 27.89it/s]\u001b[A\n",
            " 73%|███████▎  | 2540/3500 [01:20<00:30, 31.20it/s]\u001b[A\n",
            " 73%|███████▎  | 2545/3500 [01:20<00:28, 33.83it/s]\u001b[A\n",
            " 73%|███████▎  | 2549/3500 [01:20<00:26, 35.35it/s]\u001b[A\n",
            " 73%|███████▎  | 2553/3500 [01:20<00:35, 26.68it/s]\u001b[A\n",
            " 73%|███████▎  | 2558/3500 [01:20<00:31, 29.76it/s]\u001b[A\n",
            " 73%|███████▎  | 2562/3500 [01:21<00:30, 30.59it/s]\u001b[A\n",
            " 73%|███████▎  | 2567/3500 [01:21<00:27, 33.50it/s]\u001b[A\n",
            " 73%|███████▎  | 2571/3500 [01:21<00:35, 26.04it/s]\u001b[A\n",
            " 74%|███████▎  | 2576/3500 [01:21<00:31, 29.78it/s]\u001b[A\n",
            " 74%|███████▎  | 2581/3500 [01:21<00:28, 32.46it/s]\u001b[A\n",
            " 74%|███████▍  | 2585/3500 [01:21<00:26, 34.07it/s]\u001b[A\n",
            " 74%|███████▍  | 2589/3500 [01:21<00:35, 25.62it/s]\u001b[A\n",
            " 74%|███████▍  | 2593/3500 [01:22<00:32, 28.03it/s]\u001b[A\n",
            " 74%|███████▍  | 2597/3500 [01:22<00:29, 30.76it/s]\u001b[A\n",
            " 74%|███████▍  | 2601/3500 [01:22<00:27, 32.56it/s]\u001b[A\n",
            " 74%|███████▍  | 2605/3500 [01:22<00:37, 24.06it/s]\u001b[A\n",
            " 75%|███████▍  | 2610/3500 [01:22<00:32, 27.67it/s]\u001b[A\n",
            " 75%|███████▍  | 2615/3500 [01:22<00:28, 30.84it/s]\u001b[A\n",
            " 75%|███████▍  | 2619/3500 [01:22<00:26, 32.98it/s]\u001b[A\n",
            " 75%|███████▍  | 2623/3500 [01:23<00:33, 26.05it/s]\u001b[A\n",
            " 75%|███████▌  | 2628/3500 [01:23<00:29, 29.15it/s]\u001b[A\n",
            " 75%|███████▌  | 2633/3500 [01:23<00:29, 29.78it/s]\u001b[A\n",
            " 75%|███████▌  | 2638/3500 [01:23<00:27, 31.74it/s]\u001b[A\n",
            " 75%|███████▌  | 2642/3500 [01:23<00:25, 33.48it/s]\u001b[A\n",
            " 76%|███████▌  | 2647/3500 [01:23<00:23, 36.08it/s]\u001b[A\n",
            " 76%|███████▌  | 2651/3500 [01:24<00:31, 26.96it/s]\u001b[A\n",
            " 76%|███████▌  | 2656/3500 [01:24<00:28, 30.01it/s]\u001b[A\n",
            " 76%|███████▌  | 2660/3500 [01:24<00:26, 31.46it/s]\u001b[A\n",
            " 76%|███████▌  | 2665/3500 [01:24<00:24, 34.09it/s]\u001b[A\n",
            " 76%|███████▋  | 2669/3500 [01:24<00:31, 26.19it/s]\u001b[A\n",
            " 76%|███████▋  | 2673/3500 [01:24<00:28, 28.98it/s]\u001b[A\n",
            " 77%|███████▋  | 2678/3500 [01:24<00:25, 32.37it/s]\u001b[A\n",
            " 77%|███████▋  | 2682/3500 [01:25<00:28, 28.30it/s]\u001b[A\n",
            " 77%|███████▋  | 2687/3500 [01:25<00:25, 31.42it/s]\u001b[A\n",
            " 77%|███████▋  | 2692/3500 [01:25<00:23, 34.06it/s]\u001b[A\n",
            " 77%|███████▋  | 2697/3500 [01:25<00:22, 35.88it/s]\u001b[A\n",
            " 77%|███████▋  | 2701/3500 [01:25<00:29, 27.45it/s]\u001b[A\n",
            " 77%|███████▋  | 2706/3500 [01:25<00:25, 30.75it/s]\u001b[A\n",
            " 77%|███████▋  | 2710/3500 [01:25<00:24, 31.94it/s]\u001b[A\n",
            " 78%|███████▊  | 2714/3500 [01:26<00:30, 25.38it/s]\u001b[A\n",
            " 78%|███████▊  | 2719/3500 [01:26<00:27, 28.82it/s]\u001b[A\n",
            " 78%|███████▊  | 2723/3500 [01:26<00:25, 30.68it/s]\u001b[A\n",
            " 78%|███████▊  | 2728/3500 [01:26<00:22, 33.77it/s]\u001b[A\n",
            " 78%|███████▊  | 2732/3500 [01:26<00:26, 28.69it/s]\u001b[A\n",
            " 78%|███████▊  | 2737/3500 [01:26<00:24, 31.54it/s]\u001b[A\n",
            " 78%|███████▊  | 2742/3500 [01:26<00:22, 33.99it/s]\u001b[A\n",
            " 78%|███████▊  | 2746/3500 [01:27<00:25, 29.41it/s]\u001b[A\n",
            " 79%|███████▊  | 2750/3500 [01:27<00:23, 31.68it/s]\u001b[A\n",
            " 79%|███████▊  | 2754/3500 [01:27<00:22, 33.66it/s]\u001b[A\n",
            " 79%|███████▉  | 2759/3500 [01:27<00:20, 35.54it/s]\u001b[A\n",
            " 79%|███████▉  | 2763/3500 [01:27<00:29, 24.69it/s]\u001b[A\n",
            " 79%|███████▉  | 2768/3500 [01:27<00:25, 28.61it/s]\u001b[A\n",
            " 79%|███████▉  | 2773/3500 [01:27<00:22, 32.32it/s]\u001b[A\n",
            " 79%|███████▉  | 2778/3500 [01:27<00:20, 34.70it/s]\u001b[A\n",
            " 79%|███████▉  | 2782/3500 [01:28<00:24, 29.70it/s]\u001b[A\n",
            " 80%|███████▉  | 2786/3500 [01:28<00:22, 31.85it/s]\u001b[A\n",
            " 80%|███████▉  | 2791/3500 [01:28<00:20, 34.15it/s]\u001b[A\n",
            " 80%|███████▉  | 2795/3500 [01:28<00:19, 35.29it/s]\u001b[A\n",
            " 80%|███████▉  | 2799/3500 [01:28<00:26, 26.52it/s]\u001b[A\n",
            " 80%|████████  | 2804/3500 [01:28<00:23, 29.55it/s]\u001b[A\n",
            " 80%|████████  | 2809/3500 [01:28<00:21, 32.57it/s]\u001b[A\n",
            " 80%|████████  | 2813/3500 [01:29<00:20, 33.42it/s]\u001b[A\n",
            " 80%|████████  | 2817/3500 [01:29<00:25, 26.36it/s]\u001b[A\n",
            " 81%|████████  | 2823/3500 [01:29<00:21, 30.91it/s]\u001b[A\n",
            " 81%|████████  | 2828/3500 [01:29<00:20, 33.34it/s]\u001b[A\n",
            " 81%|████████  | 2832/3500 [01:29<00:20, 32.45it/s]\u001b[A\n",
            " 81%|████████  | 2837/3500 [01:29<00:19, 34.86it/s]\u001b[A\n",
            " 81%|████████  | 2841/3500 [01:29<00:18, 36.22it/s]\u001b[A\n",
            " 81%|████████▏ | 2845/3500 [01:29<00:17, 36.66it/s]\u001b[A\n",
            " 81%|████████▏ | 2849/3500 [01:30<00:23, 28.18it/s]\u001b[A\n",
            " 82%|████████▏ | 2853/3500 [01:30<00:21, 30.74it/s]\u001b[A\n",
            " 82%|████████▏ | 2858/3500 [01:30<00:19, 33.64it/s]\u001b[A\n",
            " 82%|████████▏ | 2862/3500 [01:30<00:18, 35.22it/s]\u001b[A\n",
            " 82%|████████▏ | 2866/3500 [01:30<00:23, 27.07it/s]\u001b[A\n",
            " 82%|████████▏ | 2870/3500 [01:30<00:21, 29.79it/s]\u001b[A\n",
            " 82%|████████▏ | 2875/3500 [01:30<00:18, 33.59it/s]\u001b[A\n",
            " 82%|████████▏ | 2880/3500 [01:31<00:16, 37.15it/s]\u001b[A\n",
            " 82%|████████▏ | 2885/3500 [01:31<00:20, 30.10it/s]\u001b[A\n",
            " 83%|████████▎ | 2890/3500 [01:31<00:18, 32.79it/s]\u001b[A\n",
            " 83%|████████▎ | 2895/3500 [01:31<00:17, 34.97it/s]\u001b[A\n",
            " 83%|████████▎ | 2899/3500 [01:31<00:16, 36.17it/s]\u001b[A\n",
            " 83%|████████▎ | 2903/3500 [01:31<00:22, 27.10it/s]\u001b[A\n",
            " 83%|████████▎ | 2908/3500 [01:31<00:19, 30.54it/s]\u001b[A\n",
            " 83%|████████▎ | 2913/3500 [01:32<00:17, 33.79it/s]\u001b[A\n",
            " 83%|████████▎ | 2918/3500 [01:32<00:23, 25.24it/s]\u001b[A\n",
            " 84%|████████▎ | 2923/3500 [01:32<00:20, 28.60it/s]\u001b[A\n",
            " 84%|████████▎ | 2927/3500 [01:32<00:18, 31.01it/s]\u001b[A\n",
            " 84%|████████▍ | 2932/3500 [01:32<00:16, 33.44it/s]\u001b[A\n",
            " 84%|████████▍ | 2936/3500 [01:32<00:21, 26.15it/s]\u001b[A\n",
            " 84%|████████▍ | 2940/3500 [01:33<00:19, 28.95it/s]\u001b[A\n",
            " 84%|████████▍ | 2944/3500 [01:33<00:17, 31.55it/s]\u001b[A\n",
            " 84%|████████▍ | 2949/3500 [01:33<00:16, 33.82it/s]\u001b[A\n",
            " 84%|████████▍ | 2954/3500 [01:33<00:19, 28.38it/s]\u001b[A\n",
            " 85%|████████▍ | 2959/3500 [01:33<00:17, 31.35it/s]\u001b[A\n",
            " 85%|████████▍ | 2964/3500 [01:33<00:15, 34.06it/s]\u001b[A\n",
            " 85%|████████▍ | 2969/3500 [01:33<00:14, 36.12it/s]\u001b[A\n",
            " 85%|████████▍ | 2973/3500 [01:34<00:19, 27.25it/s]\u001b[A\n",
            " 85%|████████▌ | 2977/3500 [01:34<00:17, 30.04it/s]\u001b[A\n",
            " 85%|████████▌ | 2982/3500 [01:34<00:15, 32.60it/s]\u001b[A\n",
            " 85%|████████▌ | 2987/3500 [01:34<00:14, 34.94it/s]\u001b[A\n",
            " 85%|████████▌ | 2991/3500 [01:34<00:19, 25.67it/s]\u001b[A\n",
            " 86%|████████▌ | 2995/3500 [01:34<00:17, 28.23it/s]\u001b[A\n",
            " 86%|████████▌ | 3000/3500 [01:34<00:15, 31.45it/s]\u001b[A\n",
            " 86%|████████▌ | 3005/3500 [01:35<00:14, 34.63it/s]\u001b[A\n",
            " 86%|████████▌ | 3009/3500 [01:35<00:17, 27.45it/s]\u001b[A\n",
            " 86%|████████▌ | 3014/3500 [01:35<00:15, 30.77it/s]\u001b[A\n",
            " 86%|████████▋ | 3019/3500 [01:35<00:14, 33.67it/s]\u001b[A\n",
            " 86%|████████▋ | 3023/3500 [01:35<00:17, 27.55it/s]\u001b[A\n",
            " 86%|████████▋ | 3027/3500 [01:35<00:16, 29.38it/s]\u001b[A\n",
            " 87%|████████▋ | 3032/3500 [01:35<00:14, 32.52it/s]\u001b[A\n",
            " 87%|████████▋ | 3037/3500 [01:36<00:13, 35.45it/s]\u001b[A\n",
            " 87%|████████▋ | 3041/3500 [01:36<00:17, 26.86it/s]\u001b[A\n",
            " 87%|████████▋ | 3047/3500 [01:36<00:14, 31.21it/s]\u001b[A\n",
            " 87%|████████▋ | 3052/3500 [01:36<00:13, 33.98it/s]\u001b[A\n",
            " 87%|████████▋ | 3056/3500 [01:36<00:16, 26.46it/s]\u001b[A\n",
            " 87%|████████▋ | 3060/3500 [01:36<00:15, 28.92it/s]\u001b[A\n",
            " 88%|████████▊ | 3065/3500 [01:36<00:13, 32.12it/s]\u001b[A\n",
            " 88%|████████▊ | 3070/3500 [01:37<00:12, 34.70it/s]\u001b[A\n",
            " 88%|████████▊ | 3074/3500 [01:37<00:15, 26.65it/s]\u001b[A\n",
            " 88%|████████▊ | 3078/3500 [01:37<00:14, 29.45it/s]\u001b[A\n",
            " 88%|████████▊ | 3082/3500 [01:37<00:13, 31.67it/s]\u001b[A\n",
            " 88%|████████▊ | 3087/3500 [01:37<00:12, 34.12it/s]\u001b[A\n",
            " 88%|████████▊ | 3091/3500 [01:37<00:15, 26.07it/s]\u001b[A\n",
            " 88%|████████▊ | 3096/3500 [01:38<00:13, 29.32it/s]\u001b[A\n",
            " 89%|████████▊ | 3100/3500 [01:38<00:12, 31.57it/s]\u001b[A\n",
            " 89%|████████▊ | 3104/3500 [01:38<00:11, 33.69it/s]\u001b[A\n",
            " 89%|████████▉ | 3108/3500 [01:38<00:15, 25.58it/s]\u001b[A\n",
            " 89%|████████▉ | 3113/3500 [01:38<00:13, 29.15it/s]\u001b[A\n",
            " 89%|████████▉ | 3118/3500 [01:38<00:11, 32.06it/s]\u001b[A\n",
            " 89%|████████▉ | 3123/3500 [01:38<00:10, 34.39it/s]\u001b[A\n",
            " 89%|████████▉ | 3127/3500 [01:39<00:14, 25.62it/s]\u001b[A\n",
            " 89%|████████▉ | 3131/3500 [01:39<00:13, 28.26it/s]\u001b[A\n",
            " 90%|████████▉ | 3136/3500 [01:39<00:11, 31.10it/s]\u001b[A\n",
            " 90%|████████▉ | 3141/3500 [01:39<00:10, 33.75it/s]\u001b[A\n",
            " 90%|████████▉ | 3145/3500 [01:39<00:13, 25.82it/s]\u001b[A\n",
            " 90%|████████▉ | 3149/3500 [01:39<00:12, 28.16it/s]\u001b[A\n",
            " 90%|█████████ | 3153/3500 [01:39<00:11, 30.73it/s]\u001b[A\n",
            " 90%|█████████ | 3158/3500 [01:39<00:10, 33.85it/s]\u001b[A\n",
            " 90%|█████████ | 3162/3500 [01:40<00:13, 25.55it/s]\u001b[A\n",
            " 90%|█████████ | 3167/3500 [01:40<00:11, 28.89it/s]\u001b[A\n",
            " 91%|█████████ | 3171/3500 [01:40<00:10, 30.29it/s]\u001b[A\n",
            " 91%|█████████ | 3175/3500 [01:40<00:13, 24.06it/s]\u001b[A\n",
            " 91%|█████████ | 3179/3500 [01:40<00:12, 26.46it/s]\u001b[A\n",
            " 91%|█████████ | 3183/3500 [01:40<00:10, 29.30it/s]\u001b[A\n",
            " 91%|█████████ | 3187/3500 [01:41<00:10, 31.12it/s]\u001b[A\n",
            " 91%|█████████ | 3191/3500 [01:41<00:11, 25.81it/s]\u001b[A\n",
            " 91%|█████████▏| 3195/3500 [01:41<00:10, 28.25it/s]\u001b[A\n",
            " 91%|█████████▏| 3199/3500 [01:41<00:09, 30.58it/s]\u001b[A\n",
            " 92%|█████████▏| 3203/3500 [01:41<00:09, 32.50it/s]\u001b[A\n",
            " 92%|█████████▏| 3207/3500 [01:41<00:08, 33.98it/s]\u001b[A\n",
            " 92%|█████████▏| 3211/3500 [01:41<00:11, 25.99it/s]\u001b[A\n",
            " 92%|█████████▏| 3215/3500 [01:42<00:09, 28.64it/s]\u001b[A\n",
            " 92%|█████████▏| 3219/3500 [01:42<00:09, 30.66it/s]\u001b[A\n",
            " 92%|█████████▏| 3223/3500 [01:42<00:08, 32.11it/s]\u001b[A\n",
            " 92%|█████████▏| 3227/3500 [01:42<00:10, 26.08it/s]\u001b[A\n",
            " 92%|█████████▏| 3231/3500 [01:42<00:09, 28.16it/s]\u001b[A\n",
            " 92%|█████████▏| 3235/3500 [01:42<00:08, 29.71it/s]\u001b[A\n",
            " 93%|█████████▎| 3239/3500 [01:42<00:08, 31.68it/s]\u001b[A\n",
            " 93%|█████████▎| 3243/3500 [01:43<00:10, 25.14it/s]\u001b[A\n",
            " 93%|█████████▎| 3248/3500 [01:43<00:08, 28.43it/s]\u001b[A\n",
            " 93%|█████████▎| 3252/3500 [01:43<00:08, 30.26it/s]\u001b[A\n",
            " 93%|█████████▎| 3257/3500 [01:43<00:07, 33.90it/s]\u001b[A\n",
            " 93%|█████████▎| 3261/3500 [01:43<00:09, 25.96it/s]\u001b[A\n",
            " 93%|█████████▎| 3266/3500 [01:43<00:07, 30.05it/s]\u001b[A\n",
            " 93%|█████████▎| 3271/3500 [01:43<00:06, 34.13it/s]\u001b[A\n",
            " 94%|█████████▎| 3276/3500 [01:43<00:06, 36.43it/s]\u001b[A\n",
            " 94%|█████████▎| 3281/3500 [01:44<00:07, 28.24it/s]\u001b[A\n",
            " 94%|█████████▍| 3285/3500 [01:44<00:06, 30.96it/s]\u001b[A\n",
            " 94%|█████████▍| 3290/3500 [01:44<00:06, 33.86it/s]\u001b[A\n",
            " 94%|█████████▍| 3294/3500 [01:44<00:07, 26.52it/s]\u001b[A\n",
            " 94%|█████████▍| 3299/3500 [01:44<00:06, 30.16it/s]\u001b[A\n",
            " 94%|█████████▍| 3304/3500 [01:44<00:05, 33.06it/s]\u001b[A\n",
            " 95%|█████████▍| 3309/3500 [01:45<00:05, 35.90it/s]\u001b[A\n",
            " 95%|█████████▍| 3313/3500 [01:45<00:06, 27.57it/s]\u001b[A\n",
            " 95%|█████████▍| 3318/3500 [01:45<00:05, 30.81it/s]\u001b[A\n",
            " 95%|█████████▍| 3323/3500 [01:45<00:05, 33.37it/s]\u001b[A\n",
            " 95%|█████████▌| 3328/3500 [01:45<00:04, 36.31it/s]\u001b[A\n",
            " 95%|█████████▌| 3333/3500 [01:45<00:05, 31.23it/s]\u001b[A\n",
            " 95%|█████████▌| 3338/3500 [01:45<00:04, 34.48it/s]\u001b[A\n",
            " 96%|█████████▌| 3343/3500 [01:46<00:04, 36.84it/s]\u001b[A\n",
            " 96%|█████████▌| 3347/3500 [01:46<00:05, 26.74it/s]\u001b[A\n",
            " 96%|█████████▌| 3351/3500 [01:46<00:05, 29.36it/s]\u001b[A\n",
            " 96%|█████████▌| 3356/3500 [01:46<00:04, 32.30it/s]\u001b[A\n",
            " 96%|█████████▌| 3361/3500 [01:46<00:04, 34.55it/s]\u001b[A\n",
            " 96%|█████████▌| 3365/3500 [01:46<00:05, 25.72it/s]\u001b[A\n",
            " 96%|█████████▋| 3370/3500 [01:46<00:04, 28.96it/s]\u001b[A\n",
            " 96%|█████████▋| 3375/3500 [01:47<00:03, 32.33it/s]\u001b[A\n",
            " 97%|█████████▋| 3379/3500 [01:47<00:04, 26.10it/s]\u001b[A\n",
            " 97%|█████████▋| 3384/3500 [01:47<00:03, 29.20it/s]\u001b[A\n",
            " 97%|█████████▋| 3389/3500 [01:47<00:03, 32.11it/s]\u001b[A\n",
            " 97%|█████████▋| 3393/3500 [01:47<00:03, 34.02it/s]\u001b[A\n",
            " 97%|█████████▋| 3397/3500 [01:47<00:04, 24.81it/s]\u001b[A\n",
            " 97%|█████████▋| 3402/3500 [01:48<00:03, 28.75it/s]\u001b[A\n",
            " 97%|█████████▋| 3407/3500 [01:48<00:02, 31.93it/s]\u001b[A\n",
            " 97%|█████████▋| 3411/3500 [01:48<00:02, 33.17it/s]\u001b[A\n",
            " 98%|█████████▊| 3415/3500 [01:48<00:03, 25.98it/s]\u001b[A\n",
            " 98%|█████████▊| 3420/3500 [01:48<00:02, 29.50it/s]\u001b[A\n",
            " 98%|█████████▊| 3425/3500 [01:48<00:02, 32.53it/s]\u001b[A\n",
            " 98%|█████████▊| 3430/3500 [01:48<00:01, 35.03it/s]\u001b[A\n",
            " 98%|█████████▊| 3434/3500 [01:49<00:02, 29.73it/s]\u001b[A\n",
            " 98%|█████████▊| 3439/3500 [01:49<00:01, 32.96it/s]\u001b[A\n",
            " 98%|█████████▊| 3444/3500 [01:49<00:01, 36.46it/s]\u001b[A\n",
            " 99%|█████████▊| 3449/3500 [01:49<00:01, 29.04it/s]\u001b[A\n",
            " 99%|█████████▊| 3453/3500 [01:49<00:01, 31.54it/s]\u001b[A\n",
            " 99%|█████████▉| 3458/3500 [01:49<00:01, 34.14it/s]\u001b[A\n",
            " 99%|█████████▉| 3463/3500 [01:49<00:01, 36.80it/s]\u001b[A\n",
            " 99%|█████████▉| 3467/3500 [01:50<00:01, 26.95it/s]\u001b[A\n",
            " 99%|█████████▉| 3471/3500 [01:50<00:00, 29.85it/s]\u001b[A\n",
            " 99%|█████████▉| 3475/3500 [01:50<00:00, 32.01it/s]\u001b[A\n",
            " 99%|█████████▉| 3480/3500 [01:50<00:00, 34.88it/s]\u001b[A\n",
            "100%|█████████▉| 3484/3500 [01:50<00:00, 33.73it/s]\u001b[A\n",
            "100%|█████████▉| 3489/3500 [01:50<00:00, 35.65it/s]\u001b[A\n",
            "100%|█████████▉| 3494/3500 [01:50<00:00, 38.37it/s]\u001b[A\n",
            "100%|█████████▉| 3499/3500 [01:50<00:00, 39.49it/s]\u001b[A\n",
            " 80%|████████  | 4/5 [06:14<02:00, 120.35s/it]"
          ],
          "name": "stderr"
        },
        {
          "output_type": "stream",
          "text": [
            "\n",
            " [INFO]... Loading label 4\n"
          ],
          "name": "stdout"
        },
        {
          "output_type": "stream",
          "text": [
            "\n",
            "  0%|          | 0/417 [00:00<?, ?it/s]\u001b[A\n",
            "  1%|          | 4/417 [00:00<00:11, 36.77it/s]\u001b[A"
          ],
          "name": "stderr"
        },
        {
          "output_type": "stream",
          "text": [
            "\n",
            " No. of images found : 417\n"
          ],
          "name": "stdout"
        },
        {
          "output_type": "stream",
          "text": [
            "\n",
            "  2%|▏         | 9/417 [00:00<00:10, 37.51it/s]\u001b[A\n",
            "  3%|▎         | 13/417 [00:00<00:11, 36.26it/s]\u001b[A\n",
            "  4%|▍         | 18/417 [00:01<00:23, 16.75it/s]\u001b[A\n",
            "  6%|▌         | 23/417 [00:01<00:19, 20.45it/s]\u001b[A\n",
            "  7%|▋         | 28/417 [00:01<00:16, 24.04it/s]\u001b[A\n",
            "  8%|▊         | 32/417 [00:01<00:14, 27.04it/s]\u001b[A\n",
            "  9%|▊         | 36/417 [00:01<00:16, 23.42it/s]\u001b[A\n",
            " 10%|▉         | 41/417 [00:01<00:13, 26.96it/s]\u001b[A\n",
            " 11%|█         | 46/417 [00:01<00:12, 30.26it/s]\u001b[A\n",
            " 12%|█▏        | 50/417 [00:02<00:14, 25.05it/s]\u001b[A\n",
            " 13%|█▎        | 55/417 [00:02<00:12, 28.71it/s]\u001b[A\n",
            " 14%|█▍        | 60/417 [00:02<00:11, 31.67it/s]\u001b[A\n",
            " 15%|█▌        | 64/417 [00:02<00:10, 33.03it/s]\u001b[A\n",
            " 16%|█▋        | 68/417 [00:02<00:13, 26.20it/s]\u001b[A\n",
            " 18%|█▊        | 73/417 [00:02<00:11, 29.72it/s]\u001b[A\n",
            " 19%|█▊        | 78/417 [00:02<00:10, 33.00it/s]\u001b[A\n",
            " 20%|█▉        | 82/417 [00:02<00:09, 33.85it/s]\u001b[A\n",
            " 21%|██        | 86/417 [00:03<00:12, 26.91it/s]\u001b[A\n",
            " 22%|██▏       | 91/417 [00:03<00:10, 29.95it/s]\u001b[A\n",
            " 23%|██▎       | 96/417 [00:03<00:09, 32.90it/s]\u001b[A\n",
            " 24%|██▍       | 101/417 [00:03<00:11, 27.42it/s]\u001b[A\n",
            " 25%|██▌       | 105/417 [00:03<00:10, 30.17it/s]\u001b[A\n",
            " 26%|██▋       | 110/417 [00:03<00:09, 33.06it/s]\u001b[A\n",
            " 28%|██▊       | 115/417 [00:04<00:08, 35.51it/s]\u001b[A\n",
            " 29%|██▊       | 119/417 [00:04<00:10, 27.34it/s]\u001b[A\n",
            " 30%|██▉       | 124/417 [00:04<00:09, 30.70it/s]\u001b[A\n",
            " 31%|███       | 129/417 [00:04<00:08, 33.07it/s]\u001b[A\n",
            " 32%|███▏      | 134/417 [00:04<00:07, 35.53it/s]\u001b[A\n",
            " 33%|███▎      | 138/417 [00:04<00:10, 27.35it/s]\u001b[A\n",
            " 34%|███▍      | 143/417 [00:04<00:08, 30.80it/s]\u001b[A\n",
            " 35%|███▌      | 148/417 [00:05<00:07, 33.99it/s]\u001b[A\n",
            " 37%|███▋      | 153/417 [00:05<00:07, 36.63it/s]\u001b[A\n",
            " 38%|███▊      | 158/417 [00:05<00:08, 29.10it/s]\u001b[A\n",
            " 39%|███▉      | 163/417 [00:05<00:07, 32.31it/s]\u001b[A\n",
            " 40%|████      | 168/417 [00:05<00:07, 35.44it/s]\u001b[A\n",
            " 41%|████      | 172/417 [00:05<00:10, 24.40it/s]\u001b[A\n",
            " 42%|████▏     | 177/417 [00:06<00:08, 28.27it/s]\u001b[A\n",
            " 43%|████▎     | 181/417 [00:06<00:07, 30.20it/s]\u001b[A\n",
            " 45%|████▍     | 186/417 [00:06<00:06, 33.13it/s]\u001b[A\n",
            " 46%|████▌     | 190/417 [00:06<00:07, 29.67it/s]\u001b[A\n",
            " 47%|████▋     | 195/417 [00:06<00:06, 32.72it/s]\u001b[A\n",
            " 48%|████▊     | 199/417 [00:06<00:06, 34.41it/s]\u001b[A\n",
            " 49%|████▉     | 204/417 [00:06<00:05, 36.74it/s]\u001b[A\n",
            " 50%|████▉     | 208/417 [00:06<00:07, 27.90it/s]\u001b[A\n",
            " 51%|█████     | 213/417 [00:07<00:06, 31.00it/s]\u001b[A\n",
            " 52%|█████▏    | 218/417 [00:07<00:05, 33.39it/s]\u001b[A\n",
            " 53%|█████▎    | 222/417 [00:07<00:07, 25.33it/s]\u001b[A\n",
            " 54%|█████▍    | 227/417 [00:07<00:06, 28.82it/s]\u001b[A\n",
            " 56%|█████▌    | 232/417 [00:07<00:05, 31.31it/s]\u001b[A\n",
            " 57%|█████▋    | 236/417 [00:07<00:05, 32.43it/s]\u001b[A\n",
            " 58%|█████▊    | 240/417 [00:08<00:06, 25.76it/s]\u001b[A\n",
            " 59%|█████▉    | 245/417 [00:08<00:05, 29.53it/s]\u001b[A\n",
            " 60%|█████▉    | 250/417 [00:08<00:05, 32.76it/s]\u001b[A\n",
            " 61%|██████    | 254/417 [00:08<00:06, 25.54it/s]\u001b[A\n",
            " 62%|██████▏   | 258/417 [00:08<00:05, 28.60it/s]\u001b[A\n",
            " 63%|██████▎   | 262/417 [00:08<00:04, 31.11it/s]\u001b[A\n",
            " 64%|██████▍   | 267/417 [00:08<00:04, 33.86it/s]\u001b[A\n",
            " 65%|██████▍   | 271/417 [00:09<00:05, 26.38it/s]\u001b[A\n",
            " 66%|██████▌   | 276/417 [00:09<00:04, 29.92it/s]\u001b[A\n",
            " 67%|██████▋   | 281/417 [00:09<00:04, 32.92it/s]\u001b[A\n",
            " 69%|██████▊   | 286/417 [00:09<00:03, 35.21it/s]\u001b[A\n",
            " 70%|██████▉   | 290/417 [00:09<00:04, 26.95it/s]\u001b[A\n",
            " 71%|███████   | 294/417 [00:09<00:04, 29.53it/s]\u001b[A\n",
            " 72%|███████▏  | 299/417 [00:09<00:03, 32.73it/s]\u001b[A\n",
            " 73%|███████▎  | 304/417 [00:09<00:03, 34.87it/s]\u001b[A\n",
            " 74%|███████▍  | 308/417 [00:10<00:04, 26.79it/s]\u001b[A\n",
            " 75%|███████▌  | 313/417 [00:10<00:03, 30.14it/s]\u001b[A\n",
            " 76%|███████▋  | 318/417 [00:10<00:02, 33.08it/s]\u001b[A\n",
            " 77%|███████▋  | 322/417 [00:10<00:03, 26.08it/s]\u001b[A\n",
            " 78%|███████▊  | 327/417 [00:10<00:03, 29.37it/s]\u001b[A\n",
            " 79%|███████▉  | 331/417 [00:10<00:02, 31.31it/s]\u001b[A\n",
            " 81%|████████  | 336/417 [00:11<00:02, 33.91it/s]\u001b[A\n",
            " 82%|████████▏ | 340/417 [00:11<00:02, 26.34it/s]\u001b[A\n",
            " 83%|████████▎ | 345/417 [00:11<00:02, 29.84it/s]\u001b[A\n",
            " 84%|████████▍ | 350/417 [00:11<00:02, 32.76it/s]\u001b[A\n",
            " 85%|████████▍ | 354/417 [00:11<00:01, 34.50it/s]\u001b[A\n",
            " 86%|████████▌ | 358/417 [00:11<00:02, 26.89it/s]\u001b[A\n",
            " 87%|████████▋ | 362/417 [00:11<00:01, 29.81it/s]\u001b[A\n",
            " 88%|████████▊ | 367/417 [00:12<00:01, 32.42it/s]\u001b[A\n",
            " 89%|████████▉ | 372/417 [00:12<00:01, 27.37it/s]\u001b[A\n",
            " 90%|█████████ | 377/417 [00:12<00:01, 30.84it/s]\u001b[A\n",
            " 92%|█████████▏| 382/417 [00:12<00:01, 33.52it/s]\u001b[A\n",
            " 93%|█████████▎| 386/417 [00:12<00:01, 25.90it/s]\u001b[A\n",
            " 94%|█████████▎| 390/417 [00:12<00:00, 28.32it/s]\u001b[A\n",
            " 94%|█████████▍| 394/417 [00:13<00:00, 24.02it/s]\u001b[A\n",
            " 96%|█████████▌| 399/417 [00:13<00:00, 27.70it/s]\u001b[A\n",
            " 97%|█████████▋| 404/417 [00:13<00:00, 31.02it/s]\u001b[A\n",
            " 98%|█████████▊| 409/417 [00:13<00:00, 26.80it/s]\u001b[A\n",
            " 99%|█████████▉| 414/417 [00:13<00:00, 30.06it/s]\u001b[A\n",
            "100%|██████████| 5/5 [06:30<00:00, 88.82s/it] \n"
          ],
          "name": "stderr"
        }
      ]
    },
    {
      "cell_type": "code",
      "metadata": {
        "id": "KftlwuRXZc4y",
        "colab_type": "code",
        "colab": {}
      },
      "source": [
        ""
      ],
      "execution_count": 0,
      "outputs": []
    },
    {
      "cell_type": "code",
      "metadata": {
        "id": "beVQ6Kyjh3QS",
        "colab_type": "code",
        "colab": {
          "base_uri": "https://localhost:8080/",
          "height": 34
        },
        "outputId": "85a618a1-b527-4e08-df04-5fad6d00af81"
      },
      "source": [
        "cd /content/drive/My Drive/Kaggle/severstal-steel-old/saved_images"
      ],
      "execution_count": 16,
      "outputs": [
        {
          "output_type": "stream",
          "text": [
            "/content/drive/My Drive/Kaggle/severstal-steel-old/saved_images\n"
          ],
          "name": "stdout"
        }
      ]
    },
    {
      "cell_type": "code",
      "metadata": {
        "id": "rNxHa5O_hvDj",
        "colab_type": "code",
        "colab": {}
      },
      "source": [
        "import keras\n",
        "from keras.applications import ResNet101V2\n",
        "\n",
        "img_height = 224\n",
        "img_width = 224\n",
        "\n",
        "base_model = ResNet101V2(weights= 'imagenet', include_top=False, input_shape= (img_height,img_width,3))"
      ],
      "execution_count": 0,
      "outputs": []
    },
    {
      "cell_type": "code",
      "metadata": {
        "id": "uBL6iARchvKe",
        "colab_type": "code",
        "colab": {}
      },
      "source": [
        "from keras.layers import GlobalAveragePooling2D, Dropout, Dense\n",
        "from keras.models import Model\n",
        "\n",
        "num_classes = 5\n",
        "\n",
        "x = base_model.output\n",
        "x = GlobalAveragePooling2D()(x)\n",
        "x = Dropout(0.4)(x)\n",
        "x=Dense(512, activation='relu')(x) \n",
        "preds = Dense(num_classes, activation= 'softmax')(x)\n",
        "\n",
        "model = Model(inputs = base_model.input, outputs = preds)"
      ],
      "execution_count": 0,
      "outputs": []
    },
    {
      "cell_type": "code",
      "metadata": {
        "id": "hzWSKdfehvM1",
        "colab_type": "code",
        "colab": {}
      },
      "source": [
        "# model.summary()"
      ],
      "execution_count": 0,
      "outputs": []
    },
    {
      "cell_type": "code",
      "metadata": {
        "id": "k8FtH60nhvQ0",
        "colab_type": "code",
        "colab": {
          "base_uri": "https://localhost:8080/",
          "height": 50
        },
        "outputId": "0a296a7d-56c2-409a-b980-9b797a0b8ca5"
      },
      "source": [
        "v = 0\n",
        "a = model.layers\n",
        "print(\"Total layers in ResNet101V2 : \", len(a))\n",
        "\n",
        "for i in range(len(a)):\n",
        "            if type(a[i]) == keras.layers.convolutional.Conv2D:\n",
        "                v += 1\n",
        "                # print(a[i])\n",
        "print(\"No. of Conv2D layers : \", v)"
      ],
      "execution_count": 75,
      "outputs": [
        {
          "output_type": "stream",
          "text": [
            "Total layers in ResNet101V2 :  381\n",
            "No. of Conv2D layers :  104\n"
          ],
          "name": "stdout"
        }
      ]
    },
    {
      "cell_type": "code",
      "metadata": {
        "id": "QVdV1UeMhvIG",
        "colab_type": "code",
        "colab": {}
      },
      "source": [
        "# set the base model to be not trainable\n",
        "\n",
        "base_model.trainable = False"
      ],
      "execution_count": 0,
      "outputs": []
    },
    {
      "cell_type": "code",
      "metadata": {
        "id": "QticwF-qhvGn",
        "colab_type": "code",
        "colab": {}
      },
      "source": [
        "# validation split - 20 %\n",
        "from keras.preprocessing.image import ImageDataGenerator\n",
        "\n",
        "train_datagen=ImageDataGenerator(rescale=1./255,\n",
        "                                 shear_range=0.2,\n",
        "                                 zoom_range=0.2,\n",
        "                                 horizontal_flip=True, \n",
        "                                 vertical_flip=True,\n",
        "                                 validation_split=0.2)"
      ],
      "execution_count": 0,
      "outputs": []
    },
    {
      "cell_type": "code",
      "metadata": {
        "id": "GZqN7hmMhvBM",
        "colab_type": "code",
        "colab": {}
      },
      "source": [
        "bs = 16                   #change batch size accordingly\n",
        "\n",
        "CLASSES = ['0','1','2','3','4']"
      ],
      "execution_count": 0,
      "outputs": []
    },
    {
      "cell_type": "code",
      "metadata": {
        "id": "iUTMYEfrjpA7",
        "colab_type": "code",
        "colab": {
          "base_uri": "https://localhost:8080/",
          "height": 34
        },
        "outputId": "79dece00-00fd-4798-a5f1-fafa6f2becd3"
      },
      "source": [
        "train_generator=train_datagen.flow_from_directory('train',  \n",
        "                                                 target_size=(224,224),     \n",
        "                                                 batch_size=bs,\n",
        "                                                 class_mode='categorical',                                                 \n",
        "                                                 shuffle=True,\n",
        "                                                 subset='training',\n",
        "                                                 classes=CLASSES)"
      ],
      "execution_count": 79,
      "outputs": [
        {
          "output_type": "stream",
          "text": [
            "Found 21472 images belonging to 5 classes.\n"
          ],
          "name": "stdout"
        }
      ]
    },
    {
      "cell_type": "code",
      "metadata": {
        "id": "Fou9LZZMkHVo",
        "colab_type": "code",
        "colab": {
          "base_uri": "https://localhost:8080/",
          "height": 34
        },
        "outputId": "feceac02-ef44-4850-f09a-c47823166f84"
      },
      "source": [
        "label_map = (train_generator.class_indices)\n",
        "print(\"Label map: \",label_map)"
      ],
      "execution_count": 80,
      "outputs": [
        {
          "output_type": "stream",
          "text": [
            "Label map:  {'0': 0, '1': 1, '2': 2, '3': 3, '4': 4}\n"
          ],
          "name": "stdout"
        }
      ]
    },
    {
      "cell_type": "code",
      "metadata": {
        "id": "n7qW-Sgnk6IZ",
        "colab_type": "code",
        "colab": {
          "base_uri": "https://localhost:8080/",
          "height": 34
        },
        "outputId": "2e318d9b-2c53-44cd-f328-7fc24d340275"
      },
      "source": [
        "val_generator=train_datagen.flow_from_directory('train', \n",
        "                                                 target_size=(224,224),  \n",
        "                                                 batch_size=bs,\n",
        "                                                 class_mode='categorical',\n",
        "                                                 shuffle=True,\n",
        "                                                 subset='validation',\n",
        "                                                 classes=CLASSES)"
      ],
      "execution_count": 81,
      "outputs": [
        {
          "output_type": "stream",
          "text": [
            "Found 5367 images belonging to 5 classes.\n"
          ],
          "name": "stdout"
        }
      ]
    },
    {
      "cell_type": "code",
      "metadata": {
        "id": "tfTcNxuvk8ez",
        "colab_type": "code",
        "colab": {
          "base_uri": "https://localhost:8080/",
          "height": 50
        },
        "outputId": "bf96cae5-2745-45d6-a2e0-acf0b9857f81"
      },
      "source": [
        "step_size_train = train_generator.n//train_generator.batch_size\n",
        "print(\"Training step size: \",step_size_train)\n",
        "\n",
        "step_size_val = (val_generator.n//val_generator.batch_size) + 1\n",
        "print(\"Validation step size: \",step_size_val)"
      ],
      "execution_count": 82,
      "outputs": [
        {
          "output_type": "stream",
          "text": [
            "Training step size:  1342\n",
            "Validation step size:  336\n"
          ],
          "name": "stdout"
        }
      ]
    },
    {
      "cell_type": "code",
      "metadata": {
        "id": "v_c7e_kYk8a7",
        "colab_type": "code",
        "colab": {}
      },
      "source": [
        "# SGD optimizer is used\n",
        "from keras.optimizers import SGD\n",
        "from keras.callbacks import LearningRateScheduler\n",
        "\n",
        "sgd = SGD()\n",
        "\n",
        "model.compile(optimizer= sgd, loss='categorical_crossentropy', metrics=['acc'])"
      ],
      "execution_count": 0,
      "outputs": []
    },
    {
      "cell_type": "code",
      "metadata": {
        "id": "DoE1WMxSk8YT",
        "colab_type": "code",
        "colab": {
          "base_uri": "https://localhost:8080/",
          "height": 1000
        },
        "outputId": "387e067b-cf31-4ca9-f239-2d61ca00511a"
      },
      "source": [
        "initial_epochs = 40        #change as per requirement\n",
        "\n",
        "import math\n",
        "\n",
        "class LossHistory(keras.callbacks.Callback):\n",
        "    def on_train_begin(self, logs={}):\n",
        "       self.losses = []\n",
        "       self.lr = []\n",
        " \n",
        "    def on_epoch_end(self, batch, logs={}):\n",
        "       self.losses.append(logs.get('loss'))\n",
        "       self.lr.append(step_decay(len(self.losses)))\n",
        "\n",
        "def step_decay(epoch):\n",
        "  initial_lrate = 0.1\n",
        "  drop = 0.5\n",
        "  drop_every = 5.0        #change as per requirement\n",
        "  lrate = initial_lrate * math.pow(drop,math.floor((1+epoch)/drop_every))\n",
        "  return lrate\n",
        "\n",
        "loss_history = LossHistory()\n",
        "lrate = LearningRateScheduler(step_decay)\n",
        "callbacks_list = [loss_history, lrate]\n",
        "\n",
        "history = model.fit_generator(generator=train_generator,\n",
        "                   steps_per_epoch=step_size_train,\n",
        "                   validation_data=val_generator,\n",
        "                   validation_steps=step_size_val,                \n",
        "                   epochs=initial_epochs,\n",
        "                   callbacks = callbacks_list\n",
        "                   )\n",
        "\n",
        "model.save('/content/drive/My Drive/xai_model/Severstal_RN101.h5')\n",
        "# model.save_weights('.h5')"
      ],
      "execution_count": 84,
      "outputs": [
        {
          "output_type": "stream",
          "text": [
            "Epoch 1/40\n",
            "1342/1342 [==============================] - 456s 340ms/step - loss: 0.6842 - acc: 0.7498 - val_loss: 0.6783 - val_acc: 0.7468\n",
            "Epoch 2/40\n",
            "1342/1342 [==============================] - 432s 322ms/step - loss: 0.5343 - acc: 0.8077 - val_loss: 0.6828 - val_acc: 0.7492\n",
            "Epoch 3/40\n",
            "1342/1342 [==============================] - 433s 323ms/step - loss: 0.4816 - acc: 0.8277 - val_loss: 0.5599 - val_acc: 0.8031\n",
            "Epoch 4/40\n",
            "1342/1342 [==============================] - 433s 323ms/step - loss: 0.4417 - acc: 0.8444 - val_loss: 0.4698 - val_acc: 0.8401\n",
            "Epoch 5/40\n",
            "1342/1342 [==============================] - 433s 323ms/step - loss: 0.3662 - acc: 0.8710 - val_loss: 0.4313 - val_acc: 0.8524\n",
            "Epoch 6/40\n",
            "1342/1342 [==============================] - 434s 324ms/step - loss: 0.3438 - acc: 0.8794 - val_loss: 0.3573 - val_acc: 0.8737\n",
            "Epoch 7/40\n",
            "1342/1342 [==============================] - 432s 322ms/step - loss: 0.3373 - acc: 0.8807 - val_loss: 0.4010 - val_acc: 0.8688\n",
            "Epoch 8/40\n",
            "1342/1342 [==============================] - 433s 322ms/step - loss: 0.3242 - acc: 0.8860 - val_loss: 0.3303 - val_acc: 0.8882\n",
            "Epoch 9/40\n",
            "1342/1342 [==============================] - 433s 323ms/step - loss: 0.3139 - acc: 0.8881 - val_loss: 0.3750 - val_acc: 0.8731\n",
            "Epoch 10/40\n",
            "1342/1342 [==============================] - 433s 323ms/step - loss: 0.2791 - acc: 0.9031 - val_loss: 0.3097 - val_acc: 0.8985\n",
            "Epoch 11/40\n",
            "1342/1342 [==============================] - 433s 322ms/step - loss: 0.2669 - acc: 0.9068 - val_loss: 0.3334 - val_acc: 0.8854\n",
            "Epoch 12/40\n",
            "1342/1342 [==============================] - 434s 324ms/step - loss: 0.2575 - acc: 0.9088 - val_loss: 0.3261 - val_acc: 0.8932\n",
            "Epoch 13/40\n",
            "1342/1342 [==============================] - 433s 323ms/step - loss: 0.2549 - acc: 0.9102 - val_loss: 0.2944 - val_acc: 0.8962\n",
            "Epoch 14/40\n",
            "1342/1342 [==============================] - 434s 323ms/step - loss: 0.2473 - acc: 0.9116 - val_loss: 0.3006 - val_acc: 0.8962\n",
            "Epoch 15/40\n",
            "1342/1342 [==============================] - 433s 323ms/step - loss: 0.2309 - acc: 0.9182 - val_loss: 0.3427 - val_acc: 0.8873\n",
            "Epoch 16/40\n",
            "1342/1342 [==============================] - 433s 322ms/step - loss: 0.2177 - acc: 0.9241 - val_loss: 0.3338 - val_acc: 0.8916\n",
            "Epoch 17/40\n",
            "1342/1342 [==============================] - 433s 323ms/step - loss: 0.2155 - acc: 0.9237 - val_loss: 0.3405 - val_acc: 0.8936\n",
            "Epoch 18/40\n",
            "1342/1342 [==============================] - 433s 323ms/step - loss: 0.2052 - acc: 0.9284 - val_loss: 0.2980 - val_acc: 0.8988\n",
            "Epoch 19/40\n",
            "1342/1342 [==============================] - 433s 323ms/step - loss: 0.2061 - acc: 0.9266 - val_loss: 0.3146 - val_acc: 0.8953\n",
            "Epoch 20/40\n",
            "1342/1342 [==============================] - 433s 323ms/step - loss: 0.1927 - acc: 0.9333 - val_loss: 0.2927 - val_acc: 0.8979\n",
            "Epoch 21/40\n",
            "1342/1342 [==============================] - 434s 323ms/step - loss: 0.1883 - acc: 0.9345 - val_loss: 0.3049 - val_acc: 0.8970\n",
            "Epoch 22/40\n",
            "1342/1342 [==============================] - 433s 323ms/step - loss: 0.1815 - acc: 0.9361 - val_loss: 0.2856 - val_acc: 0.9016\n",
            "Epoch 23/40\n",
            "1342/1342 [==============================] - 433s 323ms/step - loss: 0.1757 - acc: 0.9386 - val_loss: 0.2970 - val_acc: 0.9031\n",
            "Epoch 24/40\n",
            "1342/1342 [==============================] - 435s 324ms/step - loss: 0.1728 - acc: 0.9399 - val_loss: 0.3061 - val_acc: 0.9018\n",
            "Epoch 25/40\n",
            "1342/1342 [==============================] - 434s 324ms/step - loss: 0.1649 - acc: 0.9419 - val_loss: 0.2971 - val_acc: 0.8973\n",
            "Epoch 26/40\n",
            "1342/1342 [==============================] - 432s 322ms/step - loss: 0.1588 - acc: 0.9457 - val_loss: 0.3005 - val_acc: 0.8985\n",
            "Epoch 27/40\n",
            "1342/1342 [==============================] - 433s 323ms/step - loss: 0.1613 - acc: 0.9442 - val_loss: 0.3065 - val_acc: 0.8966\n",
            "Epoch 28/40\n",
            "1342/1342 [==============================] - 433s 322ms/step - loss: 0.1630 - acc: 0.9437 - val_loss: 0.3050 - val_acc: 0.8985\n",
            "Epoch 29/40\n",
            "1342/1342 [==============================] - 432s 322ms/step - loss: 0.1549 - acc: 0.9456 - val_loss: 0.3098 - val_acc: 0.8960\n",
            "Epoch 30/40\n",
            "1342/1342 [==============================] - 433s 323ms/step - loss: 0.1479 - acc: 0.9482 - val_loss: 0.3045 - val_acc: 0.8996\n",
            "Epoch 31/40\n",
            "1342/1342 [==============================] - 432s 322ms/step - loss: 0.1501 - acc: 0.9490 - val_loss: 0.3190 - val_acc: 0.8944\n",
            "Epoch 32/40\n",
            "1342/1342 [==============================] - 434s 323ms/step - loss: 0.1471 - acc: 0.9499 - val_loss: 0.3089 - val_acc: 0.8977\n",
            "Epoch 33/40\n",
            "1342/1342 [==============================] - 433s 323ms/step - loss: 0.1477 - acc: 0.9493 - val_loss: 0.3078 - val_acc: 0.8981\n",
            "Epoch 34/40\n",
            "1342/1342 [==============================] - 433s 323ms/step - loss: 0.1455 - acc: 0.9506 - val_loss: 0.3030 - val_acc: 0.9035\n",
            "Epoch 35/40\n",
            "1342/1342 [==============================] - 436s 325ms/step - loss: 0.1413 - acc: 0.9514 - val_loss: 0.3157 - val_acc: 0.8971\n",
            "Epoch 36/40\n",
            "1342/1342 [==============================] - 434s 323ms/step - loss: 0.1411 - acc: 0.9528 - val_loss: 0.3109 - val_acc: 0.8973\n",
            "Epoch 37/40\n",
            "1342/1342 [==============================] - 434s 324ms/step - loss: 0.1421 - acc: 0.9507 - val_loss: 0.3271 - val_acc: 0.8953\n",
            "Epoch 38/40\n",
            "1342/1342 [==============================] - 434s 323ms/step - loss: 0.1418 - acc: 0.9525 - val_loss: 0.3131 - val_acc: 0.8953\n",
            "Epoch 39/40\n",
            "1342/1342 [==============================] - 436s 325ms/step - loss: 0.1410 - acc: 0.9522 - val_loss: 0.3171 - val_acc: 0.8985\n",
            "Epoch 40/40\n",
            "1342/1342 [==============================] - 434s 324ms/step - loss: 0.1368 - acc: 0.9536 - val_loss: 0.3213 - val_acc: 0.8966\n"
          ],
          "name": "stdout"
        }
      ]
    },
    {
      "cell_type": "code",
      "metadata": {
        "id": "VZteDeAlk8Uk",
        "colab_type": "code",
        "colab": {}
      },
      "source": [
        "# model.save('.h5')\n",
        "# model.save_weights('.h5')"
      ],
      "execution_count": 0,
      "outputs": []
    },
    {
      "cell_type": "code",
      "metadata": {
        "id": "sqPyI2O9k8Rm",
        "colab_type": "code",
        "colab": {
          "base_uri": "https://localhost:8080/",
          "height": 315
        },
        "outputId": "c09a95c7-f940-4fc4-e096-6f90f8b5e343"
      },
      "source": [
        "# plot the learning rate curve over epochs\n",
        "import matplotlib.pyplot as plt\n",
        "from sklearn.metrics import classification_report, roc_curve, roc_auc_score, confusion_matrix\n",
        "\n",
        "x_axis = list(range(1,41))\n",
        "y_axis = loss_history.lr\n",
        "plt.plot(x_axis, y_axis)\n",
        "plt.grid(None)\n",
        "plt.title('Learnig rate vs Epochs')\n",
        "plt.xlabel('Epochs')\n",
        "plt.ylabel('Learning rate')\n",
        "plt.savefig('/content/drive/My Drive/xai_model/123.jpg')"
      ],
      "execution_count": 88,
      "outputs": [
        {
          "output_type": "display_data",
          "data": {
            "image/png": "[encoded data removed]",
            "text/plain": [
              "<Figure size 432x288 with 1 Axes>"
            ]
          },
          "metadata": {
            "tags": []
          }
        }
      ]
    },
    {
      "cell_type": "code",
      "metadata": {
        "id": "Hkdc5u-Nk8N6",
        "colab_type": "code",
        "colab": {
          "base_uri": "https://localhost:8080/",
          "height": 67
        },
        "outputId": "aa21d747-eaec-4603-a33a-6aa755794173"
      },
      "source": [
        "# evaluating the model\n",
        "\n",
        "scores = model.evaluate_generator(generator=val_generator,\n",
        "                         steps=step_size_val,verbose = 1)\n",
        "\n",
        "print('Validating loss:', scores[0])\n",
        "print('Validating accuracy:', scores[1])"
      ],
      "execution_count": 89,
      "outputs": [
        {
          "output_type": "stream",
          "text": [
            "336/336 [==============================] - 85s 252ms/step\n",
            "Validating loss: 0.32408831200734384\n",
            "Validating accuracy: 0.8977082168920448\n"
          ],
          "name": "stdout"
        }
      ]
    },
    {
      "cell_type": "code",
      "metadata": {
        "id": "mcIZ-QMPv53F",
        "colab_type": "code",
        "colab": {}
      },
      "source": [
        "acc = history.history['acc']\n",
        "val_acc = history.history['val_acc']\n",
        "\n",
        "loss = history.history['loss']\n",
        "val_loss = history.history['val_loss']"
      ],
      "execution_count": 0,
      "outputs": []
    },
    {
      "cell_type": "code",
      "metadata": {
        "id": "WLwWmjycv8wH",
        "colab_type": "code",
        "colab": {
          "base_uri": "https://localhost:8080/",
          "height": 510
        },
        "outputId": "a996ed4c-e353-4348-cfc2-d35f579a0cfb"
      },
      "source": [
        "# plot the training and validation process' accuracy and loss\n",
        "\n",
        "plt.figure(figsize=(8, 8))\n",
        "plt.subplot(2, 1, 1)\n",
        "plt.plot(acc, label='Training Accuracy')\n",
        "plt.plot(val_acc, label='Validation Accuracy')\n",
        "plt.legend(loc='lower right')\n",
        "plt.ylabel('Accuracy')\n",
        "plt.ylim([0,1])\n",
        "plt.title('Training and Validation Accuracy')\n",
        "\n",
        "plt.subplot(2, 1, 2)\n",
        "plt.plot(loss, label='Training Loss')\n",
        "plt.plot(val_loss, label='Validation Loss')\n",
        "plt.legend(loc='upper right')\n",
        "plt.ylabel('Cross Entropy')\n",
        "plt.ylim([0,max(plt.ylim())])\n",
        "plt.title('Training and Validation Loss')\n",
        "plt.savefig('/content/drive/My Drive/xai_model/456.jpg')\n",
        "plt.show()"
      ],
      "execution_count": 91,
      "outputs": [
        {
          "output_type": "display_data",
          "data": {
            "image/png": "[encoded data removed]",
            "text/plain": [
              "<Figure size 576x576 with 2 Axes>"
            ]
          },
          "metadata": {
            "tags": []
          }
        }
      ]
    },
    {
      "cell_type": "code",
      "metadata": {
        "id": "TIMMPHDxv8si",
        "colab_type": "code",
        "colab": {}
      },
      "source": [
        "test_datagen = ImageDataGenerator(rescale=1./255,\n",
        "                                 shear_range=0.2,\n",
        "                                 zoom_range=0.2,\n",
        "                                 horizontal_flip=True,\n",
        "                                 vertical_flip=True)"
      ],
      "execution_count": 0,
      "outputs": []
    },
    {
      "cell_type": "code",
      "metadata": {
        "id": "TRXvxmUVv8q5",
        "colab_type": "code",
        "colab": {
          "base_uri": "https://localhost:8080/",
          "height": 34
        },
        "outputId": "49aed0c9-82d3-4b3b-d78e-151cf3c4fe7e"
      },
      "source": [
        "bs_test = 32           #change test batch size here\n",
        "\n",
        "test_generator = test_datagen.flow_from_directory('test',\n",
        "                                                  target_size=(224,224),     \n",
        "                                                  batch_size=bs_test,\n",
        "                                                  class_mode='categorical',\n",
        "                                                  shuffle = False)"
      ],
      "execution_count": 93,
      "outputs": [
        {
          "output_type": "stream",
          "text": [
            "Found 11505 images belonging to 5 classes.\n"
          ],
          "name": "stdout"
        }
      ]
    },
    {
      "cell_type": "code",
      "metadata": {
        "id": "KQtfdnr6v8n9",
        "colab_type": "code",
        "colab": {
          "base_uri": "https://localhost:8080/",
          "height": 34
        },
        "outputId": "d389782b-9d19-4c85-8497-aaaef9f39e38"
      },
      "source": [
        "step_size_test = (test_generator.n//test_generator.batch_size)+1\n",
        "print(\"Test step size : \", step_size_test)\n",
        "test_generator.reset()"
      ],
      "execution_count": 94,
      "outputs": [
        {
          "output_type": "stream",
          "text": [
            "Test step size :  360\n"
          ],
          "name": "stdout"
        }
      ]
    },
    {
      "cell_type": "code",
      "metadata": {
        "id": "ynzdOEsgv8mP",
        "colab_type": "code",
        "colab": {
          "base_uri": "https://localhost:8080/",
          "height": 34
        },
        "outputId": "0c16fc20-adea-4e5d-f2cc-af632a13762e"
      },
      "source": [
        "predIndxs = model.predict_generator(test_generator, steps = step_size_test, verbose=1 )"
      ],
      "execution_count": 95,
      "outputs": [
        {
          "output_type": "stream",
          "text": [
            "360/360 [==============================] - 171s 475ms/step\n"
          ],
          "name": "stdout"
        }
      ]
    },
    {
      "cell_type": "code",
      "metadata": {
        "id": "r6m0lYuMv8kh",
        "colab_type": "code",
        "colab": {
          "base_uri": "https://localhost:8080/",
          "height": 34
        },
        "outputId": "a672dee0-02e5-44c7-849d-f7b5d998df0d"
      },
      "source": [
        "acc_o = np.sum(np.argmax(predIndxs, axis=1).astype('int') == test_generator.labels) / test_generator.n\n",
        "print(\"Test Accuracy : \",acc_o)"
      ],
      "execution_count": 96,
      "outputs": [
        {
          "output_type": "stream",
          "text": [
            "Test Accuracy :  0.8986527596697088\n"
          ],
          "name": "stdout"
        }
      ]
    },
    {
      "cell_type": "code",
      "metadata": {
        "id": "yB7VnpMvv8hA",
        "colab_type": "code",
        "colab": {
          "base_uri": "https://localhost:8080/",
          "height": 218
        },
        "outputId": "54101dc1-4baa-4cd4-aa01-bc8429149918"
      },
      "source": [
        "predIndxs_max = np.argmax(predIndxs, axis=1)\n",
        "print(classification_report(test_generator.classes, predIndxs_max, target_names=test_generator.class_indices.keys()))"
      ],
      "execution_count": 97,
      "outputs": [
        {
          "output_type": "stream",
          "text": [
            "              precision    recall  f1-score   support\n",
            "\n",
            "           0       0.92      0.93      0.92      7124\n",
            "           1       0.76      0.77      0.77       401\n",
            "           2       0.79      0.79      0.79        63\n",
            "           3       0.88      0.86      0.87      3500\n",
            "           4       0.86      0.80      0.83       417\n",
            "\n",
            "    accuracy                           0.90     11505\n",
            "   macro avg       0.84      0.83      0.84     11505\n",
            "weighted avg       0.90      0.90      0.90     11505\n",
            "\n"
          ],
          "name": "stdout"
        }
      ]
    },
    {
      "cell_type": "code",
      "metadata": {
        "id": "GeI_ua4sxEAJ",
        "colab_type": "code",
        "colab": {
          "base_uri": "https://localhost:8080/",
          "height": 202
        },
        "outputId": "e15f8c1d-4850-4258-9097-515b8cb8a30b"
      },
      "source": [
        "print('Confusion matrix:')\n",
        "cm = confusion_matrix(test_generator.classes,predIndxs_max)\n",
        "print(cm)\n",
        "\n",
        "total = sum(sum(cm))\n",
        "print(\"Total test images: \", total)\n",
        "acc = (cm[0, 0] + cm[1, 1] + cm[2, 2] + cm[3, 3] + cm[4, 4]) / total\n",
        "print(\"Accuracy: {:.3f}\".format(acc))\n",
        "print(\"Lables:\")\n",
        "print(\"x axis: Predicted\")\n",
        "print(\"y axis: Actual\")"
      ],
      "execution_count": 98,
      "outputs": [
        {
          "output_type": "stream",
          "text": [
            "Confusion matrix:\n",
            "[[6634   73    5  367   45]\n",
            " [  63  310    5   21    2]\n",
            " [   9    0   50    4    0]\n",
            " [ 454   25    3 3010    8]\n",
            " [  60    0    0   22  335]]\n",
            "Total test images:  11505\n",
            "Accuracy: 0.899\n",
            "Lables:\n",
            "x axis: Predicted\n",
            "y axis: Actual\n"
          ],
          "name": "stdout"
        }
      ]
    },
    {
      "cell_type": "code",
      "metadata": {
        "id": "He4uLTg3wU0K",
        "colab_type": "code",
        "colab": {
          "base_uri": "https://localhost:8080/",
          "height": 458
        },
        "outputId": "61ded87c-a29f-4f41-ff02-05e31f190043"
      },
      "source": [
        "import seaborn as sn\n",
        "    \n",
        "plt_cm = pd.DataFrame(cm, index=test_generator.class_indices.keys(), columns=test_generator.class_indices.keys())\n",
        "plt_cm.index.name = 'Actual'\n",
        "plt_cm.columns.name = 'Predicted'\n",
        "plt.figure(figsize = (7,7))\n",
        "sn.set(font_scale=1.4)\n",
        "sn.heatmap(plt_cm, cmap=\"Blues\", annot=True,annot_kws={\"size\": 16}, fmt=\"d\")\n",
        "plt.savefig('/content/drive/My Drive/xai_model/789.jpg')"
      ],
      "execution_count": 99,
      "outputs": [
        {
          "output_type": "display_data",
          "data": {
            "image/png": "[encoded data removed]",
            "text/plain": [
              "<Figure size 504x504 with 2 Axes>"
            ]
          },
          "metadata": {
            "tags": []
          }
        }
      ]
    },
    {
      "cell_type": "code",
      "metadata": {
        "id": "JGKLM6WHWEma",
        "colab_type": "code",
        "colab": {
          "base_uri": "https://localhost:8080/",
          "height": 458
        },
        "outputId": "ff80d6e1-fc40-4318-e0cc-6a11bfb78845"
      },
      "source": [
        "cm_normalized = cm.astype('float') / cm.sum(axis=1)[:, np.newaxis]\n",
        "\n",
        "plt_cm = pd.DataFrame(cm_normalized, index=test_generator.class_indices.keys(), columns=test_generator.class_indices.keys())\n",
        "plt_cm.index.name = 'Actual'\n",
        "plt_cm.columns.name = 'Predicted'\n",
        "plt.figure(figsize = (7,7))\n",
        "sn.set(font_scale=1.4)\n",
        "sn.heatmap(plt_cm, cmap=\"Blues\", annot=True,annot_kws={\"size\": 16})\n",
        "plt.savefig('/content/drive/My Drive/xai_model/741.jpg')"
      ],
      "execution_count": 100,
      "outputs": [
        {
          "output_type": "display_data",
          "data": {
            "image/png": "[encoded data removed]",
            "text/plain": [
              "<Figure size 504x504 with 2 Axes>"
            ]
          },
          "metadata": {
            "tags": []
          }
        }
      ]
    },
    {
      "cell_type": "code",
      "metadata": {
        "id": "9t1VqZ_ZwUys",
        "colab_type": "code",
        "colab": {
          "base_uri": "https://localhost:8080/",
          "height": 278
        },
        "outputId": "c95e06fa-25a8-4620-a4fe-f74d085a7960"
      },
      "source": [
        "# prediction\n",
        "from keras.preprocessing import image\n",
        "\n",
        "image_path = \"/content/drive/My Drive/Kaggle/severstal-steel-old/saved_images/test/0/750.png\"\n",
        "\n",
        "test_img = image.load_img(image_path, target_size=(224,224,3))\n",
        "plt.grid(None)\n",
        "plt.imshow(test_img)\n",
        "\n",
        "test_img = image.img_to_array(test_img)\n",
        "test_img = np.expand_dims(test_img, axis=0)\n",
        "test_img /= 255"
      ],
      "execution_count": 101,
      "outputs": [
        {
          "output_type": "display_data",
          "data": {
            "image/png": "[encoded data removed]",
            "text/plain": [
              "<Figure size 432x288 with 1 Axes>"
            ]
          },
          "metadata": {
            "tags": []
          }
        }
      ]
    },
    {
      "cell_type": "code",
      "metadata": {
        "id": "PPwmga08wUvt",
        "colab_type": "code",
        "colab": {
          "base_uri": "https://localhost:8080/",
          "height": 67
        },
        "outputId": "441e0a0c-3c1b-46ca-92ae-78a228112576"
      },
      "source": [
        "label_map_inv = {v:k  for k,v in label_map.items()}\n",
        "\n",
        "result = model.predict(test_img)\n",
        "print(result)\n",
        "\n",
        "prediction = result.argmax(axis=1)\n",
        "print(prediction)\n",
        "\n",
        "output = label_map_inv[int(prediction)]\n",
        "print(\"Output : \",output)"
      ],
      "execution_count": 102,
      "outputs": [
        {
          "output_type": "stream",
          "text": [
            "[[9.9643070e-01 7.6258887e-04 2.4509523e-05 2.7249106e-03 5.7373625e-05]]\n",
            "[0]\n",
            "Output :  0\n"
          ],
          "name": "stdout"
        }
      ]
    },
    {
      "cell_type": "code",
      "metadata": {
        "id": "tX5bEBTB9rcO",
        "colab_type": "code",
        "colab": {
          "base_uri": "https://localhost:8080/",
          "height": 101
        },
        "outputId": "576d2ddf-3e47-49e8-94f3-57be8308bacc"
      },
      "source": [
        "unique, counts_train = np.unique(train_generator.labels, return_counts=True)\n",
        "print(\"Images per class in Training step: \",counts_train)\n",
        "unique, counts_val = np.unique(val_generator.labels, return_counts=True)\n",
        "print(\"\\n Images per class in Validation step: \",counts_val)\n",
        "unique, counts_test = np.unique(test_generator.labels, return_counts=True)\n",
        "print(\"\\n Images per class in Testing step : \",counts_test)"
      ],
      "execution_count": 103,
      "outputs": [
        {
          "output_type": "stream",
          "text": [
            "Images per class in Training step:  [13296   748   118  6533   777]\n",
            "\n",
            " Images per class in Validation step:  [3324  187   29 1633  194]\n",
            "\n",
            " Images per class in Testing step :  [7124  401   63 3500  417]\n"
          ],
          "name": "stdout"
        }
      ]
    },
    {
      "cell_type": "code",
      "metadata": {
        "id": "LYCrC8VB9rXf",
        "colab_type": "code",
        "colab": {}
      },
      "source": [
        ""
      ],
      "execution_count": 0,
      "outputs": []
    },
    {
      "cell_type": "code",
      "metadata": {
        "id": "1uMfYYWE9rVl",
        "colab_type": "code",
        "colab": {}
      },
      "source": [
        ""
      ],
      "execution_count": 0,
      "outputs": []
    }
  ]
}